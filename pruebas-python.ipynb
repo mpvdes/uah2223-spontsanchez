{
 "cells": [
  {
   "cell_type": "markdown",
   "id": "03403611",
   "metadata": {},
   "source": [
    "# Primeras pruebas de Python"
   ]
  },
  {
   "cell_type": "code",
   "execution_count": 1,
   "id": "c2c21b1a",
   "metadata": {},
   "outputs": [
    {
     "name": "stdout",
     "output_type": "stream",
     "text": [
      "Requirement already satisfied: pandas in c:\\users\\sergi\\appdata\\local\\programs\\python\\python311\\lib\\site-packages (1.5.2)\n",
      "Requirement already satisfied: python-dateutil>=2.8.1 in c:\\users\\sergi\\appdata\\local\\programs\\python\\python311\\lib\\site-packages (from pandas) (2.8.2)\n",
      "Requirement already satisfied: pytz>=2020.1 in c:\\users\\sergi\\appdata\\local\\programs\\python\\python311\\lib\\site-packages (from pandas) (2022.7.1)\n",
      "Requirement already satisfied: numpy>=1.21.0 in c:\\users\\sergi\\appdata\\local\\programs\\python\\python311\\lib\\site-packages (from pandas) (1.24.1)\n",
      "Requirement already satisfied: six>=1.5 in c:\\users\\sergi\\appdata\\local\\programs\\python\\python311\\lib\\site-packages (from python-dateutil>=2.8.1->pandas) (1.16.0)\n",
      "Note: you may need to restart the kernel to use updated packages.\n"
     ]
    }
   ],
   "source": [
    "pip install pandas"
   ]
  },
  {
   "cell_type": "code",
   "execution_count": 2,
   "id": "1cc84437",
   "metadata": {},
   "outputs": [
    {
     "name": "stdout",
     "output_type": "stream",
     "text": [
      " El volumen de la unidad C es Acer\n",
      " El n£mero de serie del volumen es: B4C1-8615\n",
      "\n",
      " Directorio de C:\\Users\\Sergi\\Documents\\mpvd\\uah2223-spontsanchez\n",
      "\n",
      "18/01/2023  19:50    <DIR>          .\n",
      "18/01/2023  19:50    <DIR>          ..\n",
      "18/01/2023  19:39    <DIR>          .git\n",
      "18/01/2023  19:46    <DIR>          .ipynb_checkpoints\n",
      "12/01/2023  20:10               106 nombres.sh\n",
      "11/01/2023  19:59             4.228 pruebas-github.md\n",
      "11/01/2023  19:59             4.675 pruebas-markdown.md\n",
      "18/01/2023  19:50             1.875 pruebas-python.ipynb\n",
      "11/01/2023  19:59               108 pruebas-terminal.md\n",
      "11/01/2023  19:59               366 README.md\n",
      "15/01/2023  12:21             2.326 sesion-asuncion-bernardez.md\n",
      "15/01/2023  12:20             4.052 sesion-ignacio-azcona.md\n",
      "               8 archivos         17.736 bytes\n",
      "               4 dirs  345.435.754.496 bytes libres\n"
     ]
    }
   ],
   "source": [
    "ls"
   ]
  },
  {
   "cell_type": "code",
   "execution_count": 3,
   "id": "9f1762a5",
   "metadata": {},
   "outputs": [
    {
     "name": "stdout",
     "output_type": "stream",
     "text": [
      "README.md\n",
      "nombres.sh\n",
      "pruebas-github.md\n",
      "pruebas-markdown.md\n",
      "pruebas-python.ipynb\n",
      "pruebas-terminal.md\n",
      "sesion-asuncion-bernardez.md\n",
      "sesion-ignacio-azcona.md\n"
     ]
    }
   ],
   "source": [
    "!ls"
   ]
  },
  {
   "cell_type": "code",
   "execution_count": 4,
   "id": "6c49b963",
   "metadata": {},
   "outputs": [
    {
     "name": "stdout",
     "output_type": "stream",
     "text": [
      "Python 3.11.1\n"
     ]
    }
   ],
   "source": [
    "!python --version"
   ]
  }
 ],
 "metadata": {
  "kernelspec": {
   "display_name": "Python 3 (ipykernel)",
   "language": "python",
   "name": "python3"
  },
  "language_info": {
   "codemirror_mode": {
    "name": "ipython",
    "version": 3
   },
   "file_extension": ".py",
   "mimetype": "text/x-python",
   "name": "python",
   "nbconvert_exporter": "python",
   "pygments_lexer": "ipython3",
   "version": "3.11.1"
  }
 },
 "nbformat": 4,
 "nbformat_minor": 5
}
