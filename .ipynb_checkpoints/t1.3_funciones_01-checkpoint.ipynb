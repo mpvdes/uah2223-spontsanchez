{
 "cells": [
  {
   "cell_type": "markdown",
   "metadata": {},
   "source": [
    "# Introducción a las funciones en Python"
   ]
  },
  {
   "cell_type": "markdown",
   "metadata": {},
   "source": [
    "En Python la unidad de estructuración de los programas son las funciones. Una función consiste en un conjunto de instrucciones que realizan una determinada acción a las que se les asocia un nombre. Una vez definida la función, se puede invocar su ejecución a lo largo del programa mediante su nombre. En general, la función devolverá como resultado un valor de retorno (aunque no siempre tiene que ser así)."
   ]
  },
  {
   "cell_type": "code",
   "execution_count": 2,
   "metadata": {},
   "outputs": [
    {
     "data": {
      "text/plain": [
       "7"
      ]
     },
     "execution_count": 2,
     "metadata": {},
     "output_type": "execute_result"
    }
   ],
   "source": [
    "max(4, 7, 5)"
   ]
  },
  {
   "cell_type": "markdown",
   "metadata": {},
   "source": [
    "__Definimos una función sencilla__"
   ]
  },
  {
   "cell_type": "code",
   "execution_count": 3,
   "metadata": {},
   "outputs": [
    {
     "data": {
      "text/plain": [
       "13"
      ]
     },
     "execution_count": 3,
     "metadata": {},
     "output_type": "execute_result"
    }
   ],
   "source": [
    "def suma_elementos(x, y):\n",
    "    s = x + y\n",
    "    return s\n",
    "\n",
    "\n",
    "a = 5\n",
    "resultado = suma_elementos(a, 8)\n",
    "resultado"
   ]
  },
  {
   "cell_type": "markdown",
   "metadata": {},
   "source": [
    "* Las funciones tienen una primera línea que sirve para definirlas, indicando su nombre y los valores que la función necesita para realizar su tarea. Dichos valores, llamados `argumentos` se encuentran dentro de los paréntesis. La definición de la función siempre termina con dos puntos. Se declaran con la palabra reservada `def`. \n",
    " \n",
    "* Las funciones pueden devolver valores usando la palabra reservada `return`."
   ]
  },
  {
   "cell_type": "markdown",
   "metadata": {},
   "source": [
    "Veamos algunos ejemplos de funciones:"
   ]
  },
  {
   "cell_type": "code",
   "execution_count": 4,
   "metadata": {},
   "outputs": [],
   "source": [
    "# función que suma 3 números y devuelve el resultado\n",
    "\n",
    "def suma_tres(x, y, z):                   \n",
    "    m1 = x + y\n",
    "    m2 = m1 + z\n",
    "    return m2"
   ]
  },
  {
   "cell_type": "markdown",
   "metadata": {},
   "source": [
    "Podemos utilizar la función anterior para sumar los números 4, 2 y 3. Para ello basta con escribir el nombre la función junto con los valores 4, 2 y 3 como argumentos. A esto se le conoce como __llamada a la función__ o __invocar a la función__:"
   ]
  },
  {
   "cell_type": "code",
   "execution_count": 5,
   "metadata": {},
   "outputs": [
    {
     "data": {
      "text/plain": [
       "9"
      ]
     },
     "execution_count": 5,
     "metadata": {},
     "output_type": "execute_result"
    }
   ],
   "source": [
    "suma_tres(4,2,3)"
   ]
  },
  {
   "cell_type": "code",
   "execution_count": 6,
   "metadata": {},
   "outputs": [
    {
     "data": {
      "text/plain": [
       "11"
      ]
     },
     "execution_count": 6,
     "metadata": {},
     "output_type": "execute_result"
    }
   ],
   "source": [
    "a = 1\n",
    "b = 8\n",
    " # los valores de a y b se sustituyen por 1 y 8 respectivamente en la llamada\n",
    "resultado = suma_tres (a,2,b)  \n",
    "resultado"
   ]
  },
  {
   "cell_type": "markdown",
   "metadata": {},
   "source": [
    "A las funciones se les puede añadir comentarios, para lo cual basta incluir una cadena entre la primera línea (nombre de la función)  y el cuerpo usando tiple comillas dobles ( `\"\"\"`)."
   ]
  },
  {
   "cell_type": "code",
   "execution_count": 7,
   "metadata": {
    "ExecuteTime": {
     "end_time": "2019-01-03T11:40:31.716885Z",
     "start_time": "2019-01-03T11:40:31.711951Z"
    }
   },
   "outputs": [],
   "source": [
    "def suma(x,y):\n",
    "    \"\"\"\n",
    "    La funcion suma toma dos parámetros x e y , \n",
    "    y devuelve como resultado la suma x + y.\n",
    "       \n",
    "    Parameters\n",
    "    ---------\n",
    "    x : number (int or float)\n",
    "    y : number (int or float)\n",
    "\n",
    "    Returns\n",
    "    -------\n",
    "    int\n",
    "      Suma de x e y.\n",
    "\n",
    "    Precondition\n",
    "    -----------\n",
    "    No hay\n",
    "\n",
    "    Example\n",
    "    -------\n",
    "    >>> suma(1,4)\n",
    "    5\n",
    "    \"\"\"\n",
    "    return x + y"
   ]
  },
  {
   "cell_type": "code",
   "execution_count": 8,
   "metadata": {
    "ExecuteTime": {
     "end_time": "2019-01-03T11:40:36.630360Z",
     "start_time": "2019-01-03T11:40:36.622433Z"
    }
   },
   "outputs": [
    {
     "name": "stdout",
     "output_type": "stream",
     "text": [
      "Help on function suma in module __main__:\n",
      "\n",
      "suma(x, y)\n",
      "    La funcion suma toma dos parámetros x e y , \n",
      "    y devuelve como resultado la suma x + y.\n",
      "       \n",
      "    Parameters\n",
      "    ---------\n",
      "    x : number (int or float)\n",
      "    y : number (int or float)\n",
      "    \n",
      "    Returns\n",
      "    -------\n",
      "    int\n",
      "      Suma de x e y.\n",
      "    \n",
      "    Precondition\n",
      "    -----------\n",
      "    No hay\n",
      "    \n",
      "    Example\n",
      "    -------\n",
      "    >>> suma(1,4)\n",
      "    5\n",
      "\n"
     ]
    }
   ],
   "source": [
    "help(suma)"
   ]
  },
  {
   "cell_type": "code",
   "execution_count": 9,
   "metadata": {},
   "outputs": [
    {
     "name": "stdout",
     "output_type": "stream",
     "text": [
      "Help on built-in function print in module builtins:\n",
      "\n",
      "print(...)\n",
      "    print(value, ..., sep=' ', end='\\n', file=sys.stdout, flush=False)\n",
      "    \n",
      "    Prints the values to a stream, or to sys.stdout by default.\n",
      "    Optional keyword arguments:\n",
      "    file:  a file-like object (stream); defaults to the current sys.stdout.\n",
      "    sep:   string inserted between values, default a space.\n",
      "    end:   string appended after the last value, default a newline.\n",
      "    flush: whether to forcibly flush the stream.\n",
      "\n"
     ]
    }
   ],
   "source": [
    "help(print)"
   ]
  },
  {
   "cell_type": "markdown",
   "metadata": {},
   "source": [
    "## Valores devueltos por una función"
   ]
  },
  {
   "cell_type": "markdown",
   "metadata": {},
   "source": [
    "Una función puede tener varias instrucciones `return`.  Si la ejecución de una función no alcanza ninguna instrucción `return`, se devuelve `None` que es el valor que representa el valor nulo en Python. El tipo de `None` es `NoneType`."
   ]
  },
  {
   "cell_type": "code",
   "execution_count": 11,
   "metadata": {},
   "outputs": [],
   "source": [
    "def suma_todos(x, y, z, t):\n",
    "    resultado = x + y + z + t     # calcula el resultado pero no devuelve nada\n",
    "                                  # No hay instrucción return"
   ]
  },
  {
   "cell_type": "code",
   "execution_count": 22,
   "metadata": {},
   "outputs": [],
   "source": [
    "r = suma_todos(2, 3, 4, 6)\n",
    "r                                    # r es None"
   ]
  },
  {
   "cell_type": "code",
   "execution_count": 23,
   "metadata": {},
   "outputs": [
    {
     "data": {
      "text/plain": [
       "NoneType"
      ]
     },
     "execution_count": 23,
     "metadata": {},
     "output_type": "execute_result"
    }
   ],
   "source": [
    "type(r)"
   ]
  },
  {
   "cell_type": "markdown",
   "metadata": {},
   "source": [
    "La ejecución de una función termina en el momento en el cual se alcance una instrucción `return`."
   ]
  },
  {
   "cell_type": "code",
   "execution_count": 24,
   "metadata": {},
   "outputs": [],
   "source": [
    "# función que pretende escribir cuatro cadenas: Uno, Dos, Tres, Cuatro\n",
    "# si añadimos una instrucción return, no se ejecutan todas las instrucciones\n",
    "def cuenta():\n",
    "    print('Uno')\n",
    "    print('Dos')\n",
    "    return ('Fin de la función')  # la función termina tras ejecutar el return\n",
    "    print('Tres')\n",
    "    print('Cuatro')"
   ]
  },
  {
   "cell_type": "code",
   "execution_count": 25,
   "metadata": {},
   "outputs": [
    {
     "name": "stdout",
     "output_type": "stream",
     "text": [
      "Uno\n",
      "Dos\n"
     ]
    },
    {
     "data": {
      "text/plain": [
       "'Fin de la función'"
      ]
     },
     "execution_count": 25,
     "metadata": {},
     "output_type": "execute_result"
    }
   ],
   "source": [
    "cuenta()"
   ]
  },
  {
   "cell_type": "markdown",
   "metadata": {},
   "source": [
    "## Semántica de Python"
   ]
  },
  {
   "cell_type": "markdown",
   "metadata": {},
   "source": [
    "A diferencia de otros lenguajes como C++, Java o Perl, Python no utilliza corchetes o llaves para estructurar el código. __Python utiliza espacios en blanco o tabulaciones para dar estructura a su código__."
   ]
  },
  {
   "cell_type": "code",
   "execution_count": 6,
   "metadata": {
    "ExecuteTime": {
     "end_time": "2019-01-08T17:19:13.121669Z",
     "start_time": "2019-01-08T17:19:13.109763Z"
    }
   },
   "outputs": [],
   "source": [
    "def producto(a,b):\n",
    "    res = a * b    # Tabulación al comienzo de ésta linea\n",
    "    return res     # Tabulación al comienzo de ésta linea"
   ]
  },
  {
   "cell_type": "markdown",
   "metadata": {},
   "source": [
    "<img src=\"./images/sangrado.png\" alt=\"sangrado\" style=\"width: 600px;\"/>"
   ]
  },
  {
   "cell_type": "markdown",
   "metadata": {},
   "source": [
    "Si el sangrado no es correcto, el intérprete de Python emitirá un error de sintaxis indicándolo."
   ]
  },
  {
   "cell_type": "code",
   "execution_count": 15,
   "metadata": {
    "ExecuteTime": {
     "end_time": "2019-01-03T11:48:57.891907Z",
     "start_time": "2019-01-03T11:48:57.886451Z"
    }
   },
   "outputs": [
    {
     "ename": "IndentationError",
     "evalue": "unexpected indent (<ipython-input-15-183d2a1c8090>, line 3)",
     "output_type": "error",
     "traceback": [
      "\u001b[1;36m  File \u001b[1;32m\"<ipython-input-15-183d2a1c8090>\"\u001b[1;36m, line \u001b[1;32m3\u001b[0m\n\u001b[1;33m    return res\u001b[0m\n\u001b[1;37m    ^\u001b[0m\n\u001b[1;31mIndentationError\u001b[0m\u001b[1;31m:\u001b[0m unexpected indent\n"
     ]
    }
   ],
   "source": [
    "def producto(a,b):\n",
    "    res = a * b\n",
    "                return res"
   ]
  },
  {
   "cell_type": "markdown",
   "metadata": {},
   "source": [
    "## Referencias\n",
    "\n",
    "* [Tutorial de Python. Por Guido Van Rossum](https://argentinaenpython.com/quiero-aprender-python/TutorialPython3.pdf)"
   ]
  },
  {
   "cell_type": "markdown",
   "metadata": {},
   "source": [
    "--------"
   ]
  }
 ],
 "metadata": {
  "anaconda-cloud": {},
  "hide_input": false,
  "kernelspec": {
   "display_name": "Python 3 (ipykernel)",
   "language": "python",
   "name": "python3"
  },
  "language_info": {
   "codemirror_mode": {
    "name": "ipython",
    "version": 3
   },
   "file_extension": ".py",
   "mimetype": "text/x-python",
   "name": "python",
   "nbconvert_exporter": "python",
   "pygments_lexer": "ipython3",
   "version": "3.11.1"
  },
  "nbTranslate": {
   "displayLangs": [
    "en",
    "es"
   ],
   "hotkey": "alt-t",
   "langInMainMenu": true,
   "sourceLang": "es",
   "targetLang": "en",
   "useGoogleTranslate": true
  },
  "toc": {
   "base_numbering": 1,
   "nav_menu": {
    "height": "68px",
    "width": "252px"
   },
   "number_sections": true,
   "sideBar": true,
   "skip_h1_title": false,
   "title_cell": "Table of Contents",
   "title_sidebar": "Contents",
   "toc_cell": false,
   "toc_position": {
    "height": "calc(100% - 180px)",
    "left": "10px",
    "top": "150px",
    "width": "165px"
   },
   "toc_section_display": "block",
   "toc_window_display": false
  }
 },
 "nbformat": 4,
 "nbformat_minor": 1
}
