{
 "cells": [
  {
   "cell_type": "markdown",
   "metadata": {},
   "source": [
    "# Ejercicios \n",
    "\n"
   ]
  },
  {
   "cell_type": "markdown",
   "metadata": {},
   "source": [
    "## Ejercicio 1\n",
    "\n",
    "__(a)__ Utiliza la función `range` para generar la __lista__ de numeros pares con inicio 100 y fin 150. Ambos inclusive. \n",
    "\n",
    "__(b)__ Utiliza la función `range` para generar la __tupla__ de numeros múltiplos de 3 con inicio 99 y fin 78. Ambos inclusive. El resultado será: `(99, 96, 93, 90, 87, 84, 81, 78)`.\n"
   ]
  },
  {
   "cell_type": "code",
   "execution_count": 3,
   "metadata": {},
   "outputs": [
    {
     "name": "stdout",
     "output_type": "stream",
     "text": [
      "[100, 102, 104, 106, 108, 110, 112, 114, 116, 118, 120, 122, 124, 126, 128, 130, 132, 134, 136, 138, 140, 142, 144, 146, 148, 150]\n"
     ]
    }
   ],
   "source": [
    "# SOL\n",
    "\n",
    "lista_pares = list(range(100,151,2))\n",
    "print(lista_pares)"
   ]
  },
  {
   "cell_type": "code",
   "execution_count": 51,
   "metadata": {},
   "outputs": [
    {
     "data": {
      "text/plain": [
       "tuple"
      ]
     },
     "execution_count": 51,
     "metadata": {},
     "output_type": "execute_result"
    }
   ],
   "source": [
    "t_lista = list(range(99,77,-3))\n",
    "t_tupla = tuple(t_lista)\n",
    "type(t_tupla)"
   ]
  },
  {
   "cell_type": "code",
   "execution_count": 52,
   "metadata": {},
   "outputs": [
    {
     "name": "stdout",
     "output_type": "stream",
     "text": [
      "(99, 96, 93, 90, 87, 84, 81, 78)\n"
     ]
    }
   ],
   "source": [
    "print(t_tupla)"
   ]
  },
  {
   "cell_type": "markdown",
   "metadata": {},
   "source": [
    "## Ejercicio 2\n",
    "\n",
    "Escribe una función llamada `weekday` que devuelva el día de la semana (Lunes, Martes, Miércoles, etc.). La función tiene un único parámetro de entrada de tipo entero y comprendido entre el 1 y el 7 que representa el día de la semana. Dicha función devuelve un único valor de tipo str.\n",
    "\n",
    "__Nota:__\n",
    "\n",
    "* weekday(1) devuelve como resultado el valor 'Lunes'\n",
    "* weekday(6) devuelve como resultado el valor 'Sábado'"
   ]
  },
  {
   "cell_type": "code",
   "execution_count": 69,
   "metadata": {},
   "outputs": [
    {
     "data": {
      "text/plain": [
       "'Viernes'"
      ]
     },
     "execution_count": 69,
     "metadata": {},
     "output_type": "execute_result"
    }
   ],
   "source": [
    "# SOL\n",
    "\n",
    "def weekday(x):\n",
    "    if x == 1:\n",
    "        return 'Lunes'\n",
    "    if x == 2:\n",
    "        return 'Martes'\n",
    "    if x == 3:\n",
    "        return 'Miércoles'\n",
    "    if x == 4:\n",
    "        return 'Jueves'\n",
    "    if x == 5:\n",
    "        return 'Viernes'\n",
    "    if x == 6:\n",
    "        return 'Sábado'\n",
    "    if x == 7:\n",
    "        return 'Domingo'\n",
    "    else:\n",
    "        return 'El número introducido no corresponde a ningún día de la semana'\n",
    "\n",
    "weekday(5)"
   ]
  },
  {
   "cell_type": "markdown",
   "metadata": {},
   "source": [
    "## Ejercicio 3"
   ]
  },
  {
   "cell_type": "markdown",
   "metadata": {},
   "source": [
    "Diseña una función llamada __sumar_pares_positivos__ que reciba una lista de números `a` y devuelva la suma de  conteaquellos números que sean pares y positivos.\n",
    "\n",
    "__Ejemplo de ejecución:__\n",
    "\n",
    "```\n",
    "In: \n",
    "    L = [5, -2, 2, 4, -8, 6, 7, 0]\n",
    "    r = filtrar_pares_positivos(L) \n",
    "    r\n",
    "    \n",
    "Out: \n",
    "    12\n",
    "```"
   ]
  },
  {
   "cell_type": "code",
   "execution_count": 5,
   "metadata": {},
   "outputs": [],
   "source": [
    "L = [5, -2, 2, 4, -8, 6, 7, 0]"
   ]
  },
  {
   "cell_type": "code",
   "execution_count": 13,
   "metadata": {},
   "outputs": [],
   "source": [
    "# Sol:\n",
    "\n",
    "def sumar_pares_positivos(lista):\n",
    "    contador=0\n",
    "    for i in range(len(lista)):\n",
    "        if lista[i] > 0 and (lista[i]%2) == 0:\n",
    "            contador=contador+lista[i]\n",
    "    return contador"
   ]
  },
  {
   "cell_type": "code",
   "execution_count": 14,
   "metadata": {},
   "outputs": [
    {
     "data": {
      "text/plain": [
       "12"
      ]
     },
     "execution_count": 14,
     "metadata": {},
     "output_type": "execute_result"
    }
   ],
   "source": [
    "sumar_pares_positivos(L)"
   ]
  },
  {
   "cell_type": "code",
   "execution_count": null,
   "metadata": {},
   "outputs": [],
   "source": []
  },
  {
   "cell_type": "markdown",
   "metadata": {},
   "source": [
    "## Ejercicio 4\n",
    "\n",
    "El siguiente diccionario representa algunos de los datos de empleados (NIF's y otros datos personales) de una empresa:"
   ]
  },
  {
   "cell_type": "code",
   "execution_count": 21,
   "metadata": {},
   "outputs": [],
   "source": [
    "personal = {\n",
    " '09514247N': {\"perfil\": [\"desarrollador de software\",\"cocina\" ],\n",
    "               'edad': 28,\n",
    "               'salario': 35000,\n",
    "               \"incorporación\": 2005,\n",
    "               \"empresa_ant\": \"IBM\",\n",
    "               \"pais\": \"España\"},\n",
    " '12547895E': {\"perfil\": [\"desarrollador de software\", \"control de calidad\"  ],\n",
    "               'edad': 28,\n",
    "               'salario': 28000,\n",
    "               \"pais\": \"España\"},\n",
    " '01235842B': {\"perfil\": [ \"gestión logística\",\"control de calidad\", \"transporte\"],\n",
    "               'edad': 28,\n",
    "               'salario': 47000,\n",
    "               \"empresa_ant\": \"Amazon\",\n",
    "               \"pais\": \"España\"},\n",
    " '47854141S': {\"perfil\": [ \"inventario\",\"control de calidad\", \"gestión de proyectos\"  ],\n",
    "               'edad': 28,\n",
    "               'salario': 50000,\n",
    "               \"incorporación\": 2000,\n",
    "               \"pais\": \"España\"},\n",
    " '12345678G': {'edad': 28,\n",
    "               'salario': 62000,\n",
    "               \"pais\": \"España\"},\n",
    " '56789023T': {\"perfil\": [\"desarrollador de videojuegos\" ],\n",
    "               'edad': 28,\n",
    "               'salario': 29000,\n",
    "               \"pais\": \"España\"}\n",
    "}"
   ]
  },
  {
   "cell_type": "markdown",
   "metadata": {},
   "source": [
    "(a) Escribe las instrucciones necesarias para recuperar la lista de todos los NIFs. Observa que el dato del NIF se encuentra en la claves del diccionario personal."
   ]
  },
  {
   "cell_type": "code",
   "execution_count": 22,
   "metadata": {},
   "outputs": [
    {
     "data": {
      "text/plain": [
       "dict_keys(['09514247N', '12547895E', '01235842B', '47854141S', '12345678G', '56789023T'])"
      ]
     },
     "execution_count": 22,
     "metadata": {},
     "output_type": "execute_result"
    }
   ],
   "source": [
    "# SOL\n",
    "\n",
    "personal.keys()"
   ]
  },
  {
   "cell_type": "markdown",
   "metadata": {},
   "source": [
    "(b) Escribe la instrucción que devuelve la edad de la persona con NIF 01235842B."
   ]
  },
  {
   "cell_type": "code",
   "execution_count": 23,
   "metadata": {},
   "outputs": [
    {
     "data": {
      "text/plain": [
       "28"
      ]
     },
     "execution_count": 23,
     "metadata": {},
     "output_type": "execute_result"
    }
   ],
   "source": [
    "# SOL\n",
    "\n",
    "personal['01235842B']['edad']"
   ]
  },
  {
   "cell_type": "markdown",
   "metadata": {},
   "source": [
    "(c) Sube el salario en un 10% al empleado con NIF 56789023T."
   ]
  },
  {
   "cell_type": "code",
   "execution_count": 24,
   "metadata": {},
   "outputs": [
    {
     "name": "stdout",
     "output_type": "stream",
     "text": [
      "31900.0\n"
     ]
    }
   ],
   "source": [
    "# SOL\n",
    "\n",
    "personal['56789023T']['salario'] = (personal['56789023T']['salario']*10/100)+personal['56789023T']['salario']\n",
    "print(personal['56789023T']['salario'])"
   ]
  },
  {
   "cell_type": "markdown",
   "metadata": {},
   "source": [
    "## Ejercicio 5"
   ]
  },
  {
   "cell_type": "markdown",
   "metadata": {},
   "source": [
    "Dada una lista de direcciones de correo electrónico:\n",
    "\n",
    "```\n",
    "direcciones = ['ana@gmail.com', 'luis@google.es', 'tu@ucm.es' ]\n",
    "```\n",
    "se desea extraer el nombre del dominio. Por ejemplo, a partir de la lista anterior, queremos obtener la lista:\n",
    "\n",
    "```\n",
    "['gmail.com', 'google.es', 'ucm.es' ]\n",
    "```\n",
    "\n",
    "Para resolver este problema, tenemos que usar la función split de los strings, que permite dividir un string en partes."
   ]
  },
  {
   "cell_type": "code",
   "execution_count": 28,
   "metadata": {},
   "outputs": [],
   "source": [
    "direcciones = ['ana@gmail.com', 'luis@google.es', 'tu@ucm.es' ]"
   ]
  },
  {
   "cell_type": "code",
   "execution_count": 57,
   "metadata": {},
   "outputs": [
    {
     "data": {
      "text/plain": [
       "['gmail.com', 'google.es', 'ucm.es']"
      ]
     },
     "execution_count": 57,
     "metadata": {},
     "output_type": "execute_result"
    }
   ],
   "source": [
    "# SOL\n",
    "\n",
    "list(map(lambda correo : correo.split(sep='@')[1], direcciones))"
   ]
  },
  {
   "cell_type": "markdown",
   "metadata": {},
   "source": [
    "## Ejercicio 6\n",
    "\n",
    "Dada una lista de empleados con su salario:\n",
    "\n",
    "empleados = [('Ana', 200), ('Juan', 400), ('Pedro', 750), ('Lucía', 600), ('Sergio', 350)]\n",
    "\n",
    "se desea extraer el nombre de los empleados cuyo salario es inferior a 500. Por ejemplo, a partir de la lista anterior, queremos obtener la lista:\n",
    "\n",
    "['Ana', 'Juan', 'Sergio']\n",
    "\n",
    "\n"
   ]
  },
  {
   "cell_type": "code",
   "execution_count": 74,
   "metadata": {},
   "outputs": [],
   "source": [
    "empleados = [('Ana', 200), ('Juan', 400), ('Pedro', 750), ('Lucía', 600), ('Sergio', 350)]"
   ]
  },
  {
   "cell_type": "code",
   "execution_count": 94,
   "metadata": {},
   "outputs": [],
   "source": [
    "# SOL\n",
    "\n",
    "def salario(empleados):\n",
    "    empleados_500 = []\n",
    "    for persona in empleados:\n",
    "        if persona[1] > 500:\n",
    "            empleados_500.append(persona[0])\n",
    "    print(empleados_500)"
   ]
  },
  {
   "cell_type": "code",
   "execution_count": 95,
   "metadata": {},
   "outputs": [
    {
     "name": "stdout",
     "output_type": "stream",
     "text": [
      "['Pedro', 'Lucía']\n"
     ]
    }
   ],
   "source": [
    "salario(empleados)"
   ]
  }
 ],
 "metadata": {
  "anaconda-cloud": {},
  "hide_input": false,
  "kernelspec": {
   "display_name": "Python 3 (ipykernel)",
   "language": "python",
   "name": "python3"
  },
  "language_info": {
   "codemirror_mode": {
    "name": "ipython",
    "version": 3
   },
   "file_extension": ".py",
   "mimetype": "text/x-python",
   "name": "python",
   "nbconvert_exporter": "python",
   "pygments_lexer": "ipython3",
   "version": "3.11.1"
  },
  "nbTranslate": {
   "displayLangs": [
    "en",
    "es"
   ],
   "hotkey": "alt-t",
   "langInMainMenu": true,
   "sourceLang": "es",
   "targetLang": "en",
   "useGoogleTranslate": true
  },
  "toc": {
   "base_numbering": 1,
   "nav_menu": {
    "height": "86px",
    "width": "252px"
   },
   "number_sections": true,
   "sideBar": true,
   "skip_h1_title": false,
   "title_cell": "Table of Contents",
   "title_sidebar": "Contents",
   "toc_cell": false,
   "toc_position": {},
   "toc_section_display": "block",
   "toc_window_display": false
  }
 },
 "nbformat": 4,
 "nbformat_minor": 2
}
