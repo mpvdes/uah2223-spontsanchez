{
 "cells": [
  {
   "cell_type": "markdown",
   "metadata": {},
   "source": [
    "# Estructuras de control (II)"
   ]
  },
  {
   "cell_type": "markdown",
   "metadata": {},
   "source": [
    "Python soporta las sentencias de control de flujo que podemos encontrar en otros lenguajes de programación."
   ]
  },
  {
   "cell_type": "markdown",
   "metadata": {},
   "source": [
    "## La instrucción  `while` "
   ]
  },
  {
   "cell_type": "markdown",
   "metadata": {},
   "source": [
    "Imagina que (por cualquier motivo) queremos imprimir 5 veces el mensaje 'Hola mundo'. Seguro que ya has imaginado una solución:"
   ]
  },
  {
   "cell_type": "code",
   "execution_count": 1,
   "metadata": {},
   "outputs": [
    {
     "name": "stdout",
     "output_type": "stream",
     "text": [
      "Hola Mundo\n",
      "Hola Mundo\n",
      "Hola Mundo\n",
      "Hola Mundo\n",
      "Hola Mundo\n"
     ]
    }
   ],
   "source": [
    "print('Hola Mundo')\n",
    "print('Hola Mundo')\n",
    "print('Hola Mundo')\n",
    "print('Hola Mundo')\n",
    "print('Hola Mundo')"
   ]
  },
  {
   "cell_type": "markdown",
   "metadata": {},
   "source": [
    "Esto parece fácil, pero ¿qué pasaría si quisiéramos imprimir el mensaje 'Hola mundo', pero esta vez en vez de hacerlo 5 veces, quisiéramos hacerlo 100 de veces? No, desde luego que copiar `print('Hola Mundo')` cien veces no es una solución razonable. Es mucho mejor pedir a Python que lo imprima cien veces directamente. Para ello, Python proporciona la instrucción `while`, que permite *llevar la cuenta* de las veces que hemos repetido algo y proporciona una manera de indicar *cuándo tenemos que dejar de repetir* algo.\n",
    "\n",
    "La instrucción `while` permite ejecutar un bloque entero de código tantas veces como queramos. En su versión general tiene el siguiente aspecto: \n",
    "\n",
    "    ```\n",
    "    while <condición>:\n",
    "        <instrucción 1>\n",
    "        <instrucción 2>\n",
    "        ...\n",
    "        <instrucción n>\n",
    "    ```\n",
    "<img src=\"./images/while.png\" alt=\"while\" style=\"width: 250px;\"/>\n",
    "\n",
    "\n",
    "Consta de dos elementos:\n",
    "\n",
    "* El bloque de código cuya ejecución vamos a repetir.\n",
    "* Una `condición de continuación`, es decir, la condición que se debe cumplir para que se repita la ejecución del bloque de código dentro del `while`.\n",
    "\n",
    "Las condiciones funcionan exactamente igual que en las comparaciones con `if`: son una expresión booleana (algo que devuelve verdadero o falso). Así, si la expresión devuelve verdadero (es decir, `True` en Python), el bucle se repetirá. Si la expresión devuelve falso (`False` en Python), el bucle no volverá a repetirse y continuará con la instrucción que siga al `while`.\n",
    "El número de repeticiones (también llamadas iteraciones) es variable y depende de la condición."
   ]
  },
  {
   "cell_type": "markdown",
   "metadata": {},
   "source": [
    "En el siguiente ejemplo, mostramos cómo podemos utilizar la instrucción `while` para escribir 5 veces el mensaje  `Hola Mundo`. "
   ]
  },
  {
   "cell_type": "code",
   "execution_count": 3,
   "metadata": {},
   "outputs": [
    {
     "name": "stdout",
     "output_type": "stream",
     "text": [
      "Hola Mundo\n",
      "Hola Mundo\n",
      "Hola Mundo\n",
      "Hola Mundo\n",
      "Hola Mundo\n",
      "Hola Mundo\n",
      "Hola Mundo\n",
      "Hola Mundo\n",
      "Hola Mundo\n",
      "Hola Mundo\n"
     ]
    }
   ],
   "source": [
    "contador = 1      # inicialización\n",
    "\n",
    "while contador <= 10:                # condición\n",
    "    print('Hola Mundo')\n",
    "    contador = contador + 1                # incremento"
   ]
  },
  {
   "cell_type": "markdown",
   "metadata": {},
   "source": [
    "__Analizando la instrucción__:\n",
    "\n",
    "* __Inicialización__: para llevar la cuenta de las veces que se repite la impresión del mensaje, creamos una variable `i` con un valor inicial a 1.\n",
    "\n",
    "* __Condición__: Lo primero que hace el bucle `while` es comprobar si el contenido de la condición (i <= 5) es cierto. El cuerpo del bucle se ejecutará mientras la condición  `i < 5` , sea cierta.\n",
    "\n",
    "* __Incremento__: Incrementamos el valor de `i` "
   ]
  },
  {
   "cell_type": "markdown",
   "metadata": {},
   "source": [
    "Como regla y para evitar bucles infinitos, debemos asegurarnos de que después de cada repetición, la condición del `while` está más cerca de hacerse falsa. En el ejemplo anterior, en el cuerpo del bucle se incrementa la variable `i`, por lo que cada vez el valor de `i` se aproxima más a 5."
   ]
  },
  {
   "cell_type": "markdown",
   "metadata": {},
   "source": [
    "__Ejemplo__:\n",
    "\n",
    "Escribir una función que calcule la suma de los números menores de 1000. (1+2+3+4+....+999)"
   ]
  },
  {
   "cell_type": "code",
   "execution_count": 5,
   "metadata": {},
   "outputs": [
    {
     "name": "stdout",
     "output_type": "stream",
     "text": [
      "0\n",
      "1\n",
      "3\n",
      "6\n",
      "10\n",
      "15\n",
      "21\n",
      "28\n",
      "36\n"
     ]
    },
    {
     "data": {
      "text/plain": [
       "45"
      ]
     },
     "execution_count": 5,
     "metadata": {},
     "output_type": "execute_result"
    }
   ],
   "source": [
    "def calcular_suma ():\n",
    "    acumulador = 0\n",
    "    numero = 1\n",
    "    while numero < 10:\n",
    "        print(acumulador)\n",
    "        acumulador = acumulador + numero\n",
    "        numero = numero + 1\n",
    "    return acumulador\n",
    "\n",
    "calcular_suma()"
   ]
  },
  {
   "cell_type": "markdown",
   "metadata": {},
   "source": [
    "__Ejemplo__:\n",
    "\n",
    "La siguiente función recibe un valor numérico `N` como parámetro de entrada y devuelve la candidad de números enteros positivos que hay que sumar de forma que la suma no supere el valor de `N`."
   ]
  },
  {
   "cell_type": "code",
   "execution_count": 9,
   "metadata": {},
   "outputs": [],
   "source": [
    "def suma_con_limite(n):\n",
    "    contador = 0     \n",
    "    suma = 0\n",
    "    while suma < n :\n",
    "        contador = contador +1\n",
    "        suma = suma + contador\n",
    "    return contador-1"
   ]
  },
  {
   "cell_type": "code",
   "execution_count": 10,
   "metadata": {},
   "outputs": [
    {
     "data": {
      "text/plain": [
       "3"
      ]
     },
     "execution_count": 10,
     "metadata": {},
     "output_type": "execute_result"
    }
   ],
   "source": [
    "suma_con_limite(10)"
   ]
  },
  {
   "cell_type": "markdown",
   "metadata": {},
   "source": [
    "## Referencias\n",
    "\n",
    "* [Tutorial de Python. Por Guido Van Rossum](https://argentinaenpython.com/quiero-aprender-python/TutorialPython3.pdf)\n",
    "\n",
    "* [Listas, tuplas y diccionarios](https://docs.python.org/3/tutorial/datastructures.html)\n"
   ]
  },
  {
   "cell_type": "markdown",
   "metadata": {},
   "source": [
    "------"
   ]
  }
 ],
 "metadata": {
  "anaconda-cloud": {},
  "hide_input": false,
  "kernelspec": {
   "display_name": "Python 3 (ipykernel)",
   "language": "python",
   "name": "python3"
  },
  "language_info": {
   "codemirror_mode": {
    "name": "ipython",
    "version": 3
   },
   "file_extension": ".py",
   "mimetype": "text/x-python",
   "name": "python",
   "nbconvert_exporter": "python",
   "pygments_lexer": "ipython3",
   "version": "3.11.1"
  },
  "nbTranslate": {
   "displayLangs": [
    "en",
    "es"
   ],
   "hotkey": "alt-t",
   "langInMainMenu": true,
   "sourceLang": "es",
   "targetLang": "en",
   "useGoogleTranslate": true
  },
  "toc": {
   "base_numbering": 1,
   "nav_menu": {
    "height": "144px",
    "width": "252px"
   },
   "number_sections": true,
   "sideBar": true,
   "skip_h1_title": false,
   "title_cell": "Table of Contents",
   "title_sidebar": "Contents",
   "toc_cell": false,
   "toc_position": {
    "height": "649px",
    "left": "0px",
    "right": "20px",
    "top": "121px",
    "width": "204px"
   },
   "toc_section_display": "block",
   "toc_window_display": false
  }
 },
 "nbformat": 4,
 "nbformat_minor": 1
}
