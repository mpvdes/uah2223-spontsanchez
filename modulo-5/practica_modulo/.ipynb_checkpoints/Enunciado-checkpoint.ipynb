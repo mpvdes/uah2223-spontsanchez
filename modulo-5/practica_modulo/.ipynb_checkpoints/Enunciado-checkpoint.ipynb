{
 "cells": [
  {
   "cell_type": "markdown",
   "id": "4af647f1",
   "metadata": {},
   "source": [
    "# Práctica\n",
    "\n",
    "\n",
    "El dataset `hoteles.csv` contiene información de un gran número de hoteles de la ciudad de Madrid. Disponemos de información de las valoraciones medias de los clientes con respecto a distintos conceptos. Las variables de las que disponemos son las siguientes:\n",
    "\n",
    "    'code': código del hotel, \n",
    "    'nombre': nombre del hotel,\n",
    "    'Cleanliness': valoración media en concepto de limpieza (0-5),\n",
    "    'Location': valoración media en concepto de localización (0-5),\n",
    "    'Service': valoración media en concepto de servicio (0-5),\n",
    "    'rating_Excellent': número de viajeros que puntuaron al hotel como 'excelente' ,\n",
    "    'rating_Poor':  número de viajeros que puntuaron al hotel como 'pobre', \n",
    "    'rating_Terrible':  número de viajeros que puntuaron al hotel como 'terrible',\n",
    "    'rating_Very Good':  número de viajeros que puntuaron al hotel como 'muy bueno',\n",
    "    'number_of_reviews': número de valoraciones de que dispone el hotel \n",
    "    'stars': Número de estrellas (0-5)\n",
    "    \n",
    "Por otro lado, se dispone de información de los comentarios dejados por los clientes de algunos hoteles. Esta información se encuentra distribuida en distintos ficheros con nombre `reviews_20XX` en la carpeta `reviews`. Cada fichero recoge los comentarios de un año completo. Las variables de las que disponemos son las siguientes:\n",
    "\n",
    "    'code': código del hotel, \n",
    "    'author': nombre o alias del cliente,\n",
    "    'location_author': lugar de residencia,\n",
    "    'author_date': fecha del comentario,\n",
    "    'rating': valoración del cliente,    \n",
    "    'title_rev': título del comentario,\n",
    "    'message': texto del comentario, \n",
    "    'date':  fecha del comentario\n",
    "    \n",
    "    "
   ]
  },
  {
   "cell_type": "markdown",
   "id": "afbba655",
   "metadata": {},
   "source": [
    "## Carga de datos\n",
    "\n",
    "Crear dos dataframes:\n",
    "\n",
    "* `hoteles`: recoge la información de los hoteles. Fichero `hoteles.csv`\n",
    "* `reviews`: recoge la información de las revisiones de todos los hoteles en todos los años de los que disponemos. Ficheros `reviews_20XX.xlsx`. Repasa la operación `p.concat` de la librería `pandas`. Esto te permitirá construir un único dataframe a partir de una lista de dataframes. La carga de reviews puede tardar un poco."
   ]
  },
  {
   "cell_type": "code",
   "execution_count": 9,
   "id": "207b0a6f",
   "metadata": {},
   "outputs": [],
   "source": [
    "# Sol\n"
   ]
  },
  {
   "cell_type": "markdown",
   "id": "44fb7f33",
   "metadata": {},
   "source": [
    "## Información de la estructura de las tablas\n",
    "\n",
    "Consulta la información de los campos de ambas tablas. Usa la operación `info`."
   ]
  },
  {
   "cell_type": "code",
   "execution_count": 9,
   "id": "c5d1f565",
   "metadata": {},
   "outputs": [],
   "source": [
    "# Sol\n"
   ]
  },
  {
   "cell_type": "markdown",
   "id": "494d5a96",
   "metadata": {},
   "source": [
    "## Reviews. Participación de usuarios.\n",
    "\n",
    "a) Crea un listado de los usuarios que tienen más de 50 comentarios.\n",
    "\n",
    "(Sol: ['Carmen S',\n",
    " 'Eduardo R',\n",
    " 'James',\n",
    " 'Wajdi A',\n",
    " 'Carolina R',\n",
    " 'Inga Rahkonen',\n",
    " 'C H',\n",
    " 'TallPaulLondon',\n",
    " 'Rachel H',\n",
    " 'dreamisthesleep',\n",
    " 'Wanderer',\n",
    " 'Emre',\n",
    " 'Renan G',\n",
    " 'Marcel0mpm',\n",
    " 'HildaMiami',\n",
    " 'skoestner',\n",
    " 'orcho',\n",
    " 'markandsian',\n",
    " 'Nikita P',\n",
    " 'Nicole J'])\n",
    "\n",
    "b) Crea un dataframe con las reviews de los usarios que tienen más de 50 comentarios. \n",
    "\n",
    "(Sol: el dataframe tiene un total de 1165 filas)"
   ]
  },
  {
   "cell_type": "code",
   "execution_count": 9,
   "id": "5a7a8cc6",
   "metadata": {},
   "outputs": [],
   "source": [
    "# Sol\n"
   ]
  },
  {
   "cell_type": "markdown",
   "id": "ccf72213",
   "metadata": {},
   "source": [
    "## Reviews.  Eliminación de NaN.\n",
    "\n",
    "Eliminar las filas en las que no se dispone de datos de autor del comentario o de la localización del autor."
   ]
  },
  {
   "cell_type": "code",
   "execution_count": 1,
   "id": "066c32b8",
   "metadata": {},
   "outputs": [],
   "source": [
    "# Sol\n"
   ]
  },
  {
   "cell_type": "markdown",
   "id": "522963e8",
   "metadata": {},
   "source": [
    "## Reviews. Rating\n",
    "\n",
    "La columna `rating` recoge infomración de las estrellas que ha asignado el cliente al hotel. Por ejemplo, el texto 'bubble_40' representa 4 estrellas. \n",
    "\n",
    "__a)__ Cuántos valores distintos nos podemos encontrar en la columna `rating`.\n",
    "\n",
    "__b)__ Cuántos valores de cada tipos nos encontramos en la columna `rating`.\n",
    "\n",
    "__c)__ Crear una columna llamanda  `rating_stars`  que contenga la información de las estrellas que ha indicado el cliente, en formato `int`.\n",
    "\n",
    "__d)__ Elimina la columna `rating`.\n",
    "\n",
    "__e)__ Dibuja un histograma (kind = 'hist') de la columna `rating_start` y explica el resultado. \n"
   ]
  },
  {
   "cell_type": "code",
   "execution_count": 2,
   "id": "f58f70fd",
   "metadata": {},
   "outputs": [],
   "source": [
    "# sol\n"
   ]
  },
  {
   "cell_type": "code",
   "execution_count": 17,
   "id": "d7f99c37",
   "metadata": {},
   "outputs": [
    {
     "data": {
      "text/plain": [
       "<AxesSubplot: ylabel='Frequency'>"
      ]
     },
     "execution_count": 17,
     "metadata": {},
     "output_type": "execute_result"
    },
    {
     "data": {
      "image/png": "[encoded data removed]",
      "text/plain": [
       "<Figure size 640x480 with 1 Axes>"
      ]
     },
     "metadata": {},
     "output_type": "display_data"
    }
   ],
   "source": []
  },
  {
   "cell_type": "markdown",
   "id": "f91627a9",
   "metadata": {},
   "source": [
    "## Hoteles. Stars y reviews\n",
    "\n",
    "Crea un dataframe con los hoteles de 5 estrellas y menos de 5 reviews."
   ]
  },
  {
   "cell_type": "code",
   "execution_count": 18,
   "id": "8993a982",
   "metadata": {},
   "outputs": [],
   "source": [
    "# Sol\n"
   ]
  },
  {
   "cell_type": "markdown",
   "id": "172f4077",
   "metadata": {},
   "source": [
    "## Hoteles. Update\n",
    "\n",
    "Podemos considerar que si un hotel no tiene valores en las variables  `rating_Excellent`, \t`rating_Poor`, \t`rating_Terrible ` o \t`rating_Very Good`, es porque no hay ningún cliente que haya valorado al hotel en esos conceptos, por lo que su valor debería ser 0 y no `NaN`. Modifica la tabla en ese sentido.\n",
    "\n"
   ]
  },
  {
   "cell_type": "code",
   "execution_count": 3,
   "id": "9dc0444b",
   "metadata": {},
   "outputs": [],
   "source": [
    "# Sol:\n"
   ]
  },
  {
   "cell_type": "markdown",
   "id": "805f6b4d",
   "metadata": {},
   "source": [
    "## Hoteles. Consulta \n",
    "\n",
    "Crea un dataframe con los hoteles que tienen más puntuaciones de tipo 'Terrible' que de 'Excellent'. ¿Cuántos hay en total? "
   ]
  },
  {
   "cell_type": "code",
   "execution_count": 20,
   "id": "4571a3a3",
   "metadata": {},
   "outputs": [
    {
     "data": {
      "text/plain": [
       "87"
      ]
     },
     "execution_count": 20,
     "metadata": {},
     "output_type": "execute_result"
    }
   ],
   "source": [
    "# Sol: \n"
   ]
  },
  {
   "cell_type": "markdown",
   "id": "4b97802a",
   "metadata": {},
   "source": [
    "## Hoteles. Categorizar\n",
    "\n",
    "Consideramos que un hotel es 'HIGH' si sus valoraciones positivas (suma de excellent y very good) es mayor a sus valoreaciones negativas (poor y terrible). En otro caso, consideramos que el hotel es 'LOW'.\n",
    "Crear una nueva columna en el dataframe llamada `Category`, con dicha información. ¿Cuántos hoteles hay dentro de cada categoría?"
   ]
  },
  {
   "cell_type": "code",
   "execution_count": 4,
   "id": "813e12ba",
   "metadata": {},
   "outputs": [],
   "source": [
    "# Sol: \n"
   ]
  },
  {
   "cell_type": "markdown",
   "id": "c4d53ecb",
   "metadata": {},
   "source": [
    "## Reviews. Texto en comentarios\n",
    "\n",
    "__a)__ Crear un dataframe que contenga solo la filas donde el texto del comentario contiene un número, seguido de la palabra 'nigths'. Por ejemplo, `My friend and I stayed here for 4 nights last ...`. Puedes ver ejemplos parecidos en 't7_ejercicios_2'.\n",
    "\n",
    "(sol: El dataframe resultante debe contener 1335 filas. los mensajes de estas revisiones son:\n",
    "\n",
    "```\n",
    "0        My friend and I stayed here for 4 nights last ...\n",
    "7        I stayed here for 3 nights in late November 20...\n",
    "17       I stayed for 4 nights in February 2005 at the ...\n",
    "21       We just got back from 2 nights at Hostel Cruz ...\n",
    "28       Stayed at this hotel for the past 4 nights and...\n",
    "                               ...                        \n",
    "53181    Good location clean rooms very friendly hospit...\n",
    "53490    We stayed for 2 nights, cancelled twice due to...\n",
    "53672    We spent 6 nights at the lovely hotel located ...\n",
    "53683    Lovely hotel in perfect location next door to ...\n",
    "53827    We had the most wonderful 3 nights in Madrid. ...\n",
    "Name: message, Length: 1335, dtype: object\n",
    "```\n",
    ")"
   ]
  },
  {
   "cell_type": "code",
   "execution_count": 5,
   "id": "730ae02e",
   "metadata": {},
   "outputs": [],
   "source": [
    "# Sol:\n"
   ]
  },
  {
   "cell_type": "code",
   "execution_count": 41,
   "id": "c93de42c",
   "metadata": {},
   "outputs": [
    {
     "data": {
      "text/plain": [
       "code                                                            TH79\n",
       "author                                                  Freedom26457\n",
       "location_author                                                  NaN\n",
       "author_date                                            November 2003\n",
       "rating                                                     bubble_40\n",
       "title_rev                    Delighful, Affordable Choice for Madrid\n",
       "message            My friend and I stayed here for 4 nights last ...\n",
       "date                                             2003-11-06 00:00:00\n",
       "Name: 0, dtype: object"
      ]
     },
     "execution_count": 41,
     "metadata": {},
     "output_type": "execute_result"
    }
   ],
   "source": [
    "r.loc[0]"
   ]
  },
  {
   "cell_type": "markdown",
   "id": "bfb2924e",
   "metadata": {},
   "source": [
    "## Reviews. Comentarios de los hoteles\n",
    "\n",
    "__a)__ Calcula el número de comentarios por hotel. Ordena los resultados por número de comentarios. Crea un dataframe con los 10 hoteles con más comentarios. El dataframe ha de tener infomación del código del hotel y el número de comentarios.\n",
    "\n",
    "__b)__ Añade al dataframe creado en el apartado a), una columna con el nombre del hotel. Repasa la operación `merge`.\n",
    "\n",
    "__c)__ Calcula el número de comentarios por hotel y author_date.\n",
    "\n",
    "__e)__ Calcula el número de comentarios por hotel y año. Puedes usar groupby junto con Grouper. La documentación de la operación Grouper junto con algunos ejemplos la puedes encontar en https://pandas.pydata.org/docs/reference/api/pandas.Grouper.html.\n",
    "En https://pbpython.com/pandas-grouper-agg.html también hay ejemplos comentados.\n",
    "\n",
    "Ejemplo de uso:\n",
    "\n",
    "\n",
    "```\n",
    "    >>> tabla\n",
    "      Publish date  ID  Price\n",
    "    0   2000-01-02   0     10\n",
    "    1   2000-01-02   1     20\n",
    "    2   2000-01-09   2     30\n",
    "    3   2000-01-16   3     40\n",
    "    >>> tabla.groupby(pd.Grouper(key=\"Publish date\", freq=\"1W\")).mean()     # 1W es una semana\n",
    "                   ID  Price\n",
    "    Publish date\n",
    "    2000-01-02    0.5   15.0\n",
    "    2000-01-09    2.0   30.0\n",
    "    2000-01-16    3.0   40.0\n",
    "    ```"
   ]
  },
  {
   "cell_type": "code",
   "execution_count": 215,
   "id": "643a0608",
   "metadata": {},
   "outputs": [],
   "source": [
    "# Sol\n"
   ]
  },
  {
   "cell_type": "markdown",
   "id": "80df7d3f",
   "metadata": {},
   "source": [
    "## Reviews. Valoraciones por año\n",
    "\n",
    "__a)__ Cuántos comentarios tenemos por año. \n",
    "\n",
    "Una forma de agrupar datos por periodos de tiempo (dias, meses, años, etc) es usando la operación `resample`. Esta operación permite hacer grupos, al igual que la operación Groupby, teniendo en cuenta que la variable de agrupación es de tipo fecha. Permite agrupar filas con fecha en el mismo mes ('M'), en el mismo año ('A'), etc.\n",
    "La documentación y ejemplos de uso de dicha función la puedes encontrar en el enlace:  https://pandas.pydata.org/docs/reference/api/pandas.DataFrame.resample.html.\n",
    "\n",
    "Ejemplo de uso:\n",
    "\n",
    "```\n",
    "             \n",
    ">>> tabla\n",
    "   price  volume          date\n",
    "0     10      50    2018-01-07\n",
    "1     11      60    2018-01-14\n",
    "2      9      40    2018-01-21\n",
    "3     13     100    2018-01-28\n",
    "4     14      50    2018-02-04\n",
    "5     18     100    2018-02-11\n",
    "6     17      40    2018-02-18\n",
    "7     19      50    2018-02-25\n",
    "\n",
    ">>> tabla.resample('M', on='date').mean()\n",
    "\n",
    "               price  volume\n",
    "2018-01-31     10.75    62.5\n",
    "2018-02-28     17.00    60.0\n",
    "```\n",
    "\n",
    "__b)__ Dibuja un gráfico donde se vea la evolución del número de comentarios por año. Se trata de representar una serie donde el índice sea la fecha y el valor sea el número de comentarios. El tipo de gráfico (kind) lo puedes dejar vacío."
   ]
  },
  {
   "cell_type": "code",
   "execution_count": 221,
   "id": "d3c95dbb",
   "metadata": {},
   "outputs": [
    {
     "data": {
      "text/plain": [
       "<AxesSubplot: xlabel='date'>"
      ]
     },
     "execution_count": 221,
     "metadata": {},
     "output_type": "execute_result"
    },
    {
     "data": {
      "image/png": "[encoded data removed]",
      "text/plain": [
       "<Figure size 640x480 with 1 Axes>"
      ]
     },
     "metadata": {},
     "output_type": "display_data"
    }
   ],
   "source": []
  },
  {
   "cell_type": "markdown",
   "id": "56fa409d",
   "metadata": {},
   "source": [
    "## Reviews.  País del autor.\n",
    "\n",
    "Crear una nueva columna con la información del país del autor. Comenta los resultados obtenidos. Como verás no es fácil recuperar el país (no quiero que pierdas mucho tiempo en esto). "
   ]
  },
  {
   "cell_type": "code",
   "execution_count": 6,
   "id": "94b8bb27",
   "metadata": {},
   "outputs": [],
   "source": [
    "# Sol:\n"
   ]
  },
  {
   "cell_type": "code",
   "execution_count": null,
   "id": "ae1ad0a3",
   "metadata": {},
   "outputs": [],
   "source": []
  }
 ],
 "metadata": {
  "hide_input": false,
  "kernelspec": {
   "display_name": "Python 3 (ipykernel)",
   "language": "python",
   "name": "python3"
  },
  "language_info": {
   "codemirror_mode": {
    "name": "ipython",
    "version": 3
   },
   "file_extension": ".py",
   "mimetype": "text/x-python",
   "name": "python",
   "nbconvert_exporter": "python",
   "pygments_lexer": "ipython3",
   "version": "3.11.1"
  },
  "nbTranslate": {
   "displayLangs": [
    "en",
    "es"
   ],
   "hotkey": "alt-t",
   "langInMainMenu": true,
   "sourceLang": "es",
   "targetLang": "en",
   "useGoogleTranslate": true
  },
  "toc": {
   "base_numbering": 1,
   "nav_menu": {},
   "number_sections": true,
   "sideBar": true,
   "skip_h1_title": false,
   "title_cell": "Table of Contents",
   "title_sidebar": "Contents",
   "toc_cell": false,
   "toc_position": {},
   "toc_section_display": true,
   "toc_window_display": true
  }
 },
 "nbformat": 4,
 "nbformat_minor": 5
}
