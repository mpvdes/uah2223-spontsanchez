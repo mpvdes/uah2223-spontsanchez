{
 "cells": [
  {
   "cell_type": "markdown",
   "metadata": {},
   "source": [
    "# Elementos básicos del lenguaje"
   ]
  },
  {
   "cell_type": "markdown",
   "metadata": {},
   "source": [
    "## Lenguajes de programación\n",
    "\n",
    "Hay cientos de lenguajes de programación . No hay mejores o peores lenguajes, sino que depende del tipo de aplicación, unos lenguajes van mejor que otros. Por ejemplo, el lenguaje MATLAB es una buena opción si se desea trabajar con vectores y matrices. PHP es un lenguaje que permite  construir sitios web. El lenguaje C es una buena elección si se desea construir programas para el control de redes. En el caso de Python, se trata de un lenguaje de propósito general y es utilizado para todo tipo de aplicaciones."
   ]
  },
  {
   "cell_type": "markdown",
   "metadata": {},
   "source": [
    "## El lenguaje Python\n",
    "\n",
    "Python es una herramienta poderosa en el análisis numérico, el cual es ampliamente utilizado en ciencia e ingeniería. Su creador fue Guido Van Rossum y debido a que es de código libre la comunidad de desarrolladores han creado librerías o módulos para hacer casi cualquier cosa.\n",
    "\n",
    "Se trata de un lenguaje que permite desarrollar un proyecto completo o puede ser parte de un sistema.\n",
    "\n",
    "Se recomienda aprender a programar Python, por cosas muy sencillas:\n",
    "\n",
    "* Es fácil de aprender, fácil de leer y cuenta con una gran cantidad de librerías, tipos de datos y funciones incorporadas en el propio lenguaje, que ayudan a realizar muchas tareas habituales sin necesidad de tener que programarlas desde cero.\n",
    "\n",
    "* La curva de aprendizaje es muy corta y en muy poco tiempo uno puede estar programando cosas no tan triviales.\n",
    "\n",
    "* Posee una gran eficiencia a la hora de analizar datos.\n",
    "\n",
    "* Se utiliza en casi todas las API’s de las aplicaciones relacionadas con el dato.\n",
    "\n",
    "Usado por docentes, científicos e investigadores.\n",
    "\n",
    "### Características del lenguaje\n",
    "\n",
    "__Lenguaje interpretado__: Interpretado quiere decir que no se debe compilar el código antes de su ejecución. Como ventaja destaca que es independiente de la máquina y del sistema operativo ya que no contiene instrucciones propias de un procesador sino que contiene llamadas a funciones que el interprete deberá reconocer.\n",
    "\n",
    "Esto implica que la mayor parte del código Python se ejecuta más lento que el código compilado de C++ o Java.\n",
    "\n",
    "En casos donde se necesita mucha rapidez de proceso es preferible asumir el coste en tiempo de programación en un lenguaje de bajo nivel como C++ para conseguir mayor rapidez de proceso.\n",
    "\n",
    "__Multiparadigma__: Es un lenguaje imperativo y orientado a objetos. También posee características de los lenguajes funcionales.\n",
    "\n",
    "__Multiplataforma__: Existen intérpretes de Python en los principales Sistemas Operativos (Windows, Linux y Mac). El lenguaje permite realizar cualquier tipo de programa, desde aplicaciones Windows a servidores de red o incluso, páginas web.\n",
    "\n",
    "__Tipado dinámico__: El tipo de los datos es inferido en tiempo de ejecución. Esta es una característica que diferencia a Python de la mayoría de los lenguajes compilados.\n",
    "\n",
    "En esta Sección introducimos los tipos básicos del lenguaje Python, así como los conceptos de variable y asignación."
   ]
  },
  {
   "cell_type": "markdown",
   "metadata": {},
   "source": [
    "## Ejecución interactiva"
   ]
  },
  {
   "cell_type": "markdown",
   "metadata": {},
   "source": [
    "Jupyter notebook ofrece una herramienta de ejecución interactiva con la cual es posible dar órdenes directamente al intérprete y obtener una respuesta inmediata para cada una de ellas.\n",
    "\n",
    "Python es un __lenguaje interpretado__.  El intérprete actúa como una simple calculadora. Es posible introducir una expresión y éste escribirá el resultado de evaluar la expresión. \n",
    "\n",
    "La sintaxis es sencilla: los operadores +, -, * y / funcionan como en la mayoría de los lenguajes; los paréntesis (()) pueden ser usados para agrupar.\n",
    "\n",
    "Veamos algunos ejemplos:"
   ]
  },
  {
   "cell_type": "code",
   "execution_count": 2,
   "metadata": {
    "ExecuteTime": {
     "end_time": "2019-01-03T11:24:58.061120Z",
     "start_time": "2019-01-03T11:24:58.048720Z"
    }
   },
   "outputs": [
    {
     "data": {
      "text/plain": [
       "7"
      ]
     },
     "execution_count": 2,
     "metadata": {},
     "output_type": "execute_result"
    }
   ],
   "source": [
    "2 + 5 "
   ]
  },
  {
   "cell_type": "code",
   "execution_count": 3,
   "metadata": {
    "ExecuteTime": {
     "end_time": "2019-01-03T11:24:58.931562Z",
     "start_time": "2019-01-03T11:24:58.926602Z"
    }
   },
   "outputs": [
    {
     "data": {
      "text/plain": [
       "5"
      ]
     },
     "execution_count": 3,
     "metadata": {},
     "output_type": "execute_result"
    }
   ],
   "source": [
    "6 + 8 - 9"
   ]
  },
  {
   "cell_type": "code",
   "execution_count": 4,
   "metadata": {
    "ExecuteTime": {
     "end_time": "2019-01-03T11:24:59.389128Z",
     "start_time": "2019-01-03T11:24:59.384668Z"
    }
   },
   "outputs": [
    {
     "data": {
      "text/plain": [
       "10.3"
      ]
     },
     "execution_count": 4,
     "metadata": {},
     "output_type": "execute_result"
    }
   ],
   "source": [
    "2.3 + 8    # la coma decimal se representa como un punto en Python"
   ]
  },
  {
   "cell_type": "markdown",
   "metadata": {},
   "source": [
    "## Objetos, expresiones y tipos numéricos"
   ]
  },
  {
   "cell_type": "markdown",
   "metadata": {},
   "source": [
    "Los __Objetos__ son las cosas que los programas escritos en Python pueden manipular. Todo objeto tiene asociado un __tipo__ (`type`), el cual define el tipo de operaciones que se pueden realizar con ese objeto.\n",
    "\n",
    "Los tipos pueden ser de dos clases:\n",
    "\n",
    "* __Objetos escalares__: Son objetos indivisibles. Se les considera los átomos del lenguaje. Un ejemplo son los números.\n",
    "* __Objetos NO escalares__: Son objetos con una estructura interna. Por ejemplo las cadenas de caracteres, las listas, etc.\n",
    "\n",
    "### Objetos escalares\n",
    "\n",
    "#### Objetos de tipo `int`.\n",
    "\n",
    "El tipo `int` se usa para representar números enteros. Por ejemplo: `3`, `234`."
   ]
  },
  {
   "cell_type": "code",
   "execution_count": 23,
   "metadata": {},
   "outputs": [
    {
     "data": {
      "text/plain": [
       "2"
      ]
     },
     "execution_count": 23,
     "metadata": {},
     "output_type": "execute_result"
    }
   ],
   "source": [
    "2 * 4 - (7 - 1) "
   ]
  },
  {
   "cell_type": "markdown",
   "metadata": {},
   "source": [
    "Para conocer el tipo de un objeto podemos ejecutar la función ```type``` de Python."
   ]
  },
  {
   "cell_type": "code",
   "execution_count": 24,
   "metadata": {
    "ExecuteTime": {
     "end_time": "2019-01-03T11:25:11.573445Z",
     "start_time": "2019-01-03T11:25:11.566998Z"
    }
   },
   "outputs": [
    {
     "data": {
      "text/plain": [
       "int"
      ]
     },
     "execution_count": 24,
     "metadata": {},
     "output_type": "execute_result"
    }
   ],
   "source": [
    "type(25)"
   ]
  },
  {
   "cell_type": "markdown",
   "metadata": {},
   "source": [
    "Se puede elevar un número a otro con el operador `**` (la operación potencia):"
   ]
  },
  {
   "cell_type": "code",
   "execution_count": 1,
   "metadata": {
    "ExecuteTime": {
     "end_time": "2019-01-03T11:25:13.507903Z",
     "start_time": "2019-01-03T11:25:13.502447Z"
    }
   },
   "outputs": [
    {
     "data": {
      "text/plain": [
       "8"
      ]
     },
     "execution_count": 1,
     "metadata": {},
     "output_type": "execute_result"
    }
   ],
   "source": [
    "2 ** 3"
   ]
  },
  {
   "cell_type": "markdown",
   "metadata": {},
   "source": [
    "####  Objetos de tipo `float`.\n",
    "\n",
    "El tipo `float` se usa para representar números reales. Los números reales en Python incluyen la notación punto (`.`) para separar la parte entera de la parte decimal."
   ]
  },
  {
   "cell_type": "code",
   "execution_count": 26,
   "metadata": {},
   "outputs": [
    {
     "data": {
      "text/plain": [
       "43.897"
      ]
     },
     "execution_count": 26,
     "metadata": {},
     "output_type": "execute_result"
    }
   ],
   "source": [
    "43.897"
   ]
  },
  {
   "cell_type": "code",
   "execution_count": 27,
   "metadata": {},
   "outputs": [
    {
     "data": {
      "text/plain": [
       "22.88"
      ]
     },
     "execution_count": 27,
     "metadata": {},
     "output_type": "execute_result"
    }
   ],
   "source": [
    "45.76 / 2"
   ]
  },
  {
   "cell_type": "markdown",
   "metadata": {},
   "source": [
    "#### Objetos de tipo `bool`.\n",
    "\n"
   ]
  },
  {
   "cell_type": "markdown",
   "metadata": {},
   "source": [
    "El tipo `bool` se usa para representar las constantes booleanas `True` y `False`. "
   ]
  },
  {
   "cell_type": "code",
   "execution_count": 5,
   "metadata": {
    "ExecuteTime": {
     "end_time": "2019-01-03T11:25:23.209382Z",
     "start_time": "2019-01-03T11:25:23.205911Z"
    }
   },
   "outputs": [],
   "source": [
    "x = True  # cierto   = 1\n",
    "y = False  # falso   = 0"
   ]
  },
  {
   "cell_type": "markdown",
   "metadata": {},
   "source": [
    "#### El tipo `None`\n",
    "\n",
    "El tipo `None` representa un dato sin tipo. Ya hablaremos de él más adelante."
   ]
  },
  {
   "cell_type": "markdown",
   "metadata": {},
   "source": [
    "### Objetos no escalares\n",
    "\n",
    "Ejemplos de objetos no escalares son: Las listas, tuplas, diccionarios, etc. También todos aquellos creados por el usuario (usaremos el concepto de clases pra definirlos). \n"
   ]
  },
  {
   "cell_type": "markdown",
   "metadata": {},
   "source": [
    "### Operaciones \n",
    "\n",
    "Los objetos y los __operadores__ se combinan para formar __expresiones__. Cada expresión es evaluada por el intérprete de Python para producir un resultado de un cierto tipo. Este resultado se conoce como __valor__ de la expresión. \n",
    "\n",
    "Por ejemplo, la expresión 3 + 5 produce el valor 8 de tipo `int`."
   ]
  },
  {
   "cell_type": "code",
   "execution_count": 29,
   "metadata": {},
   "outputs": [
    {
     "data": {
      "text/plain": [
       "8"
      ]
     },
     "execution_count": 29,
     "metadata": {},
     "output_type": "execute_result"
    }
   ],
   "source": [
    "3 + 5"
   ]
  },
  {
   "cell_type": "code",
   "execution_count": 30,
   "metadata": {},
   "outputs": [
    {
     "data": {
      "text/plain": [
       "int"
      ]
     },
     "execution_count": 30,
     "metadata": {},
     "output_type": "execute_result"
    }
   ],
   "source": [
    "type(3+5)"
   ]
  },
  {
   "cell_type": "markdown",
   "metadata": {},
   "source": [
    "Por otro lado, la expresión `2.5 + 3.2` produce el resultado `5.7` de tipo `float`.\n"
   ]
  },
  {
   "cell_type": "code",
   "execution_count": 31,
   "metadata": {},
   "outputs": [
    {
     "data": {
      "text/plain": [
       "5.7"
      ]
     },
     "execution_count": 31,
     "metadata": {},
     "output_type": "execute_result"
    }
   ],
   "source": [
    "2.5 + 3.2 "
   ]
  },
  {
   "cell_type": "code",
   "execution_count": 32,
   "metadata": {},
   "outputs": [
    {
     "data": {
      "text/plain": [
       "float"
      ]
     },
     "execution_count": 32,
     "metadata": {},
     "output_type": "execute_result"
    }
   ],
   "source": [
    "type(2.5 + 3.2)"
   ]
  },
  {
   "cell_type": "markdown",
   "metadata": {},
   "source": [
    "La siguiente tabla describe los operadores disponibles para los tipos de objetos `int` y `float`. Podemos ver su aridad (número de operandos), asociatividad y precedencia.\n",
    "\n",
    "![Operadores](./images/Operadores.png \"Operadores\")\n",
    "\n",
    "__Ejemplos:__"
   ]
  },
  {
   "cell_type": "code",
   "execution_count": 33,
   "metadata": {},
   "outputs": [
    {
     "data": {
      "text/plain": [
       "8"
      ]
     },
     "execution_count": 33,
     "metadata": {},
     "output_type": "execute_result"
    }
   ],
   "source": [
    "# potencia \n",
    "2 ** 3      # 2 elevado a 3"
   ]
  },
  {
   "cell_type": "code",
   "execution_count": 34,
   "metadata": {},
   "outputs": [
    {
     "data": {
      "text/plain": [
       "1"
      ]
     },
     "execution_count": 34,
     "metadata": {},
     "output_type": "execute_result"
    }
   ],
   "source": [
    "# resto de la división entera (operación módulo)\n",
    "5 % 2"
   ]
  },
  {
   "cell_type": "code",
   "execution_count": 35,
   "metadata": {},
   "outputs": [
    {
     "data": {
      "text/plain": [
       "2"
      ]
     },
     "execution_count": 35,
     "metadata": {},
     "output_type": "execute_result"
    }
   ],
   "source": [
    "# división entera: El resultado es un número sin decimales\n",
    "5 // 2"
   ]
  },
  {
   "cell_type": "code",
   "execution_count": 36,
   "metadata": {},
   "outputs": [
    {
     "data": {
      "text/plain": [
       "2.5"
      ]
     },
     "execution_count": 36,
     "metadata": {},
     "output_type": "execute_result"
    }
   ],
   "source": [
    "# división : El resultado es un número sin decimales\n",
    "5 / 2"
   ]
  },
  {
   "cell_type": "markdown",
   "metadata": {},
   "source": [
    "Los operadores booleanos son los habituales, `and` para la conjunción, `or` para la disyunción y  `not` para la negación.\n",
    "\n",
    "![LPO](./images/lpo.png \"LPO\") \n",
    "\n",
    "__Ejemplos:__"
   ]
  },
  {
   "cell_type": "code",
   "execution_count": 37,
   "metadata": {},
   "outputs": [
    {
     "data": {
      "text/plain": [
       "True"
      ]
     },
     "execution_count": 37,
     "metadata": {},
     "output_type": "execute_result"
    }
   ],
   "source": [
    "True and True"
   ]
  },
  {
   "cell_type": "code",
   "execution_count": 39,
   "metadata": {},
   "outputs": [
    {
     "data": {
      "text/plain": [
       "True"
      ]
     },
     "execution_count": 39,
     "metadata": {},
     "output_type": "execute_result"
    }
   ],
   "source": [
    "False or True"
   ]
  },
  {
   "cell_type": "markdown",
   "metadata": {},
   "source": [
    "Python dispone de los operadores habituales de comparación. Los operadores de comparación son:\n",
    "\n",
    "* `==` igual a\n",
    "* `!=` distinto de \n",
    "* `<` menor que\n",
    "* `<=` menor o igual que\n",
    "* `>` mayor\n",
    "* `>=` mayor o igual\n",
    "\n",
    "Devolverán un valor booleano: `True` o `False`.\n",
    "\n",
    "__Ejemplos:__"
   ]
  },
  {
   "cell_type": "code",
   "execution_count": 40,
   "metadata": {},
   "outputs": [
    {
     "data": {
      "text/plain": [
       "False"
      ]
     },
     "execution_count": 40,
     "metadata": {},
     "output_type": "execute_result"
    }
   ],
   "source": [
    "3 > 9"
   ]
  },
  {
   "cell_type": "code",
   "execution_count": 41,
   "metadata": {},
   "outputs": [
    {
     "data": {
      "text/plain": [
       "False"
      ]
     },
     "execution_count": 41,
     "metadata": {},
     "output_type": "execute_result"
    }
   ],
   "source": [
    "5.7 == 57"
   ]
  },
  {
   "cell_type": "markdown",
   "metadata": {},
   "source": [
    "> El operador `==` se utiliza para comprobar si el valor de dos expresiones son iguales. \n",
    "> No confundir con el símbolo `=`, que se utiliza para asignación de valores y que veremos a continuación.\n"
   ]
  },
  {
   "cell_type": "markdown",
   "metadata": {},
   "source": [
    "## Variables y asignación"
   ]
  },
  {
   "cell_type": "markdown",
   "metadata": {},
   "source": [
    "En ocasiones deseamos que el ordenador recuerde ciertos valores para usarlos más adelante. Necesitamos introducir el concepto de __variable__. Las variables proporcionan una forma de dar nombre a los objetos. Una variable se puede ver como  una etiqueta que está conectada con un `valor`.\n",
    "Por ejemplo, supongamos que deseamos efectuar el cálculo del perímetro de un círculo de radio 5. Veamos el siguiente bloque de código:"
   ]
  },
  {
   "cell_type": "code",
   "execution_count": 1,
   "metadata": {
    "ExecuteTime": {
     "end_time": "2019-01-03T11:25:02.461934Z",
     "start_time": "2019-01-03T11:25:02.456975Z"
    }
   },
   "outputs": [],
   "source": [
    "# perímetro del círculo :2*pi*r  esta línea es un comentario que no se ejecuta\n",
    "\n",
    "r = 5            # en la varaible r almacenamos el valor del radi\n",
    "pi = 3.14        # en la variable pi almacenamos el valor de pi\n",
    "perimetro = 2 * pi * r      #perímetro"
   ]
  },
  {
   "cell_type": "markdown",
   "metadata": {},
   "source": [
    "* Las dos primeras instrucciones conectan el nombre `r` y `pi` a un objeto de tipo `int` y un objeto de tipo `float` respectivamente. \n",
    "* La tercera instrucción conecta el nombre `perimetro` al valor de la expresión `2 * pi * r `, que es un objeto de tipo `float`.\n",
    "\n",
    "En Python, __las variables son sólo nombres__, nada más. Tanto `pi`, `r` como `resultado` son variables.\n",
    "\n",
    "Como hemos podido ver en el bloque de código superior, la forma de conectar un nombre con un valor es mediante el operador `=`, denominado operador de __asignación__. \n",
    "\n"
   ]
  },
  {
   "cell_type": "code",
   "execution_count": 1,
   "metadata": {},
   "outputs": [
    {
     "data": {
      "text/plain": [
       "45"
      ]
     },
     "execution_count": 1,
     "metadata": {},
     "output_type": "execute_result"
    }
   ],
   "source": [
    "total = 5 * 9\n",
    "total"
   ]
  },
  {
   "cell_type": "markdown",
   "metadata": {},
   "source": [
    "## Funciones predefinidas en Python"
   ]
  },
  {
   "cell_type": "markdown",
   "metadata": {},
   "source": [
    "Las instrucciones  que puede ejecutar el intérprete de Python no son únicamente operaciones aritméticas y asignaciones. También puede ejecutar __funciones__.\n",
    "\n",
    "El siguiente bloque de código utiliza la función `print`:"
   ]
  },
  {
   "cell_type": "code",
   "execution_count": 45,
   "metadata": {},
   "outputs": [
    {
     "name": "stdout",
     "output_type": "stream",
     "text": [
      "Hola Mundo\n",
      "100\n",
      "200\n"
     ]
    }
   ],
   "source": [
    "print('Hola Mundo')\n",
    "area = 100\n",
    "print(area)\n",
    "print(area + 100)"
   ]
  },
  {
   "cell_type": "markdown",
   "metadata": {
    "ExecuteTime": {
     "end_time": "2019-01-03T11:25:07.468430Z",
     "start_time": "2019-01-03T11:25:07.463968Z"
    }
   },
   "source": [
    "Otras funciones son `max`, `min`, `abs`, `round`, que calculan el máximo, mínimo, valor absoluto, y redondeo respectivamente."
   ]
  },
  {
   "cell_type": "code",
   "execution_count": 3,
   "metadata": {
    "ExecuteTime": {
     "end_time": "2019-01-03T11:25:07.860098Z",
     "start_time": "2019-01-03T11:25:07.854643Z"
    }
   },
   "outputs": [
    {
     "data": {
      "text/plain": [
       "35"
      ]
     },
     "execution_count": 3,
     "metadata": {},
     "output_type": "execute_result"
    }
   ],
   "source": [
    "#función que calcula el máximo valor de una secuencia de valores\n",
    "max(1,5,34,35,3,5)   "
   ]
  },
  {
   "cell_type": "code",
   "execution_count": 4,
   "metadata": {
    "ExecuteTime": {
     "end_time": "2019-01-03T11:25:08.245561Z",
     "start_time": "2019-01-03T11:25:08.241100Z"
    }
   },
   "outputs": [
    {
     "data": {
      "text/plain": [
       "-2"
      ]
     },
     "execution_count": 4,
     "metadata": {},
     "output_type": "execute_result"
    }
   ],
   "source": [
    "min(1,5,-2,5.8,45)"
   ]
  },
  {
   "cell_type": "code",
   "execution_count": 5,
   "metadata": {},
   "outputs": [
    {
     "data": {
      "text/plain": [
       "45"
      ]
     },
     "execution_count": 5,
     "metadata": {},
     "output_type": "execute_result"
    }
   ],
   "source": [
    "abs(5-50)"
   ]
  },
  {
   "cell_type": "code",
   "execution_count": 6,
   "metadata": {},
   "outputs": [
    {
     "data": {
      "text/plain": [
       "3.2"
      ]
     },
     "execution_count": 6,
     "metadata": {},
     "output_type": "execute_result"
    }
   ],
   "source": [
    "round(3.1617, 1)"
   ]
  },
  {
   "cell_type": "markdown",
   "metadata": {},
   "source": [
    "## El tipo `str`"
   ]
  },
  {
   "cell_type": "markdown",
   "metadata": {},
   "source": [
    "Mucha gente usa Python por sus capacidades para el tratamiento y procesamiento de cadenas. Las cadenas de caracteres, el tipo `str` en Python,  se corresponde con el tipo String de otros lenguajes. Se trata de un tipo de objetos no escalar, con estructura interna. Los objetos de tipo `str` están compuestos por una secuencia de carateres.\n",
    "\n",
    "Como podemos ver en los siguientes ejemplos, las cadenas se definen mediante un texto encerrado entre comillas dobles o simples. "
   ]
  },
  {
   "cell_type": "code",
   "execution_count": 7,
   "metadata": {
    "ExecuteTime": {
     "end_time": "2019-01-03T11:25:33.382239Z",
     "start_time": "2019-01-03T11:25:33.377753Z"
    }
   },
   "outputs": [
    {
     "name": "stdout",
     "output_type": "stream",
     "text": [
      "Aprender a manejar Python\n",
      "Ser todo un experto\n"
     ]
    }
   ],
   "source": [
    "objetivo = \"Aprender a manejar Python\"\n",
    "meta = 'Ser todo un experto'\n",
    "print(objetivo)\n",
    "print(meta)"
   ]
  },
  {
   "cell_type": "markdown",
   "metadata": {},
   "source": [
    "Las cadenas se pueden comparar. El intérprete de Python utiliza el orden lexicográfico."
   ]
  },
  {
   "cell_type": "code",
   "execution_count": 8,
   "metadata": {
    "ExecuteTime": {
     "end_time": "2019-01-03T11:25:34.431957Z",
     "start_time": "2019-01-03T11:25:34.425510Z"
    }
   },
   "outputs": [
    {
     "data": {
      "text/plain": [
       "True"
      ]
     },
     "execution_count": 8,
     "metadata": {},
     "output_type": "execute_result"
    }
   ],
   "source": [
    "a = 'Ana María'\n",
    "b = \"Miguel Ángel Calderón\"\n",
    "a < b"
   ]
  },
  {
   "cell_type": "markdown",
   "metadata": {},
   "source": [
    "Las cadenas de caracteres se pueden concatenar con el operador `+`."
   ]
  },
  {
   "cell_type": "code",
   "execution_count": 10,
   "metadata": {
    "ExecuteTime": {
     "end_time": "2019-01-03T11:25:36.039709Z",
     "start_time": "2019-01-03T11:25:36.033756Z"
    }
   },
   "outputs": [
    {
     "data": {
      "text/plain": [
       "'Me he enamorado de Ana María'"
      ]
     },
     "execution_count": 10,
     "metadata": {},
     "output_type": "execute_result"
    }
   ],
   "source": [
    "a = 'Ana María'\n",
    "b = \"Me he enamorado de \" + a\n",
    "b"
   ]
  },
  {
   "cell_type": "markdown",
   "metadata": {},
   "source": [
    "El tipo `str` es uno de los tipos secuencia que existen en Python. Otros tipos secuencia son : `list` para representar listas y  `tuple` para representar tuplas. Ambos tipos los veremos más adelante.\n",
    "\n",
    "Los objetos de estos tipos comparten una serie de operaciones.\n",
    "\n",
    "* `len`: Para conocer el tamaño de una cadena, se utiliza la función `len` como se muestra a continuación:"
   ]
  },
  {
   "cell_type": "code",
   "execution_count": 9,
   "metadata": {
    "ExecuteTime": {
     "end_time": "2019-01-03T11:25:38.493722Z",
     "start_time": "2019-01-03T11:25:38.488763Z"
    }
   },
   "outputs": [
    {
     "data": {
      "text/plain": [
       "3"
      ]
     },
     "execution_count": 9,
     "metadata": {},
     "output_type": "execute_result"
    }
   ],
   "source": [
    "len('ana')"
   ]
  },
  {
   "cell_type": "markdown",
   "metadata": {},
   "source": [
    "* Indexación: Acceso a posiciones de una cadena de caracteres. La cadenas  no son nada más que secuencias de caracteres. Podemos acceder mediante indexación, es decir, usando la notación de corchetes `[ ]` e indicando la posición a la que queremos acceder. \n",
    "\n",
    "> Ojo, en Python la indexación empieza en 0.\n",
    "\n",
    "<img src=\"./images/indexcadenas.png\" alt=\"indexarcadenas\" style=\"width: 500px;\"/>"
   ]
  },
  {
   "cell_type": "code",
   "execution_count": 11,
   "metadata": {},
   "outputs": [
    {
     "data": {
      "text/plain": [
       "'D'"
      ]
     },
     "execution_count": 11,
     "metadata": {},
     "output_type": "execute_result"
    }
   ],
   "source": [
    "c = 'FRIDAY'\n",
    "c[3]"
   ]
  },
  {
   "cell_type": "code",
   "execution_count": 84,
   "metadata": {},
   "outputs": [
    {
     "data": {
      "text/plain": [
       "'F'"
      ]
     },
     "execution_count": 84,
     "metadata": {},
     "output_type": "execute_result"
    }
   ],
   "source": [
    "c = 'FRIDAY'\n",
    "c[0]"
   ]
  },
  {
   "cell_type": "markdown",
   "metadata": {},
   "source": [
    "### Caracteres especiales"
   ]
  },
  {
   "cell_type": "code",
   "execution_count": 85,
   "metadata": {
    "ExecuteTime": {
     "end_time": "2019-01-03T11:25:39.829767Z",
     "start_time": "2019-01-03T11:25:39.824839Z"
    }
   },
   "outputs": [
    {
     "data": {
      "text/plain": [
       "'Las \"comillas\" son caracteres epeciales'"
      ]
     },
     "execution_count": 85,
     "metadata": {},
     "output_type": "execute_result"
    }
   ],
   "source": [
    "especial = \"Las \\\"comillas\\\" son caracteres epeciales\"\n",
    "especial"
   ]
  },
  {
   "cell_type": "code",
   "execution_count": 86,
   "metadata": {
    "ExecuteTime": {
     "end_time": "2019-01-03T11:25:40.305571Z",
     "start_time": "2019-01-03T11:25:40.299620Z"
    }
   },
   "outputs": [
    {
     "name": "stdout",
     "output_type": "stream",
     "text": [
      "Hay otros caracteres especiales como el salto de línea (\\n).\n",
      "Sirve para representar el fín de línea en ficheros.\n"
     ]
    }
   ],
   "source": [
    "especial = \"Hay otros caracteres especiales como el salto de línea (\\\\n).\\nSirve para representar el fín de línea en ficheros.\"\n",
    "print(especial)"
   ]
  },
  {
   "cell_type": "markdown",
   "metadata": {},
   "source": [
    "### Formateando cadenas\n",
    "\n",
    "El habitual cuando se trabaja con texto, tener la necesidad de construir una nueva cadena de caracteres a partir de otras más pequeñas. Una opción, como hemos visto anteriormente, es usar el operador `+`."
   ]
  },
  {
   "cell_type": "code",
   "execution_count": 87,
   "metadata": {},
   "outputs": [
    {
     "data": {
      "text/plain": [
       "'Importe total: 100'"
      ]
     },
     "execution_count": 87,
     "metadata": {},
     "output_type": "execute_result"
    }
   ],
   "source": [
    "texto = 'Importe total: '  + '100'\n",
    "texto"
   ]
  },
  {
   "cell_type": "markdown",
   "metadata": {},
   "source": [
    "Sin embargo hay otras formas de contruir cadenas:\n",
    "\n",
    "#### Usando el comodín `%`\n",
    "\n",
    "El uso del símbolo % seguido de uno o mas caracteres de formato permiten controlar con precisión la construcción de cadenas. Veamos el siguiente fragamento de código:"
   ]
  },
  {
   "cell_type": "code",
   "execution_count": 106,
   "metadata": {},
   "outputs": [
    {
     "data": {
      "text/plain": [
       "'Cambio: 1 dolar son 0.93 euros'"
      ]
     },
     "execution_count": 106,
     "metadata": {},
     "output_type": "execute_result"
    }
   ],
   "source": [
    "texto = \"Cambio: %d %s son %.2f %s\"\n",
    "texto % (1, \"dolar\" , 0.926666666 , \"euros\")"
   ]
  },
  {
   "cell_type": "markdown",
   "metadata": {},
   "source": [
    ">  __Operadores de formato__\n",
    "\n",
    ">  `:d` : ha de sustituirse por un número\n",
    "\n",
    ">  `:s` : ha de sustituirse por un string\n",
    "\n",
    ">  `:.2f` : ha de sustituirse por un número con 2 decimales\n",
    "\n",
    ">  `:<` : alineación a la derecha"
   ]
  },
  {
   "cell_type": "markdown",
   "metadata": {},
   "source": [
    "#### Operación `format`.\n",
    "\n",
    "Otra opción que nos aporta más flexibilidas es usa la función `format`, que es un método de la clase `str`."
   ]
  },
  {
   "cell_type": "code",
   "execution_count": 12,
   "metadata": {},
   "outputs": [
    {
     "data": {
      "text/plain": [
       "'Tu nombre es Ana y tienes 18 años.'"
      ]
     },
     "execution_count": 12,
     "metadata": {},
     "output_type": "execute_result"
    }
   ],
   "source": [
    "texto = \"Tu nombre es {} y tienes {} años.\".format('Ana', 18)\n",
    "texto"
   ]
  },
  {
   "cell_type": "code",
   "execution_count": 13,
   "metadata": {},
   "outputs": [
    {
     "data": {
      "text/plain": [
       "'Tienes 18 años y te llamas Ana.'"
      ]
     },
     "execution_count": 13,
     "metadata": {},
     "output_type": "execute_result"
    }
   ],
   "source": [
    "texto = \"Tienes {1} años y te llamas {0}.\".format('Ana', 18)\n",
    "texto"
   ]
  },
  {
   "cell_type": "code",
   "execution_count": 14,
   "metadata": {},
   "outputs": [
    {
     "data": {
      "text/plain": [
       "'Hola Ana. Tu nombre es Ana. Mides 1.75 metros.'"
      ]
     },
     "execution_count": 14,
     "metadata": {},
     "output_type": "execute_result"
    }
   ],
   "source": [
    "texto = \"Hola {name}. Tu nombre es {name}. Mides {altura} metros.\".format(name='Ana', altura=1.75)\n",
    "texto "
   ]
  },
  {
   "cell_type": "markdown",
   "metadata": {},
   "source": [
    "Más ejemplos de uso:"
   ]
  },
  {
   "cell_type": "code",
   "execution_count": 15,
   "metadata": {},
   "outputs": [
    {
     "data": {
      "text/plain": [
       "'El área de un círculo de radio 4.323343 es 58.720571415850905'"
      ]
     },
     "execution_count": 15,
     "metadata": {},
     "output_type": "execute_result"
    }
   ],
   "source": [
    "radio = 4.323343\n",
    "pi = 3.1416\n",
    "area = pi*radio**2\n",
    "\n",
    "texto = 'El área de un círculo de radio {} es {}'.format(radio, area)\n",
    "texto"
   ]
  },
  {
   "cell_type": "markdown",
   "metadata": {},
   "source": [
    "#### `f-strings`\n",
    "\n",
    "En la versión de Python 3.6 aparece otra forma más sencilla. Se conoce como los __f-strings__:    "
   ]
  },
  {
   "cell_type": "code",
   "execution_count": 12,
   "metadata": {},
   "outputs": [
    {
     "data": {
      "text/plain": [
       "'El área de un círculo de radio 4.323343 es 58.720571415850905'"
      ]
     },
     "execution_count": 12,
     "metadata": {},
     "output_type": "execute_result"
    }
   ],
   "source": [
    "radio = 4.323343\n",
    "pi = 3.1416\n",
    "area = pi * radio ** 2\n",
    "\n",
    "\n",
    "texto = f'El área de un círculo de radio {radio} es {area}'\n",
    "texto"
   ]
  },
  {
   "cell_type": "markdown",
   "metadata": {},
   "source": [
    "También podemos usar modificadores de formato dentro de las llaves indicar un formato concreto, por ejemplo para ajustar los decimales:"
   ]
  },
  {
   "cell_type": "code",
   "execution_count": 13,
   "metadata": {},
   "outputs": [
    {
     "data": {
      "text/plain": [
       "'El área de un círculo de radio 4.32 es 58.7'"
      ]
     },
     "execution_count": 13,
     "metadata": {},
     "output_type": "execute_result"
    }
   ],
   "source": [
    "texto = f'El área de un círculo de radio {radio:.2f} es {area:.1f}'\n",
    "texto"
   ]
  },
  {
   "cell_type": "code",
   "execution_count": 18,
   "metadata": {},
   "outputs": [
    {
     "data": {
      "text/plain": [
       "'El área de un círculo de radio 4.323343 es 58.7'"
      ]
     },
     "execution_count": 18,
     "metadata": {},
     "output_type": "execute_result"
    }
   ],
   "source": [
    "radio = 4.323343\n",
    "pi = 3.1416\n",
    "area = pi*radio**2\n",
    "texto = f'El área de un círculo de radio {radio} es {area:.1f}'\n",
    "texto"
   ]
  },
  {
   "cell_type": "code",
   "execution_count": 16,
   "metadata": {},
   "outputs": [
    {
     "name": "stdout",
     "output_type": "stream",
     "text": [
      "Importe mes de Enero:                                   15248.12\n",
      "Importe mes de Febrero:                                    12.45\n"
     ]
    }
   ],
   "source": [
    "importe1 = 15248.12\n",
    "importe2 = 12.4545\n",
    "texto1 = f'Importe mes de Enero:   {importe1:>40.2f}'\n",
    "texto2 = f'Importe mes de Febrero: {importe2:>40.2f}'\n",
    "print(texto1)\n",
    "print(texto2)"
   ]
  },
  {
   "cell_type": "markdown",
   "metadata": {},
   "source": [
    "##  Conversión de tipos"
   ]
  },
  {
   "cell_type": "markdown",
   "metadata": {},
   "source": [
    "Python permite __convertir el resultado de una expresión__ a tipos  `int, float, bool, str`  mediante funciones con el mismo nombre:"
   ]
  },
  {
   "cell_type": "code",
   "execution_count": 18,
   "metadata": {
    "ExecuteTime": {
     "end_time": "2019-01-03T11:25:20.532305Z",
     "start_time": "2019-01-03T11:25:20.527345Z"
    }
   },
   "outputs": [
    {
     "data": {
      "text/plain": [
       "18"
      ]
     },
     "execution_count": 18,
     "metadata": {},
     "output_type": "execute_result"
    }
   ],
   "source": [
    "v = int(18.6)\n",
    "v"
   ]
  },
  {
   "cell_type": "code",
   "execution_count": 97,
   "metadata": {
    "ExecuteTime": {
     "end_time": "2019-01-03T11:25:20.908492Z",
     "start_time": "2019-01-03T11:25:20.903523Z"
    }
   },
   "outputs": [
    {
     "data": {
      "text/plain": [
       "88.0"
      ]
     },
     "execution_count": 97,
     "metadata": {},
     "output_type": "execute_result"
    }
   ],
   "source": [
    "float( 88 * 8 )"
   ]
  },
  {
   "cell_type": "code",
   "execution_count": 98,
   "metadata": {
    "ExecuteTime": {
     "end_time": "2019-01-03T11:25:22.045663Z",
     "start_time": "2019-01-03T11:25:22.039217Z"
    }
   },
   "outputs": [
    {
     "data": {
      "text/plain": [
       "'256568'"
      ]
     },
     "execution_count": 98,
     "metadata": {},
     "output_type": "execute_result"
    }
   ],
   "source": [
    "str ( 256568 )    # convierte un entero a una cadena de caracteres"
   ]
  },
  {
   "cell_type": "code",
   "execution_count": 99,
   "metadata": {
    "ExecuteTime": {
     "end_time": "2019-01-03T11:25:22.045663Z",
     "start_time": "2019-01-03T11:25:22.039217Z"
    },
    "scrolled": true
   },
   "outputs": [
    {
     "data": {
      "text/plain": [
       "'256568.89'"
      ]
     },
     "execution_count": 99,
     "metadata": {},
     "output_type": "execute_result"
    }
   ],
   "source": [
    "str ( 256568.89 )    # convierte un entero a una cadena de caracteres"
   ]
  },
  {
   "cell_type": "code",
   "execution_count": 100,
   "metadata": {
    "scrolled": true
   },
   "outputs": [
    {
     "data": {
      "text/plain": [
       "78.6"
      ]
     },
     "execution_count": 100,
     "metadata": {},
     "output_type": "execute_result"
    }
   ],
   "source": [
    "float('78.6')"
   ]
  },
  {
   "cell_type": "markdown",
   "metadata": {},
   "source": [
    "## Referencias\n",
    "\n",
    "* [Tutorial de Python, Guido van Rossum](https://argentinaenpython.com/quiero-aprender-python/TutorialPython3.pdf)\n",
    "* [Guía de estilo de código Python](https://www.python.org/dev/peps/pep-0008/)\n",
    "* [Operadores de formato](https://www.w3schools.com/python/ref_string_format.asp)\n"
   ]
  },
  {
   "cell_type": "markdown",
   "metadata": {},
   "source": [
    "---"
   ]
  }
 ],
 "metadata": {
  "anaconda-cloud": {},
  "hide_input": false,
  "kernelspec": {
   "display_name": "Python 3 (ipykernel)",
   "language": "python",
   "name": "python3"
  },
  "language_info": {
   "codemirror_mode": {
    "name": "ipython",
    "version": 3
   },
   "file_extension": ".py",
   "mimetype": "text/x-python",
   "name": "python",
   "nbconvert_exporter": "python",
   "pygments_lexer": "ipython3",
   "version": "3.11.1"
  },
  "nbTranslate": {
   "displayLangs": [
    "en",
    "es"
   ],
   "hotkey": "alt-t",
   "langInMainMenu": true,
   "sourceLang": "es",
   "targetLang": "en",
   "useGoogleTranslate": true
  },
  "toc": {
   "base_numbering": 1,
   "nav_menu": {},
   "number_sections": true,
   "sideBar": true,
   "skip_h1_title": false,
   "title_cell": "Table of Contents",
   "title_sidebar": "Contents",
   "toc_cell": false,
   "toc_position": {
    "height": "calc(100% - 180px)",
    "left": "10px",
    "top": "150px",
    "width": "230.833px"
   },
   "toc_section_display": true,
   "toc_window_display": false
  }
 },
 "nbformat": 4,
 "nbformat_minor": 1
}
