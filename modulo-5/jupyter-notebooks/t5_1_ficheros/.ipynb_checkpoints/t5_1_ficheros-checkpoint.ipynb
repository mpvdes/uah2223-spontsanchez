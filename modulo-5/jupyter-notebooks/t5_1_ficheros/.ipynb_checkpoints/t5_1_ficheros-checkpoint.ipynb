{
 "cells": [
  {
   "cell_type": "markdown",
   "metadata": {},
   "source": [
    "# Ficheros\n",
    "\n",
    "Esta sección muestra cómo se lee y escribe contenido en ficheros. También algunas operaciones para la gestión de carpetas."
   ]
  },
  {
   "cell_type": "markdown",
   "metadata": {},
   "source": [
    "## Escritura: Open en modo escritura (w)"
   ]
  },
  {
   "cell_type": "markdown",
   "metadata": {},
   "source": [
    "En Python, para abrir un fichero usaremos la función `open`. Dicha función recibe como primer parámetro la ruta donde se encuentra el nombre del archivo a abrir.\n",
    "\n",
    "__modos:__\n",
    "\n",
    "Por defecto, si no indicamos nada, el fichero se abre en modo lectura (`mode= \"r\"`). Si queremos abrir un fichero en modo escritura, hay que indicarlo como segundo parámetro de la función `open` (`mode= \"w\"`).\n",
    "Además, a veces puede ser interesante abrir un fichero para añadir (`append`) información (`mode= \"a\"`)"
   ]
  },
  {
   "cell_type": "code",
   "execution_count": 2,
   "metadata": {},
   "outputs": [],
   "source": [
    "f = open('./nuevo.txt', mode = 'w')\n",
    "\n",
    "salto ='\\n'    # esto es un salto de linea\n",
    "\n",
    "f.write('1 21 13 74' + salto)\n",
    "f.write('5 62 34 41' + salto)\n",
    "f.write('1 12 33 14' + salto)\n",
    "f.write('1 42 53 29' + salto)\n",
    "f.write(str(4555555))\n",
    "\n",
    "f.close()"
   ]
  },
  {
   "cell_type": "code",
   "execution_count": 3,
   "metadata": {},
   "outputs": [],
   "source": [
    "f = open('./nuevo.txt', mode = 'a')\n",
    "\n",
    "salto ='\\n'    # esto es un salto de linea\n",
    "\n",
    "f.write(salto)\n",
    "f.write('5 62 34 413452345' + salto)\n",
    "f.write('1 12 33 14345' + salto)\n",
    "f.write('1 42 53 2923452' + salto)\n",
    "f.write(str(4555234523452355))\n",
    "\n",
    "f.close()"
   ]
  },
  {
   "cell_type": "markdown",
   "metadata": {},
   "source": [
    "Al terminar de trabajar con un fichero, es recomendable cerrarlo ya que lo que se haya escrito no se guardará realmente hasta no cerrar el fichero."
   ]
  },
  {
   "cell_type": "markdown",
   "metadata": {},
   "source": [
    "## Open en modo lectura (r)\n",
    "\n",
    "\n",
    "Asumimos que en mismo directorio donde se ejecuta el programa que contiene la instrucción open\n",
    "se encuentra un fichero del sistema de directorios que se llama `texto.txt`."
   ]
  },
  {
   "cell_type": "code",
   "execution_count": 59,
   "metadata": {},
   "outputs": [],
   "source": [
    "fichero = open(\"./nuevo.txt\")"
   ]
  },
  {
   "cell_type": "markdown",
   "metadata": {},
   "source": [
    "La función `open`  abrirá el fichero con el nombre indicado. En este caso el fichero __nuevo.txt__. Si no tiene éxito, se lanzará un error.\n",
    "Si se ha podido abrir el fichero correctamente, la variable __fichero__ nos permitirá manipularlo."
   ]
  },
  {
   "cell_type": "markdown",
   "metadata": {},
   "source": [
    "Si la función `open` lanza un  error, es posible que el fichero no se encuentre en la ruta indicada por el argumento. "
   ]
  },
  {
   "cell_type": "markdown",
   "metadata": {},
   "source": [
    "La operación más sencilla a realizar sobre un archivo es leer su contenido. Para procesarlo línea por línea, es posible hacerlo de la siguiente forma:"
   ]
  },
  {
   "cell_type": "code",
   "execution_count": 60,
   "metadata": {},
   "outputs": [
    {
     "name": "stdout",
     "output_type": "stream",
     "text": [
      "1 21 13 74\n",
      "\n",
      "5 62 34 41\n",
      "\n",
      "1 12 33 14\n",
      "\n",
      "1 42 53 29\n",
      "\n",
      "4555555\n",
      "\n",
      "5 62 34 413452345\n",
      "\n",
      "1 12 33 14345\n",
      "\n",
      "1 42 53 2923452\n",
      "\n",
      "4555234523452355\n"
     ]
    }
   ],
   "source": [
    "fichero = open(\"./nuevo.txt\")\n",
    "for linea in fichero:\n",
    "    print(linea)"
   ]
  },
  {
   "cell_type": "markdown",
   "metadata": {},
   "source": [
    "Es posible, además, obtener todas las líneas del archivo utilizando una sola llamada a la función `readlines`. Esta función devuelve una lista de líneas. "
   ]
  },
  {
   "cell_type": "code",
   "execution_count": 61,
   "metadata": {},
   "outputs": [
    {
     "data": {
      "text/plain": [
       "['1 21 13 74\\n',\n",
       " '5 62 34 41\\n',\n",
       " '1 12 33 14\\n',\n",
       " '1 42 53 29\\n',\n",
       " '4555555\\n',\n",
       " '5 62 34 413452345\\n',\n",
       " '1 12 33 14345\\n',\n",
       " '1 42 53 2923452\\n',\n",
       " '4555234523452355']"
      ]
     },
     "execution_count": 61,
     "metadata": {},
     "output_type": "execute_result"
    }
   ],
   "source": [
    "fichero = open(\"./nuevo.txt\")\n",
    "m = fichero.readlines()\n",
    "m"
   ]
  },
  {
   "cell_type": "markdown",
   "metadata": {},
   "source": [
    "En este caso, la variable `líneas` tendrá una lista de cadenas con todas las líneas del fichero.\n",
    "\n",
    "Es importante tener en cuenta que cuando se utilizan funciones como `archivo.readlines()`, se está cargando en memoria el fichero completo. Siempre que una instrucción cargue un fichero completo debe tenerse cuidado de utilizarla sólo con ficheros pequeños, ya que de otro modo podría agotarse la memoria.\n",
    "\n",
    "En el siguiente ejemplo, se accede a la primera línea del fichero y posteriormente se eliminan los saltos de línea mediante la función de cadenas `strip`."
   ]
  },
  {
   "cell_type": "code",
   "execution_count": 62,
   "metadata": {},
   "outputs": [
    {
     "data": {
      "text/plain": [
       "['1 21 13 74',\n",
       " '5 62 34 41',\n",
       " '1 12 33 14',\n",
       " '1 42 53 29',\n",
       " '4555555',\n",
       " '5 62 34 413452345',\n",
       " '1 12 33 14345',\n",
       " '1 42 53 2923452',\n",
       " '4555234523452355']"
      ]
     },
     "execution_count": 62,
     "metadata": {},
     "output_type": "execute_result"
    }
   ],
   "source": [
    "fichero = open(\"./nuevo.txt\")\n",
    "\n",
    "lista = []\n",
    "for l in fichero:\n",
    "    lista.append( l.strip() )\n",
    "lista"
   ]
  },
  {
   "cell_type": "markdown",
   "metadata": {},
   "source": [
    "## Open en modo  escritura posicionándose al final del archivo (a)"
   ]
  },
  {
   "cell_type": "markdown",
   "metadata": {},
   "source": [
    "En este caso se crea el fichero, si no existe, pero en caso de que exista se posiciona al final, manteniendo el contenido original."
   ]
  },
  {
   "cell_type": "code",
   "execution_count": 63,
   "metadata": {},
   "outputs": [
    {
     "data": {
      "text/plain": [
       "16"
      ]
     },
     "execution_count": 63,
     "metadata": {},
     "output_type": "execute_result"
    }
   ],
   "source": [
    "fichero = open('./nuevo.txt', 'a')\n",
    "fichero.write('Este es el final')"
   ]
  },
  {
   "cell_type": "code",
   "execution_count": 64,
   "metadata": {},
   "outputs": [
    {
     "data": {
      "text/plain": [
       "['1 21 13 74\\n',\n",
       " '5 62 34 41\\n',\n",
       " '1 12 33 14\\n',\n",
       " '1 42 53 29\\n',\n",
       " '4555555\\n',\n",
       " '5 62 34 413452345\\n',\n",
       " '1 12 33 14345\\n',\n",
       " '1 42 53 2923452\\n',\n",
       " '4555234523452355']"
      ]
     },
     "execution_count": 64,
     "metadata": {},
     "output_type": "execute_result"
    }
   ],
   "source": [
    "open('./nuevo.txt').readlines()"
   ]
  },
  {
   "cell_type": "markdown",
   "metadata": {},
   "source": [
    "## Gestión de archivos\n",
    "\n",
    "El módulo  `os` de Python nos proporciona ciertas utilidades para la gestión e archivos. Para usarlo, tenemos que importarlo en el notebook."
   ]
  },
  {
   "cell_type": "code",
   "execution_count": 5,
   "metadata": {},
   "outputs": [],
   "source": [
    "import os"
   ]
  },
  {
   "cell_type": "markdown",
   "metadata": {},
   "source": [
    "A continuación mostramos algunos ejemplo de lo que podemos hacer usando este módulo."
   ]
  },
  {
   "cell_type": "markdown",
   "metadata": {},
   "source": [
    "### Consultar el path de la carpeta de trabajo (directorio)"
   ]
  },
  {
   "cell_type": "code",
   "execution_count": 6,
   "metadata": {},
   "outputs": [
    {
     "data": {
      "text/plain": [
       "'E:\\\\Documentos(E)\\\\Docencia BigData\\\\UAH_master_periodismo\\\\material_T6\\\\Tema_6'"
      ]
     },
     "execution_count": 6,
     "metadata": {},
     "output_type": "execute_result"
    }
   ],
   "source": [
    "os.getcwd()"
   ]
  },
  {
   "cell_type": "code",
   "execution_count": 7,
   "metadata": {},
   "outputs": [
    {
     "data": {
      "text/plain": [
       "'E:\\\\Documentos(E)\\\\Docencia BigData\\\\UAH_master_periodismo\\\\material_T6\\\\Tema_6'"
      ]
     },
     "execution_count": 7,
     "metadata": {},
     "output_type": "execute_result"
    }
   ],
   "source": [
    "%pwd"
   ]
  },
  {
   "cell_type": "markdown",
   "metadata": {},
   "source": [
    "### Listar el contenido de una carpeta\n",
    "\n",
    "#### Contenido de la carpeta actual"
   ]
  },
  {
   "cell_type": "code",
   "execution_count": 8,
   "metadata": {},
   "outputs": [
    {
     "data": {
      "text/plain": [
       "['.ipynb_checkpoints',\n",
       " 'datos',\n",
       " 'images',\n",
       " 'nuevo.txt',\n",
       " 't17_files.html',\n",
       " 't5_ficheros.ipynb']"
      ]
     },
     "execution_count": 8,
     "metadata": {},
     "output_type": "execute_result"
    }
   ],
   "source": [
    "lista_files = os.listdir()\n",
    "lista_files"
   ]
  },
  {
   "cell_type": "markdown",
   "metadata": {},
   "source": [
    "#### Contenido de una carpeta concreta"
   ]
  },
  {
   "cell_type": "code",
   "execution_count": 9,
   "metadata": {},
   "outputs": [
    {
     "name": "stdout",
     "output_type": "stream",
     "text": [
      "E:\\Documentos(E)\\Docencia BigData\\UAH_master_periodismo\\material_T6\\Tema_6\\datos\n"
     ]
    },
    {
     "data": {
      "text/plain": [
       "['contaminacion.csv',\n",
       " 'dataset.txt',\n",
       " 'ejemplo.txt',\n",
       " 'facturas',\n",
       " 'facturas.txt',\n",
       " 'nuevo.txt',\n",
       " 'trafico']"
      ]
     },
     "execution_count": 9,
     "metadata": {},
     "output_type": "execute_result"
    }
   ],
   "source": [
    "path = os.getcwd() + '\\\\datos'\n",
    "print(path)\n",
    "os.listdir(path)"
   ]
  },
  {
   "cell_type": "markdown",
   "metadata": {},
   "source": [
    "#### Lista de ficheros de un cierto tipo (no carpetas) contenidos en una carpeta"
   ]
  },
  {
   "cell_type": "code",
   "execution_count": 10,
   "metadata": {},
   "outputs": [
    {
     "name": "stdout",
     "output_type": "stream",
     "text": [
      "E:\\Documentos(E)\\Docencia BigData\\UAH_master_periodismo\\material_T6\\Tema_6\\datos\n"
     ]
    },
    {
     "data": {
      "text/plain": [
       "['contaminacion.csv']"
      ]
     },
     "execution_count": 10,
     "metadata": {},
     "output_type": "execute_result"
    }
   ],
   "source": [
    "path = os.getcwd()+ '\\\\datos'\n",
    "print(path)\n",
    "files = [ f for f in os.listdir(path) if f[-4:] == '.csv']\n",
    "files"
   ]
  },
  {
   "cell_type": "markdown",
   "metadata": {},
   "source": [
    "### Crear una nueva carpeta"
   ]
  },
  {
   "cell_type": "code",
   "execution_count": 11,
   "metadata": {},
   "outputs": [
    {
     "name": "stdout",
     "output_type": "stream",
     "text": [
      " El volumen de la unidad E es DATOS\n",
      " El n£mero de serie del volumen es: 7C12-F937\n",
      "\n",
      " Directorio de E:\\Documentos(E)\\Docencia BigData\\UAH_master_periodismo\\material_T6\\Tema_6\n",
      "\n",
      "07/03/2023  12:56    <DIR>          .\n",
      "07/03/2023  12:56    <DIR>          ..\n",
      "07/03/2023  12:50    <DIR>          .ipynb_checkpoints\n",
      "22/02/2022  15:36    <DIR>          datos\n",
      "21/02/2022  10:23    <DIR>          images\n",
      "07/03/2023  12:56    <DIR>          new_carpeta2\n",
      "07/03/2023  12:50               124 nuevo.txt\n",
      "22/02/2022  15:41           304.951 t17_files.html\n",
      "07/03/2023  12:55            23.337 t5_ficheros.ipynb\n",
      "               3 archivos        328.412 bytes\n",
      "               6 dirs  292.121.870.336 bytes libres\n"
     ]
    }
   ],
   "source": [
    "# nueva carpeta en el directorio actual\n",
    "os.makedirs(\"new_carpeta2\")\n",
    "%ls"
   ]
  },
  {
   "cell_type": "code",
   "execution_count": 12,
   "metadata": {},
   "outputs": [
    {
     "name": "stdout",
     "output_type": "stream",
     "text": [
      " El volumen de la unidad E es DATOS\n",
      " El n£mero de serie del volumen es: 7C12-F937\n",
      "\n",
      " Directorio de E:\\Documentos(E)\\Docencia BigData\\UAH_master_periodismo\\material_T6\\Tema_6\n",
      "\n",
      "07/03/2023  12:56    <DIR>          .\n",
      "07/03/2023  12:56    <DIR>          ..\n",
      "07/03/2023  12:50    <DIR>          .ipynb_checkpoints\n",
      "22/02/2022  15:36    <DIR>          datos\n",
      "21/02/2022  10:23    <DIR>          images\n",
      "07/03/2023  12:56    <DIR>          new_carpeta2\n",
      "07/03/2023  12:50               124 nuevo.txt\n",
      "07/03/2023  12:56    <DIR>          sensor2023_03_07_12_56_47\n",
      "22/02/2022  15:41           304.951 t17_files.html\n",
      "07/03/2023  12:55            23.337 t5_ficheros.ipynb\n",
      "               3 archivos        328.412 bytes\n",
      "               7 dirs  292.121.870.336 bytes libres\n"
     ]
    }
   ],
   "source": [
    "# nueva carpeta cuyo nombre depende de la hora del sistema\n",
    "from datetime import datetime\n",
    "name = \"sensor\" + datetime.now().strftime(\"%Y_%m_%d_%H_%M_%S\")\n",
    "os.makedirs(name)\n",
    "%ls"
   ]
  },
  {
   "cell_type": "markdown",
   "metadata": {},
   "source": [
    "## Gestión de ficheros con `pathlib`\n",
    "\n",
    "La librería `pathlib` proporciona varias funciones de manipulación de rutas. \n",
    "\n",
    "En el siguiente ejemplo, mostramos cómo imprimir las rutas completas de los elementos de una carpeta:"
   ]
  },
  {
   "cell_type": "code",
   "execution_count": 13,
   "metadata": {},
   "outputs": [
    {
     "name": "stdout",
     "output_type": "stream",
     "text": [
      "File: contaminacion.csv,\n",
      "Ruta: E:\\Documentos(E)\\Docencia BigData\\UAH_master_periodismo\\material_T6\\Tema_6\\datos\\contaminacion.csv\n",
      " ---\n",
      "File: dataset.txt,\n",
      "Ruta: E:\\Documentos(E)\\Docencia BigData\\UAH_master_periodismo\\material_T6\\Tema_6\\datos\\dataset.txt\n",
      " ---\n",
      "File: ejemplo.txt,\n",
      "Ruta: E:\\Documentos(E)\\Docencia BigData\\UAH_master_periodismo\\material_T6\\Tema_6\\datos\\ejemplo.txt\n",
      " ---\n",
      "File: facturas,\n",
      "Ruta: E:\\Documentos(E)\\Docencia BigData\\UAH_master_periodismo\\material_T6\\Tema_6\\datos\\facturas\n",
      " ---\n",
      "File: facturas.txt,\n",
      "Ruta: E:\\Documentos(E)\\Docencia BigData\\UAH_master_periodismo\\material_T6\\Tema_6\\datos\\facturas.txt\n",
      " ---\n",
      "File: nuevo.txt,\n",
      "Ruta: E:\\Documentos(E)\\Docencia BigData\\UAH_master_periodismo\\material_T6\\Tema_6\\datos\\nuevo.txt\n",
      " ---\n",
      "File: trafico,\n",
      "Ruta: E:\\Documentos(E)\\Docencia BigData\\UAH_master_periodismo\\material_T6\\Tema_6\\datos\\trafico\n",
      " ---\n"
     ]
    }
   ],
   "source": [
    "import pathlib\n",
    "wd = os.getcwd() + '\\\\datos'\n",
    "\n",
    "directorio = pathlib.Path(wd)\n",
    "for fichero in directorio.iterdir():\n",
    "    print(f'File: {fichero.name},\\nRuta: {fichero}\\n', '---')\n"
   ]
  },
  {
   "cell_type": "markdown",
   "metadata": {},
   "source": [
    "Si queremos crear una lista que contenga solo los ficheros que haya en una carpeta, podemos usar la función `is_file()`:"
   ]
  },
  {
   "cell_type": "code",
   "execution_count": 73,
   "metadata": {},
   "outputs": [
    {
     "data": {
      "text/plain": [
       "[WindowsPath('E:/Documentos(E)/Docencia BigData/UAH_master_periodismo/material_T6/Tema_6/datos/contaminacion.csv'),\n",
       " WindowsPath('E:/Documentos(E)/Docencia BigData/UAH_master_periodismo/material_T6/Tema_6/datos/dataset.txt'),\n",
       " WindowsPath('E:/Documentos(E)/Docencia BigData/UAH_master_periodismo/material_T6/Tema_6/datos/ejemplo.txt'),\n",
       " WindowsPath('E:/Documentos(E)/Docencia BigData/UAH_master_periodismo/material_T6/Tema_6/datos/facturas.txt'),\n",
       " WindowsPath('E:/Documentos(E)/Docencia BigData/UAH_master_periodismo/material_T6/Tema_6/datos/nuevo.txt')]"
      ]
     },
     "execution_count": 73,
     "metadata": {},
     "output_type": "execute_result"
    }
   ],
   "source": [
    "ficheros = [ f  for f in directorio.iterdir() if f.is_file()]\n",
    "ficheros"
   ]
  },
  {
   "cell_type": "markdown",
   "metadata": {},
   "source": [
    "Si queremos crear una lista que contenga solo las carpetas qque haya en una carpeta, podemos usar la función `is_dir()`:"
   ]
  },
  {
   "cell_type": "code",
   "execution_count": 74,
   "metadata": {},
   "outputs": [
    {
     "data": {
      "text/plain": [
       "[WindowsPath('E:/Documentos(E)/Docencia BigData/UAH_master_periodismo/material_T6/Tema_6/datos/facturas'),\n",
       " WindowsPath('E:/Documentos(E)/Docencia BigData/UAH_master_periodismo/material_T6/Tema_6/datos/trafico')]"
      ]
     },
     "execution_count": 74,
     "metadata": {},
     "output_type": "execute_result"
    }
   ],
   "source": [
    "ficheros = [ f  for f in directorio.iterdir() if f.is_dir()]\n",
    "ficheros"
   ]
  },
  {
   "cell_type": "markdown",
   "metadata": {},
   "source": [
    "## Ejemplos\n",
    "\n",
    "### Ejemplo 1"
   ]
  },
  {
   "cell_type": "markdown",
   "metadata": {},
   "source": [
    "Crear un índice de palabras de meses, junto con el número de facturas de cada mes. \n",
    "\n",
    "Dado un archivo de texto `.datos/facturas.txt` crear un diccionario donde cada elemento es de la forma `mes : número de facturas`.\n",
    "\n",
    "Lo primero es leer el fichero:"
   ]
  },
  {
   "cell_type": "code",
   "execution_count": 77,
   "metadata": {},
   "outputs": [
    {
     "name": "stdout",
     "output_type": "stream",
     "text": [
      "Enero 12342.31 f01\n",
      "\n",
      "Febrero 456.45 f03\n",
      "\n",
      "Mayo 12342.67 f01\n",
      "\n",
      "Febrero 34.56 f03\n",
      "\n",
      "Marzo 456.45 f03\n",
      "\n",
      "Enero 12342.67 f01\n",
      "\n",
      "Febrero 34.56 f03\n",
      "\n",
      "Agosto 567.15 f06\n",
      "\n",
      "Agosto 23.46 f05\n",
      "\n",
      "Octubre 456.45 f03\n",
      "\n",
      "Noviembre 12342.67 f01\n",
      "\n",
      "Diciembre 34.56 f03\n",
      "\n",
      "Marzo 456.45 f03\n",
      "\n",
      "Septiembre 5643.88 f06\n",
      "\n",
      "Septiembre 456.45 f03\n",
      "\n",
      "Mayo 9.99 f05\n",
      "\n",
      "Abril 66.31 f01\n",
      "\n",
      "Febrero 43.45 f03\n",
      "\n",
      "Enero 12.67 f01\n",
      "\n",
      "Enero 567.15 f06\n",
      "\n",
      "Febrero 23.46 f05\n",
      "\n",
      "Julio 456.45 f03\n",
      "\n",
      "Junio 12342.67 f01\n",
      "\n",
      "Abril 9.99 f05\n",
      "\n",
      "Enero 567.15 f06\n",
      "\n",
      "Abril 23.46 f05\n",
      "\n",
      "Julio 12342.67 f01\n",
      "\n",
      "JUNIO 34.56 f03\n",
      "\n",
      "Junio 456.45 f03\n",
      "\n",
      "Enero 5643.88 f06\n",
      "\n",
      "Marzo 456.45 f03\n",
      "\n",
      "EnERO 12342.67 f01\n",
      "\n",
      "Mayo 34.56 f03\n",
      "\n",
      "Marzo 9.99 f05\n",
      "\n",
      "Junio 23.46 f05\n",
      "\n",
      "Junio 5643.88 f06\n",
      "\n",
      "Julio 23.46 f05\n",
      "\n",
      "Julio 5643.88 f06\n",
      "\n",
      "Junio 34.56 f03\n",
      "\n"
     ]
    }
   ],
   "source": [
    "fich = open('./datos/facturas.txt')\n",
    "for line in fich:\n",
    "    print(line)"
   ]
  },
  {
   "cell_type": "markdown",
   "metadata": {},
   "source": [
    "Vamos a crearnos una lista con los meses que aparecen en el texto. Ahora vamos a crear el diccionario. Partimos de un diccionario vacío."
   ]
  },
  {
   "cell_type": "code",
   "execution_count": 78,
   "metadata": {},
   "outputs": [],
   "source": [
    "# Sol:\n"
   ]
  },
  {
   "cell_type": "markdown",
   "metadata": {},
   "source": [
    "El mes de `Enero` aparece dos veces. Lo mismo con `Junio`."
   ]
  },
  {
   "cell_type": "markdown",
   "metadata": {},
   "source": [
    "__¿Cuántas facturas hay del mes de Enero?__"
   ]
  },
  {
   "cell_type": "code",
   "execution_count": null,
   "metadata": {},
   "outputs": [],
   "source": []
  },
  {
   "cell_type": "markdown",
   "metadata": {},
   "source": [
    "__Crear un diccionario donde la claves sean los meses y los valores sean de la forma (n,m), donde n es el número de facturas y m el importe total de las facturas.__"
   ]
  },
  {
   "cell_type": "code",
   "execution_count": null,
   "metadata": {},
   "outputs": [],
   "source": []
  },
  {
   "cell_type": "markdown",
   "metadata": {},
   "source": [
    "__¿Cuál es el importe facturado el mes de Junio?__"
   ]
  },
  {
   "cell_type": "code",
   "execution_count": null,
   "metadata": {},
   "outputs": [],
   "source": []
  },
  {
   "cell_type": "markdown",
   "metadata": {},
   "source": [
    "------"
   ]
  }
 ],
 "metadata": {
  "hide_input": false,
  "kernelspec": {
   "display_name": "Python 3 (ipykernel)",
   "language": "python",
   "name": "python3"
  },
  "language_info": {
   "codemirror_mode": {
    "name": "ipython",
    "version": 3
   },
   "file_extension": ".py",
   "mimetype": "text/x-python",
   "name": "python",
   "nbconvert_exporter": "python",
   "pygments_lexer": "ipython3",
   "version": "3.11.1"
  },
  "nbTranslate": {
   "displayLangs": [
    "en",
    "es"
   ],
   "hotkey": "alt-t",
   "langInMainMenu": true,
   "sourceLang": "es",
   "targetLang": "en",
   "useGoogleTranslate": true
  },
  "toc": {
   "base_numbering": 1,
   "nav_menu": {
    "height": "98px",
    "width": "252px"
   },
   "number_sections": true,
   "sideBar": true,
   "skip_h1_title": false,
   "title_cell": "Table of Contents",
   "title_sidebar": "Contents",
   "toc_cell": false,
   "toc_position": {
    "height": "calc(100% - 180px)",
    "left": "10px",
    "top": "150px",
    "width": "291.833px"
   },
   "toc_section_display": "block",
   "toc_window_display": true
  }
 },
 "nbformat": 4,
 "nbformat_minor": 1
}
