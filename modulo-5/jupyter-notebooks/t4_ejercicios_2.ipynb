{
 "cells": [
  {
   "cell_type": "markdown",
   "metadata": {},
   "source": [
    "# Ejercicios \n",
    "\n",
    "Diccionarios e instrucciones de control"
   ]
  },
  {
   "cell_type": "markdown",
   "metadata": {},
   "source": [
    "## Ejercicio 1"
   ]
  },
  {
   "cell_type": "markdown",
   "metadata": {},
   "source": [
    "Escribe una función en Python llamada __consulta_telefono__ para recuperar número de teléfono de un amigo de un diccionario de amigos.\n",
    "La función tiene dos argumentos de entrada:\n",
    "1. Diccionario donde los elementos son de la forma `nombre`: `num_teléfono`.\n",
    "2. Nombre de un amigo\n",
    "\n",
    "Si el nombre del amigo no se encuentra en el diccionario, la función devuelve el valor `False`. En caso contrario, devuelve su número de teléfono.\n",
    "\n",
    "__Ejemplo de ejecución 1 :__\n",
    "\n",
    "``` \n",
    "In: \n",
    "    agenda = {'Ana': 111, 'Pedro': 222, 'Luis': 458}\n",
    "    t = consulta_telefono('Ana', agenda)\n",
    "    t\n",
    "Out:\n",
    "    111\n",
    "```\n",
    "__Ejemplo de ejecución 2 :__\n",
    "``` \n",
    "In: \n",
    "    agenda = {'Ana': 111, 'Pedro': 222, 'Luis': 458}\n",
    "    t = consulta_telefono('ana', agenda)\n",
    "    t\n",
    "Out:\n",
    "    111\n",
    "```\n",
    "__Ejemplo de ejecución 2 :__\n",
    "\n",
    "``` \n",
    "In: \n",
    "    agenda = {'Ana': 111, 'Pedro': 222, 'Luis': 458}\n",
    "    t = consulta_telefono('María', agenda)\n",
    "    t\n",
    "Out:\n",
    "    False\n",
    "```\n"
   ]
  },
  {
   "cell_type": "code",
   "execution_count": null,
   "metadata": {},
   "outputs": [],
   "source": [
    "# SOL\n"
   ]
  },
  {
   "cell_type": "markdown",
   "metadata": {},
   "source": [
    "## Ejercicio 2"
   ]
  },
  {
   "cell_type": "markdown",
   "metadata": {},
   "source": [
    "Escribe una función en Python llamada __consulta_tipo_telef__ para recuperar número de teléfono de un determinado tipo (casa, móvil, trabajo, etc.) de un amigo de un diccionario de amigos.\n",
    "La función tiene tres argumentos de entrada:\n",
    "\n",
    "1. Nombre de un amigo\n",
    "2. Tipo de número de teléfono\n",
    "3. Diccionario donde los elementos son de la forma `nombre`: {`tipo`:`num_teléfono`, ... } \n",
    "\n",
    "\n",
    "\n",
    "Si el nombre del amigo no se encuentra en el diccionario, la función devuelve el valor `False`. En caso contrario, devuelve su número de teléfono. Si el tipo de teléfono no existe para ese amigo, la función devuelve el valor `False`.\n",
    "\n",
    "__Ejemplo de ejecución 1 :__\n",
    "\n",
    "``` \n",
    "In: \n",
    "    agenda = {'Ana': {'casa':111, 'movil': 1111}, 'Pedro': {'movil':222, 'trabajo':22222}, 'Luis': {'casa': 458}}\n",
    "    t =  consulta_tipo_telefono('Luis', 'casa', agenda)\n",
    "    t\n",
    "Out:\n",
    "    458\n",
    "```\n",
    "__Ejemplo de ejecución 2 :__\n",
    "``` \n",
    "In: \n",
    "    agenda = {'Ana': {'casa':111, 'movil': 1111}, 'Pedro': {'movil':222, 'trabajo':22222}, 'Luis': {'casa': 458}}\n",
    "    t =  consulta_tipo_telefono('Pedro', 'casa', agenda)\n",
    "    t\n",
    "Out:\n",
    "    False\n",
    "```\n",
    "\n"
   ]
  },
  {
   "cell_type": "code",
   "execution_count": null,
   "metadata": {},
   "outputs": [],
   "source": [
    "# SOL\n"
   ]
  },
  {
   "cell_type": "markdown",
   "metadata": {},
   "source": [
    "## Ejercicio 4"
   ]
  },
  {
   "cell_type": "markdown",
   "metadata": {},
   "source": [
    "Escribe una función en Python llamada __lista_amigos__ para recuperar los nombres de los amigos que se encuentrasn registrados en una agenda de teléfonos. Dicha agenda se representa como un diccionario.\n",
    "La función tiene un único argumento de entrada:\n",
    "1. Diccionario donde los elementos son de la forma `nombre`: {`tipo`:`num_teléfono`, ... } \n",
    "\n",
    "La función ha de devolver una lista ordenada de amigos en orden lexicográfico.\n",
    "\n",
    "__Ejemplo de ejecución:__\n",
    "``` \n",
    "In: \n",
    "    agenda = {'Ana': {'casa':111, 'movil': 1111}, 'Pedro': {'movil':222, 'trabajo':22222}, 'Luis': {'casa': 458}}\n",
    "    a = lista_amigos(agenda)\n",
    "    a\n",
    "Out:\n",
    "    ['Ana', 'Luis', 'Pedro']\n",
    "```"
   ]
  },
  {
   "cell_type": "code",
   "execution_count": null,
   "metadata": {},
   "outputs": [],
   "source": [
    "# SOL\n"
   ]
  },
  {
   "cell_type": "markdown",
   "metadata": {},
   "source": [
    "## Ejercicio 5"
   ]
  },
  {
   "cell_type": "markdown",
   "metadata": {},
   "source": [
    "Escribe una función en Python llamada __nuevo_amigo__ para insertar un nuevo amigo a una agenda de teléfonos. Dicha agenda se representa como un diccionario. \n",
    "La función tiene tres  argumentos de entrada:\n",
    "\n",
    "1. El nombre de un nuevo amigo\n",
    "2. Su teléfono\n",
    "3. Diccionario donde los elementos son de la forma `nombre`: `num_teléfono`\n",
    "\n",
    "La función devuleve el valor `True` si la inserción ha ido bien. Devuelve `False` en caso contrario (el amigo ya existe).\n",
    "\n",
    "__Ejemplo de ejecución 1:__\n",
    "``` \n",
    "In: \n",
    "    agenda = {'Ana': 111, 'Pedro': 222, 'Luis': 458}\n",
    "    b = nuevo_amigo('Ana', 99999, agenda)\n",
    "    b\n",
    "Out:\n",
    "    False\n",
    "```\n",
    "\n",
    "__Ejemplo de ejecución 2:__\n",
    "``` \n",
    "In: \n",
    "    agenda = {'Ana': 111, 'Pedro': 222, 'Luis': 458}\n",
    "    b = nuevo_amigo('Carlota', 88, agenda)\n",
    "    b\n",
    "Out:\n",
    "    True\n",
    "```"
   ]
  },
  {
   "cell_type": "code",
   "execution_count": 75,
   "metadata": {},
   "outputs": [],
   "source": [
    "# Sol:\n"
   ]
  },
  {
   "cell_type": "markdown",
   "metadata": {},
   "source": [
    "## Ejercicio 6"
   ]
  },
  {
   "cell_type": "markdown",
   "metadata": {},
   "source": [
    "Escribe una función en Python llamada __nuevo_telefono_amigo__ para insertar un nuevo tipo de teléfono de un  amigo en una agenda de teléfonos. Dicha agenda se representa como un diccionario. \n",
    "La función tiene cuatro  argumentos de entrada:\n",
    "\n",
    "1. El nombre del amigo\n",
    "2. Su teléfono\n",
    "3. Tipo del teléfono (casa, movil, etc)\n",
    "4. Diccionario donde los elementos son de la forma `nombre`: {`tipo`:`num_teléfono`, ... } \n",
    "\n",
    "La función devuleve el valor `True` si la inserción ha ido bien. Devuelve False en caso contrario (el amigo ya existe, o ya existe ese tipo de teléfono).\n",
    "\n",
    "__Ejemplo de ejecución 1:__\n",
    "``` \n",
    "In: \n",
    "    agenda = {'Ana': {'casa':111, 'movil': 1111}, 'Pedro': {'movil':222, 'trabajo':22222}, 'Luis': {'casa': 458}}\n",
    "    b, nuevo_telefono_amigo('Luis',333, 'movil', agenda)\n",
    "    b, agenda\n",
    "Out:\n",
    "    (True,\n",
    "     {'Ana': {'casa': 111, 'movil': 1111},\n",
    "      'Pedro': {'movil': 222, 'trabajo': 22222},\n",
    "      'Luis': {'casa': 458, 'movil': 333}}\n",
    "```\n",
    "\n",
    "__Ejemplo de ejecución 2:__\n",
    "``` \n",
    "In: \n",
    "    agenda = {'Ana': {'casa':111, 'movil': 1111}, 'Pedro': {'movil':222, 'trabajo':22222}, 'Luis': {'casa': 458}}\n",
    "    b, nuevo_telefono_amigo('Bea',7777, 'movil', agenda)\n",
    "    b, agenda\n",
    "Out:\n",
    "    (True,\n",
    "     {'Ana': {'casa': 111, 'movil': 1111},\n",
    "      'Pedro': {'movil': 222, 'trabajo': 22222},\n",
    "      'Luis': {'casa': 458},\n",
    "      'Bea': {'movil': 7777}}\n",
    "```"
   ]
  },
  {
   "cell_type": "code",
   "execution_count": null,
   "metadata": {},
   "outputs": [],
   "source": [
    "# SOL\n"
   ]
  },
  {
   "cell_type": "markdown",
   "metadata": {},
   "source": [
    "--------------------"
   ]
  }
 ],
 "metadata": {
  "anaconda-cloud": {},
  "hide_input": false,
  "kernelspec": {
   "display_name": "Python 3 (ipykernel)",
   "language": "python",
   "name": "python3"
  },
  "language_info": {
   "codemirror_mode": {
    "name": "ipython",
    "version": 3
   },
   "file_extension": ".py",
   "mimetype": "text/x-python",
   "name": "python",
   "nbconvert_exporter": "python",
   "pygments_lexer": "ipython3",
   "version": "3.10.7"
  },
  "nbTranslate": {
   "displayLangs": [
    "en",
    "es"
   ],
   "hotkey": "alt-t",
   "langInMainMenu": true,
   "sourceLang": "es",
   "targetLang": "en",
   "useGoogleTranslate": true
  },
  "toc": {
   "base_numbering": 1,
   "nav_menu": {
    "height": "86px",
    "width": "252px"
   },
   "number_sections": true,
   "sideBar": true,
   "skip_h1_title": false,
   "title_cell": "Table of Contents",
   "title_sidebar": "Contents",
   "toc_cell": false,
   "toc_position": {},
   "toc_section_display": "block",
   "toc_window_display": false
  }
 },
 "nbformat": 4,
 "nbformat_minor": 2
}
