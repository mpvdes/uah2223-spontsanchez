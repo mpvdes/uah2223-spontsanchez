{
 "cells": [
  {
   "cell_type": "markdown",
   "metadata": {},
   "source": [
    "#  Ejercicios \n",
    "\n",
    "Listas, acceso a elementos de una lista."
   ]
  },
  {
   "cell_type": "markdown",
   "metadata": {},
   "source": [
    "##  Ejercicio 1"
   ]
  },
  {
   "cell_type": "markdown",
   "metadata": {},
   "source": [
    "Dada la lista L = [ 'a', 'b', 'c', 4, 5, 6, 7, 8, 9 ], escribe expresiones en Python que produzcan los siguientes resultados:\n",
    "\n",
    "1. El primer elemento de la lista.\n",
    "2. El último elemento de la lista (Sin conocer la longitud de la lista).\n",
    "3. La sublista con los dos últimos elementos. \n",
    "4. La sublista de los elementos que ocupan posiciones pares. \n",
    "4. La sublista de los elementos que ocupan posiciones impares. "
   ]
  },
  {
   "cell_type": "code",
   "execution_count": 2,
   "metadata": {
    "ExecuteTime": {
     "end_time": "2018-10-25T16:05:07.107351Z",
     "start_time": "2018-10-25T16:05:07.102366Z"
    }
   },
   "outputs": [],
   "source": [
    "# Sol 1: 'a'\n",
    "L = [ 'a', 'b', 'c', 4, 5, 6, 7, 8, 9 ]\n"
   ]
  },
  {
   "cell_type": "code",
   "execution_count": 3,
   "metadata": {},
   "outputs": [],
   "source": [
    "# Sol 2: 9\n"
   ]
  },
  {
   "cell_type": "code",
   "execution_count": 4,
   "metadata": {},
   "outputs": [],
   "source": [
    "# Sol 3: [8,9]\n"
   ]
  },
  {
   "cell_type": "code",
   "execution_count": 5,
   "metadata": {},
   "outputs": [],
   "source": [
    "# Sol 3: [8,9]\n"
   ]
  },
  {
   "cell_type": "code",
   "execution_count": 6,
   "metadata": {},
   "outputs": [],
   "source": [
    "# Sol 4:  [ 'a',  'c', 5,  7,  9 ]\n"
   ]
  },
  {
   "cell_type": "code",
   "execution_count": 7,
   "metadata": {
    "ExecuteTime": {
     "end_time": "2018-10-25T16:05:13.741616Z",
     "start_time": "2018-10-25T16:05:13.736631Z"
    }
   },
   "outputs": [],
   "source": [
    "# Sol 5:  [ 'b', 4, 6, 8 ]\n"
   ]
  },
  {
   "cell_type": "markdown",
   "metadata": {},
   "source": [
    "## Ejercicio 2"
   ]
  },
  {
   "cell_type": "markdown",
   "metadata": {},
   "source": [
    "Dada la lista `cars`:"
   ]
  },
  {
   "cell_type": "code",
   "execution_count": 8,
   "metadata": {},
   "outputs": [],
   "source": [
    "cars = ['lexus', 'audi', 'toyota', 'subaru']"
   ]
  },
  {
   "cell_type": "markdown",
   "metadata": {},
   "source": [
    "Escribe una función llamada `mensaje` que reciba dos argumentos de entrada:\n",
    "* una lista de marcas de vehículos \n",
    "* un numero entero menor que el número de elementos de la lista\n",
    "\n",
    "La función debe devolver un texto personalizado dependiendo del segundo parámetro. Veamos unos ejemplos de ejecución:\n",
    "\n",
    "* `mensaje(cars, 1)` devuelve el valor `Conducir un Audi es una pasada`\n",
    "* `mensaje(cars, 0)` devuelve el valor `Conducir un Lexus es una pasada`\n",
    "* `mensaje(cars, 3)` devuelve el valor `Conducir un Subaru es una pasada`"
   ]
  },
  {
   "cell_type": "code",
   "execution_count": 9,
   "metadata": {
    "ExecuteTime": {
     "end_time": "2019-01-04T10:38:06.252994Z",
     "start_time": "2019-01-04T10:38:06.249525Z"
    }
   },
   "outputs": [],
   "source": [
    "# Sol:\n"
   ]
  },
  {
   "cell_type": "markdown",
   "metadata": {},
   "source": [
    "## Ejercicio 3"
   ]
  },
  {
   "cell_type": "markdown",
   "metadata": {},
   "source": [
    "Dada la lista `cars`:"
   ]
  },
  {
   "cell_type": "code",
   "execution_count": 1,
   "metadata": {},
   "outputs": [],
   "source": [
    "cars = ['lexus', 'audi', 'toyota', 'subaru']"
   ]
  },
  {
   "cell_type": "markdown",
   "metadata": {},
   "source": [
    "* Escribe la instrucción Python que muestre el tamaño de la lista."
   ]
  },
  {
   "cell_type": "code",
   "execution_count": 2,
   "metadata": {},
   "outputs": [
    {
     "data": {
      "text/plain": [
       "4"
      ]
     },
     "execution_count": 2,
     "metadata": {},
     "output_type": "execute_result"
    }
   ],
   "source": [
    "# SOL\n",
    "len (cars)"
   ]
  },
  {
   "cell_type": "markdown",
   "metadata": {},
   "source": [
    "* Utiliza la función `sorted` para mostrar la lista `cars` ordenada de forma ascendente. ¿Se modifica la lista cars?"
   ]
  },
  {
   "cell_type": "code",
   "execution_count": 12,
   "metadata": {},
   "outputs": [],
   "source": [
    "# Sol:\n",
    "sorte"
   ]
  },
  {
   "cell_type": "markdown",
   "metadata": {},
   "source": [
    "* Utiliza la función `sorted` para mostrar la lista `cars` ordenada de forma descendente."
   ]
  },
  {
   "cell_type": "code",
   "execution_count": 13,
   "metadata": {},
   "outputs": [],
   "source": [
    "# Sol:\n"
   ]
  },
  {
   "cell_type": "markdown",
   "metadata": {},
   "source": [
    "* Utiliza el método `sort` para ordenar la lista `cars` de forma ascendente. ¿Devuelve algo el método `sort`? . ¿Se modifica la lista cars?"
   ]
  },
  {
   "cell_type": "code",
   "execution_count": 14,
   "metadata": {},
   "outputs": [],
   "source": [
    "# Sol\n"
   ]
  },
  {
   "cell_type": "markdown",
   "metadata": {},
   "source": [
    "*  Utiliza el método `sort` para ordenar la lista `cars` de forma descendente.\n"
   ]
  },
  {
   "cell_type": "code",
   "execution_count": 15,
   "metadata": {},
   "outputs": [],
   "source": [
    "# Sol"
   ]
  },
  {
   "cell_type": "markdown",
   "metadata": {},
   "source": [
    "* Aplica  el método `reverse` a la lista `cars` original. ¿Qué efecto tiene dicho método? ¿Modifica la lista?"
   ]
  },
  {
   "cell_type": "code",
   "execution_count": 16,
   "metadata": {},
   "outputs": [],
   "source": [
    "# Sol\n"
   ]
  },
  {
   "cell_type": "markdown",
   "metadata": {},
   "source": [
    "## Ejercicio 4"
   ]
  },
  {
   "cell_type": "markdown",
   "metadata": {},
   "source": [
    "Usa la función `range` para crear un rango con los números múltiplos de 3 desde el 3 hasta el 30. Transforma el rango en lista e implime su valor."
   ]
  },
  {
   "cell_type": "code",
   "execution_count": 17,
   "metadata": {},
   "outputs": [],
   "source": [
    "# Sol:\n"
   ]
  },
  {
   "cell_type": "markdown",
   "metadata": {},
   "source": [
    "## Ejercicio 5"
   ]
  },
  {
   "cell_type": "markdown",
   "metadata": {},
   "source": [
    "Escribe una función llamada `impares` que reciba como parámetro de entrada una lista de números enteros.  La función devuelve el valor `True` si todos los elementos de la lista son impares. En otro caso devuelve `False`. \n",
    "\n",
    "Debes usar la instrucción `while` para preguntar si cada elemento de la lista es par o impar. Piensa en la condición de parada del while. ¿Tienes que recorrer la lista hasta el final en todos los casos?\n",
    "\n",
    "__Ejemplo de ejecución:__\n",
    "\n",
    "* `impares([1, 3, 7, 9, 1, 5, 7])` devuelve el valor `True`\n",
    "* `impares([ ])` devuelve el valor `True`\n",
    "* `impares([1, 3, 2, 9, 1, 4, 7])` devuelve el valor `False`"
   ]
  },
  {
   "cell_type": "code",
   "execution_count": 18,
   "metadata": {
    "ExecuteTime": {
     "end_time": "2019-01-04T10:38:06.252994Z",
     "start_time": "2019-01-04T10:38:06.249525Z"
    }
   },
   "outputs": [],
   "source": [
    "# Sol:\n"
   ]
  },
  {
   "cell_type": "code",
   "execution_count": null,
   "metadata": {},
   "outputs": [],
   "source": []
  },
  {
   "cell_type": "markdown",
   "metadata": {},
   "source": [
    "## Ejercicio 6\n",
    "\n",
    "Escribe una función que reciba como parámetro una cadena de caracteres y determine si es palíndroma, es decir, puede leerse igual de izquierda a derecha que de derecha a izquierda."
   ]
  },
  {
   "cell_type": "code",
   "execution_count": 19,
   "metadata": {
    "ExecuteTime": {
     "end_time": "2019-01-04T10:38:06.252994Z",
     "start_time": "2019-01-04T10:38:06.249525Z"
    }
   },
   "outputs": [],
   "source": [
    "# Sol:\n"
   ]
  },
  {
   "cell_type": "markdown",
   "metadata": {},
   "source": [
    "## Ejercicio 7\n",
    "Dado una lista de importes, queremos calcular el % de impuesto (por ejemplo 21%) de cada importe. Construye una función llamada `calcular_impuesto` que reciba como parámetros de entrada una lista de valores numéricos y el % de  impuesto a aplicar (valor mayor que 0 y menor que 100). La función devuelve una nueva lista de valores numéricos donde cada valor es el resultado de calcular el % de impuesto a los valores de la lista original. Haz uso de la instrucción `for` para construir la lista de salida.\n",
    "\n",
    "__Ejemplos:__\n",
    "\n",
    "* `calcular_iva([100], 21)`  devuelve como resultado la lista `[21.0]`\n",
    "* `calcular_iva([100, 1000, 200, 150], 21)` devuelve como resultado la lista `[21.0, 210.0, 42.0, 31.5]`\n",
    "* `calcular_iva([100, 1000, 200, 150], 4)` devuelve como resultado la lista `[4.0, 40.0, 8.0, 6.0]`\n"
   ]
  },
  {
   "cell_type": "code",
   "execution_count": 20,
   "metadata": {
    "ExecuteTime": {
     "end_time": "2019-01-04T10:38:06.252994Z",
     "start_time": "2019-01-04T10:38:06.249525Z"
    }
   },
   "outputs": [],
   "source": [
    "# Sol:\n"
   ]
  },
  {
   "cell_type": "markdown",
   "metadata": {},
   "source": [
    "## Ejercicio 8\n",
    "Dada una lista de empleados, calcular el importe de la nómina (suma de todos los importes)"
   ]
  },
  {
   "cell_type": "code",
   "execution_count": 21,
   "metadata": {},
   "outputs": [],
   "source": [
    "empleados = [('Juan', 100), ('Miguel', 200), ('Ana', 400), ('Hugo', 700)]\n"
   ]
  },
  {
   "cell_type": "markdown",
   "metadata": {},
   "source": [
    "-------------------"
   ]
  }
 ],
 "metadata": {
  "anaconda-cloud": {},
  "hide_input": false,
  "kernelspec": {
   "display_name": "Python 3 (ipykernel)",
   "language": "python",
   "name": "python3"
  },
  "language_info": {
   "codemirror_mode": {
    "name": "ipython",
    "version": 3
   },
   "file_extension": ".py",
   "mimetype": "text/x-python",
   "name": "python",
   "nbconvert_exporter": "python",
   "pygments_lexer": "ipython3",
   "version": "3.11.1"
  },
  "nbTranslate": {
   "displayLangs": [
    "en",
    "es"
   ],
   "hotkey": "alt-t",
   "langInMainMenu": true,
   "sourceLang": "es",
   "targetLang": "en",
   "useGoogleTranslate": true
  },
  "toc": {
   "base_numbering": 1,
   "nav_menu": {
    "height": "161px",
    "width": "252px"
   },
   "number_sections": true,
   "sideBar": true,
   "skip_h1_title": false,
   "title_cell": "Table of Contents",
   "title_sidebar": "Contents",
   "toc_cell": false,
   "toc_position": {
    "height": "calc(100% - 180px)",
    "left": "10px",
    "top": "150px",
    "width": "165px"
   },
   "toc_section_display": "block",
   "toc_window_display": true
  }
 },
 "nbformat": 4,
 "nbformat_minor": 1
}
