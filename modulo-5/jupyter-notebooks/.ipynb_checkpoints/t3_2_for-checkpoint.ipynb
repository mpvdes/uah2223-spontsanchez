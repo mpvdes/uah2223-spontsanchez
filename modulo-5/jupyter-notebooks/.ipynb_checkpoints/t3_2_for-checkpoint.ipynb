{
 "cells": [
  {
   "cell_type": "markdown",
   "metadata": {},
   "source": [
    "# Estructuras de control\n",
    "\n",
    "Python soporta las sentencias de control de flujo que podemos encontrar en otros lenguajes de programación."
   ]
  },
  {
   "cell_type": "markdown",
   "metadata": {},
   "source": [
    "## La instrucción `for`"
   ]
  },
  {
   "cell_type": "markdown",
   "metadata": {},
   "source": [
    "La instrucción __for__ de Python permite recorrer una secuencia (una tupla, una lista, cadena de texto) en el orden en el que aparecen en dicha secuencia.\n",
    "\n",
    "En general, se utiliza para recorrer una colección __completa__ de elementos, es decir pasa a través de cada elemento. Su sintaxis es:\n",
    "\n",
    "    for <element> in <iterable_object>:\n",
    "        <bloque_código>\n",
    "        \n",
    "* Aquí el objeto `<iterable_object>` puede ser una lista, tupla, rango, string (o un diccionario), etc.\n",
    "* El bucle se repite un número fijo de veces, que es la longitud de la colección de elementos.\n",
    "\n",
    "La variable `element` que sigue al `for` toma el valor del primer elemento del `iterable_object` y se ejecuta el `bloque_código`. Posteriormente, la variable `element` toma el valor del segundo elemento del `iterable_object` y se ejecuta el `bloque_código`. Así sucesivamente hasta que no queden elementos en el `iterable_object` por asignar a la variable `element`.\n",
    "\n",
    "__Ejemplo:__"
   ]
  },
  {
   "cell_type": "code",
   "execution_count": 2,
   "metadata": {},
   "outputs": [
    {
     "name": "stdout",
     "output_type": "stream",
     "text": [
      "10\n",
      "20\n",
      "30\n",
      "40\n",
      "50\n"
     ]
    }
   ],
   "source": [
    "for x in (1,2,3,4,5):   # itera sobre los elementos de la tupla\n",
    "    x = x * 10\n",
    "    print(x)"
   ]
  },
  {
   "cell_type": "markdown",
   "metadata": {},
   "source": [
    "El bucle `for` anterior ejecuta el cuerpo del bucle 5 veces. En este caso decimos que se han realizado 5 __iteraciones__."
   ]
  },
  {
   "cell_type": "markdown",
   "metadata": {},
   "source": [
    "__Ejemplo:__"
   ]
  },
  {
   "cell_type": "code",
   "execution_count": 3,
   "metadata": {},
   "outputs": [],
   "source": [
    "def suma_elementos(tupla):\n",
    "    suma = 0\n",
    "    for e in tupla: \n",
    "        suma = suma + e\n",
    "    return suma"
   ]
  },
  {
   "cell_type": "code",
   "execution_count": 4,
   "metadata": {},
   "outputs": [
    {
     "data": {
      "text/plain": [
       "32"
      ]
     },
     "execution_count": 4,
     "metadata": {},
     "output_type": "execute_result"
    }
   ],
   "source": [
    "suma_elementos([2, 4, 6, 8, 12])"
   ]
  },
  {
   "cell_type": "markdown",
   "metadata": {},
   "source": [
    "__Ejemplo:__"
   ]
  },
  {
   "cell_type": "code",
   "execution_count": 6,
   "metadata": {},
   "outputs": [
    {
     "name": "stdout",
     "output_type": "stream",
     "text": [
      "Lunes\n",
      "Martes\n",
      "Miércoles\n",
      "Jueves\n"
     ]
    }
   ],
   "source": [
    "dias = [\"Lunes\", \"Martes\", \"Miércoles\", \"Jueves\" ]\n",
    "for nombre in dias:\n",
    "    print(nombre)"
   ]
  },
  {
   "cell_type": "markdown",
   "metadata": {},
   "source": [
    "__Recorrido de rangos__\n",
    "\n",
    "En el siguiente ejemplo mostramos cómo un objeto iterable como `range(3)` es susceptible de ser recorrido mediante una instrucción __for__."
   ]
  },
  {
   "cell_type": "code",
   "execution_count": 22,
   "metadata": {},
   "outputs": [
    {
     "name": "stdout",
     "output_type": "stream",
     "text": [
      "0\n",
      "1\n",
      "2\n"
     ]
    }
   ],
   "source": [
    "# Ejemplo:\n",
    "\n",
    "for i in range(3):    # range(3) crea la lista de enteros en el intervalo [0,3): 0, 1, 2, \n",
    "    print(i)"
   ]
  },
  {
   "cell_type": "markdown",
   "metadata": {},
   "source": [
    "> La expresión que define el `objeto_iterable` solo se evalúa una vez, justo antes de ejetutar el `bloque_código`, por lo que el número de iteraciones del bucle queda fijado antes de comenzar a ejecutar el `for`.\n",
    "\n",
    "__Ejemplo:__\n",
    "\n",
    "El siguiente bloque de código permite imprimir todos los números enteros menores que 5 comenzando en el 0."
   ]
  },
  {
   "cell_type": "code",
   "execution_count": 30,
   "metadata": {},
   "outputs": [
    {
     "name": "stdout",
     "output_type": "stream",
     "text": [
      "0\n",
      "1\n",
      "2\n",
      "3\n",
      "4\n"
     ]
    }
   ],
   "source": [
    "n = 5\n",
    "for elemento  in range(n):\n",
    "    print(elemento)"
   ]
  },
  {
   "cell_type": "markdown",
   "metadata": {},
   "source": [
    "En el siguiente ejemplo, mostramos que el número de iteraciones del bucle queda fijado antes de comenzar a ejecutar el `for`. Dentro del bucle `for` se modifica el valor de `n `, pero no afecta al número de iteraciones."
   ]
  },
  {
   "cell_type": "code",
   "execution_count": 32,
   "metadata": {},
   "outputs": [
    {
     "name": "stdout",
     "output_type": "stream",
     "text": [
      "0\n",
      "1\n",
      "2\n",
      "3\n",
      "4\n"
     ]
    }
   ],
   "source": [
    "n = 5\n",
    "for i in range(n):      # range(n) solo se evalúa una vez\n",
    "    print(i)\n",
    "    n = 2               "
   ]
  },
  {
   "cell_type": "markdown",
   "metadata": {},
   "source": [
    "Cuando nos recorremos una secuencia, puede ser interesante acceder tanto a los elementos de la lista como a la posición de cada uno de los elementos. Para ello, usamos el recorrido de un rango con límite la longitud de la secuencia."
   ]
  },
  {
   "cell_type": "code",
   "execution_count": 27,
   "metadata": {},
   "outputs": [
    {
     "name": "stdout",
     "output_type": "stream",
     "text": [
      "Lunes\n",
      "Martes\n",
      "Miércoles\n",
      "Jueves\n"
     ]
    }
   ],
   "source": [
    "# Ejemplo:\n",
    "dias = [\"Lunes\", \"Martes\", \"Miércoles\", \"Jueves\" ]\n",
    "for i in range(len(dias)):\n",
    "    print(dias[i])"
   ]
  },
  {
   "cell_type": "markdown",
   "metadata": {},
   "source": [
    "__Ejemplo__:\n",
    "\n",
    "En el siguiente ejemplo, mostramos cómo podemos instanciar cada elemento del objeto iterable mediante una \"plantilla\". En este caso, cada elemento de la lista `puntos` es una tupla de dos elementos, por lo que podemos asignarlo a dos variables `x`e `y` en forma de tupla."
   ]
  },
  {
   "cell_type": "code",
   "execution_count": 42,
   "metadata": {},
   "outputs": [
    {
     "name": "stdout",
     "output_type": "stream",
     "text": [
      "1\n",
      "3\n",
      "4\n",
      "7\n"
     ]
    }
   ],
   "source": [
    "puntos = [(0,1), (1,2), (1,3), (1,6)]\n",
    "\n",
    "for (x,y) in puntos: \n",
    "    print( x + y )\n",
    "    \n",
    "# x se refiere a la primera componente de cada una de las tuplas\n",
    "# y se refiere a la segunda componente de cada una de las tuplas"
   ]
  },
  {
   "cell_type": "code",
   "execution_count": 12,
   "metadata": {},
   "outputs": [
    {
     "name": "stdout",
     "output_type": "stream",
     "text": [
      "1\n",
      "2\n",
      "3\n",
      "6\n"
     ]
    }
   ],
   "source": [
    "# dada una lista de puntos, imprimir solo la primera coordenada\n",
    "puntos = [(0,1), (1,2), (1,3), (1,6)]\n",
    "for (x,y) in puntos: \n",
    "    print( y )\n",
    "\n"
   ]
  },
  {
   "cell_type": "markdown",
   "metadata": {},
   "source": [
    "### La función `enumerate`"
   ]
  },
  {
   "cell_type": "markdown",
   "metadata": {},
   "source": [
    "Cuando trabajamos con secuencias de elementos puede resultar útil conocer el índice de cada elemento. La función __enumerate__ devuelve una secuencia de tuplas de la forma __(i, valor)__. \n",
    "\n",
    "Mediante un bucle es posible recorrerse dicha secuencia:"
   ]
  },
  {
   "cell_type": "code",
   "execution_count": 43,
   "metadata": {},
   "outputs": [
    {
     "name": "stdout",
     "output_type": "stream",
     "text": [
      "0: Madrid\n",
      "1: Sevilla\n",
      "2: Segovia\n",
      "3: Valencia\n"
     ]
    }
   ],
   "source": [
    "ciudades = [\"Madrid\", \"Sevilla\", \"Segovia\", \"Valencia\" ]\n",
    "\n",
    "for (i, valor) in enumerate(ciudades):\n",
    "    print(f'{i}: {valor}')"
   ]
  },
  {
   "cell_type": "code",
   "execution_count": 45,
   "metadata": {},
   "outputs": [
    {
     "data": {
      "text/plain": [
       "[(0, 'Madrid'), (1, 'Sevilla'), (2, 'Segovia'), (3, 'Valencia')]"
      ]
     },
     "execution_count": 45,
     "metadata": {},
     "output_type": "execute_result"
    }
   ],
   "source": [
    "list(enumerate(ciudades))"
   ]
  },
  {
   "cell_type": "markdown",
   "metadata": {},
   "source": [
    "## Referencias\n",
    "\n",
    "* [Tutorial de Python. Por Guido Van Rossum](https://argentinaenpython.com/quiero-aprender-python/TutorialPython3.pdf)"
   ]
  },
  {
   "cell_type": "markdown",
   "metadata": {},
   "source": [
    "--------------"
   ]
  }
 ],
 "metadata": {
  "anaconda-cloud": {},
  "hide_input": false,
  "kernelspec": {
   "display_name": "Python 3 (ipykernel)",
   "language": "python",
   "name": "python3"
  },
  "language_info": {
   "codemirror_mode": {
    "name": "ipython",
    "version": 3
   },
   "file_extension": ".py",
   "mimetype": "text/x-python",
   "name": "python",
   "nbconvert_exporter": "python",
   "pygments_lexer": "ipython3",
   "version": "3.11.1"
  },
  "nbTranslate": {
   "displayLangs": [
    "en",
    "es"
   ],
   "hotkey": "alt-t",
   "langInMainMenu": true,
   "sourceLang": "es",
   "targetLang": "en",
   "useGoogleTranslate": true
  },
  "toc": {
   "base_numbering": 1,
   "nav_menu": {
    "height": "144px",
    "width": "252px"
   },
   "number_sections": true,
   "sideBar": true,
   "skip_h1_title": false,
   "title_cell": "Table of Contents",
   "title_sidebar": "Contents",
   "toc_cell": false,
   "toc_position": {},
   "toc_section_display": "block",
   "toc_window_display": false
  }
 },
 "nbformat": 4,
 "nbformat_minor": 2
}
