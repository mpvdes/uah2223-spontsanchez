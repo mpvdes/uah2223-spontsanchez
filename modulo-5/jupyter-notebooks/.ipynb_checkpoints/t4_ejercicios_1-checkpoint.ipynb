{
 "cells": [
  {
   "cell_type": "markdown",
   "metadata": {},
   "source": [
    "#  Ejercicios \n",
    "\n",
    "Uso de función `map` en combinación con funciones  `lambda`."
   ]
  },
  {
   "cell_type": "markdown",
   "metadata": {},
   "source": [
    "##  Ejercicio 1"
   ]
  },
  {
   "cell_type": "markdown",
   "metadata": {},
   "source": [
    "Utiliza la función `map` para transformar la lista de ciudades M. La transformación incluye la eliminación de espacios en blanco a la derecha e izquierda del nombre, y la conversión a tipo título. Prueba la función `strip` de las cadenas."
   ]
  },
  {
   "cell_type": "code",
   "execution_count": 1,
   "metadata": {
    "ExecuteTime": {
     "end_time": "2018-10-25T16:05:13.741616Z",
     "start_time": "2018-10-25T16:05:13.736631Z"
    }
   },
   "outputs": [],
   "source": [
    "M = [ '  Barcelona', 'sEVILLA', 'galicia  ', ' Cáceres ']"
   ]
  },
  {
   "cell_type": "code",
   "execution_count": 2,
   "metadata": {
    "ExecuteTime": {
     "end_time": "2018-10-25T16:05:13.741616Z",
     "start_time": "2018-10-25T16:05:13.736631Z"
    }
   },
   "outputs": [
    {
     "data": {
      "text/plain": [
       "['Barcelona', 'Sevilla', 'Galicia', 'Cáceres']"
      ]
     },
     "execution_count": 2,
     "metadata": {},
     "output_type": "execute_result"
    }
   ],
   "source": [
    "# Sol: [ 'Barcelona', 'Sevilla', 'Galicia', 'Cáceres']\n",
    "list(map(lambda ciudad : ciudad.strip().title(), M))"
   ]
  },
  {
   "cell_type": "markdown",
   "metadata": {},
   "source": [
    "## Ejercicio 2"
   ]
  },
  {
   "cell_type": "markdown",
   "metadata": {},
   "source": [
    "Dado una lista de importes, queremos calcular el % de IVA (por ejemplo 21%) de cada importe. Construye una función llamada `calcular_iva` que reciba como parámetros de entrada una lista de valores numéricos y el % de  IVA a aplicar (valor mayor que 0 y menor que 100). La función devuelve una nueva lista de valores numéricos donde cada valor es el resultado de calcular el % de IVA a los valores de la lista original. Haz uso de la función `map` para construir la lista de salida.\n",
    "\n",
    "__Ejemplos:__\n",
    "\n",
    "* `calcular_iva([100], 21)`  devuelve como resultado la lista `[21.0]`\n",
    "* `calcular_iva([100, 1000, 200, 150], 21)` devuelve como resultado la lista `[21.0, 210.0, 42.0, 31.5]`\n",
    "* `calcular_iva([100, 1000, 200, 150], 4)` devuelve como resultado la lista `[4.0, 40.0, 8.0, 6.0]`\n",
    "\n"
   ]
  },
  {
   "cell_type": "code",
   "execution_count": 1,
   "metadata": {
    "ExecuteTime": {
     "end_time": "2018-10-25T16:05:13.741616Z",
     "start_time": "2018-10-25T16:05:13.736631Z"
    }
   },
   "outputs": [],
   "source": [
    "# Sol: \n",
    "\n",
    "def calcular_iva"
   ]
  },
  {
   "cell_type": "markdown",
   "metadata": {},
   "source": [
    "-------------------"
   ]
  }
 ],
 "metadata": {
  "anaconda-cloud": {},
  "hide_input": false,
  "kernelspec": {
   "display_name": "Python 3 (ipykernel)",
   "language": "python",
   "name": "python3"
  },
  "language_info": {
   "codemirror_mode": {
    "name": "ipython",
    "version": 3
   },
   "file_extension": ".py",
   "mimetype": "text/x-python",
   "name": "python",
   "nbconvert_exporter": "python",
   "pygments_lexer": "ipython3",
   "version": "3.11.1"
  },
  "nbTranslate": {
   "displayLangs": [
    "en",
    "es"
   ],
   "hotkey": "alt-t",
   "langInMainMenu": true,
   "sourceLang": "es",
   "targetLang": "en",
   "useGoogleTranslate": true
  },
  "toc": {
   "base_numbering": 1,
   "nav_menu": {
    "height": "161px",
    "width": "252px"
   },
   "number_sections": true,
   "sideBar": true,
   "skip_h1_title": false,
   "title_cell": "Table of Contents",
   "title_sidebar": "Contents",
   "toc_cell": false,
   "toc_position": {},
   "toc_section_display": "block",
   "toc_window_display": false
  }
 },
 "nbformat": 4,
 "nbformat_minor": 1
}
