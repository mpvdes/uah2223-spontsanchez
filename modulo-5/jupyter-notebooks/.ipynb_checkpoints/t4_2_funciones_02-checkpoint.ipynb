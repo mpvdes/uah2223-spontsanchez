{
 "cells": [
  {
   "cell_type": "markdown",
   "metadata": {},
   "source": [
    "# Las funciones en Python (II)"
   ]
  },
  {
   "cell_type": "markdown",
   "metadata": {},
   "source": [
    "Componentes de una función:\n",
    "\n",
    "* Las funciones tienen un nombre y se declaran con la palabra reservada `def` y devuelve un valor usando la palabra reservada `return`.\n",
    "\n",
    "* También tienen una lista de argumentos. Dichos parámetros pueden ser de varios tipos:\n",
    "    * posicionales\n",
    "    * por clave\n",
    "    * argumentos agrupados (Este caso lo veremos más adelante)"
   ]
  },
  {
   "cell_type": "markdown",
   "metadata": {},
   "source": [
    "## Funciones con argumentos posicionales"
   ]
  },
  {
   "cell_type": "markdown",
   "metadata": {},
   "source": [
    "Veamos algunos ejemplos de funciones con argumentos posicionales:"
   ]
  },
  {
   "cell_type": "code",
   "execution_count": 1,
   "metadata": {},
   "outputs": [],
   "source": [
    "# función que suma 3 números y devuelve el resultado\n",
    "# 3 argumentos posicionales. más adelante hablaremos de los argumentos por clave\n",
    "def suma_tres(x, y, z):                   \n",
    "    m1 = x + y\n",
    "    m2 = m1 + z\n",
    "    return m2"
   ]
  },
  {
   "cell_type": "markdown",
   "metadata": {},
   "source": [
    "Podemos utilizar la función anterior para sumar los números 4, 2 y 3. Para ello basta con escribir el nombre la función junto con los valores 4, 2 y 3 como argumentos. A esto se le conoce como __llamada a la función__ o __invocar a la función__:"
   ]
  },
  {
   "cell_type": "code",
   "execution_count": 3,
   "metadata": {},
   "outputs": [
    {
     "data": {
      "text/plain": [
       "9"
      ]
     },
     "execution_count": 3,
     "metadata": {},
     "output_type": "execute_result"
    }
   ],
   "source": [
    "r = suma_tres(1,2, 6)\n",
    "r"
   ]
  },
  {
   "cell_type": "markdown",
   "metadata": {},
   "source": [
    "## Funciones con argumentos por clave"
   ]
  },
  {
   "cell_type": "markdown",
   "metadata": {},
   "source": [
    "Los argumentos por clave se usan para indicar valores por defecto y siempre se sitúan después de los argumentos posicionales. De esta forma podemos crear una función que puede ser invocada con menos argumentos de los que permite."
   ]
  },
  {
   "cell_type": "code",
   "execution_count": 11,
   "metadata": {},
   "outputs": [],
   "source": [
    "# función que suma 4 números y devuelve el resultado\n",
    "def suma_varios(x, y, z1 = 100, z2 = 0):   # 2 argumentos posicionales y 2 por clave\n",
    "    m = x + y + z1 + z2\n",
    "    return m"
   ]
  },
  {
   "cell_type": "markdown",
   "metadata": {},
   "source": [
    "Esta función puede ser invocada pasando sólo los argumentos obligatorios  `x`  e  `y`  :"
   ]
  },
  {
   "cell_type": "code",
   "execution_count": 12,
   "metadata": {},
   "outputs": [
    {
     "data": {
      "text/plain": [
       "105"
      ]
     },
     "execution_count": 12,
     "metadata": {},
     "output_type": "execute_result"
    }
   ],
   "source": [
    "resultado1 = suma_varios(2, 3)    # z1 y z2 tomarán los valores por defecto\n",
    "resultado1"
   ]
  },
  {
   "cell_type": "code",
   "execution_count": 14,
   "metadata": {},
   "outputs": [
    {
     "data": {
      "text/plain": [
       "205"
      ]
     },
     "execution_count": 14,
     "metadata": {},
     "output_type": "execute_result"
    }
   ],
   "source": [
    "resultado1 = suma_varios(2, 3, z2=100)    # z1 y z2 tomarán los valores por defecto\n",
    "resultado1"
   ]
  },
  {
   "cell_type": "code",
   "execution_count": 16,
   "metadata": {},
   "outputs": [
    {
     "data": {
      "text/plain": [
       "14"
      ]
     },
     "execution_count": 16,
     "metadata": {},
     "output_type": "execute_result"
    }
   ],
   "source": [
    "resultado1 = suma_varios(2, 3, 4, 5)    # z1 y z2 tomarán los valores por defecto\n",
    "resultado1"
   ]
  },
  {
   "cell_type": "markdown",
   "metadata": {},
   "source": [
    "Esta función puede ser invocada pasando los argumentos obligatorios  `x`  e  `y`  junto con un argumento por clave:"
   ]
  },
  {
   "cell_type": "code",
   "execution_count": 29,
   "metadata": {},
   "outputs": [
    {
     "data": {
      "text/plain": [
       "6"
      ]
     },
     "execution_count": 29,
     "metadata": {},
     "output_type": "execute_result"
    }
   ],
   "source": [
    "resultado2 = suma_varios(2, 3, z2 = 1)    # z1 toma el valor por defecto 0\n",
    "resultado2"
   ]
  },
  {
   "cell_type": "markdown",
   "metadata": {},
   "source": [
    "Esta función puede ser invocada pasando los argumentos obligatorios   `x`  e  `y`  junto con los dos argumento por clave:"
   ]
  },
  {
   "cell_type": "code",
   "execution_count": 30,
   "metadata": {},
   "outputs": [
    {
     "data": {
      "text/plain": [
       "15"
      ]
     },
     "execution_count": 30,
     "metadata": {},
     "output_type": "execute_result"
    }
   ],
   "source": [
    "resultado3 = suma_varios(2, 3, z2 = 1, z1 = 9)   # ningún valor por defecto\n",
    "resultado3"
   ]
  },
  {
   "cell_type": "markdown",
   "metadata": {},
   "source": [
    "## Referencias\n",
    "\n",
    "* [Tutorial de Python. Por Guido Van Rossum](https://argentinaenpython.com/quiero-aprender-python/TutorialPython3.pdf)"
   ]
  },
  {
   "cell_type": "markdown",
   "metadata": {},
   "source": [
    "--------"
   ]
  }
 ],
 "metadata": {
  "anaconda-cloud": {},
  "hide_input": false,
  "kernelspec": {
   "display_name": "Python 3 (ipykernel)",
   "language": "python",
   "name": "python3"
  },
  "language_info": {
   "codemirror_mode": {
    "name": "ipython",
    "version": 3
   },
   "file_extension": ".py",
   "mimetype": "text/x-python",
   "name": "python",
   "nbconvert_exporter": "python",
   "pygments_lexer": "ipython3",
   "version": "3.11.1"
  },
  "nbTranslate": {
   "displayLangs": [
    "en",
    "es"
   ],
   "hotkey": "alt-t",
   "langInMainMenu": true,
   "sourceLang": "es",
   "targetLang": "en",
   "useGoogleTranslate": true
  },
  "toc": {
   "base_numbering": 1,
   "nav_menu": {
    "height": "68px",
    "width": "252px"
   },
   "number_sections": true,
   "sideBar": true,
   "skip_h1_title": false,
   "title_cell": "Table of Contents",
   "title_sidebar": "Contents",
   "toc_cell": false,
   "toc_position": {
    "height": "calc(100% - 180px)",
    "left": "10px",
    "top": "150px",
    "width": "220.833px"
   },
   "toc_section_display": "block",
   "toc_window_display": true
  }
 },
 "nbformat": 4,
 "nbformat_minor": 1
}
