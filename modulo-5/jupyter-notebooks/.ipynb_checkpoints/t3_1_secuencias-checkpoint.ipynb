{
 "cells": [
  {
   "cell_type": "markdown",
   "metadata": {},
   "source": [
    "# Tipos de datos estructurados "
   ]
  },
  {
   "cell_type": "markdown",
   "metadata": {},
   "source": [
    "Además de los objetos escalares (tipos de datos simples), Python posee otros objetos denominados no escalares, que como dijimos en la sección anterior, son objetos con estructura interna.\n",
    "En esta sección introducimos los objetos de tipo `tuple` (tuplas), y los objetos de tipo `list` (listas).\n",
    "\n",
    "Estos dos  tipos de objetos pueden almacenar colecciones de elementos de diversos tipos y se diferencian por su sintaxis y por la forma en la cual los datos pueden ser manipulados."
   ]
  },
  {
   "cell_type": "markdown",
   "metadata": {},
   "source": [
    "## Las secuencias en Python: Tuplas y Listas"
   ]
  },
  {
   "cell_type": "markdown",
   "metadata": {},
   "source": [
    "### Tuplas"
   ]
  },
  {
   "cell_type": "markdown",
   "metadata": {},
   "source": [
    "Una tupla es un tipo de datos que representa una secuencia de elementos de cualquier tipo, a los cuales se puede acceder mediante índices enteros. Las tuplas se caracterizan porque son __inmutables__ (no pueden ser modificadas una vez creadas) y __comparables__.\n",
    "\n",
    "Desde el punto de vista sintáctico, una tupla se define mediante una colección  de elementos separados por comas y encerradas entre paréntesis."
   ]
  },
  {
   "cell_type": "markdown",
   "metadata": {},
   "source": [
    "En la siguiente celda creamos una tupla de 4 elementos llamada `t1`:"
   ]
  },
  {
   "cell_type": "code",
   "execution_count": 1,
   "metadata": {
    "ExecuteTime": {
     "end_time": "2019-01-03T12:49:12.423354Z",
     "start_time": "2019-01-03T12:49:12.416907Z"
    }
   },
   "outputs": [
    {
     "data": {
      "text/plain": [
       "(4, 'Hola', 3, 7.99)"
      ]
     },
     "execution_count": 1,
     "metadata": {},
     "output_type": "execute_result"
    }
   ],
   "source": [
    "t1 = (4, \"Hola\", 3, 7.99)     # Tupla con 4 elementos\n",
    "t2 = ()                       # Tupla vacía\n",
    "\n",
    "t1"
   ]
  },
  {
   "cell_type": "code",
   "execution_count": 2,
   "metadata": {},
   "outputs": [
    {
     "data": {
      "text/plain": [
       "()"
      ]
     },
     "execution_count": 2,
     "metadata": {},
     "output_type": "execute_result"
    }
   ],
   "source": [
    "t2"
   ]
  },
  {
   "cell_type": "markdown",
   "metadata": {},
   "source": [
    "¿De que tipo es el objeto  `t1`?"
   ]
  },
  {
   "cell_type": "code",
   "execution_count": 3,
   "metadata": {
    "ExecuteTime": {
     "end_time": "2019-01-03T12:49:13.166919Z",
     "start_time": "2019-01-03T12:49:13.157000Z"
    }
   },
   "outputs": [
    {
     "data": {
      "text/plain": [
       "tuple"
      ]
     },
     "execution_count": 3,
     "metadata": {},
     "output_type": "execute_result"
    }
   ],
   "source": [
    "t1 = (4, \"Hola\", 3)\n",
    "type(t1)               # t1 es de tipo tuple"
   ]
  },
  {
   "cell_type": "markdown",
   "metadata": {},
   "source": [
    "Podemos comprobar si un elemento está en la tupla con el operador `in`:"
   ]
  },
  {
   "cell_type": "code",
   "execution_count": 4,
   "metadata": {
    "ExecuteTime": {
     "end_time": "2019-01-03T12:49:13.907712Z",
     "start_time": "2019-01-03T12:49:13.902752Z"
    }
   },
   "outputs": [
    {
     "data": {
      "text/plain": [
       "True"
      ]
     },
     "execution_count": 4,
     "metadata": {},
     "output_type": "execute_result"
    }
   ],
   "source": [
    "t1 = (4, \"Hola\", 3)\n",
    "'Hola' in t1    # ¿Está la cadena 'Hola' en la tupla t1? \n",
    "                 # La respuesta es un valor de tipo bool"
   ]
  },
  {
   "cell_type": "code",
   "execution_count": 5,
   "metadata": {
    "ExecuteTime": {
     "end_time": "2019-01-03T12:49:14.271453Z",
     "start_time": "2019-01-03T12:49:14.266494Z"
    }
   },
   "outputs": [
    {
     "data": {
      "text/plain": [
       "False"
      ]
     },
     "execution_count": 5,
     "metadata": {},
     "output_type": "execute_result"
    }
   ],
   "source": [
    "4 not in t1   # Preguntamos si el 4 NO está en la tupla t"
   ]
  },
  {
   "cell_type": "markdown",
   "metadata": {},
   "source": [
    "Podemos saber cuántos elementos tiene una tupla con la función `len`:"
   ]
  },
  {
   "cell_type": "code",
   "execution_count": 6,
   "metadata": {
    "ExecuteTime": {
     "end_time": "2019-01-03T12:49:15.001939Z",
     "start_time": "2019-01-03T12:49:14.997007Z"
    }
   },
   "outputs": [
    {
     "data": {
      "text/plain": [
       "3"
      ]
     },
     "execution_count": 6,
     "metadata": {},
     "output_type": "execute_result"
    }
   ],
   "source": [
    "len(t1)"
   ]
  },
  {
   "cell_type": "markdown",
   "metadata": {},
   "source": [
    "Podemos __concatenar__ tuplas con el operador `+`:"
   ]
  },
  {
   "cell_type": "code",
   "execution_count": 5,
   "metadata": {
    "ExecuteTime": {
     "end_time": "2019-01-03T12:49:15.775570Z",
     "start_time": "2019-01-03T12:49:15.768626Z"
    }
   },
   "outputs": [
    {
     "data": {
      "text/plain": [
       "(1, 3, 4, 2, 7)"
      ]
     },
     "execution_count": 5,
     "metadata": {},
     "output_type": "execute_result"
    }
   ],
   "source": [
    "r = (1, 3, 4) + (2, 7)\n",
    "r"
   ]
  },
  {
   "cell_type": "markdown",
   "metadata": {},
   "source": [
    "A los objetos de tipo `tuple` no se les puede añadir nuevos elementos, ni eliminar alguno de los que ya tienen. Esto es por ser un tipo inmutable.\n",
    "\n",
    "En general, los objetos no escalares tienen asociado un __conjunto de propiedades__ y un __conjunto de operaciones__.\n",
    "\n",
    "Las únicas operaciones disponibles para las tuplas son:\n",
    "\n",
    "* index(e)\n",
    "* count(e)"
   ]
  },
  {
   "cell_type": "code",
   "execution_count": 8,
   "metadata": {},
   "outputs": [
    {
     "data": {
      "text/plain": [
       "3"
      ]
     },
     "execution_count": 8,
     "metadata": {},
     "output_type": "execute_result"
    }
   ],
   "source": [
    "r.index(2)"
   ]
  },
  {
   "cell_type": "markdown",
   "metadata": {},
   "source": [
    "Para realizar una operación sobre un objeto, se utiliza el operador punto (`.`) seguido del nombre de la operación a realizar. Por ejemplo:\n"
   ]
  },
  {
   "cell_type": "code",
   "execution_count": 9,
   "metadata": {},
   "outputs": [
    {
     "data": {
      "text/plain": [
       "0"
      ]
     },
     "execution_count": 9,
     "metadata": {},
     "output_type": "execute_result"
    }
   ],
   "source": [
    "t1 = (4, \"Hola\", 3)\n",
    "t1.index(4)"
   ]
  },
  {
   "cell_type": "markdown",
   "metadata": {},
   "source": [
    "El punto `(.)` que se encuentra detrás del nombre del objeto `t1` en la expresión `t1.index('Hola')` le indica a Python que debe ejecutar la operación `index('Hola')` sobre el objeto  `t1`.\n",
    "Para consultar la ayuda de estas operaciones, puedes ejecutar la siguiente celda de código:"
   ]
  },
  {
   "cell_type": "code",
   "execution_count": 11,
   "metadata": {},
   "outputs": [],
   "source": [
    "t1.count?"
   ]
  },
  {
   "cell_type": "markdown",
   "metadata": {},
   "source": [
    "Para consultar cuáles son las operaciones disponibles para los objetos de un determinado tipo, podemos escribir el objeto seguido del operador punto `(.)` y pulsar la tecla `tabulador`:"
   ]
  },
  {
   "cell_type": "code",
   "execution_count": 13,
   "metadata": {},
   "outputs": [
    {
     "data": {
      "text/plain": [
       "1"
      ]
     },
     "execution_count": 13,
     "metadata": {},
     "output_type": "execute_result"
    }
   ],
   "source": [
    "t1.count(5)"
   ]
  },
  {
   "cell_type": "markdown",
   "metadata": {},
   "source": [
    "### Listas"
   ]
  },
  {
   "cell_type": "markdown",
   "metadata": {},
   "source": [
    "Una lista es similar a una tupla con la diferencia fundamental de que puede ser modificada una vez creada. Se trata de un objeto de tipo  __mutable__ y contiene datos heterogéneos.\n",
    "\n",
    "Para crear una lista se encierra los elementos que forman la lista entre corchetes."
   ]
  },
  {
   "cell_type": "code",
   "execution_count": 15,
   "metadata": {
    "ExecuteTime": {
     "end_time": "2019-01-03T12:49:17.081461Z",
     "start_time": "2019-01-03T12:49:17.076006Z"
    }
   },
   "outputs": [
    {
     "name": "stdout",
     "output_type": "stream",
     "text": [
      "[2, 3, 4, 5, 2]\n",
      "['Ana', 10, 'Alberto']\n"
     ]
    }
   ],
   "source": [
    "# Ejemplos de listas\n",
    "data = [ ]\n",
    "data1 = [2, 3, 4, 5, 2]                   # colección de elementos \n",
    "data2 = ['Ana', 10, 'Alberto' ]\n",
    "\n",
    "\n",
    "print(data1)\n",
    "print(data2)"
   ]
  },
  {
   "cell_type": "markdown",
   "metadata": {},
   "source": [
    "Comprobar si un elemento está en la lista con el operador `in`:"
   ]
  },
  {
   "cell_type": "code",
   "execution_count": 16,
   "metadata": {
    "ExecuteTime": {
     "end_time": "2019-01-03T12:49:17.858950Z",
     "start_time": "2019-01-03T12:49:17.853000Z"
    }
   },
   "outputs": [
    {
     "data": {
      "text/plain": [
       "True"
      ]
     },
     "execution_count": 16,
     "metadata": {},
     "output_type": "execute_result"
    }
   ],
   "source": [
    "data2 = ['Ana', 10, 'Alberto' ]\n",
    "10 in data2"
   ]
  },
  {
   "cell_type": "code",
   "execution_count": 17,
   "metadata": {
    "ExecuteTime": {
     "end_time": "2019-01-03T12:49:18.240458Z",
     "start_time": "2019-01-03T12:49:18.235996Z"
    }
   },
   "outputs": [
    {
     "data": {
      "text/plain": [
       "3"
      ]
     },
     "execution_count": 17,
     "metadata": {},
     "output_type": "execute_result"
    }
   ],
   "source": [
    "#longitud de una lista\n",
    "len(data2)"
   ]
  },
  {
   "cell_type": "markdown",
   "metadata": {},
   "source": [
    "Algunas operaciones sobre listas son la operación `+` para concatenar listas:"
   ]
  },
  {
   "cell_type": "code",
   "execution_count": 18,
   "metadata": {
    "ExecuteTime": {
     "end_time": "2019-01-03T12:49:19.131473Z",
     "start_time": "2019-01-03T12:49:19.124998Z"
    }
   },
   "outputs": [
    {
     "name": "stdout",
     "output_type": "stream",
     "text": [
      "[2, 3, 4, 5, 'Ana', 10, 'Alberto']\n"
     ]
    }
   ],
   "source": [
    "data1 = [2, 3, 4, 5]                   \n",
    "data2 = ['Ana', 10, 'Alberto' ]\n",
    "nueva = data1 + data2\n",
    "print(nueva)"
   ]
  },
  {
   "cell_type": "markdown",
   "metadata": {},
   "source": [
    "### Rangos"
   ]
  },
  {
   "cell_type": "markdown",
   "metadata": {},
   "source": [
    "Los objetos de tipo `range` son __inmutables__. Son una progresión de números enteros y solo pueden ser creados mediante una función de Python llamada  `range(start, end, step)` .\n",
    "<!--Decimos que un objeto es __iterable__ si se puede recorrer para recuperar cada uno de los elementos que contiene. En este sentido, las listas son iterables y las tuplas también.-->\n",
    "\n",
    "Veamos algunos ejemplos:"
   ]
  },
  {
   "cell_type": "code",
   "execution_count": 19,
   "metadata": {
    "ExecuteTime": {
     "end_time": "2019-01-03T12:49:24.125415Z",
     "start_time": "2019-01-03T12:49:24.118967Z"
    }
   },
   "outputs": [
    {
     "data": {
      "text/plain": [
       "range(0, 10)"
      ]
     },
     "execution_count": 19,
     "metadata": {},
     "output_type": "execute_result"
    }
   ],
   "source": [
    "range(10)         # crea un objeto  de 10 números enteros: [0, 10) "
   ]
  },
  {
   "cell_type": "code",
   "execution_count": 20,
   "metadata": {
    "ExecuteTime": {
     "end_time": "2019-01-03T12:49:24.554650Z",
     "start_time": "2019-01-03T12:49:24.548729Z"
    }
   },
   "outputs": [
    {
     "data": {
      "text/plain": [
       "[0, 1, 2, 3, 4, 5, 6, 7, 8, 9]"
      ]
     },
     "execution_count": 20,
     "metadata": {},
     "output_type": "execute_result"
    }
   ],
   "source": [
    "r = range(10)     # usamos la función 'list' que me devuelve una lista\n",
    "lista_10 = list(r)\n",
    "lista_10"
   ]
  },
  {
   "cell_type": "code",
   "execution_count": 16,
   "metadata": {
    "ExecuteTime": {
     "end_time": "2019-01-03T12:49:24.970770Z",
     "start_time": "2019-01-03T12:49:24.965312Z"
    }
   },
   "outputs": [
    {
     "data": {
      "text/plain": [
       "[-5, -4, -3, -2, -1, 0, 1, 2, 3, 4]"
      ]
     },
     "execution_count": 16,
     "metadata": {},
     "output_type": "execute_result"
    }
   ],
   "source": [
    "#  crea un objeto iterable de números enteros entre el -5 y 5: [-5, 5)\n",
    "r = range(-5, 5)   \n",
    "list(r)"
   ]
  },
  {
   "cell_type": "code",
   "execution_count": 17,
   "metadata": {
    "ExecuteTime": {
     "end_time": "2019-01-03T12:49:24.970770Z",
     "start_time": "2019-01-03T12:49:24.965312Z"
    }
   },
   "outputs": [
    {
     "data": {
      "text/plain": [
       "[-5, -3, -1, 1, 3]"
      ]
     },
     "execution_count": 17,
     "metadata": {},
     "output_type": "execute_result"
    }
   ],
   "source": [
    "#  crea un objeto iterable de números enteros entre el -5 y 5 con salto 2\n",
    "r = range(-5, 5, 2)   \n",
    "list(r)"
   ]
  },
  {
   "cell_type": "code",
   "execution_count": 22,
   "metadata": {},
   "outputs": [
    {
     "data": {
      "text/plain": [
       "[10, 20, 30, 40, 50, 60, 70, 80, 90, 100]"
      ]
     },
     "execution_count": 22,
     "metadata": {},
     "output_type": "execute_result"
    }
   ],
   "source": [
    "# crear un rango comienza en el 10 y temina en el 100\n",
    "# 10, 20, 30, ....., 100\n",
    "\n",
    "r = range(10, 101, 10)\n",
    "lista = list(r)\n",
    "lista"
   ]
  },
  {
   "cell_type": "markdown",
   "metadata": {},
   "source": [
    "### Acceso a los elementos de las secuencias"
   ]
  },
  {
   "cell_type": "markdown",
   "metadata": {},
   "source": [
    "Los elementos de las secuencias pueden ser accedidos mediante el uso de corchetes `[ ]`, como en otros lenguajes de programación.  Podemos *indexar* las secuencias utilizando la sintaxis:\n",
    "\n",
    "```\n",
    "[<inicio>:<final>:<salto>]\n",
    "```"
   ]
  },
  {
   "cell_type": "markdown",
   "metadata": {},
   "source": [
    "En Python, la indexación empieza por CERO. Veamos algunos ejemplos de cómo se utiliza la notación `inicio`: `fin`: `salto`"
   ]
  },
  {
   "cell_type": "code",
   "execution_count": 18,
   "metadata": {
    "ExecuteTime": {
     "end_time": "2019-01-03T12:49:26.946077Z",
     "start_time": "2019-01-03T12:49:26.941151Z"
    }
   },
   "outputs": [
    {
     "data": {
      "text/plain": [
       "100"
      ]
     },
     "execution_count": 18,
     "metadata": {},
     "output_type": "execute_result"
    }
   ],
   "source": [
    "# Acceso a los elementos: indexación comenzando desde 0\n",
    "data3 = [100, 200, 300, 400, 500, 600]\n",
    "data3[0] "
   ]
  },
  {
   "cell_type": "code",
   "execution_count": 23,
   "metadata": {
    "ExecuteTime": {
     "end_time": "2019-01-03T12:49:26.946077Z",
     "start_time": "2019-01-03T12:49:26.941151Z"
    }
   },
   "outputs": [
    {
     "data": {
      "text/plain": [
       "[200, 300]"
      ]
     },
     "execution_count": 23,
     "metadata": {},
     "output_type": "execute_result"
    }
   ],
   "source": [
    "# acceso desde el elemento de índice 1 hasta el elemento de índice 2\n",
    "data3 = [100, 200, 300, 400, 500, 600]\n",
    "data3[1:3] "
   ]
  },
  {
   "cell_type": "code",
   "execution_count": 24,
   "metadata": {
    "ExecuteTime": {
     "end_time": "2019-01-03T12:49:26.946077Z",
     "start_time": "2019-01-03T12:49:26.941151Z"
    }
   },
   "outputs": [
    {
     "data": {
      "text/plain": [
       "[100, 200, 300]"
      ]
     },
     "execution_count": 24,
     "metadata": {},
     "output_type": "execute_result"
    }
   ],
   "source": [
    "# acceso desde el elemento de índice 0 hasta el elemento de índice 2\n",
    "data3 = [100, 200, 300, 400, 500, 600]\n",
    "data3[:3]       "
   ]
  },
  {
   "cell_type": "code",
   "execution_count": 25,
   "metadata": {
    "ExecuteTime": {
     "end_time": "2019-01-03T12:49:26.946077Z",
     "start_time": "2019-01-03T12:49:26.941151Z"
    }
   },
   "outputs": [
    {
     "data": {
      "text/plain": [
       "600"
      ]
     },
     "execution_count": 25,
     "metadata": {},
     "output_type": "execute_result"
    }
   ],
   "source": [
    "data3 = [100, 200, 300, 400, 500, 600]\n",
    "data3[-1]             # acceso al último elemento"
   ]
  },
  {
   "cell_type": "code",
   "execution_count": 26,
   "metadata": {
    "ExecuteTime": {
     "end_time": "2019-01-03T12:49:26.946077Z",
     "start_time": "2019-01-03T12:49:26.941151Z"
    }
   },
   "outputs": [
    {
     "data": {
      "text/plain": [
       "[400, 500, 600]"
      ]
     },
     "execution_count": 26,
     "metadata": {},
     "output_type": "execute_result"
    }
   ],
   "source": [
    "data3 = [100, 200, 300, 400, 500, 600]\n",
    "data3[-3:]         # acceso a los 3 últimos elementos"
   ]
  },
  {
   "cell_type": "code",
   "execution_count": 27,
   "metadata": {
    "ExecuteTime": {
     "end_time": "2019-01-03T12:49:26.946077Z",
     "start_time": "2019-01-03T12:49:26.941151Z"
    }
   },
   "outputs": [
    {
     "data": {
      "text/plain": [
       "[100, 300, 500]"
      ]
     },
     "execution_count": 27,
     "metadata": {},
     "output_type": "execute_result"
    }
   ],
   "source": [
    "data3 = [100, 200, 300, 400, 500, 600]\n",
    "data3[0:5:2]       # saltando 2"
   ]
  },
  {
   "cell_type": "markdown",
   "metadata": {},
   "source": [
    "Como los objetos de tipo `list` son mutables, podemos __modificar su estructura__, por ejemplo cambiando el elemento almacenado en cualquiera de sus posiciones:"
   ]
  },
  {
   "cell_type": "code",
   "execution_count": 31,
   "metadata": {
    "ExecuteTime": {
     "end_time": "2019-01-03T12:49:27.738429Z",
     "start_time": "2019-01-03T12:49:27.732976Z"
    }
   },
   "outputs": [
    {
     "data": {
      "text/plain": [
       "['Ana', 27, 'Alberto']"
      ]
     },
     "execution_count": 31,
     "metadata": {},
     "output_type": "execute_result"
    }
   ],
   "source": [
    "# modificación de los elementos\n",
    "data2 = ['Ana', 10, 'Alberto']\n",
    "data2[1] = 9 * 3\n",
    "data2"
   ]
  },
  {
   "cell_type": "markdown",
   "metadata": {},
   "source": [
    "### Operaciones sobre listas\n",
    "\n",
    "Los objetos de tipo `list` disponen de un conjunto de operaciones más amplio que los objetos de tipo `tuple`. Aparte de las operaciones `count` e `index`, tenemos:\n",
    "\n",
    "* `append(e)`\n",
    "* `insert(pos, e)`\n",
    "* `extend(l)`\n",
    "* `remove(e)`\n",
    "* `pop(pos)`\n",
    "* `sort()`\n",
    "* `reverse()`\n",
    "\n",
    "\n",
    "Para consultar la ayuda de estas operaciones puedes utilizar el símbolo de interrogación (`?`) "
   ]
  },
  {
   "cell_type": "code",
   "execution_count": 33,
   "metadata": {},
   "outputs": [],
   "source": [
    "data2 = ['Ana', 10, 'Alberto']\n",
    "data2.insert?"
   ]
  },
  {
   "cell_type": "markdown",
   "metadata": {},
   "source": [
    "__Ejemplo de `append`:__"
   ]
  },
  {
   "cell_type": "code",
   "execution_count": 38,
   "metadata": {
    "ExecuteTime": {
     "end_time": "2019-01-03T12:49:32.751374Z",
     "start_time": "2019-01-03T12:49:32.746416Z"
    }
   },
   "outputs": [
    {
     "data": {
      "text/plain": [
       "['Lunes', 'Jueves', 'Viernes', 'Sábado']"
      ]
     },
     "execution_count": 38,
     "metadata": {},
     "output_type": "execute_result"
    }
   ],
   "source": [
    "m = ['Lunes', 'Jueves']\n",
    "m.append('Viernes')\n",
    "m.append('Sábado')\n",
    "m"
   ]
  },
  {
   "cell_type": "markdown",
   "metadata": {},
   "source": [
    "El punto `(.)` que se encuentra detrás del nombre de la variable `m` en la expresión `m.append('Viernes')` le indica a Python que debe ejecutar la operación `append('viernes')` sobre la variable `m`."
   ]
  },
  {
   "cell_type": "markdown",
   "metadata": {},
   "source": [
    "__Ejemplo de `insert`:__\n",
    "\n",
    "Otra forma de añadir elementos es mediante la operación `insert(pos, e)`, que  inserta un elemento  `e` en la posición `pos`."
   ]
  },
  {
   "cell_type": "code",
   "execution_count": 35,
   "metadata": {
    "ExecuteTime": {
     "end_time": "2019-01-03T12:49:32.953246Z",
     "start_time": "2019-01-03T12:49:32.942831Z"
    }
   },
   "outputs": [
    {
     "data": {
      "text/plain": [
       "['Lunes', 'Martes', 'Jueves', 'viernes']"
      ]
     },
     "execution_count": 35,
     "metadata": {},
     "output_type": "execute_result"
    }
   ],
   "source": [
    "m = ['Lunes', 'Jueves', 'viernes']\n",
    "m.insert(1, 'Martes')    # inserta el elemento 'martes' en la posición 1\n",
    "m                        # desplaza las posiciones a la derecha del 1"
   ]
  },
  {
   "cell_type": "markdown",
   "metadata": {},
   "source": [
    "__Ejemplo de `extend`:__\n",
    "\n",
    "Si queremos añadir múltiples elementos a una lista, podemos utilizar el operador + como hemos visto anteriormente, o usar la operación `extend`. Si la lista que estamos construyendo es muy larga es preferible utilizar `extend` ya que es mucho más eficiente. La razón es que el operador `+` debe crear una nueva lista y copiar todos los elementos en la nueva lista. Sin embargo la operación  `extend` modifica la lista sobre la que se aplica la operación.\n",
    "\n",
    "Veamos un ejemplo de su uso:"
   ]
  },
  {
   "cell_type": "code",
   "execution_count": 36,
   "metadata": {
    "ExecuteTime": {
     "end_time": "2019-01-03T12:49:33.350543Z",
     "start_time": "2019-01-03T12:49:33.338644Z"
    }
   },
   "outputs": [
    {
     "data": {
      "text/plain": [
       "[100, 200, 8, 9, 10]"
      ]
     },
     "execution_count": 36,
     "metadata": {},
     "output_type": "execute_result"
    }
   ],
   "source": [
    "lista = [100, 200]\n",
    "lista.extend([8,9,10])\n",
    "lista"
   ]
  },
  {
   "cell_type": "markdown",
   "metadata": {},
   "source": [
    "__Ejemplo de `pop` y  `remove`:__\n",
    "\n",
    "Para eliminar elementos de una lista, podemos utilizar los métodos `pop` y `remove`.\n",
    "\n",
    "* __Eliminando por posición__\n",
    "\n",
    "La operación `pop` permite eliminar el elemento de la lista que ocupa una determinada posición."
   ]
  },
  {
   "cell_type": "code",
   "execution_count": 39,
   "metadata": {
    "ExecuteTime": {
     "end_time": "2019-01-03T12:49:33.755277Z",
     "start_time": "2019-01-03T12:49:33.750318Z"
    }
   },
   "outputs": [
    {
     "data": {
      "text/plain": [
       "100"
      ]
     },
     "execution_count": 39,
     "metadata": {},
     "output_type": "execute_result"
    }
   ],
   "source": [
    "lista = [100, 200]\n",
    "e = lista.pop(0)\n",
    "e"
   ]
  },
  {
   "cell_type": "code",
   "execution_count": 40,
   "metadata": {
    "ExecuteTime": {
     "end_time": "2019-01-03T12:49:33.923657Z",
     "start_time": "2019-01-03T12:49:33.916218Z"
    }
   },
   "outputs": [
    {
     "data": {
      "text/plain": [
       "[200]"
      ]
     },
     "execution_count": 40,
     "metadata": {},
     "output_type": "execute_result"
    }
   ],
   "source": [
    "lista     # la lista tiene un elemento menos"
   ]
  },
  {
   "cell_type": "markdown",
   "metadata": {},
   "source": [
    "* __Eliminación por valor__"
   ]
  },
  {
   "cell_type": "markdown",
   "metadata": {},
   "source": [
    "Puede darse el caso de que necesitemos eliminar un elemento de la lista y que no conozcamos la posición que ocupa. En esos casos utilizaremos el método `remove`."
   ]
  },
  {
   "cell_type": "code",
   "execution_count": 41,
   "metadata": {
    "ExecuteTime": {
     "end_time": "2019-01-03T12:49:34.767749Z",
     "start_time": "2019-01-03T12:49:34.761796Z"
    }
   },
   "outputs": [
    {
     "data": {
      "text/plain": [
       "[100, 400, 200]"
      ]
     },
     "execution_count": 41,
     "metadata": {},
     "output_type": "execute_result"
    }
   ],
   "source": [
    "lista = [100, 200, 400, 200]\n",
    "lista.remove(200)\n",
    "lista"
   ]
  },
  {
   "cell_type": "markdown",
   "metadata": {},
   "source": [
    "### Un caso particular de secuencias: Las secuencias de caracteres- str"
   ]
  },
  {
   "cell_type": "markdown",
   "metadata": {},
   "source": [
    "Las cadenas son consideradas como una secuencia de caracteres y por tanto pueden ser tratadas como tuplas.\n",
    "\n",
    "Por ejemplo, podemos acceder a cada uno de los caracteres de una cadena:"
   ]
  },
  {
   "cell_type": "code",
   "execution_count": 42,
   "metadata": {
    "ExecuteTime": {
     "end_time": "2019-01-03T12:49:38.418921Z",
     "start_time": "2019-01-03T12:49:38.412970Z"
    }
   },
   "outputs": [
    {
     "data": {
      "text/plain": [
       "('Ana', 'A', 'a')"
      ]
     },
     "execution_count": 42,
     "metadata": {},
     "output_type": "execute_result"
    }
   ],
   "source": [
    "a = \"Ana\"\n",
    "a, a[0], a[2]"
   ]
  },
  {
   "cell_type": "markdown",
   "metadata": {},
   "source": [
    "Las cadenas en Python son inmutables. Eso quiere decir que no es posible modificar una cadena sin crear otra nueva."
   ]
  },
  {
   "cell_type": "code",
   "execution_count": 43,
   "metadata": {
    "ExecuteTime": {
     "end_time": "2019-01-03T12:49:39.251456Z",
     "start_time": "2019-01-03T12:49:39.246000Z"
    }
   },
   "outputs": [
    {
     "data": {
      "text/plain": [
       "'V'"
      ]
     },
     "execution_count": 43,
     "metadata": {},
     "output_type": "execute_result"
    }
   ],
   "source": [
    "# En Python 3.5 strings son Unicode por defecto\n",
    "mensaje = \"Vaya calor que hace\"\n",
    "mensaje[0]"
   ]
  },
  {
   "cell_type": "markdown",
   "metadata": {},
   "source": [
    "Los objetos de tipo `str` tienen un conjunto de operaciones mucho más amplio que las tuplas. Recuerda que puedes consultar dicho conjunto utilizando el operador punto seguido de tabulador:"
   ]
  },
  {
   "cell_type": "markdown",
   "metadata": {},
   "source": [
    "__Ejemplo de la operación `replace`.__"
   ]
  },
  {
   "cell_type": "code",
   "execution_count": 126,
   "metadata": {
    "ExecuteTime": {
     "end_time": "2019-01-03T12:49:39.633138Z",
     "start_time": "2019-01-03T12:49:39.627188Z"
    }
   },
   "outputs": [
    {
     "data": {
      "text/plain": [
       "('vaya calor que hace', 'Vaya calor que hace')"
      ]
     },
     "execution_count": 126,
     "metadata": {},
     "output_type": "execute_result"
    }
   ],
   "source": [
    "b = mensaje.replace('V', 'v')\n",
    "b, mensaje"
   ]
  },
  {
   "cell_type": "markdown",
   "metadata": {},
   "source": [
    "Para ver todas las operaciones  que podemos utilizar con un objeto también podemos   ejecutar la siguiente celda:"
   ]
  },
  {
   "cell_type": "code",
   "execution_count": 79,
   "metadata": {
    "ExecuteTime": {
     "end_time": "2019-01-03T12:49:40.466257Z",
     "start_time": "2019-01-03T12:49:40.460308Z"
    }
   },
   "outputs": [
    {
     "data": {
      "text/plain": [
       "['__add__',\n",
       " '__class__',\n",
       " '__contains__',\n",
       " '__delattr__',\n",
       " '__dir__',\n",
       " '__doc__',\n",
       " '__eq__',\n",
       " '__format__',\n",
       " '__ge__',\n",
       " '__getattribute__',\n",
       " '__getitem__',\n",
       " '__getnewargs__',\n",
       " '__gt__',\n",
       " '__hash__',\n",
       " '__init__',\n",
       " '__init_subclass__',\n",
       " '__iter__',\n",
       " '__le__',\n",
       " '__len__',\n",
       " '__lt__',\n",
       " '__mod__',\n",
       " '__mul__',\n",
       " '__ne__',\n",
       " '__new__',\n",
       " '__reduce__',\n",
       " '__reduce_ex__',\n",
       " '__repr__',\n",
       " '__rmod__',\n",
       " '__rmul__',\n",
       " '__setattr__',\n",
       " '__sizeof__',\n",
       " '__str__',\n",
       " '__subclasshook__',\n",
       " 'capitalize',\n",
       " 'casefold',\n",
       " 'center',\n",
       " 'count',\n",
       " 'encode',\n",
       " 'endswith',\n",
       " 'expandtabs',\n",
       " 'find',\n",
       " 'format',\n",
       " 'format_map',\n",
       " 'index',\n",
       " 'isalnum',\n",
       " 'isalpha',\n",
       " 'isascii',\n",
       " 'isdecimal',\n",
       " 'isdigit',\n",
       " 'isidentifier',\n",
       " 'islower',\n",
       " 'isnumeric',\n",
       " 'isprintable',\n",
       " 'isspace',\n",
       " 'istitle',\n",
       " 'isupper',\n",
       " 'join',\n",
       " 'ljust',\n",
       " 'lower',\n",
       " 'lstrip',\n",
       " 'maketrans',\n",
       " 'partition',\n",
       " 'replace',\n",
       " 'rfind',\n",
       " 'rindex',\n",
       " 'rjust',\n",
       " 'rpartition',\n",
       " 'rsplit',\n",
       " 'rstrip',\n",
       " 'split',\n",
       " 'splitlines',\n",
       " 'startswith',\n",
       " 'strip',\n",
       " 'swapcase',\n",
       " 'title',\n",
       " 'translate',\n",
       " 'upper',\n",
       " 'zfill']"
      ]
     },
     "execution_count": 79,
     "metadata": {},
     "output_type": "execute_result"
    }
   ],
   "source": [
    "dir(str)"
   ]
  },
  {
   "cell_type": "markdown",
   "metadata": {},
   "source": [
    "Algunos ejemplos:"
   ]
  },
  {
   "cell_type": "code",
   "execution_count": 127,
   "metadata": {
    "ExecuteTime": {
     "end_time": "2019-01-03T12:49:41.564927Z",
     "start_time": "2019-01-03T12:49:41.558976Z"
    }
   },
   "outputs": [
    {
     "data": {
      "text/plain": [
       "'VAYA CALOR QUE HACE'"
      ]
     },
     "execution_count": 127,
     "metadata": {},
     "output_type": "execute_result"
    }
   ],
   "source": [
    "mensaje.upper()"
   ]
  },
  {
   "cell_type": "code",
   "execution_count": 81,
   "metadata": {
    "ExecuteTime": {
     "end_time": "2019-01-03T12:49:42.053705Z",
     "start_time": "2019-01-03T12:49:42.047753Z"
    }
   },
   "outputs": [
    {
     "data": {
      "text/plain": [
       "'Vaya Calor Que Hace'"
      ]
     },
     "execution_count": 81,
     "metadata": {},
     "output_type": "execute_result"
    }
   ],
   "source": [
    "mensaje.title()"
   ]
  },
  {
   "cell_type": "code",
   "execution_count": 128,
   "metadata": {},
   "outputs": [
    {
     "data": {
      "text/plain": [
       "['Vaya', 'calor', 'que', 'hace']"
      ]
     },
     "execution_count": 128,
     "metadata": {},
     "output_type": "execute_result"
    }
   ],
   "source": [
    "mensaje.split()"
   ]
  },
  {
   "cell_type": "code",
   "execution_count": 129,
   "metadata": {},
   "outputs": [
    {
     "data": {
      "text/plain": [
       "'esto salto'"
      ]
     },
     "execution_count": 129,
     "metadata": {},
     "output_type": "execute_result"
    }
   ],
   "source": [
    "cadena = '     esto salto \\n'\n",
    "cadena.strip()"
   ]
  },
  {
   "cell_type": "markdown",
   "metadata": {
    "collapsed": true
   },
   "source": [
    "## Referencias\n",
    "\n",
    "* [Tutorial de Python. Por Guido Van Rossum](https://argentinaenpython.com/quiero-aprender-python/TutorialPython3.pdf)\n"
   ]
  },
  {
   "cell_type": "markdown",
   "metadata": {},
   "source": [
    "-----"
   ]
  }
 ],
 "metadata": {
  "hide_input": false,
  "kernelspec": {
   "display_name": "Python 3 (ipykernel)",
   "language": "python",
   "name": "python3"
  },
  "language_info": {
   "codemirror_mode": {
    "name": "ipython",
    "version": 3
   },
   "file_extension": ".py",
   "mimetype": "text/x-python",
   "name": "python",
   "nbconvert_exporter": "python",
   "pygments_lexer": "ipython3",
   "version": "3.11.1"
  },
  "nbTranslate": {
   "displayLangs": [
    "en",
    "es"
   ],
   "hotkey": "alt-t",
   "langInMainMenu": true,
   "sourceLang": "es",
   "targetLang": "en",
   "useGoogleTranslate": true
  },
  "toc": {
   "base_numbering": 1,
   "nav_menu": {},
   "number_sections": true,
   "sideBar": true,
   "skip_h1_title": false,
   "title_cell": "Table of Contents",
   "title_sidebar": "Contents",
   "toc_cell": false,
   "toc_position": {
    "height": "calc(100% - 180px)",
    "left": "10px",
    "top": "150px",
    "width": "251.833px"
   },
   "toc_section_display": true,
   "toc_window_display": false
  }
 },
 "nbformat": 4,
 "nbformat_minor": 1
}
