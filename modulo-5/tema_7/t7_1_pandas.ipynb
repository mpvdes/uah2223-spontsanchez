{
 "cells": [
  {
   "cell_type": "markdown",
   "metadata": {},
   "source": [
    "# Las Series y DataFrames de Pandas"
   ]
  },
  {
   "cell_type": "markdown",
   "metadata": {},
   "source": [
    "La librería Pandas proporciona estructuras de datos de alto nivel que permiten representar series y tablas de datos, así como herramientas diseñadas específicamente para un tratamiento de datos rápido y sencillo. Está construida sobre los fundamentos de NumPy, adaptando las operaciones sobre arrays a las nuevas estructuras definidas en Pandas. Resulta especialmente útil cuando hay que trabajar con datos heterogéneos representados de forma tabular. \n",
    "\n",
    "Empezó a desarrollarse en el año 2008 por Wes McKinney (McKinney, 2012) en un intento por conseguir una herramienta flexible y de alto rendimiento para el tratamiento de datos financieros. En el año 2012, Chang She comenzó a participar en el desarrollo de la librería. Actualmente Pandas forma parte de un proyecto en el que participan muchos desarrolladores. \n",
    "\n",
    "Pandas es actualmente una de las librerías de alto nivel de Python más utilizadas en las primeras etapas del proceso de análisis de datos, especialmente apropiada en aplicaciones estadísticas. \n",
    "\n",
    "En esta Sección introducimos las estructuras principales de Pandas, como son las Series y DataFrames, así como las operaciones básicas que se pueden realizar con dichas estructuras.\n",
    "\n",
    "Toda la información oficial de la librería se encuentra accesible en el enlace http://pandas.pydata.org.\n"
   ]
  },
  {
   "cell_type": "markdown",
   "metadata": {},
   "source": [
    "## Importar librerías"
   ]
  },
  {
   "cell_type": "markdown",
   "metadata": {},
   "source": [
    "En esta Sección trabajaremos principalmente con las librerías Pandas, NumPy y la librería básica para visualización Matplotlib. Importamos las tres librerías con alias `pd`, `np` y `plt` respectivamente:"
   ]
  },
  {
   "cell_type": "code",
   "execution_count": 4,
   "metadata": {},
   "outputs": [
    {
     "ename": "ModuleNotFoundError",
     "evalue": "No module named 'matplotlib'",
     "output_type": "error",
     "traceback": [
      "\u001b[1;31m---------------------------------------------------------------------------\u001b[0m",
      "\u001b[1;31mModuleNotFoundError\u001b[0m                       Traceback (most recent call last)",
      "Cell \u001b[1;32mIn[4], line 4\u001b[0m\n\u001b[0;32m      1\u001b[0m \u001b[38;5;28;01mimport\u001b[39;00m \u001b[38;5;21;01mpandas\u001b[39;00m \u001b[38;5;28;01mas\u001b[39;00m \u001b[38;5;21;01mpd\u001b[39;00m\n\u001b[0;32m      2\u001b[0m \u001b[38;5;28;01mimport\u001b[39;00m \u001b[38;5;21;01mnumpy\u001b[39;00m \u001b[38;5;28;01mas\u001b[39;00m \u001b[38;5;21;01mnp\u001b[39;00m\n\u001b[1;32m----> 4\u001b[0m \u001b[38;5;28;01mimport\u001b[39;00m \u001b[38;5;21;01mmatplotlib\u001b[39;00m\u001b[38;5;21;01m.\u001b[39;00m\u001b[38;5;21;01mpyplot\u001b[39;00m \u001b[38;5;28;01mas\u001b[39;00m \u001b[38;5;21;01mplt\u001b[39;00m\n\u001b[0;32m      5\u001b[0m get_ipython()\u001b[38;5;241m.\u001b[39mrun_line_magic(\u001b[38;5;124m'\u001b[39m\u001b[38;5;124mmatplotlib\u001b[39m\u001b[38;5;124m'\u001b[39m, \u001b[38;5;124m'\u001b[39m\u001b[38;5;124minline\u001b[39m\u001b[38;5;124m'\u001b[39m)\n",
      "\u001b[1;31mModuleNotFoundError\u001b[0m: No module named 'matplotlib'"
     ]
    }
   ],
   "source": [
    "import pandas as pd\n",
    "import numpy as np\n",
    "\n",
    "import matplotlib.pyplot as plt\n",
    "%matplotlib inline"
   ]
  },
  {
   "cell_type": "markdown",
   "metadata": {},
   "source": [
    "## Estructuras de Datos en Pandas"
   ]
  },
  {
   "cell_type": "markdown",
   "metadata": {},
   "source": [
    "En Pandas disponemos de varias estructuras de datos y métodos que nos ayudarán a manipular dichas estructuras de forma sencilla y eficiente. Las dos estructuras de datos principales vienen representadas por las clases `Series`  y `DataFrame`, capaces de representar series de datos y datos en forma tabular respectivamente.  "
   ]
  },
  {
   "cell_type": "markdown",
   "metadata": {},
   "source": [
    "### Series"
   ]
  },
  {
   "cell_type": "markdown",
   "metadata": {},
   "source": [
    "Un objeto del tipo `Series` puede verse como un objeto de tipo array de una dimensión que contiene datos de un cierto tipo y tiene asociado un índice. Este índice es un array de etiquetas cuyo tamaño coincide con el tamaño del array de datos. \n",
    "\n",
    "A continuación creamos una variable `s` de tipo `Serie` mediante la función `pd.Series` y una lista de elementos:"
   ]
  },
  {
   "cell_type": "code",
   "execution_count": 6,
   "metadata": {},
   "outputs": [
    {
     "data": {
      "text/plain": [
       "ES    10.0\n",
       "FR    20.0\n",
       "IT    30.9\n",
       "IT    40.0\n",
       "ES   -10.0\n",
       "Name: importación, dtype: float64"
      ]
     },
     "execution_count": 6,
     "metadata": {},
     "output_type": "execute_result"
    }
   ],
   "source": [
    "s = pd.Series(  [10, 20, 30.9, 40, -10], \n",
    "               index = ['ES', 'FR', 'IT', 'IT', 'ES'],\n",
    "               name = 'importación')\n",
    "s"
   ]
  },
  {
   "cell_type": "code",
   "execution_count": 7,
   "metadata": {},
   "outputs": [
    {
     "data": {
      "text/plain": [
       "ES    10.0\n",
       "FR    20.0\n",
       "IT    30.9\n",
       "IT    40.0\n",
       "ES   -10.0\n",
       "Name: Paises, dtype: float64"
      ]
     },
     "execution_count": 7,
     "metadata": {},
     "output_type": "execute_result"
    }
   ],
   "source": [
    "s.name = 'Paises'\n",
    "s"
   ]
  },
  {
   "cell_type": "code",
   "execution_count": 5,
   "metadata": {},
   "outputs": [
    {
     "data": {
      "text/plain": [
       "array([ 10. ,  20. ,  30.9,  40. , -10. ])"
      ]
     },
     "execution_count": 5,
     "metadata": {},
     "output_type": "execute_result"
    }
   ],
   "source": [
    "s.values"
   ]
  },
  {
   "cell_type": "code",
   "execution_count": 8,
   "metadata": {},
   "outputs": [
    {
     "data": {
      "text/plain": [
       "Index(['ES', 'FR', 'IT', 'IT', 'ES'], dtype='object')"
      ]
     },
     "execution_count": 8,
     "metadata": {},
     "output_type": "execute_result"
    }
   ],
   "source": [
    "s.index"
   ]
  },
  {
   "cell_type": "code",
   "execution_count": 9,
   "metadata": {},
   "outputs": [
    {
     "data": {
      "text/plain": [
       "ES    10.0\n",
       "FR    20.0\n",
       "IT    30.9\n",
       "IT    40.0\n",
       "ES   -10.0\n",
       "Name: Paises, dtype: float64"
      ]
     },
     "execution_count": 9,
     "metadata": {},
     "output_type": "execute_result"
    }
   ],
   "source": [
    "s"
   ]
  },
  {
   "cell_type": "markdown",
   "metadata": {},
   "source": [
    "Como podemos observar, la serie `s` contiene elementos de tipo `int64` (columna de la derecha). Los elementos de la serie están indexados mediante un array de enteros comenzando desde el 0 (columna de la izquierda). Entre las propiedades de las `Series` tenemos `index` y `values`, que representan el índice y los elementos de la serie:"
   ]
  },
  {
   "cell_type": "code",
   "execution_count": 8,
   "metadata": {},
   "outputs": [
    {
     "data": {
      "text/plain": [
       "Index(['ES', 'FR', 'IT', 'IT', 'ES'], dtype='object')"
      ]
     },
     "execution_count": 8,
     "metadata": {},
     "output_type": "execute_result"
    }
   ],
   "source": [
    "s.index"
   ]
  },
  {
   "cell_type": "code",
   "execution_count": 9,
   "metadata": {},
   "outputs": [
    {
     "data": {
      "text/plain": [
       "array([ 10. ,  20. ,  30.9,  40. , -10. ])"
      ]
     },
     "execution_count": 9,
     "metadata": {},
     "output_type": "execute_result"
    }
   ],
   "source": [
    "s.values"
   ]
  },
  {
   "cell_type": "markdown",
   "metadata": {},
   "source": [
    "Una de las ventajas de trabajar con `Series`, es que es posible indexar cada elemento de la serie con un valor descriptivo o etiqueta. Por ejemplo, si nuestros datos representan la tasa de natalidad de distintas ciudades españolas, sería interesante usar el nombre de las ciudades cómo etiquetas del índice, en lugar de usar etiquetas de tipo `int`:"
   ]
  },
  {
   "cell_type": "code",
   "execution_count": 10,
   "metadata": {},
   "outputs": [],
   "source": [
    "nat = pd.Series([10.7, 7.5, 7.1, 17.8, 7.9 ],  \n",
    "               index=['Murcia','Cantabria', 'Galicia', 'Melilla','Canarias' ],\n",
    "               name = 'Tasa de Natalidad')       "
   ]
  },
  {
   "cell_type": "code",
   "execution_count": 11,
   "metadata": {},
   "outputs": [
    {
     "data": {
      "text/plain": [
       "Murcia       10.7\n",
       "Cantabria     7.5\n",
       "Galicia       7.1\n",
       "Melilla      17.8\n",
       "Canarias      7.9\n",
       "Name: Tasa de Natalidad, dtype: float64"
      ]
     },
     "execution_count": 11,
     "metadata": {},
     "output_type": "execute_result"
    }
   ],
   "source": [
    "nat"
   ]
  },
  {
   "cell_type": "markdown",
   "metadata": {},
   "source": [
    "El argumento `name` de la función `pd.Series` permite asignar un nombre a la serie creada. Otra de las propiedades de las `Series` es `name`:"
   ]
  },
  {
   "cell_type": "code",
   "execution_count": 12,
   "metadata": {},
   "outputs": [
    {
     "data": {
      "text/plain": [
       "'Tasa de Natalidad'"
      ]
     },
     "execution_count": 12,
     "metadata": {},
     "output_type": "execute_result"
    }
   ],
   "source": [
    "nat.name"
   ]
  },
  {
   "cell_type": "markdown",
   "metadata": {},
   "source": [
    "En este caso, tenemos dos procedimientos para acceder a los datos de una serie. El primero es mediante la etiqueta del índice y notación de corchetes, como en el caso de las listas o los arrays:"
   ]
  },
  {
   "cell_type": "code",
   "execution_count": 13,
   "metadata": {},
   "outputs": [
    {
     "data": {
      "text/plain": [
       "10.7"
      ]
     },
     "execution_count": 13,
     "metadata": {},
     "output_type": "execute_result"
    }
   ],
   "source": [
    "nat['Murcia']"
   ]
  },
  {
   "cell_type": "markdown",
   "metadata": {},
   "source": [
    "El segundo es mediante la etiqueta del índice (siempre que sea un nombre válido en Python) como si fuera una propiedad de la serie:"
   ]
  },
  {
   "cell_type": "code",
   "execution_count": 14,
   "metadata": {},
   "outputs": [
    {
     "data": {
      "text/plain": [
       "10.7"
      ]
     },
     "execution_count": 14,
     "metadata": {},
     "output_type": "execute_result"
    }
   ],
   "source": [
    "nat.Murcia"
   ]
  },
  {
   "cell_type": "markdown",
   "metadata": {},
   "source": [
    "Está claro que los datos los podríamos haber representado con un array en lugar de una serie, pero como se puede ver, las series proporcionan mayor claridad en cuanto a los datos que contienen, la forma de acceso, etc. Por ejemplo, es posible preguntar de forma natural si un determinado valor está en el índice:"
   ]
  },
  {
   "cell_type": "code",
   "execution_count": 15,
   "metadata": {},
   "outputs": [
    {
     "data": {
      "text/plain": [
       "True"
      ]
     },
     "execution_count": 15,
     "metadata": {},
     "output_type": "execute_result"
    }
   ],
   "source": [
    "'Cantabria' in nat.index"
   ]
  },
  {
   "cell_type": "markdown",
   "metadata": {},
   "source": [
    "En cuanto a las operaciones con series, tenemos por ejemplo, las operaciones aritméticas (`+`, `-` , `*` , `/ `) :"
   ]
  },
  {
   "cell_type": "code",
   "execution_count": 16,
   "metadata": {},
   "outputs": [
    {
     "data": {
      "text/plain": [
       "Murcia       1070.0\n",
       "Cantabria     750.0\n",
       "Galicia       710.0\n",
       "Melilla      1780.0\n",
       "Canarias      790.0\n",
       "Name: Tasa de Natalidad, dtype: float64"
      ]
     },
     "execution_count": 16,
     "metadata": {},
     "output_type": "execute_result"
    }
   ],
   "source": [
    "nat * 100"
   ]
  },
  {
   "cell_type": "code",
   "execution_count": 17,
   "metadata": {},
   "outputs": [
    {
     "data": {
      "text/plain": [
       "Murcia       110.7\n",
       "Cantabria    107.5\n",
       "Galicia      107.1\n",
       "Melilla      117.8\n",
       "Canarias     107.9\n",
       "Name: Tasa de Natalidad, dtype: float64"
      ]
     },
     "execution_count": 17,
     "metadata": {},
     "output_type": "execute_result"
    }
   ],
   "source": [
    "resultado = nat + 100\n",
    "resultado"
   ]
  },
  {
   "cell_type": "code",
   "execution_count": 18,
   "metadata": {},
   "outputs": [
    {
     "data": {
      "text/plain": [
       "Murcia       3.271085\n",
       "Cantabria    2.738613\n",
       "Galicia      2.664583\n",
       "Melilla      4.219005\n",
       "Canarias     2.810694\n",
       "Name: Tasa de Natalidad, dtype: float64"
      ]
     },
     "execution_count": 18,
     "metadata": {},
     "output_type": "execute_result"
    }
   ],
   "source": [
    "np.sqrt(nat)"
   ]
  },
  {
   "cell_type": "markdown",
   "metadata": {},
   "source": [
    "Otra de las operaciones que se aplican a los arrays de Numpy y que se extienden a las series de Pandas, es la selección de elementos usando filtros:"
   ]
  },
  {
   "cell_type": "code",
   "execution_count": 19,
   "metadata": {},
   "outputs": [
    {
     "data": {
      "text/plain": [
       "Cantabria    7.5\n",
       "Galicia      7.1\n",
       "Canarias     7.9\n",
       "Name: Tasa de Natalidad, dtype: float64"
      ]
     },
     "execution_count": 19,
     "metadata": {},
     "output_type": "execute_result"
    }
   ],
   "source": [
    "nat[nat < 10]"
   ]
  },
  {
   "cell_type": "markdown",
   "metadata": {},
   "source": [
    "La característica estrella de las series es el alineamiento de datos en base al valor de los índices en las operaciones entre dos series:"
   ]
  },
  {
   "cell_type": "code",
   "execution_count": 20,
   "metadata": {},
   "outputs": [],
   "source": [
    "nach = pd.Series([2154, 8184, 10032, 780, 8177],  \n",
    "               index=['Cantabria', 'Canarias', \n",
    "                      'Galicia', 'Melilla', 'Murcia'],\n",
    "               name = 'Nacidos Hombres')    "
   ]
  },
  {
   "cell_type": "code",
   "execution_count": 21,
   "metadata": {},
   "outputs": [],
   "source": [
    "nacm = pd.Series([7962, 2221,  730, 9395],  \n",
    "               index=['Canarias', 'Cantabria', 'Melilla',  'Galicia'],\n",
    "               name = 'Nacidas Mujeres')  "
   ]
  },
  {
   "cell_type": "code",
   "execution_count": 22,
   "metadata": {},
   "outputs": [
    {
     "data": {
      "text/plain": [
       "Cantabria     2154\n",
       "Canarias      8184\n",
       "Galicia      10032\n",
       "Melilla        780\n",
       "Murcia        8177\n",
       "Name: Nacidos Hombres, dtype: int64"
      ]
     },
     "execution_count": 22,
     "metadata": {},
     "output_type": "execute_result"
    }
   ],
   "source": [
    "nach"
   ]
  },
  {
   "cell_type": "code",
   "execution_count": 23,
   "metadata": {},
   "outputs": [
    {
     "data": {
      "text/plain": [
       "Canarias     7962\n",
       "Cantabria    2221\n",
       "Melilla       730\n",
       "Galicia      9395\n",
       "Name: Nacidas Mujeres, dtype: int64"
      ]
     },
     "execution_count": 23,
     "metadata": {},
     "output_type": "execute_result"
    }
   ],
   "source": [
    "nacm"
   ]
  },
  {
   "cell_type": "code",
   "execution_count": 24,
   "metadata": {},
   "outputs": [
    {
     "data": {
      "text/plain": [
       "Canarias     16146.0\n",
       "Cantabria     4375.0\n",
       "Galicia      19427.0\n",
       "Melilla       1510.0\n",
       "Murcia           NaN\n",
       "dtype: float64"
      ]
     },
     "execution_count": 24,
     "metadata": {},
     "output_type": "execute_result"
    }
   ],
   "source": [
    "nach + nacm"
   ]
  },
  {
   "cell_type": "code",
   "execution_count": 25,
   "metadata": {},
   "outputs": [
    {
     "data": {
      "text/plain": [
       "Canarias     16146.0\n",
       "Cantabria     4375.0\n",
       "Galicia      19427.0\n",
       "Melilla       1510.0\n",
       "Murcia        8177.0\n",
       "dtype: float64"
      ]
     },
     "execution_count": 25,
     "metadata": {},
     "output_type": "execute_result"
    }
   ],
   "source": [
    "nach.add(nacm, fill_value = 0)"
   ]
  },
  {
   "cell_type": "markdown",
   "metadata": {},
   "source": [
    "El resultado de la operación anterior contiene el valor __NaN__. Este valor se usa para representar un campo vacío o desconocido. Es el equivalente al valor NULL del lenguaje SQL. En este caso, la serie `nach` tiene valor `8177` para la etiqueta `Murcia`, pero la serie `nacm` no contiene dicha etiqueta en su índice, por lo que la suma de ambos produce como resultado `NaN`.\n",
    "\n",
    "Aunque los valores `NaN` generan algunos problemas a la hora de realizar ciertos análisis, puede ser útil definir una serie a partir de un array que contenga uno o varios valores NaN."
   ]
  },
  {
   "cell_type": "code",
   "execution_count": 26,
   "metadata": {},
   "outputs": [],
   "source": [
    "nacm = pd.Series([7962, np.NaN,  730, np.NaN],  \n",
    "               index=['Canarias', 'Cantabria', 'Melilla',  'Galicia'],\n",
    "               name = 'Nacidas Mujeres')  \n"
   ]
  },
  {
   "cell_type": "code",
   "execution_count": 27,
   "metadata": {},
   "outputs": [
    {
     "data": {
      "text/plain": [
       "Canarias     7962.0\n",
       "Cantabria       NaN\n",
       "Melilla       730.0\n",
       "Galicia         NaN\n",
       "Name: Nacidas Mujeres, dtype: float64"
      ]
     },
     "execution_count": 27,
     "metadata": {},
     "output_type": "execute_result"
    }
   ],
   "source": [
    "nacm"
   ]
  },
  {
   "cell_type": "markdown",
   "metadata": {},
   "source": [
    "Los métodos `isnull` y `notnull` de las `Series` permiten identificar aquellas etiquetas en el índice asociadas a un valor `NaN`. Como resultado se obtiene una nueva serie cuyos valores son de tipo `Bool`."
   ]
  },
  {
   "cell_type": "code",
   "execution_count": 28,
   "metadata": {},
   "outputs": [
    {
     "data": {
      "text/plain": [
       "Canarias     False\n",
       "Cantabria     True\n",
       "Melilla      False\n",
       "Galicia       True\n",
       "Name: Nacidas Mujeres, dtype: bool"
      ]
     },
     "execution_count": 28,
     "metadata": {},
     "output_type": "execute_result"
    }
   ],
   "source": [
    "nacm.isnull()"
   ]
  },
  {
   "cell_type": "code",
   "execution_count": 29,
   "metadata": {},
   "outputs": [
    {
     "data": {
      "text/plain": [
       "Canarias      True\n",
       "Cantabria    False\n",
       "Melilla       True\n",
       "Galicia      False\n",
       "Name: Nacidas Mujeres, dtype: bool"
      ]
     },
     "execution_count": 29,
     "metadata": {},
     "output_type": "execute_result"
    }
   ],
   "source": [
    "nacm.notnull()"
   ]
  },
  {
   "cell_type": "code",
   "execution_count": 30,
   "metadata": {},
   "outputs": [],
   "source": [
    "nacm.fillna(method = 'ffill', inplace = True)"
   ]
  },
  {
   "cell_type": "code",
   "execution_count": 31,
   "metadata": {},
   "outputs": [
    {
     "data": {
      "text/plain": [
       "Canarias     7962.0\n",
       "Cantabria    7962.0\n",
       "Melilla       730.0\n",
       "Galicia       730.0\n",
       "Name: Nacidas Mujeres, dtype: float64"
      ]
     },
     "execution_count": 31,
     "metadata": {},
     "output_type": "execute_result"
    }
   ],
   "source": [
    "nacm"
   ]
  },
  {
   "cell_type": "markdown",
   "metadata": {},
   "source": [
    "El análisis descriptivo de los datos representados mediante una serie se puede realizar usando los métodos `mean` (media), `median` (mediana), `std`(desviación estándar), `min`(mínimo), `max`(máximo) y `quantile`(quantiles) o usando el método `describe` de las `Series`:"
   ]
  },
  {
   "cell_type": "code",
   "execution_count": 32,
   "metadata": {},
   "outputs": [
    {
     "data": {
      "text/plain": [
       "(5865.4, 8177.0, 4114.478679006613)"
      ]
     },
     "execution_count": 32,
     "metadata": {},
     "output_type": "execute_result"
    }
   ],
   "source": [
    "nach.mean(), nach.median(), nach.std()"
   ]
  },
  {
   "cell_type": "code",
   "execution_count": 3,
   "metadata": {},
   "outputs": [
    {
     "ename": "NameError",
     "evalue": "name 'nach' is not defined",
     "output_type": "error",
     "traceback": [
      "\u001b[1;31m---------------------------------------------------------------------------\u001b[0m",
      "\u001b[1;31mNameError\u001b[0m                                 Traceback (most recent call last)",
      "Cell \u001b[1;32mIn[3], line 1\u001b[0m\n\u001b[1;32m----> 1\u001b[0m \u001b[43mnach\u001b[49m\u001b[38;5;241m.\u001b[39mdescribe()\n",
      "\u001b[1;31mNameError\u001b[0m: name 'nach' is not defined"
     ]
    }
   ],
   "source": [
    "nach.describe()"
   ]
  },
  {
   "cell_type": "markdown",
   "metadata": {},
   "source": [
    "Como complemento a la información proporcionada por el método `describe`, la librería Pandas junto con Matplotlib permiten la creación de los gráficos más comunes en estadística descriptiva. Para crear un diagrama de barras (`bar`) y un diagrama de tarta (`pie`) escribimos lo siguiente:"
   ]
  },
  {
   "cell_type": "code",
   "execution_count": 34,
   "metadata": {},
   "outputs": [
    {
     "data": {
      "text/plain": [
       "Cantabria     2154\n",
       "Canarias      8184\n",
       "Galicia      10032\n",
       "Melilla        780\n",
       "Murcia        8177\n",
       "Name: Nacidos Hombres, dtype: int64"
      ]
     },
     "execution_count": 34,
     "metadata": {},
     "output_type": "execute_result"
    }
   ],
   "source": [
    "nach"
   ]
  },
  {
   "cell_type": "markdown",
   "metadata": {},
   "source": [
    "Podemos hacer una   visualización básica:"
   ]
  },
  {
   "cell_type": "code",
   "execution_count": 2,
   "metadata": {},
   "outputs": [
    {
     "ename": "NameError",
     "evalue": "name 'plt' is not defined",
     "output_type": "error",
     "traceback": [
      "\u001b[1;31m---------------------------------------------------------------------------\u001b[0m",
      "\u001b[1;31mNameError\u001b[0m                                 Traceback (most recent call last)",
      "Cell \u001b[1;32mIn[2], line 1\u001b[0m\n\u001b[1;32m----> 1\u001b[0m figura, ax1 \u001b[38;5;241m=\u001b[39m \u001b[43mplt\u001b[49m\u001b[38;5;241m.\u001b[39msubplots(\u001b[38;5;241m1\u001b[39m, figsize \u001b[38;5;241m=\u001b[39m (\u001b[38;5;241m5\u001b[39m,\u001b[38;5;241m2\u001b[39m))\n\u001b[0;32m      2\u001b[0m nach\u001b[38;5;241m.\u001b[39mplot(ax \u001b[38;5;241m=\u001b[39m ax1, kind \u001b[38;5;241m=\u001b[39m \u001b[38;5;124m'\u001b[39m\u001b[38;5;124mbarh\u001b[39m\u001b[38;5;124m'\u001b[39m, title \u001b[38;5;241m=\u001b[39m \u001b[38;5;124m'\u001b[39m\u001b[38;5;124mDiagrama de barras - Hombres\u001b[39m\u001b[38;5;124m'\u001b[39m);\n",
      "\u001b[1;31mNameError\u001b[0m: name 'plt' is not defined"
     ]
    }
   ],
   "source": [
    "figura, ax1 = plt.subplots(1, figsize = (5,2))\n",
    "nach.plot(ax = ax1, kind = 'barh', title = 'Diagrama de barras - Hombres');"
   ]
  },
  {
   "cell_type": "markdown",
   "metadata": {},
   "source": [
    "La variable `figura` representa el lienzo sobre el que pintaremos uno o varios gráficos. En el ejemplo anterior, pintamos un único gráfico llamado `ax1`."
   ]
  },
  {
   "cell_type": "markdown",
   "metadata": {},
   "source": [
    "Si queremos dibujar dos gráficos en el mismo lienzo, en la misma `figura`, indicaremos que nuestro lienzo se compone de una fila `nrows = 1`  y dos columnas `cols= 2`. Usaremos los parámetros `nrows` y  `ncols` en la función `plt.subplots`."
   ]
  },
  {
   "cell_type": "code",
   "execution_count": 79,
   "metadata": {},
   "outputs": [
    {
     "data": {
      "image/png": "[encoded data removed]",
      "text/plain": [
       "<Figure size 720x216 with 2 Axes>"
      ]
     },
     "metadata": {
      "needs_background": "light"
     },
     "output_type": "display_data"
    }
   ],
   "source": [
    "figura, (ax1, ax2) = plt.subplots(nrows = 1, ncols= 2,  figsize = (10,3))\n",
    "nach.plot(ax=ax1, kind = 'bar', title = 'Diagrama de barras - Hombres');\n",
    "nach.plot(ax=ax2, kind = 'pie', title = 'Diagrama de sectores - Hombres');"
   ]
  },
  {
   "cell_type": "markdown",
   "metadata": {},
   "source": [
    "La gestión de valores duplicados se realiza mediante los métodos `unique` y `value_count` de las `Series`. El método `unique` devuelve un array con los valores de la serie sin duplicados. A continuación creamos una serie con valores duplicados:"
   ]
  },
  {
   "cell_type": "code",
   "execution_count": 80,
   "metadata": {},
   "outputs": [],
   "source": [
    "pos = pd.Series(['Sur', 'Norte',  'Sur', 'Norte', 'Norte'],  \n",
    "               index=['Cádiz', 'Cantabria', 'Melilla',  'Galicia', 'Asturias'])"
   ]
  },
  {
   "cell_type": "code",
   "execution_count": 81,
   "metadata": {},
   "outputs": [
    {
     "data": {
      "text/plain": [
       "Cádiz          Sur\n",
       "Cantabria    Norte\n",
       "Melilla        Sur\n",
       "Galicia      Norte\n",
       "Asturias     Norte\n",
       "dtype: object"
      ]
     },
     "execution_count": 81,
     "metadata": {},
     "output_type": "execute_result"
    }
   ],
   "source": [
    "pos"
   ]
  },
  {
   "cell_type": "code",
   "execution_count": 82,
   "metadata": {},
   "outputs": [
    {
     "data": {
      "text/plain": [
       "array(['Sur', 'Norte'], dtype=object)"
      ]
     },
     "execution_count": 82,
     "metadata": {},
     "output_type": "execute_result"
    }
   ],
   "source": [
    "pos.unique()"
   ]
  },
  {
   "cell_type": "markdown",
   "metadata": {},
   "source": [
    "Por otro lado, el método `value_counts` devuelve la frecuencia de cada uno de los valores de una serie:"
   ]
  },
  {
   "cell_type": "code",
   "execution_count": 83,
   "metadata": {},
   "outputs": [
    {
     "data": {
      "text/plain": [
       "Norte    3\n",
       "Sur      2\n",
       "dtype: int64"
      ]
     },
     "execution_count": 83,
     "metadata": {},
     "output_type": "execute_result"
    }
   ],
   "source": [
    "pos.value_counts()"
   ]
  },
  {
   "cell_type": "markdown",
   "metadata": {},
   "source": [
    "### Los datos de tipo DataFrame"
   ]
  },
  {
   "cell_type": "markdown",
   "metadata": {},
   "source": [
    "Los  `DataFrame`  de Pandas están diseñados para manejar datos representados en forma de tabla, donde tanto las filas como las columnas están indexadas. Los datos de tipo `DataFrame` pueden verse como una colección ordenada de columnas, cada una de las cuales viene representada por un objeto de tipo `Series`, con su nombre y su índice. Cada columna tiene asociado un tipo de datos y todas las columnas comparten el mísmo índice. En este caso, usaremos el término *dataframe* para referirnos a los datos de tipo `DataFrame`. \n",
    "\n",
    "Hay varias formas de crear  datos de tipo `DataFrame`. \n",
    "\n",
    "* Podemos usar la función `pd.DataFrame` si los datos se encuentran representados mediante una lista, un diccionario (de listas o de arrays), una `Serie` o incluso otro `DataFrame`. \n",
    "\n",
    "* Si los datos en encuentran en un fichero, Pandas proporciona las funciones `pd.read_csv`, `pd.read_excel`  para la creación de `DataFrame`."
   ]
  },
  {
   "cell_type": "markdown",
   "metadata": {},
   "source": [
    "En el siguiente ejemplo usamos la función  `pd.DataFrame` para crear un dataframe a partir de un diccionario:"
   ]
  },
  {
   "cell_type": "code",
   "execution_count": 84,
   "metadata": {},
   "outputs": [
    {
     "data": {
      "text/html": [
       "<div>\n",
       "<style scoped>\n",
       "    .dataframe tbody tr th:only-of-type {\n",
       "        vertical-align: middle;\n",
       "    }\n",
       "\n",
       "    .dataframe tbody tr th {\n",
       "        vertical-align: top;\n",
       "    }\n",
       "\n",
       "    .dataframe thead th {\n",
       "        text-align: right;\n",
       "    }\n",
       "</style>\n",
       "<table border=\"1\" class=\"dataframe\">\n",
       "  <thead>\n",
       "    <tr style=\"text-align: right;\">\n",
       "      <th></th>\n",
       "      <th>Ciudades</th>\n",
       "      <th>Nacidos H</th>\n",
       "    </tr>\n",
       "  </thead>\n",
       "  <tbody>\n",
       "    <tr>\n",
       "      <th>0</th>\n",
       "      <td>Melilla</td>\n",
       "      <td>780</td>\n",
       "    </tr>\n",
       "    <tr>\n",
       "      <th>1</th>\n",
       "      <td>Canarias</td>\n",
       "      <td>8184</td>\n",
       "    </tr>\n",
       "    <tr>\n",
       "      <th>2</th>\n",
       "      <td>Galicia</td>\n",
       "      <td>10032</td>\n",
       "    </tr>\n",
       "    <tr>\n",
       "      <th>3</th>\n",
       "      <td>Cantabria</td>\n",
       "      <td>2154</td>\n",
       "    </tr>\n",
       "    <tr>\n",
       "      <th>4</th>\n",
       "      <td>Murcia</td>\n",
       "      <td>8177</td>\n",
       "    </tr>\n",
       "  </tbody>\n",
       "</table>\n",
       "</div>"
      ],
      "text/plain": [
       "    Ciudades  Nacidos H\n",
       "0    Melilla        780\n",
       "1   Canarias       8184\n",
       "2    Galicia      10032\n",
       "3  Cantabria       2154\n",
       "4     Murcia       8177"
      ]
     },
     "execution_count": 84,
     "metadata": {},
     "output_type": "execute_result"
    }
   ],
   "source": [
    "d = { 'Ciudades' : ['Melilla', 'Canarias', 'Galicia', 'Cantabria', 'Murcia'],\n",
    "      'Nacidos H': [780, 8184, 10032, 2154, 8177] \n",
    "    }\n",
    "\n",
    "\n",
    "tabla = pd.DataFrame( data = d )\n",
    "tabla"
   ]
  },
  {
   "cell_type": "code",
   "execution_count": 86,
   "metadata": {},
   "outputs": [
    {
     "name": "stdout",
     "output_type": "stream",
     "text": [
      "<class 'pandas.core.frame.DataFrame'>\n",
      "RangeIndex: 5 entries, 0 to 4\n",
      "Data columns (total 2 columns):\n",
      " #   Column     Non-Null Count  Dtype \n",
      "---  ------     --------------  ----- \n",
      " 0   Ciudades   5 non-null      object\n",
      " 1   Nacidos H  5 non-null      int64 \n",
      "dtypes: int64(1), object(1)\n",
      "memory usage: 208.0+ bytes\n"
     ]
    }
   ],
   "source": [
    "tabla.info()"
   ]
  },
  {
   "cell_type": "code",
   "execution_count": 87,
   "metadata": {},
   "outputs": [
    {
     "data": {
      "text/plain": [
       "Nacidos H    5865.4\n",
       "dtype: float64"
      ]
     },
     "execution_count": 87,
     "metadata": {},
     "output_type": "execute_result"
    }
   ],
   "source": [
    "tabla.mean()"
   ]
  },
  {
   "cell_type": "code",
   "execution_count": 88,
   "metadata": {},
   "outputs": [
    {
     "data": {
      "text/html": [
       "<div>\n",
       "<style scoped>\n",
       "    .dataframe tbody tr th:only-of-type {\n",
       "        vertical-align: middle;\n",
       "    }\n",
       "\n",
       "    .dataframe tbody tr th {\n",
       "        vertical-align: top;\n",
       "    }\n",
       "\n",
       "    .dataframe thead th {\n",
       "        text-align: right;\n",
       "    }\n",
       "</style>\n",
       "<table border=\"1\" class=\"dataframe\">\n",
       "  <thead>\n",
       "    <tr style=\"text-align: right;\">\n",
       "      <th></th>\n",
       "      <th>Nacidos H</th>\n",
       "    </tr>\n",
       "  </thead>\n",
       "  <tbody>\n",
       "    <tr>\n",
       "      <th>count</th>\n",
       "      <td>5.000000</td>\n",
       "    </tr>\n",
       "    <tr>\n",
       "      <th>mean</th>\n",
       "      <td>5865.400000</td>\n",
       "    </tr>\n",
       "    <tr>\n",
       "      <th>std</th>\n",
       "      <td>4114.478679</td>\n",
       "    </tr>\n",
       "    <tr>\n",
       "      <th>min</th>\n",
       "      <td>780.000000</td>\n",
       "    </tr>\n",
       "    <tr>\n",
       "      <th>25%</th>\n",
       "      <td>2154.000000</td>\n",
       "    </tr>\n",
       "    <tr>\n",
       "      <th>50%</th>\n",
       "      <td>8177.000000</td>\n",
       "    </tr>\n",
       "    <tr>\n",
       "      <th>75%</th>\n",
       "      <td>8184.000000</td>\n",
       "    </tr>\n",
       "    <tr>\n",
       "      <th>max</th>\n",
       "      <td>10032.000000</td>\n",
       "    </tr>\n",
       "  </tbody>\n",
       "</table>\n",
       "</div>"
      ],
      "text/plain": [
       "          Nacidos H\n",
       "count      5.000000\n",
       "mean    5865.400000\n",
       "std     4114.478679\n",
       "min      780.000000\n",
       "25%     2154.000000\n",
       "50%     8177.000000\n",
       "75%     8184.000000\n",
       "max    10032.000000"
      ]
     },
     "execution_count": 88,
     "metadata": {},
     "output_type": "execute_result"
    }
   ],
   "source": [
    "tabla.describe()"
   ]
  },
  {
   "cell_type": "code",
   "execution_count": 89,
   "metadata": {},
   "outputs": [
    {
     "data": {
      "text/plain": [
       "0      Melilla\n",
       "1     Canarias\n",
       "2      Galicia\n",
       "3    Cantabria\n",
       "4       Murcia\n",
       "Name: Ciudades, dtype: object"
      ]
     },
     "execution_count": 89,
     "metadata": {},
     "output_type": "execute_result"
    }
   ],
   "source": [
    "tabla.Ciudades"
   ]
  },
  {
   "cell_type": "code",
   "execution_count": 90,
   "metadata": {},
   "outputs": [
    {
     "data": {
      "text/plain": [
       "0      780\n",
       "1     8184\n",
       "2    10032\n",
       "3     2154\n",
       "4     8177\n",
       "Name: Nacidos H, dtype: int64"
      ]
     },
     "execution_count": 90,
     "metadata": {},
     "output_type": "execute_result"
    }
   ],
   "source": [
    "tabla['Nacidos H']"
   ]
  },
  {
   "cell_type": "code",
   "execution_count": 91,
   "metadata": {},
   "outputs": [
    {
     "data": {
      "text/plain": [
       "Index(['Ciudades', 'Nacidos H'], dtype='object')"
      ]
     },
     "execution_count": 91,
     "metadata": {},
     "output_type": "execute_result"
    }
   ],
   "source": [
    "tabla.columns"
   ]
  },
  {
   "cell_type": "markdown",
   "metadata": {},
   "source": [
    "Las claves del diccionario forman el índice de las columnas. El valor de cada una de las claves del diccinario ha de ser una lista o un array de igual longuitud. Al igual que las `Series`, los atributos `index` y `values` representan el índice y los datos del dataframe respectivamente: "
   ]
  },
  {
   "cell_type": "code",
   "execution_count": 92,
   "metadata": {},
   "outputs": [
    {
     "data": {
      "text/plain": [
       "RangeIndex(start=0, stop=5, step=1)"
      ]
     },
     "execution_count": 92,
     "metadata": {},
     "output_type": "execute_result"
    }
   ],
   "source": [
    "tabla.index"
   ]
  },
  {
   "cell_type": "code",
   "execution_count": 93,
   "metadata": {},
   "outputs": [
    {
     "data": {
      "text/plain": [
       "array([['Melilla', 780],\n",
       "       ['Canarias', 8184],\n",
       "       ['Galicia', 10032],\n",
       "       ['Cantabria', 2154],\n",
       "       ['Murcia', 8177]], dtype=object)"
      ]
     },
     "execution_count": 93,
     "metadata": {},
     "output_type": "execute_result"
    }
   ],
   "source": [
    "tabla.values"
   ]
  },
  {
   "cell_type": "markdown",
   "metadata": {},
   "source": [
    "A diferencia de las series, que tienen un único índice, los dataframes tienen dos  índices. El primero es un índice común para todas las columnas y está asociado a cada una de las filas. El segundo índice contiene un array de etiquetas o nombres de columnas. La propiedad `columns` representa el índice de las columnas:"
   ]
  },
  {
   "cell_type": "code",
   "execution_count": 94,
   "metadata": {},
   "outputs": [
    {
     "data": {
      "text/plain": [
       "Index(['Ciudades', 'Nacidos H'], dtype='object')"
      ]
     },
     "execution_count": 94,
     "metadata": {},
     "output_type": "execute_result"
    }
   ],
   "source": [
    "tabla.columns"
   ]
  },
  {
   "cell_type": "markdown",
   "metadata": {},
   "source": [
    "Para crear un  `DataFrame ` a partir de una serie, escribimos lo siguiente:"
   ]
  },
  {
   "cell_type": "code",
   "execution_count": 95,
   "metadata": {},
   "outputs": [],
   "source": [
    "nat = pd.Series([10.7, 7.5, 7.1, 17.8, 7.9 ],  \n",
    "               index=['Murcia','Cantabria', 'Galicia', 'Melilla','Canarias' ],\n",
    "               name = 'Valor')  "
   ]
  },
  {
   "cell_type": "code",
   "execution_count": 96,
   "metadata": {},
   "outputs": [
    {
     "data": {
      "text/plain": [
       "Murcia       10.7\n",
       "Cantabria     7.5\n",
       "Galicia       7.1\n",
       "Melilla      17.8\n",
       "Canarias      7.9\n",
       "Name: Valor, dtype: float64"
      ]
     },
     "execution_count": 96,
     "metadata": {},
     "output_type": "execute_result"
    }
   ],
   "source": [
    "nat"
   ]
  },
  {
   "cell_type": "code",
   "execution_count": 97,
   "metadata": {},
   "outputs": [],
   "source": [
    "tabla2 = pd.DataFrame(nat)"
   ]
  },
  {
   "cell_type": "code",
   "execution_count": 98,
   "metadata": {},
   "outputs": [
    {
     "data": {
      "text/html": [
       "<div>\n",
       "<style scoped>\n",
       "    .dataframe tbody tr th:only-of-type {\n",
       "        vertical-align: middle;\n",
       "    }\n",
       "\n",
       "    .dataframe tbody tr th {\n",
       "        vertical-align: top;\n",
       "    }\n",
       "\n",
       "    .dataframe thead th {\n",
       "        text-align: right;\n",
       "    }\n",
       "</style>\n",
       "<table border=\"1\" class=\"dataframe\">\n",
       "  <thead>\n",
       "    <tr style=\"text-align: right;\">\n",
       "      <th></th>\n",
       "      <th>Valor</th>\n",
       "    </tr>\n",
       "  </thead>\n",
       "  <tbody>\n",
       "    <tr>\n",
       "      <th>Murcia</th>\n",
       "      <td>10.7</td>\n",
       "    </tr>\n",
       "    <tr>\n",
       "      <th>Cantabria</th>\n",
       "      <td>7.5</td>\n",
       "    </tr>\n",
       "    <tr>\n",
       "      <th>Galicia</th>\n",
       "      <td>7.1</td>\n",
       "    </tr>\n",
       "    <tr>\n",
       "      <th>Melilla</th>\n",
       "      <td>17.8</td>\n",
       "    </tr>\n",
       "    <tr>\n",
       "      <th>Canarias</th>\n",
       "      <td>7.9</td>\n",
       "    </tr>\n",
       "  </tbody>\n",
       "</table>\n",
       "</div>"
      ],
      "text/plain": [
       "           Valor\n",
       "Murcia      10.7\n",
       "Cantabria    7.5\n",
       "Galicia      7.1\n",
       "Melilla     17.8\n",
       "Canarias     7.9"
      ]
     },
     "execution_count": 98,
     "metadata": {},
     "output_type": "execute_result"
    }
   ],
   "source": [
    "tabla2"
   ]
  },
  {
   "cell_type": "code",
   "execution_count": 99,
   "metadata": {},
   "outputs": [
    {
     "data": {
      "text/plain": [
       "Index(['Murcia', 'Cantabria', 'Galicia', 'Melilla', 'Canarias'], dtype='object')"
      ]
     },
     "execution_count": 99,
     "metadata": {},
     "output_type": "execute_result"
    }
   ],
   "source": [
    "tabla2.index"
   ]
  },
  {
   "cell_type": "markdown",
   "metadata": {},
   "source": [
    "El índice del `DataFrame` creado coincide con el índice de la serie `nat` y el nombre de la columna es el nombre de la `Serie`."
   ]
  },
  {
   "cell_type": "markdown",
   "metadata": {},
   "source": [
    "La función `pd.DataFrame` admite más argumentos, como por ejemplo los argumentos `index` y `columns` para crear el índice de las filas y columnas del `DataFrame` respectivamente. En el siguiente ejemplo creamos un `DataFrame` con datos acerca de la producción de mantequilla en miles de toneladas de ciertos paises en distintos años (fuente: http://ec.europa.eu/eurostat/web/agriculture/data/main-tables):"
   ]
  },
  {
   "cell_type": "code",
   "execution_count": 41,
   "metadata": {},
   "outputs": [
    {
     "data": {
      "text/html": [
       "<div>\n",
       "<style scoped>\n",
       "    .dataframe tbody tr th:only-of-type {\n",
       "        vertical-align: middle;\n",
       "    }\n",
       "\n",
       "    .dataframe tbody tr th {\n",
       "        vertical-align: top;\n",
       "    }\n",
       "\n",
       "    .dataframe thead th {\n",
       "        text-align: right;\n",
       "    }\n",
       "</style>\n",
       "<table border=\"1\" class=\"dataframe\">\n",
       "  <thead>\n",
       "    <tr style=\"text-align: right;\">\n",
       "      <th></th>\n",
       "      <th>Desc</th>\n",
       "      <th>2004</th>\n",
       "      <th>2005</th>\n",
       "      <th>2006</th>\n",
       "      <th>Tipo</th>\n",
       "    </tr>\n",
       "  </thead>\n",
       "  <tbody>\n",
       "    <tr>\n",
       "      <th>EE</th>\n",
       "      <td>Estonia</td>\n",
       "      <td>8.40</td>\n",
       "      <td>7.70</td>\n",
       "      <td>6.70</td>\n",
       "      <td>A</td>\n",
       "    </tr>\n",
       "    <tr>\n",
       "      <th>IE</th>\n",
       "      <td>Ireland</td>\n",
       "      <td>193.50</td>\n",
       "      <td>227.76</td>\n",
       "      <td>221.05</td>\n",
       "      <td>B</td>\n",
       "    </tr>\n",
       "    <tr>\n",
       "      <th>EL</th>\n",
       "      <td>Greece</td>\n",
       "      <td>1.40</td>\n",
       "      <td>1.60</td>\n",
       "      <td>1.50</td>\n",
       "      <td>A</td>\n",
       "    </tr>\n",
       "    <tr>\n",
       "      <th>ES</th>\n",
       "      <td>Spain</td>\n",
       "      <td>50.52</td>\n",
       "      <td>58.90</td>\n",
       "      <td>46.72</td>\n",
       "      <td>C</td>\n",
       "    </tr>\n",
       "    <tr>\n",
       "      <th>FR</th>\n",
       "      <td>France</td>\n",
       "      <td>415.09</td>\n",
       "      <td>423.10</td>\n",
       "      <td>400.52</td>\n",
       "      <td>A</td>\n",
       "    </tr>\n",
       "  </tbody>\n",
       "</table>\n",
       "</div>"
      ],
      "text/plain": [
       "       Desc    2004    2005    2006 Tipo\n",
       "EE  Estonia    8.40    7.70    6.70    A\n",
       "IE  Ireland  193.50  227.76  221.05    B\n",
       "EL   Greece    1.40    1.60    1.50    A\n",
       "ES    Spain   50.52   58.90   46.72    C\n",
       "FR   France  415.09  423.10  400.52    A"
      ]
     },
     "execution_count": 41,
     "metadata": {},
     "output_type": "execute_result"
    }
   ],
   "source": [
    "tabla3 = pd.DataFrame( data = [ ('Estonia', 8.4, 7.7, 6.7, 'A'), \n",
    "                                ('Ireland',193.5, 227.76, 221.05, 'B'),\n",
    "                                ('Greece',1.4,1.6,1.5, 'A'),\n",
    "                                ('Spain',50.52,58.9,46.72, 'C'),\n",
    "                                ('France',415.09,423.1,400.52, 'A') ],\n",
    "                      \n",
    "                      \n",
    "                       columns =  ['Desc', '2004', '2005', '2006', 'Tipo'], \n",
    "                       index = [ 'EE', 'IE', 'EL', 'ES', 'FR'])\n",
    "tabla3"
   ]
  },
  {
   "cell_type": "markdown",
   "metadata": {},
   "source": [
    "El método `info` de los datos de tipo  `DataFrame` muestra información acerca del objeto `DataFrame` (el número de columnas, el número de filas, la cantidad de memoria usada), e información relativa a cada una de las columnas (el nombre de las columnas, su tipo y el número de valores distinto de `NaN`)."
   ]
  },
  {
   "cell_type": "code",
   "execution_count": 43,
   "metadata": {},
   "outputs": [
    {
     "name": "stdout",
     "output_type": "stream",
     "text": [
      "<class 'pandas.core.frame.DataFrame'>\n",
      "Index: 5 entries, EE to FR\n",
      "Data columns (total 5 columns):\n",
      " #   Column  Non-Null Count  Dtype  \n",
      "---  ------  --------------  -----  \n",
      " 0   Desc    5 non-null      object \n",
      " 1   2004    5 non-null      float64\n",
      " 2   2005    5 non-null      float64\n",
      " 3   2006    5 non-null      float64\n",
      " 4   Tipo    5 non-null      object \n",
      "dtypes: float64(3), object(2)\n",
      "memory usage: 240.0+ bytes\n"
     ]
    }
   ],
   "source": [
    "tabla3.info()"
   ]
  },
  {
   "cell_type": "markdown",
   "metadata": {},
   "source": [
    "El método `describe` muestra los primeros estadísticos, lo que permite hacer un análisis de los datos en cada una de las columnas numéricas. "
   ]
  },
  {
   "cell_type": "code",
   "execution_count": 105,
   "metadata": {},
   "outputs": [
    {
     "data": {
      "text/html": [
       "<div>\n",
       "<style scoped>\n",
       "    .dataframe tbody tr th:only-of-type {\n",
       "        vertical-align: middle;\n",
       "    }\n",
       "\n",
       "    .dataframe tbody tr th {\n",
       "        vertical-align: top;\n",
       "    }\n",
       "\n",
       "    .dataframe thead th {\n",
       "        text-align: right;\n",
       "    }\n",
       "</style>\n",
       "<table border=\"1\" class=\"dataframe\">\n",
       "  <thead>\n",
       "    <tr style=\"text-align: right;\">\n",
       "      <th></th>\n",
       "      <th>2004</th>\n",
       "      <th>2005</th>\n",
       "      <th>2006</th>\n",
       "    </tr>\n",
       "  </thead>\n",
       "  <tbody>\n",
       "    <tr>\n",
       "      <th>count</th>\n",
       "      <td>5.000000</td>\n",
       "      <td>5.000000</td>\n",
       "      <td>5.000000</td>\n",
       "    </tr>\n",
       "    <tr>\n",
       "      <th>mean</th>\n",
       "      <td>133.782000</td>\n",
       "      <td>143.812000</td>\n",
       "      <td>135.298000</td>\n",
       "    </tr>\n",
       "    <tr>\n",
       "      <th>std</th>\n",
       "      <td>175.270242</td>\n",
       "      <td>180.976401</td>\n",
       "      <td>173.191749</td>\n",
       "    </tr>\n",
       "    <tr>\n",
       "      <th>min</th>\n",
       "      <td>1.400000</td>\n",
       "      <td>1.600000</td>\n",
       "      <td>1.500000</td>\n",
       "    </tr>\n",
       "    <tr>\n",
       "      <th>25%</th>\n",
       "      <td>8.400000</td>\n",
       "      <td>7.700000</td>\n",
       "      <td>6.700000</td>\n",
       "    </tr>\n",
       "    <tr>\n",
       "      <th>50%</th>\n",
       "      <td>50.520000</td>\n",
       "      <td>58.900000</td>\n",
       "      <td>46.720000</td>\n",
       "    </tr>\n",
       "    <tr>\n",
       "      <th>75%</th>\n",
       "      <td>193.500000</td>\n",
       "      <td>227.760000</td>\n",
       "      <td>221.050000</td>\n",
       "    </tr>\n",
       "    <tr>\n",
       "      <th>max</th>\n",
       "      <td>415.090000</td>\n",
       "      <td>423.100000</td>\n",
       "      <td>400.520000</td>\n",
       "    </tr>\n",
       "  </tbody>\n",
       "</table>\n",
       "</div>"
      ],
      "text/plain": [
       "             2004        2005        2006\n",
       "count    5.000000    5.000000    5.000000\n",
       "mean   133.782000  143.812000  135.298000\n",
       "std    175.270242  180.976401  173.191749\n",
       "min      1.400000    1.600000    1.500000\n",
       "25%      8.400000    7.700000    6.700000\n",
       "50%     50.520000   58.900000   46.720000\n",
       "75%    193.500000  227.760000  221.050000\n",
       "max    415.090000  423.100000  400.520000"
      ]
     },
     "execution_count": 105,
     "metadata": {},
     "output_type": "execute_result"
    }
   ],
   "source": [
    "tabla3.describe()       "
   ]
  },
  {
   "cell_type": "markdown",
   "metadata": {},
   "source": [
    "Los datos mostrados son la media (`mean`),  la mediana (`median`), la desviación estándar(`std`), el minimo (`min`), el máximo (`max`) y los quantiles (`quantile`). "
   ]
  },
  {
   "cell_type": "code",
   "execution_count": 109,
   "metadata": {},
   "outputs": [
    {
     "data": {
      "image/png": "[encoded data removed]",
      "text/plain": [
       "<Figure size 648x216 with 1 Axes>"
      ]
     },
     "metadata": {
      "needs_background": "light"
     },
     "output_type": "display_data"
    }
   ],
   "source": [
    "figura, ax1 = plt.subplots(1, figsize = (9,3))\n",
    "\n",
    "tabla3.plot(ax=ax1, kind = 'bar', title = 'Producción de mantequilla')\n",
    "\n",
    "ax1.set_xlabel('Países de la UE')\n",
    "ax1.set_ylabel('Producción (x 1000 Toneladas)')\n",
    "ax1.set_xticklabels(tabla3.Desc);"
   ]
  },
  {
   "cell_type": "markdown",
   "metadata": {},
   "source": [
    "Al igual que las `Series`, los `DataFrame` también disponen de métodos estadísticos (`mean`, `std`, `min`, etc). Estos métodos devuelven un valor solo para aquellas columnas numéricas del objeto  `DataFrame`."
   ]
  },
  {
   "cell_type": "code",
   "execution_count": 110,
   "metadata": {},
   "outputs": [
    {
     "data": {
      "text/html": [
       "<div>\n",
       "<style scoped>\n",
       "    .dataframe tbody tr th:only-of-type {\n",
       "        vertical-align: middle;\n",
       "    }\n",
       "\n",
       "    .dataframe tbody tr th {\n",
       "        vertical-align: top;\n",
       "    }\n",
       "\n",
       "    .dataframe thead th {\n",
       "        text-align: right;\n",
       "    }\n",
       "</style>\n",
       "<table border=\"1\" class=\"dataframe\">\n",
       "  <thead>\n",
       "    <tr style=\"text-align: right;\">\n",
       "      <th></th>\n",
       "      <th>Desc</th>\n",
       "      <th>2004</th>\n",
       "      <th>2005</th>\n",
       "      <th>2006</th>\n",
       "      <th>Tipo</th>\n",
       "    </tr>\n",
       "  </thead>\n",
       "  <tbody>\n",
       "    <tr>\n",
       "      <th>EE</th>\n",
       "      <td>Estonia</td>\n",
       "      <td>8.40</td>\n",
       "      <td>7.70</td>\n",
       "      <td>6.70</td>\n",
       "      <td>A</td>\n",
       "    </tr>\n",
       "    <tr>\n",
       "      <th>IE</th>\n",
       "      <td>Ireland</td>\n",
       "      <td>193.50</td>\n",
       "      <td>227.76</td>\n",
       "      <td>221.05</td>\n",
       "      <td>B</td>\n",
       "    </tr>\n",
       "    <tr>\n",
       "      <th>EL</th>\n",
       "      <td>Greece</td>\n",
       "      <td>1.40</td>\n",
       "      <td>1.60</td>\n",
       "      <td>1.50</td>\n",
       "      <td>A</td>\n",
       "    </tr>\n",
       "    <tr>\n",
       "      <th>ES</th>\n",
       "      <td>Spain</td>\n",
       "      <td>50.52</td>\n",
       "      <td>58.90</td>\n",
       "      <td>46.72</td>\n",
       "      <td>C</td>\n",
       "    </tr>\n",
       "    <tr>\n",
       "      <th>FR</th>\n",
       "      <td>France</td>\n",
       "      <td>415.09</td>\n",
       "      <td>423.10</td>\n",
       "      <td>400.52</td>\n",
       "      <td>A</td>\n",
       "    </tr>\n",
       "  </tbody>\n",
       "</table>\n",
       "</div>"
      ],
      "text/plain": [
       "       Desc    2004    2005    2006 Tipo\n",
       "EE  Estonia    8.40    7.70    6.70    A\n",
       "IE  Ireland  193.50  227.76  221.05    B\n",
       "EL   Greece    1.40    1.60    1.50    A\n",
       "ES    Spain   50.52   58.90   46.72    C\n",
       "FR   France  415.09  423.10  400.52    A"
      ]
     },
     "execution_count": 110,
     "metadata": {},
     "output_type": "execute_result"
    }
   ],
   "source": [
    "tabla3"
   ]
  },
  {
   "cell_type": "code",
   "execution_count": 112,
   "metadata": {},
   "outputs": [
    {
     "data": {
      "text/plain": [
       "EE      7.600000\n",
       "IE    214.103333\n",
       "EL      1.500000\n",
       "ES     52.046667\n",
       "FR    412.903333\n",
       "dtype: float64"
      ]
     },
     "execution_count": 112,
     "metadata": {},
     "output_type": "execute_result"
    }
   ],
   "source": [
    "tabla3.mean(axis = 1)"
   ]
  },
  {
   "cell_type": "code",
   "execution_count": 113,
   "metadata": {},
   "outputs": [
    {
     "data": {
      "text/plain": [
       "2004    175.270242\n",
       "2005    180.976401\n",
       "2006    173.191749\n",
       "dtype: float64"
      ]
     },
     "execution_count": 113,
     "metadata": {},
     "output_type": "execute_result"
    }
   ],
   "source": [
    "tabla3.std()"
   ]
  },
  {
   "cell_type": "markdown",
   "metadata": {},
   "source": [
    "Todas las operaciones estadísticas admiten el argumento `axis`, el cual permite operar bien sobre los datos de las columnas o bien sobre los datos en las filas. "
   ]
  },
  {
   "cell_type": "code",
   "execution_count": 114,
   "metadata": {},
   "outputs": [
    {
     "data": {
      "text/plain": [
       "EE      22.80\n",
       "IE     642.31\n",
       "EL       4.50\n",
       "ES     156.14\n",
       "FR    1238.71\n",
       "dtype: float64"
      ]
     },
     "execution_count": 114,
     "metadata": {},
     "output_type": "execute_result"
    }
   ],
   "source": [
    "tabla3.sum(axis = 1)"
   ]
  },
  {
   "cell_type": "markdown",
   "metadata": {},
   "source": [
    "Una operación muy interesante cuando tratamos con datos representados mediante dataframes, es la de trasponer, es decir, cambiar filas por columnas. Para trasponer un dataframe es necesario utilizar el atributo `T`."
   ]
  },
  {
   "cell_type": "code",
   "execution_count": 115,
   "metadata": {},
   "outputs": [
    {
     "data": {
      "text/html": [
       "<div>\n",
       "<style scoped>\n",
       "    .dataframe tbody tr th:only-of-type {\n",
       "        vertical-align: middle;\n",
       "    }\n",
       "\n",
       "    .dataframe tbody tr th {\n",
       "        vertical-align: top;\n",
       "    }\n",
       "\n",
       "    .dataframe thead th {\n",
       "        text-align: right;\n",
       "    }\n",
       "</style>\n",
       "<table border=\"1\" class=\"dataframe\">\n",
       "  <thead>\n",
       "    <tr style=\"text-align: right;\">\n",
       "      <th></th>\n",
       "      <th>EE</th>\n",
       "      <th>IE</th>\n",
       "      <th>EL</th>\n",
       "      <th>ES</th>\n",
       "      <th>FR</th>\n",
       "    </tr>\n",
       "  </thead>\n",
       "  <tbody>\n",
       "    <tr>\n",
       "      <th>Desc</th>\n",
       "      <td>Estonia</td>\n",
       "      <td>Ireland</td>\n",
       "      <td>Greece</td>\n",
       "      <td>Spain</td>\n",
       "      <td>France</td>\n",
       "    </tr>\n",
       "    <tr>\n",
       "      <th>2004</th>\n",
       "      <td>8.4</td>\n",
       "      <td>193.5</td>\n",
       "      <td>1.4</td>\n",
       "      <td>50.52</td>\n",
       "      <td>415.09</td>\n",
       "    </tr>\n",
       "    <tr>\n",
       "      <th>2005</th>\n",
       "      <td>7.7</td>\n",
       "      <td>227.76</td>\n",
       "      <td>1.6</td>\n",
       "      <td>58.9</td>\n",
       "      <td>423.1</td>\n",
       "    </tr>\n",
       "    <tr>\n",
       "      <th>2006</th>\n",
       "      <td>6.7</td>\n",
       "      <td>221.05</td>\n",
       "      <td>1.5</td>\n",
       "      <td>46.72</td>\n",
       "      <td>400.52</td>\n",
       "    </tr>\n",
       "    <tr>\n",
       "      <th>Tipo</th>\n",
       "      <td>A</td>\n",
       "      <td>B</td>\n",
       "      <td>A</td>\n",
       "      <td>C</td>\n",
       "      <td>A</td>\n",
       "    </tr>\n",
       "  </tbody>\n",
       "</table>\n",
       "</div>"
      ],
      "text/plain": [
       "           EE       IE      EL     ES      FR\n",
       "Desc  Estonia  Ireland  Greece  Spain  France\n",
       "2004      8.4    193.5     1.4  50.52  415.09\n",
       "2005      7.7   227.76     1.6   58.9   423.1\n",
       "2006      6.7   221.05     1.5  46.72  400.52\n",
       "Tipo        A        B       A      C       A"
      ]
     },
     "execution_count": 115,
     "metadata": {},
     "output_type": "execute_result"
    }
   ],
   "source": [
    "tabla3.T"
   ]
  },
  {
   "cell_type": "markdown",
   "metadata": {},
   "source": [
    "## Referencias"
   ]
  },
  {
   "cell_type": "markdown",
   "metadata": {},
   "source": [
    "* [Big Data. Análisis de datos con Python. Sarasa Cabezuelo, Antonio; García Ruiz, Yolanda Aditorial Garceta. ISBN: 978-84-1622-883-6](http://www.garceta.es/libro.php?ISBN=978-84-1622-883-6)\n",
    "* [Python Data Analysis Library](http://pandas.pydata.org/)\n",
    "* [Python for Data Analysis](http://shop.oreilly.com/product/0636920023784.do)\n"
   ]
  },
  {
   "cell_type": "code",
   "execution_count": null,
   "metadata": {},
   "outputs": [],
   "source": []
  }
 ],
 "metadata": {
  "anaconda-cloud": {},
  "hide_input": false,
  "kernelspec": {
   "display_name": "Python 3 (ipykernel)",
   "language": "python",
   "name": "python3"
  },
  "language_info": {
   "codemirror_mode": {
    "name": "ipython",
    "version": 3
   },
   "file_extension": ".py",
   "mimetype": "text/x-python",
   "name": "python",
   "nbconvert_exporter": "python",
   "pygments_lexer": "ipython3",
   "version": "3.11.1"
  },
  "nbTranslate": {
   "displayLangs": [
    "en",
    "es"
   ],
   "hotkey": "alt-t",
   "langInMainMenu": true,
   "sourceLang": "es",
   "targetLang": "en",
   "useGoogleTranslate": true
  },
  "toc": {
   "base_numbering": 1,
   "nav_menu": {
    "height": "353px",
    "width": "252px"
   },
   "number_sections": true,
   "sideBar": true,
   "skip_h1_title": false,
   "title_cell": "Table of Contents",
   "title_sidebar": "Contents",
   "toc_cell": true,
   "toc_position": {
    "height": "543px",
    "left": "0px",
    "right": "948.333px",
    "top": "119px",
    "width": "288.833px"
   },
   "toc_section_display": "block",
   "toc_window_display": false
  }
 },
 "nbformat": 4,
 "nbformat_minor": 1
}
