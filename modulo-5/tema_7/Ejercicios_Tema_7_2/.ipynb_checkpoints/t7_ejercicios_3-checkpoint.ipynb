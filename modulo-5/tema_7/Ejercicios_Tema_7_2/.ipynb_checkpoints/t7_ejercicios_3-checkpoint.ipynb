{
 "cells": [
  {
   "cell_type": "markdown",
   "metadata": {},
   "source": [
    "# Ejercicios\n",
    "\n"
   ]
  },
  {
   "cell_type": "markdown",
   "metadata": {},
   "source": [
    "El dataset `BlackFriday.csv` contiene 550.000 registros sobre las ventas realizadas en un comercio. Cada registro contiene información del cliente (sexo, si está casado o no, edad, etc.) e información de la compra que ha realizado en el comercio (importe de la compra, tipo de producto, etc.).\n",
    "\n",
    "* `User_ID`                : Código de usuario\n",
    "* `Product_ID`             : Código de producto\n",
    "* `Sexo`                   : Hombre(M), Mujer(F)\n",
    "* `Edad`                   : Franja de edad del usuario\n",
    "* `Occupation`              \n",
    "* `Cat_ciudad`             : Categoría de la ciudad de residencia del usuario\n",
    "* `Years_en _la_ciudad`    : Número de años que el usario lleva residiendo en la ciudad\n",
    "* `Estado_civil`           : Casado(1), soltero(0)\n",
    "* `Product_Category_1`\n",
    "* `Product_Category_2`\n",
    "* `Product_Category_3`\n",
    "* `Imp_Compra`             : Importe o precio del producto\n",
    "\n",
    "\n",
    "\n",
    "### 1. \n",
    "Carga los datos del  dataset  `BlackFriday.csv`  en un dataframe llamado `ventas` ."
   ]
  },
  {
   "cell_type": "code",
   "execution_count": 11,
   "metadata": {},
   "outputs": [],
   "source": [
    "import pandas as pd\n"
   ]
  },
  {
   "cell_type": "markdown",
   "metadata": {},
   "source": [
    "### 2. \n",
    "Calcula los primeros estadísticos `mínimo`, `máximo`, `media` y `desviación típica` del importe de compra  `Imp_Compra`.\n"
   ]
  },
  {
   "cell_type": "code",
   "execution_count": null,
   "metadata": {},
   "outputs": [],
   "source": []
  },
  {
   "cell_type": "markdown",
   "metadata": {},
   "source": [
    "###  3.\n",
    "¿Cuántas unidades se ha vendido de cada producto? Usa la operación `value_counts()`.\n"
   ]
  },
  {
   "cell_type": "code",
   "execution_count": null,
   "metadata": {},
   "outputs": [],
   "source": []
  },
  {
   "cell_type": "markdown",
   "metadata": {},
   "source": [
    "### 4.\n",
    "Sustituye los valores `NaN` de la columna `Product_Category_2` por el valor `'Desconocido'`."
   ]
  },
  {
   "cell_type": "code",
   "execution_count": null,
   "metadata": {},
   "outputs": [],
   "source": []
  },
  {
   "cell_type": "markdown",
   "metadata": {},
   "source": [
    "### 5\n",
    "¿Cuantos valores `NaN` hay en la columna `Product_Category_3`? Usa la operación `isnull`."
   ]
  },
  {
   "cell_type": "code",
   "execution_count": null,
   "metadata": {},
   "outputs": [],
   "source": []
  },
  {
   "cell_type": "markdown",
   "metadata": {},
   "source": [
    "### 6\n",
    "Selecciona las filas de las compras realizadas por hombres solteros. Guarda el resultado de la selección anterior  en otro DataFrame llamado `compras_solteros`.\n"
   ]
  },
  {
   "cell_type": "code",
   "execution_count": null,
   "metadata": {},
   "outputs": [],
   "source": []
  },
  {
   "cell_type": "markdown",
   "metadata": {},
   "source": [
    "###  7 \n",
    "Selecciona a los usuarios que han realizado alguna compra con importe por debajo de la media. \n"
   ]
  },
  {
   "cell_type": "code",
   "execution_count": null,
   "metadata": {},
   "outputs": [],
   "source": []
  },
  {
   "cell_type": "markdown",
   "metadata": {},
   "source": [
    "### 8\n",
    "Añadir una nueva columna al dataframe data llamada `Imp+IVA` que contenga el importe total de la compra con IVA (Importe de la compra más el 21% de IVA)."
   ]
  },
  {
   "cell_type": "code",
   "execution_count": null,
   "metadata": {},
   "outputs": [],
   "source": []
  },
  {
   "cell_type": "markdown",
   "metadata": {},
   "source": [
    "### 9\n",
    "Calcula el número de compras realizadas por mujeres y el número de compras realizadas por hombres. Usa la operación `groupby`."
   ]
  },
  {
   "cell_type": "code",
   "execution_count": null,
   "metadata": {},
   "outputs": [],
   "source": []
  },
  {
   "cell_type": "markdown",
   "metadata": {},
   "source": [
    "###  10\n",
    "Calcula la media del importe. Crear una nueva columna en el dataframe `ventas` llamada 'Tipo_compra' cuyo valor sea 'Low' si el importe de la compra está por debajo de la media y 'High' si el valor de la compra es mayor que la media. Usa la operación `map` sobre la columna ìmporte para aplicar una función `lambda` que haga la transformación.\n"
   ]
  },
  {
   "cell_type": "code",
   "execution_count": null,
   "metadata": {},
   "outputs": [],
   "source": []
  }
 ],
 "metadata": {
  "hide_input": false,
  "kernelspec": {
   "display_name": "Python 3 (ipykernel)",
   "language": "python",
   "name": "python3"
  },
  "language_info": {
   "codemirror_mode": {
    "name": "ipython",
    "version": 3
   },
   "file_extension": ".py",
   "mimetype": "text/x-python",
   "name": "python",
   "nbconvert_exporter": "python",
   "pygments_lexer": "ipython3",
   "version": "3.10.7"
  },
  "nbTranslate": {
   "displayLangs": [
    "en",
    "es"
   ],
   "hotkey": "alt-t",
   "langInMainMenu": true,
   "sourceLang": "es",
   "targetLang": "en",
   "useGoogleTranslate": true
  },
  "toc": {
   "base_numbering": 1,
   "nav_menu": {},
   "number_sections": true,
   "sideBar": true,
   "skip_h1_title": false,
   "title_cell": "Table of Contents",
   "title_sidebar": "Contents",
   "toc_cell": false,
   "toc_position": {},
   "toc_section_display": true,
   "toc_window_display": true
  }
 },
 "nbformat": 4,
 "nbformat_minor": 2
}
