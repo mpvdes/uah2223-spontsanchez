{
 "cells": [
  {
   "cell_type": "markdown",
   "metadata": {},
   "source": [
    "# Ejercicios\n",
    "\n",
    "## Pregunta 1\n",
    "Crear dataframes con la información de los siguientes ficheros. \n",
    "\n",
    "El contenido y el formato de los ficheros no se puede modificar.\n",
    "\n",
    "* Dataframe operations : `details.xlsx`\n",
    "  Contiene información acerca de préstamos bancarios concedidos a sus clientes.\n",
    "  * `loan_id`: identificador del préstamo\n",
    "  * `client`: código del cliente\n",
    "  * `loan_amnt`: importe del préstamo\n",
    "  * `term`: plazo del préstamo\n",
    "  * `int_rate` : tasa de interés\n",
    "  * `installment`: gastos de gestión del préstamo\n",
    "  * `loan_status`: estado en el que se encuentra el préstamo\n",
    "  * `purpose`: finalidad del préstamo\n",
    "  * `date_of_application`: fecha de solicitud \n",
    "  * `last_pymnt_amnt`: importe del último recibo\n",
    "  * `application_type`: tipo de solicitud\n",
    "  \n",
    "  \n",
    "* Dataframe clientes : `clients.csv`   Contiene información de los clientes. Observa que la extensión del fichero es csv.\n",
    "    \n",
    "    * `Client_name`: código del cliente\n",
    "    * `grade`: nivel de estudios\n",
    "    * `emp_title`: profesión del clietne\n",
    "    * `emp_length`: antigüedad en la empresa\n",
    "    * `home_ownership`: indicador de si el cliente tiene casa en propiedad\n",
    "    * `annual_inc`: ingresos brutos anuales\n",
    "    * `addr_state`: estado en el que reside el cliente\n",
    "\n"
   ]
  },
  {
   "cell_type": "code",
   "execution_count": 2,
   "metadata": {},
   "outputs": [],
   "source": [
    "# Sol:\n"
   ]
  },
  {
   "cell_type": "markdown",
   "metadata": {},
   "source": [
    "## Pregunta 2.\n",
    "La columna `loan_status` recoge el estado del préstamo bancario. Muestra los distintos estados disponibles. Puedes usar la operación `unique()`."
   ]
  },
  {
   "cell_type": "code",
   "execution_count": 3,
   "metadata": {},
   "outputs": [],
   "source": [
    "# SOl:\n"
   ]
  },
  {
   "cell_type": "markdown",
   "metadata": {},
   "source": [
    "## Pregunta 3.\n",
    "La columna `loan_amnt` recoge el importe del préstamo. ¿Cuántos préstamos tienen un importe superior a 25000?"
   ]
  },
  {
   "cell_type": "code",
   "execution_count": 4,
   "metadata": {},
   "outputs": [],
   "source": [
    "# SOL:\n"
   ]
  },
  {
   "cell_type": "markdown",
   "metadata": {},
   "source": [
    "## Pregunta 4.\n",
    "El tipo de interés asociado a los préstamos se recoge en la columna `int_rate`. Crear un nuevo dataframe con la información de los préstamos cuyo tipo de interés sea inferior al 10%. Muestra las 10 primeras filas del dataframe recién creado."
   ]
  },
  {
   "cell_type": "code",
   "execution_count": 5,
   "metadata": {},
   "outputs": [],
   "source": [
    "# SOL:\n"
   ]
  },
  {
   "cell_type": "markdown",
   "metadata": {},
   "source": [
    "## Pregunta 5.\n",
    "La columna `term` indica el plazo del préstamo y la columna `loan_amnt` recoge el importe del préstamo. Calcula el importe medio de los préstamos a 36 meses cuya finalidad es `home`. La finalidad del préstamo se recoge en la columna `purpose`. \n"
   ]
  },
  {
   "cell_type": "code",
   "execution_count": 6,
   "metadata": {},
   "outputs": [],
   "source": [
    "# SOL:\n"
   ]
  },
  {
   "cell_type": "markdown",
   "metadata": {},
   "source": [
    "## Pregunta 6.\n",
    "La columna `loan_amnt` recoge el importe del préstamo, mientras que el tipo de interés asociado a los préstamos se recoge en la columna `int_rate`. Ordenar los datos de los préstamos en orden creciente de tipo de interés y decreciente de importe del préstamo."
   ]
  },
  {
   "cell_type": "code",
   "execution_count": 7,
   "metadata": {},
   "outputs": [],
   "source": [
    "# SOL:\n"
   ]
  },
  {
   "cell_type": "markdown",
   "metadata": {},
   "source": [
    "## Pregunta 7.\n",
    "La columna `home_ownership` recoge información del tipo de propiedad del cliente. Modifica el valor de dicha columna para que recoja el valor `Bajo Riesgo`  en caso de `RENT`, y el valor `Alto Riesgo` en caso de `MORTGAGE`. "
   ]
  },
  {
   "cell_type": "code",
   "execution_count": 8,
   "metadata": {},
   "outputs": [],
   "source": [
    "# SOL:\n"
   ]
  },
  {
   "cell_type": "markdown",
   "metadata": {},
   "source": [
    "## Pregunta 8.\n",
    "Calcular el máximo salario de los clientes por grado de estudios y estado de residencia. La columna `grade` indica el grado de estudios del solicitante del préstamo y la  columna `addr_state` recoge información del estado de residencia del cliente."
   ]
  },
  {
   "cell_type": "code",
   "execution_count": 9,
   "metadata": {},
   "outputs": [],
   "source": [
    "# SOL:\n"
   ]
  },
  {
   "cell_type": "markdown",
   "metadata": {},
   "source": [
    "## Pregunta 9.\n",
    "La columna `emp_title` recoge información del puesto de trabajo de cliente. Crea un nuevo dataframe con los datos de los clientes,  donde los valores `NaN`  en dicha columna se sustituyan por el valor `Rest`. Guarda el nuevo dataframe en un fichero `csv` utilizando el símbolo `;` como  separador de campos."
   ]
  },
  {
   "cell_type": "code",
   "execution_count": 10,
   "metadata": {},
   "outputs": [],
   "source": [
    "# SOL:\n"
   ]
  },
  {
   "cell_type": "markdown",
   "metadata": {},
   "source": [
    "## Pregunta 10. \n",
    "Calcula el número de clientes con nivel de estudios `A` que han pedido un préstamo cuya finalidad es `vacation`."
   ]
  },
  {
   "cell_type": "code",
   "execution_count": 11,
   "metadata": {},
   "outputs": [],
   "source": [
    "# SOL:\n"
   ]
  }
 ],
 "metadata": {
  "hide_input": false,
  "kernelspec": {
   "display_name": "Python 3 (ipykernel)",
   "language": "python",
   "name": "python3"
  },
  "language_info": {
   "codemirror_mode": {
    "name": "ipython",
    "version": 3
   },
   "file_extension": ".py",
   "mimetype": "text/x-python",
   "name": "python",
   "nbconvert_exporter": "python",
   "pygments_lexer": "ipython3",
   "version": "3.11.1"
  },
  "nbTranslate": {
   "displayLangs": [
    "en",
    "es"
   ],
   "hotkey": "alt-t",
   "langInMainMenu": true,
   "sourceLang": "es",
   "targetLang": "en",
   "useGoogleTranslate": true
  },
  "toc": {
   "base_numbering": 1,
   "nav_menu": {},
   "number_sections": true,
   "sideBar": true,
   "skip_h1_title": false,
   "title_cell": "Table of Contents",
   "title_sidebar": "Contents",
   "toc_cell": false,
   "toc_position": {
    "height": "calc(100% - 180px)",
    "left": "10px",
    "top": "150px",
    "width": "165px"
   },
   "toc_section_display": true,
   "toc_window_display": true
  }
 },
 "nbformat": 4,
 "nbformat_minor": 2
}
