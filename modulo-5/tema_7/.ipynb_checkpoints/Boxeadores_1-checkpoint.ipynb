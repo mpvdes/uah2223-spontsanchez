{
 "cells": [
  {
   "cell_type": "markdown",
   "metadata": {},
   "source": [
    "# Combates de boxeo\n",
    "Datos históricos de combates ( 1993 - 2019 )\n",
    "\n"
   ]
  },
  {
   "cell_type": "markdown",
   "metadata": {},
   "source": [
    "## Datasets\n",
    "\n",
    "* Combates: ['./data/dataset.csv'](./data/dataset.csv)\n",
    "\n",
    "* Participantes: ['./data/details.csv']('./data/details.csv)"
   ]
  },
  {
   "cell_type": "markdown",
   "metadata": {},
   "source": [
    "## Descripción de los datasets"
   ]
  },
  {
   "cell_type": "markdown",
   "metadata": {},
   "source": [
    "El dataset [./data/dataset.csv'](./data/dataset.csv) contiene 5144 registros con información relacionada con combates de boxeo. Cada registro hace referencia a un combate, con información de los luchadores, tipo de combate, resultado del combate, etc. A continuación describimos algunos de los campos más importantes:\n",
    "\n",
    "\n",
    "* `R_fighter` : nombre del luchador de la esquina roja\n",
    "* `B_fighter` : nombre del luchador de la esquina azul\n",
    "\n",
    "\n",
    "Los prefijos `R_` y  `B_`  se refieren a los luchadores de las esquinas rojas y azules respectivamente.\n",
    "\n",
    "* `Referee` : nombre del árbitro del combate\n",
    "* `date` : fecha de celebración del combate \n",
    "* `location` : es el lugar en el que se produjo el evento\n",
    "* `Format` : es el formato de la pelea (3 asaltos, 5 asaltos etc.)\n",
    "* `weight_class` : categoría de la pelea (peso ligero, etc)\n",
    "* `win_by` : es un método de ganar (KO, etc.)\n",
    "* `Winner` : es el nombre del ganador del combate\n",
    "* `last_round` : es el último asalto del combate\n",
    "\n",
    "\n",
    "Por otro lado, el dataset [./data/details.csv](./data/details.csv) contiene infomación de luchadores de boxeo, el nombre, altura y el peso."
   ]
  },
  {
   "cell_type": "markdown",
   "metadata": {},
   "source": [
    "## Ejercicio"
   ]
  },
  {
   "cell_type": "markdown",
   "metadata": {},
   "source": [
    "### Carga de datos.\n",
    "\n",
    "Crea dos dataframes:\n",
    "\n",
    "* Dataframe llamado `combates` con los datos del fichero `dataset.csv`.\n",
    "* Dataframe llamado `luchadores` con los datos del fichero `details.csv`.\n",
    "\n"
   ]
  },
  {
   "cell_type": "code",
   "execution_count": 10,
   "metadata": {},
   "outputs": [],
   "source": [
    "# Sol:\n",
    "import pandas as pd\n"
   ]
  },
  {
   "cell_type": "code",
   "execution_count": 11,
   "metadata": {},
   "outputs": [],
   "source": [
    "# Sol:\n",
    "\n"
   ]
  },
  {
   "cell_type": "markdown",
   "metadata": {},
   "source": [
    "###  Celebración de los combates\n",
    "\n",
    "La columna `location` del dataframe `combates` recoge información del lugar donde se celebran los combates. Este campo recoge la ciudad, el estado y el país. \n",
    "\n",
    "a) Modifica el DataFrame `combates`. Crear una nueva columna denominada `Country` con información únicamente del nombre del país.\n",
    "\n",
    "b) Muestra un listado de paises distintos donde se han celebrado combates.\n",
    "\n",
    "c) Calcula el número de combates celebrados en cada país. Representa gráficamente."
   ]
  },
  {
   "cell_type": "code",
   "execution_count": 3,
   "metadata": {},
   "outputs": [],
   "source": [
    "# Sol:\n",
    "\n"
   ]
  },
  {
   "cell_type": "markdown",
   "metadata": {},
   "source": [
    "### Peso de los luchadores \n",
    "\n",
    "En el dataframe `luchadores` se encuentran los datos asociados a los participantes en combates. En particular recoje el peso de los participantes expresado en libras. \n",
    "\n",
    "a) Modifica el DataFrame `luchadores`. Crea una nueva columna llamada `Weight gr` que represente el peso del luchador en gramos. \n",
    "(1 libra son 453.59 gramos).\n",
    "\n",
    "b) Muestra un gráfico de frecuencias de la variable `Weight gr`. Discute la gráfica obtenida.\n",
    "\n",
    "c) Muestra el dataframe `luchadores` ordenado por peso (de mayor a menor)."
   ]
  },
  {
   "cell_type": "code",
   "execution_count": 4,
   "metadata": {},
   "outputs": [],
   "source": [
    "# Sol:\n"
   ]
  },
  {
   "cell_type": "markdown",
   "metadata": {},
   "source": [
    "###   Calzoncillo rojo\n",
    "\n",
    "Deseamos conocer en cuántos combates ha sido victorioso el luchador de calzoncillo rojo.\n",
    "\n"
   ]
  },
  {
   "cell_type": "code",
   "execution_count": 5,
   "metadata": {},
   "outputs": [],
   "source": [
    "# Sol:\n"
   ]
  },
  {
   "cell_type": "markdown",
   "metadata": {},
   "source": [
    "###  Ganadores !\n",
    "\n",
    "a) Genera un listado de luchadores que hayan ganado por `KO/TKO` .\n",
    "\n",
    "\n",
    "b) Genera un gráfico que muestre el número de combates  ganado por `KO/TKO` por cada uno de los países. "
   ]
  },
  {
   "cell_type": "code",
   "execution_count": 6,
   "metadata": {},
   "outputs": [],
   "source": [
    "# Sol:\n"
   ]
  },
  {
   "cell_type": "markdown",
   "metadata": {},
   "source": [
    "###  Analisis categoría \n",
    "\n",
    "a) Muestra un listado ordenado por número de combates para cada categoría\n",
    "\n",
    "b) Muestra gráficamente el número de combates por categoría. Discute \n"
   ]
  },
  {
   "cell_type": "code",
   "execution_count": 7,
   "metadata": {},
   "outputs": [],
   "source": [
    "# Sol:\n"
   ]
  },
  {
   "cell_type": "code",
   "execution_count": 8,
   "metadata": {},
   "outputs": [],
   "source": [
    "import matplotlib.pyplot as plt\n"
   ]
  },
  {
   "cell_type": "markdown",
   "metadata": {},
   "source": [
    "### Años\n",
    "Muestra los datos de los combates ordenados por año y país de forma descendente."
   ]
  },
  {
   "cell_type": "code",
   "execution_count": 9,
   "metadata": {},
   "outputs": [],
   "source": [
    "# Sol:\n"
   ]
  }
 ],
 "metadata": {
  "hide_input": false,
  "kernelspec": {
   "display_name": "Python 3 (ipykernel)",
   "language": "python",
   "name": "python3"
  },
  "language_info": {
   "codemirror_mode": {
    "name": "ipython",
    "version": 3
   },
   "file_extension": ".py",
   "mimetype": "text/x-python",
   "name": "python",
   "nbconvert_exporter": "python",
   "pygments_lexer": "ipython3",
   "version": "3.11.1"
  },
  "nbTranslate": {
   "displayLangs": [
    "en",
    "es"
   ],
   "hotkey": "alt-t",
   "langInMainMenu": true,
   "sourceLang": "es",
   "targetLang": "en",
   "useGoogleTranslate": true
  },
  "toc": {
   "base_numbering": 1,
   "nav_menu": {},
   "number_sections": true,
   "sideBar": true,
   "skip_h1_title": false,
   "title_cell": "Table of Contents",
   "title_sidebar": "Contents",
   "toc_cell": false,
   "toc_position": {
    "height": "calc(100% - 180px)",
    "left": "10px",
    "top": "150px",
    "width": "354.6px"
   },
   "toc_section_display": true,
   "toc_window_display": true
  }
 },
 "nbformat": 4,
 "nbformat_minor": 4
}
