{
 "cells": [
  {
   "cell_type": "markdown",
   "metadata": {},
   "source": [
    "# Combates de boxeo\n",
    "Datos históricos de combates ( 1993 - 2019 )\n",
    "\n"
   ]
  },
  {
   "cell_type": "markdown",
   "metadata": {},
   "source": [
    "## Datasets\n",
    "\n",
    "* Combates: ['./data/dataset.csv'](./data/dataset.csv)\n",
    "\n",
    "* Participantes: ['./data/details.csv']('./data/details.csv)"
   ]
  },
  {
   "cell_type": "markdown",
   "metadata": {},
   "source": [
    "## Descripción de los datasets"
   ]
  },
  {
   "cell_type": "markdown",
   "metadata": {},
   "source": [
    "El dataset [./data/dataset.csv'](./data/dataset.csv) contiene 5144 registros con información relacionada con combates de boxeo. Cada registro hace referencia a un combate, con información de los luchadores, tipo de combate, resultado del combate, etc. A continuación describimos algunos de los campos más importantes:\n",
    "\n",
    "\n",
    "* `R_fighter` : nombre del luchador de la esquina roja\n",
    "* `B_fighter` : nombre del luchador de la esquina azul\n",
    "\n",
    "\n",
    "Los prefijos `R_` y  `B_`  se refieren a los luchadores de las esquinas rojas y azules respectivamente.\n",
    "\n",
    "* `Referee` : nombre del árbitro del combate\n",
    "* `date` : fecha de celebración del combate \n",
    "* `location` : es el lugar en el que se produjo el evento\n",
    "* `Format` : es el formato de la pelea (3 asaltos, 5 asaltos etc.)\n",
    "* `weight_class` : categoría de la pelea (peso ligero, etc)\n",
    "* `win_by` : es un método de ganar (KO, etc.)\n",
    "* `Winner` : es el nombre del ganador del combate\n",
    "* `last_round` : es el último asalto del combate\n",
    "\n",
    "\n",
    "Por otro lado, el dataset [./data/details.csv](./data/details.csv) contiene infomación de luchadores de boxeo, el nombre, altura y el peso."
   ]
  },
  {
   "cell_type": "markdown",
   "metadata": {},
   "source": [
    "## Ejercicio"
   ]
  },
  {
   "cell_type": "markdown",
   "metadata": {},
   "source": [
    "### Carga de datos.\n",
    "\n",
    "Crea dos dataframes:\n",
    "\n",
    "* Dataframe llamado `combates` con los datos del fichero `dataset.csv`.\n",
    "* Dataframe llamado `luchadores` con los datos del fichero `details.csv`.\n",
    "\n"
   ]
  },
  {
   "cell_type": "code",
   "execution_count": 1,
   "metadata": {},
   "outputs": [],
   "source": [
    "# Sol:\n",
    "import pandas as pd\n"
   ]
  },
  {
   "cell_type": "code",
   "execution_count": 8,
   "metadata": {},
   "outputs": [
    {
     "data": {
      "text/html": [
       "<div>\n",
       "<style scoped>\n",
       "    .dataframe tbody tr th:only-of-type {\n",
       "        vertical-align: middle;\n",
       "    }\n",
       "\n",
       "    .dataframe tbody tr th {\n",
       "        vertical-align: top;\n",
       "    }\n",
       "\n",
       "    .dataframe thead th {\n",
       "        text-align: right;\n",
       "    }\n",
       "</style>\n",
       "<table border=\"1\" class=\"dataframe\">\n",
       "  <thead>\n",
       "    <tr style=\"text-align: right;\">\n",
       "      <th></th>\n",
       "      <th>R_fighter</th>\n",
       "      <th>B_fighter</th>\n",
       "      <th>win_by</th>\n",
       "      <th>last_round</th>\n",
       "      <th>last_round_time</th>\n",
       "      <th>Format</th>\n",
       "      <th>Referee</th>\n",
       "      <th>date</th>\n",
       "      <th>location</th>\n",
       "      <th>Winner</th>\n",
       "      <th>weight_class</th>\n",
       "      <th>title_bout</th>\n",
       "    </tr>\n",
       "  </thead>\n",
       "  <tbody>\n",
       "    <tr>\n",
       "      <th>0</th>\n",
       "      <td>Henry Cejudo</td>\n",
       "      <td>Marlon Moraes</td>\n",
       "      <td>KO/TKO</td>\n",
       "      <td>3</td>\n",
       "      <td>4:51</td>\n",
       "      <td>5 Rnd (5-5-5-5-5)</td>\n",
       "      <td>Marc Goddard</td>\n",
       "      <td>June 08, 2019</td>\n",
       "      <td>Chicago, Illinois, USA</td>\n",
       "      <td>Henry Cejudo</td>\n",
       "      <td>Bantamweight</td>\n",
       "      <td>True</td>\n",
       "    </tr>\n",
       "    <tr>\n",
       "      <th>1</th>\n",
       "      <td>Valentina Shevchenko</td>\n",
       "      <td>Jessica Eye</td>\n",
       "      <td>KO/TKO</td>\n",
       "      <td>2</td>\n",
       "      <td>0:26</td>\n",
       "      <td>5 Rnd (5-5-5-5-5)</td>\n",
       "      <td>Robert Madrigal</td>\n",
       "      <td>June 08, 2019</td>\n",
       "      <td>Chicago, Illinois, USA</td>\n",
       "      <td>Valentina Shevchenko</td>\n",
       "      <td>Women's Flyweight</td>\n",
       "      <td>True</td>\n",
       "    </tr>\n",
       "    <tr>\n",
       "      <th>2</th>\n",
       "      <td>Tony Ferguson</td>\n",
       "      <td>Donald Cerrone</td>\n",
       "      <td>TKO - Doctor's Stoppage</td>\n",
       "      <td>2</td>\n",
       "      <td>5:00</td>\n",
       "      <td>3 Rnd (5-5-5)</td>\n",
       "      <td>Dan Miragliotta</td>\n",
       "      <td>June 08, 2019</td>\n",
       "      <td>Chicago, Illinois, USA</td>\n",
       "      <td>Tony Ferguson</td>\n",
       "      <td>Lightweight</td>\n",
       "      <td>False</td>\n",
       "    </tr>\n",
       "    <tr>\n",
       "      <th>3</th>\n",
       "      <td>Jimmie Rivera</td>\n",
       "      <td>Petr Yan</td>\n",
       "      <td>Decision - Unanimous</td>\n",
       "      <td>3</td>\n",
       "      <td>5:00</td>\n",
       "      <td>3 Rnd (5-5-5)</td>\n",
       "      <td>Kevin MacDonald</td>\n",
       "      <td>June 08, 2019</td>\n",
       "      <td>Chicago, Illinois, USA</td>\n",
       "      <td>Petr Yan</td>\n",
       "      <td>Bantamweight</td>\n",
       "      <td>False</td>\n",
       "    </tr>\n",
       "    <tr>\n",
       "      <th>4</th>\n",
       "      <td>Tai Tuivasa</td>\n",
       "      <td>Blagoy Ivanov</td>\n",
       "      <td>Decision - Unanimous</td>\n",
       "      <td>3</td>\n",
       "      <td>5:00</td>\n",
       "      <td>3 Rnd (5-5-5)</td>\n",
       "      <td>Dan Miragliotta</td>\n",
       "      <td>June 08, 2019</td>\n",
       "      <td>Chicago, Illinois, USA</td>\n",
       "      <td>Blagoy Ivanov</td>\n",
       "      <td>Heavyweight</td>\n",
       "      <td>False</td>\n",
       "    </tr>\n",
       "    <tr>\n",
       "      <th>...</th>\n",
       "      <td>...</td>\n",
       "      <td>...</td>\n",
       "      <td>...</td>\n",
       "      <td>...</td>\n",
       "      <td>...</td>\n",
       "      <td>...</td>\n",
       "      <td>...</td>\n",
       "      <td>...</td>\n",
       "      <td>...</td>\n",
       "      <td>...</td>\n",
       "      <td>...</td>\n",
       "      <td>...</td>\n",
       "    </tr>\n",
       "    <tr>\n",
       "      <th>5139</th>\n",
       "      <td>Gerard Gordeau</td>\n",
       "      <td>Kevin Rosier</td>\n",
       "      <td>KO/TKO</td>\n",
       "      <td>1</td>\n",
       "      <td>0:59</td>\n",
       "      <td>No Time Limit</td>\n",
       "      <td>Joao Alberto Barreto</td>\n",
       "      <td>November 12, 1993</td>\n",
       "      <td>Denver, Colorado, USA</td>\n",
       "      <td>Gerard Gordeau</td>\n",
       "      <td>Open Weight</td>\n",
       "      <td>False</td>\n",
       "    </tr>\n",
       "    <tr>\n",
       "      <th>5140</th>\n",
       "      <td>Ken Shamrock</td>\n",
       "      <td>Patrick Smith</td>\n",
       "      <td>Submission</td>\n",
       "      <td>1</td>\n",
       "      <td>1:49</td>\n",
       "      <td>No Time Limit</td>\n",
       "      <td>Joao Alberto Barreto</td>\n",
       "      <td>November 12, 1993</td>\n",
       "      <td>Denver, Colorado, USA</td>\n",
       "      <td>Ken Shamrock</td>\n",
       "      <td>Open Weight</td>\n",
       "      <td>False</td>\n",
       "    </tr>\n",
       "    <tr>\n",
       "      <th>5141</th>\n",
       "      <td>Royce Gracie</td>\n",
       "      <td>Art Jimmerson</td>\n",
       "      <td>Submission</td>\n",
       "      <td>1</td>\n",
       "      <td>2:18</td>\n",
       "      <td>No Time Limit</td>\n",
       "      <td>Joao Alberto Barreto</td>\n",
       "      <td>November 12, 1993</td>\n",
       "      <td>Denver, Colorado, USA</td>\n",
       "      <td>Royce Gracie</td>\n",
       "      <td>Open Weight</td>\n",
       "      <td>False</td>\n",
       "    </tr>\n",
       "    <tr>\n",
       "      <th>5142</th>\n",
       "      <td>Kevin Rosier</td>\n",
       "      <td>Zane Frazier</td>\n",
       "      <td>KO/TKO</td>\n",
       "      <td>1</td>\n",
       "      <td>4:20</td>\n",
       "      <td>No Time Limit</td>\n",
       "      <td>Joao Alberto Barreto</td>\n",
       "      <td>November 12, 1993</td>\n",
       "      <td>Denver, Colorado, USA</td>\n",
       "      <td>Kevin Rosier</td>\n",
       "      <td>Open Weight</td>\n",
       "      <td>False</td>\n",
       "    </tr>\n",
       "    <tr>\n",
       "      <th>5143</th>\n",
       "      <td>Gerard Gordeau</td>\n",
       "      <td>Teila Tuli</td>\n",
       "      <td>KO/TKO</td>\n",
       "      <td>1</td>\n",
       "      <td>0:26</td>\n",
       "      <td>No Time Limit</td>\n",
       "      <td>Joao Alberto Barreto</td>\n",
       "      <td>November 12, 1993</td>\n",
       "      <td>Denver, Colorado, USA</td>\n",
       "      <td>Gerard Gordeau</td>\n",
       "      <td>Open Weight</td>\n",
       "      <td>False</td>\n",
       "    </tr>\n",
       "  </tbody>\n",
       "</table>\n",
       "<p>5144 rows × 12 columns</p>\n",
       "</div>"
      ],
      "text/plain": [
       "                 R_fighter       B_fighter                   win_by  \\\n",
       "0             Henry Cejudo   Marlon Moraes                   KO/TKO   \n",
       "1     Valentina Shevchenko     Jessica Eye                   KO/TKO   \n",
       "2            Tony Ferguson  Donald Cerrone  TKO - Doctor's Stoppage   \n",
       "3            Jimmie Rivera        Petr Yan     Decision - Unanimous   \n",
       "4              Tai Tuivasa   Blagoy Ivanov     Decision - Unanimous   \n",
       "...                    ...             ...                      ...   \n",
       "5139        Gerard Gordeau    Kevin Rosier                   KO/TKO   \n",
       "5140          Ken Shamrock   Patrick Smith               Submission   \n",
       "5141          Royce Gracie   Art Jimmerson               Submission   \n",
       "5142          Kevin Rosier    Zane Frazier                   KO/TKO   \n",
       "5143        Gerard Gordeau      Teila Tuli                   KO/TKO   \n",
       "\n",
       "      last_round last_round_time             Format               Referee  \\\n",
       "0              3            4:51  5 Rnd (5-5-5-5-5)          Marc Goddard   \n",
       "1              2            0:26  5 Rnd (5-5-5-5-5)       Robert Madrigal   \n",
       "2              2            5:00      3 Rnd (5-5-5)       Dan Miragliotta   \n",
       "3              3            5:00      3 Rnd (5-5-5)       Kevin MacDonald   \n",
       "4              3            5:00      3 Rnd (5-5-5)       Dan Miragliotta   \n",
       "...          ...             ...                ...                   ...   \n",
       "5139           1            0:59      No Time Limit  Joao Alberto Barreto   \n",
       "5140           1            1:49      No Time Limit  Joao Alberto Barreto   \n",
       "5141           1            2:18      No Time Limit  Joao Alberto Barreto   \n",
       "5142           1            4:20      No Time Limit  Joao Alberto Barreto   \n",
       "5143           1            0:26      No Time Limit  Joao Alberto Barreto   \n",
       "\n",
       "                   date                location                Winner  \\\n",
       "0         June 08, 2019  Chicago, Illinois, USA          Henry Cejudo   \n",
       "1         June 08, 2019  Chicago, Illinois, USA  Valentina Shevchenko   \n",
       "2         June 08, 2019  Chicago, Illinois, USA         Tony Ferguson   \n",
       "3         June 08, 2019  Chicago, Illinois, USA              Petr Yan   \n",
       "4         June 08, 2019  Chicago, Illinois, USA         Blagoy Ivanov   \n",
       "...                 ...                     ...                   ...   \n",
       "5139  November 12, 1993   Denver, Colorado, USA        Gerard Gordeau   \n",
       "5140  November 12, 1993   Denver, Colorado, USA          Ken Shamrock   \n",
       "5141  November 12, 1993   Denver, Colorado, USA          Royce Gracie   \n",
       "5142  November 12, 1993   Denver, Colorado, USA          Kevin Rosier   \n",
       "5143  November 12, 1993   Denver, Colorado, USA        Gerard Gordeau   \n",
       "\n",
       "           weight_class  title_bout  \n",
       "0          Bantamweight        True  \n",
       "1     Women's Flyweight        True  \n",
       "2           Lightweight       False  \n",
       "3          Bantamweight       False  \n",
       "4           Heavyweight       False  \n",
       "...                 ...         ...  \n",
       "5139        Open Weight       False  \n",
       "5140        Open Weight       False  \n",
       "5141        Open Weight       False  \n",
       "5142        Open Weight       False  \n",
       "5143        Open Weight       False  \n",
       "\n",
       "[5144 rows x 12 columns]"
      ]
     },
     "execution_count": 8,
     "metadata": {},
     "output_type": "execute_result"
    }
   ],
   "source": [
    "# Sol:\n",
    "\n",
    "combates = pd.read_csv('dataset.csv', sep=';')\n",
    "combates"
   ]
  },
  {
   "cell_type": "markdown",
   "metadata": {},
   "source": [
    "###  Celebración de los combates\n",
    "\n",
    "La columna `location` del dataframe `combates` recoge información del lugar donde se celebran los combates. Este campo recoge la ciudad, el estado y el país. \n",
    "\n",
    "a) Modifica el DataFrame `combates`. Crear una nueva columna denominada `Country` con información únicamente del nombre del país.\n",
    "\n",
    "b) Muestra un listado de paises distintos donde se han celebrado combates.\n",
    "\n",
    "c) Calcula el número de combates celebrados en cada país. Representa gráficamente."
   ]
  },
  {
   "cell_type": "code",
   "execution_count": 13,
   "metadata": {},
   "outputs": [],
   "source": [
    "# Sol:\n",
    "\n",
    "combates['location']\n",
    "combates['country']=combates['location'].map(lambda valor : valor.split(',')[-1])\n",
    "combates.groupby('country').date.count()\n",
    "paises = combates.country.value_counts()"
   ]
  },
  {
   "cell_type": "code",
   "execution_count": 16,
   "metadata": {},
   "outputs": [
    {
     "data": {
      "text/plain": [
       "['USA',\n",
       " 'Brazil',\n",
       " 'Canada',\n",
       " 'United Kingdom',\n",
       " 'Australia',\n",
       " 'Japan',\n",
       " 'Sweden',\n",
       " 'Germany',\n",
       " 'Mexico',\n",
       " 'China',\n",
       " 'Singapore',\n",
       " 'Ireland',\n",
       " 'Netherlands',\n",
       " 'Poland',\n",
       " 'Russia',\n",
       " 'New Zealand',\n",
       " 'United Arab Emirates',\n",
       " 'Croatia',\n",
       " 'Chile',\n",
       " 'Czech Republic',\n",
       " 'Argentina',\n",
       " 'Philippines',\n",
       " 'South Korea',\n",
       " 'Puerto Rico']"
      ]
     },
     "execution_count": 16,
     "metadata": {},
     "output_type": "execute_result"
    }
   ],
   "source": [
    "list(paises.index.map(str.strip))"
   ]
  },
  {
   "cell_type": "code",
   "execution_count": 20,
   "metadata": {},
   "outputs": [
    {
     "ename": "NameError",
     "evalue": "name 'subplot' is not defined",
     "output_type": "error",
     "traceback": [
      "\u001b[1;31m---------------------------------------------------------------------------\u001b[0m",
      "\u001b[1;31mNameError\u001b[0m                                 Traceback (most recent call last)",
      "Cell \u001b[1;32mIn[20], line 3\u001b[0m\n\u001b[0;32m      1\u001b[0m \u001b[38;5;28;01mimport\u001b[39;00m \u001b[38;5;21;01mmatplotlib\u001b[39;00m\u001b[38;5;21;01m.\u001b[39;00m\u001b[38;5;21;01mpyplot\u001b[39;00m \u001b[38;5;28;01mas\u001b[39;00m \u001b[38;5;21;01mplt\u001b[39;00m\n\u001b[1;32m----> 3\u001b[0m figura, g \u001b[38;5;241m=\u001b[39m \u001b[43msubplot\u001b[49m\u001b[38;5;241m.\u001b[39mcombates()\n",
      "\u001b[1;31mNameError\u001b[0m: name 'subplot' is not defined"
     ]
    }
   ],
   "source": [
    "import matplotlib.pyplot as plt\n",
    "\n",
    "figura, g = subplot.combates()"
   ]
  },
  {
   "cell_type": "markdown",
   "metadata": {},
   "source": [
    "### Peso de los luchadores \n",
    "\n",
    "En el dataframe `luchadores` se encuentran los datos asociados a los participantes en combates. En particular recoje el peso de los participantes expresado en libras. \n",
    "\n",
    "a) Modifica el DataFrame `luchadores`. Crea una nueva columna llamada `Weight gr` que represente el peso del luchador en gramos. \n",
    "(1 libra son 453.59 gramos).\n",
    "\n",
    "b) Muestra un gráfico de frecuencias de la variable `Weight gr`. Discute la gráfica obtenida.\n",
    "\n",
    "c) Muestra el dataframe `luchadores` ordenado por peso (de mayor a menor)."
   ]
  },
  {
   "cell_type": "code",
   "execution_count": 4,
   "metadata": {},
   "outputs": [],
   "source": [
    "# Sol:\n"
   ]
  },
  {
   "cell_type": "markdown",
   "metadata": {},
   "source": [
    "###   Calzoncillo rojo\n",
    "\n",
    "Deseamos conocer en cuántos combates ha sido victorioso el luchador de calzoncillo rojo.\n",
    "\n"
   ]
  },
  {
   "cell_type": "code",
   "execution_count": 5,
   "metadata": {},
   "outputs": [],
   "source": [
    "# Sol:\n"
   ]
  },
  {
   "cell_type": "markdown",
   "metadata": {},
   "source": [
    "###  Ganadores !\n",
    "\n",
    "a) Genera un listado de luchadores que hayan ganado por `KO/TKO` .\n",
    "\n",
    "\n",
    "b) Genera un gráfico que muestre el número de combates  ganado por `KO/TKO` por cada uno de los países. "
   ]
  },
  {
   "cell_type": "code",
   "execution_count": 6,
   "metadata": {},
   "outputs": [],
   "source": [
    "# Sol:\n"
   ]
  },
  {
   "cell_type": "markdown",
   "metadata": {},
   "source": [
    "###  Analisis categoría \n",
    "\n",
    "a) Muestra un listado ordenado por número de combates para cada categoría\n",
    "\n",
    "b) Muestra gráficamente el número de combates por categoría. Discute \n"
   ]
  },
  {
   "cell_type": "code",
   "execution_count": 7,
   "metadata": {},
   "outputs": [],
   "source": [
    "# Sol:\n"
   ]
  },
  {
   "cell_type": "code",
   "execution_count": 8,
   "metadata": {},
   "outputs": [],
   "source": [
    "import matplotlib.pyplot as plt\n"
   ]
  },
  {
   "cell_type": "markdown",
   "metadata": {},
   "source": [
    "### Años\n",
    "Muestra los datos de los combates ordenados por año y país de forma descendente."
   ]
  },
  {
   "cell_type": "code",
   "execution_count": 9,
   "metadata": {},
   "outputs": [],
   "source": [
    "# Sol:\n"
   ]
  }
 ],
 "metadata": {
  "hide_input": false,
  "kernelspec": {
   "display_name": "Python 3 (ipykernel)",
   "language": "python",
   "name": "python3"
  },
  "language_info": {
   "codemirror_mode": {
    "name": "ipython",
    "version": 3
   },
   "file_extension": ".py",
   "mimetype": "text/x-python",
   "name": "python",
   "nbconvert_exporter": "python",
   "pygments_lexer": "ipython3",
   "version": "3.11.1"
  },
  "nbTranslate": {
   "displayLangs": [
    "en",
    "es"
   ],
   "hotkey": "alt-t",
   "langInMainMenu": true,
   "sourceLang": "es",
   "targetLang": "en",
   "useGoogleTranslate": true
  },
  "toc": {
   "base_numbering": 1,
   "nav_menu": {},
   "number_sections": true,
   "sideBar": true,
   "skip_h1_title": false,
   "title_cell": "Table of Contents",
   "title_sidebar": "Contents",
   "toc_cell": false,
   "toc_position": {
    "height": "calc(100% - 180px)",
    "left": "10px",
    "top": "150px",
    "width": "354.6px"
   },
   "toc_section_display": true,
   "toc_window_display": true
  }
 },
 "nbformat": 4,
 "nbformat_minor": 4
}
