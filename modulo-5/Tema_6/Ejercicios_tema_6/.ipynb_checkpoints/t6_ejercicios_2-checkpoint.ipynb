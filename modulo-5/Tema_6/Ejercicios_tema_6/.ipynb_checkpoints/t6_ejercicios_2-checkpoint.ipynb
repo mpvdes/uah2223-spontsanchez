{
 "cells": [
  {
   "cell_type": "markdown",
   "metadata": {},
   "source": [
    "# Ejercicios Numpy 4"
   ]
  },
  {
   "cell_type": "markdown",
   "metadata": {},
   "source": [
    "Los enlaces que te encuentres en esta página, solo funcionan desde el formato html, no desde el notebook una vez descargado."
   ]
  },
  {
   "cell_type": "markdown",
   "metadata": {},
   "source": [
    "## Ejercicio 1"
   ]
  },
  {
   "cell_type": "markdown",
   "metadata": {},
   "source": [
    "Dos niños están haciendo una colección de cromos. Cada cromo tiene asignado un número entero entre 1 y 200.\n",
    "\n",
    "* Los cromos que tiene Juan se encuentran en el fichero [juan.txt](./datos/col_juan.txt). La primera columna representa el número asociado al cromo y la segunda columna representa el número de cromos con ese número que tiene Juan.\n",
    "\n",
    "* Los cromos que tiene Pedro se encuentran en el fichero [pedro.txt](./datos/col_pedro.txt). La primera columna representa el número asociado al cromo y la segunda columna representa el número de cromos con ese número que tiene Pedro.\n",
    "\n",
    "__a)__ Crear un array de `numpy` con los datos de cada una de las colecciones. Los arrays han de llamarse `juan`y `pedro`.\n",
    "\n",
    "   * Descarga los ficheros  en tu directorio de trabajo.\n",
    "   * Carga cada uno de los ficheros mediante la función `loadtxt`. Usa el parámetro  `delimiter` con valor `,`. Usa el parámetro `dtype` para indicar que los valores sean de tipo `int`. Si usas MAC, es posible que tengas que asignar el valor `float` al parámetro `dtype`."
   ]
  },
  {
   "cell_type": "code",
   "execution_count": 8,
   "metadata": {
    "ExecuteTime": {
     "end_time": "2019-01-04T13:46:15.191779Z",
     "start_time": "2019-01-04T13:46:15.182881Z"
    }
   },
   "outputs": [],
   "source": [
    "# Sol: \n"
   ]
  },
  {
   "cell_type": "markdown",
   "metadata": {},
   "source": [
    "__b)__ Calcula el número de cromos diferentes que tiene cada niño. "
   ]
  },
  {
   "cell_type": "code",
   "execution_count": 9,
   "metadata": {
    "ExecuteTime": {
     "end_time": "2019-01-04T13:59:53.267589Z",
     "start_time": "2019-01-04T13:59:53.264120Z"
    }
   },
   "outputs": [],
   "source": [
    "# SOl: \n",
    "# juan tiene 68 cromos\n",
    "# pedro tiene 124 cromos\n"
   ]
  },
  {
   "cell_type": "markdown",
   "metadata": {},
   "source": [
    "__c)__ Calcula el número de cromos totales que tiene cada niño (contando los cromos repetidos). "
   ]
  },
  {
   "cell_type": "code",
   "execution_count": 10,
   "metadata": {
    "ExecuteTime": {
     "end_time": "2019-01-04T13:59:59.450302Z",
     "start_time": "2019-01-04T13:59:59.447330Z"
    }
   },
   "outputs": [],
   "source": [
    "# SOl: \n",
    "# pedro tiene 1326 cromos \n",
    "# juan tiene 619 cromos\n"
   ]
  },
  {
   "cell_type": "markdown",
   "metadata": {},
   "source": [
    "__d)__ Calcula el número de cromos que aparecen en las dos colecciones. Puedes usar la función `np.intersect1d`."
   ]
  },
  {
   "cell_type": "code",
   "execution_count": 11,
   "metadata": {
    "ExecuteTime": {
     "end_time": "2019-01-04T14:00:50.965063Z",
     "start_time": "2019-01-04T14:00:50.960103Z"
    }
   },
   "outputs": [],
   "source": [
    "# Sol\n",
    "# Hay 44 cromos que aparecen en las dos colecciones\n"
   ]
  },
  {
   "cell_type": "markdown",
   "metadata": {},
   "source": [
    "__e)__ Entre los dos niños, ¿forman la colección completa?. Puedes usar la función `np.union1d`."
   ]
  },
  {
   "cell_type": "code",
   "execution_count": 12,
   "metadata": {
    "ExecuteTime": {
     "end_time": "2019-01-04T14:01:31.596336Z",
     "start_time": "2019-01-04T14:01:31.592867Z"
    }
   },
   "outputs": [],
   "source": [
    "# Sol: \n",
    "# No Forman la colección completa. Entre los dos, solo tienen 148 cromos distintos y la colección tiene 200 cromos\n"
   ]
  },
  {
   "cell_type": "markdown",
   "metadata": {},
   "source": [
    "__f)__ ¿Qué números faltan para tener la colección completa?\n",
    "\n",
    "* Puedes generar un array de todos los cromos de la colección con la función `arange`.\n",
    "* Usa la función `np.in1d` "
   ]
  },
  {
   "cell_type": "code",
   "execution_count": 13,
   "metadata": {
    "ExecuteTime": {
     "end_time": "2019-01-04T14:01:07.241500Z",
     "start_time": "2019-01-04T14:01:07.238035Z"
    }
   },
   "outputs": [],
   "source": [
    "# Sol:\n",
    "# Listado de los cromos que faltan:\n",
    "#      [  1,   3,  12,  16,  17,  21,  30,  34,  38,  45,  46,  48,  52,\n",
    "#        55,  66,  69,  72,  75,  76,  81,  82,  91,  92,  96, 100, 106,\n",
    "#       107, 113, 114, 119, 122, 124, 125, 129, 138, 139, 140, 146, 151,\n",
    "#       154, 155, 173, 176, 180, 181, 184, 185, 186, 190, 194, 199, 200]\n",
    "    \n"
   ]
  },
  {
   "cell_type": "markdown",
   "metadata": {},
   "source": [
    "__g)__ Calcula el cromo más repetido de juan. Usa la función `np.argmax`."
   ]
  },
  {
   "cell_type": "code",
   "execution_count": 14,
   "metadata": {},
   "outputs": [],
   "source": [
    "# Sol (166)\n"
   ]
  },
  {
   "cell_type": "markdown",
   "metadata": {},
   "source": [
    "__h)__ Calcula el número de cromos de la colección de Juan con más de 10 repeticiones."
   ]
  },
  {
   "cell_type": "code",
   "execution_count": 15,
   "metadata": {},
   "outputs": [],
   "source": [
    "# Sol:\n",
    "# (Juan tiene 26 cromos con más 10 repeticiones)\n"
   ]
  },
  {
   "cell_type": "markdown",
   "metadata": {},
   "source": [
    "__i)__ Calcula el número de cromos con más de 10 repeticiones.\n"
   ]
  },
  {
   "cell_type": "code",
   "execution_count": 16,
   "metadata": {},
   "outputs": [],
   "source": [
    "# Sol:\n",
    "#  los crmos de la colección de Juan con más de 10 repeticiones son:\n",
    "#  [  8,  15,  28,  31,  33,  54,  62,  70,  80,  97, 105, 108, 110,\n",
    "#       130, 137, 145, 152, 158, 160, 166, 167, 170, 171, 172, 178, 197]\n"
   ]
  },
  {
   "cell_type": "markdown",
   "metadata": {},
   "source": [
    "__j)__ Averigüa los números de los cromos que le faltan a Pedro para acabar la colección."
   ]
  },
  {
   "cell_type": "code",
   "execution_count": 17,
   "metadata": {},
   "outputs": [],
   "source": [
    "# Sol:\n",
    "#      [  1,   3,   4,   6,   7,   9,  10,  11,  12,  13,  14,  16,  17,\n",
    "#        18,  19,  20,  21,  22,  23,  24,  26,  27,  29,  30,  32,  34,\n",
    "#        35,  36,  38,  39,  44,  45,  46,  47,  48,  50,  51,  52,  55,\n",
    "#        ....,\n",
    "#       181, 184, 185, 186, 187, 188, 189, 190, 191, 193, 194, 195, 196,\n",
    "#       199, 200]\n"
   ]
  },
  {
   "cell_type": "markdown",
   "metadata": {},
   "source": [
    "__k)__ Cuántos cromos tienen entre los dos niños"
   ]
  },
  {
   "cell_type": "code",
   "execution_count": 18,
   "metadata": {},
   "outputs": [],
   "source": [
    "# Sol: 1945 cromos\n"
   ]
  },
  {
   "cell_type": "markdown",
   "metadata": {},
   "source": [
    "__l)__ Calcula el cromo  de Pedro que se repite menos veces"
   ]
  },
  {
   "cell_type": "code",
   "execution_count": 19,
   "metadata": {},
   "outputs": [],
   "source": [
    "# Sol: el cromo 4\n"
   ]
  },
  {
   "cell_type": "markdown",
   "metadata": {},
   "source": [
    "---------------------"
   ]
  }
 ],
 "metadata": {
  "anaconda-cloud": {},
  "hide_input": false,
  "kernelspec": {
   "display_name": "Python 3 (ipykernel)",
   "language": "python",
   "name": "python3"
  },
  "language_info": {
   "codemirror_mode": {
    "name": "ipython",
    "version": 3
   },
   "file_extension": ".py",
   "mimetype": "text/x-python",
   "name": "python",
   "nbconvert_exporter": "python",
   "pygments_lexer": "ipython3",
   "version": "3.11.1"
  },
  "nbTranslate": {
   "displayLangs": [
    "en",
    "es"
   ],
   "hotkey": "alt-t",
   "langInMainMenu": true,
   "sourceLang": "es",
   "targetLang": "en",
   "useGoogleTranslate": true
  },
  "toc": {
   "base_numbering": 1,
   "nav_menu": {
    "height": "68px",
    "width": "252px"
   },
   "number_sections": true,
   "sideBar": true,
   "skip_h1_title": false,
   "title_cell": "Table of Contents",
   "title_sidebar": "Contents",
   "toc_cell": false,
   "toc_position": {},
   "toc_section_display": "block",
   "toc_window_display": false
  }
 },
 "nbformat": 4,
 "nbformat_minor": 4
}
