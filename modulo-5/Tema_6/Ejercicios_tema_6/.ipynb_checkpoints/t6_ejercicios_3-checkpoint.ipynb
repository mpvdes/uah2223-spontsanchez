{
 "cells": [
  {
   "cell_type": "markdown",
   "metadata": {},
   "source": [
    "# Ejercicios "
   ]
  },
  {
   "cell_type": "markdown",
   "metadata": {},
   "source": [
    "## Ejercicio 1"
   ]
  },
  {
   "cell_type": "markdown",
   "metadata": {},
   "source": [
    "\n",
    "Disponemos de varios ficheros que contienen medicciones de temperaturas en distintos meses. Se encuentran en la carpeta `.\\datos\\temperaturas_mes`.\n",
    "\n",
    "* Las medicciones de temperatura del mes de enero se encuentran en el fichero [Enero.txt](./datos/temperaturas_meses/tempetaruras.txt)\n",
    "\n",
    "\n",
    "__a)__ Crear un array de `numpy` con los datos de las temperaturas del mes de Enero. El nombre de este array se llamará `enero`.\n",
    "\n",
    "   * Carga el fichero mediante la función `loadtxt`.  Usa el parámetro `dtype` para indicar que los valores sean de tipo `int`. Si tu sistema operativo es iOS, es probable que te de error si pones tipo `int`. Prueba a poner `float`.\n",
    "  "
   ]
  },
  {
   "cell_type": "code",
   "execution_count": 1,
   "metadata": {},
   "outputs": [],
   "source": [
    "# Sol:\n",
    "import numpy as np\n"
   ]
  },
  {
   "cell_type": "code",
   "execution_count": 6,
   "metadata": {},
   "outputs": [
    {
     "name": "stdout",
     "output_type": "stream",
     "text": [
      "C:\\Users\\Sergi\\Documents\\mpvd\\uah2223-spontsanchez\\modulo-5\\Tema_6\\Ejercicios_tema_6\\datos\\temperaturas_mes\n"
     ]
    }
   ],
   "source": [
    "%cd ./datos/temperaturas_mes"
   ]
  },
  {
   "cell_type": "code",
   "execution_count": null,
   "metadata": {},
   "outputs": [],
   "source": [
    "%pwd"
   ]
  },
  {
   "cell_type": "markdown",
   "metadata": {},
   "source": [
    "__b)__ Determinar el tamaño de los datos. ¿Cuantas filas y cuántas columnas tiene el array `enero`?\n",
    "\n",
    "Observa que la primera columna siempre tiene el valor 1 (1 = Enero)."
   ]
  },
  {
   "cell_type": "code",
   "execution_count": 83,
   "metadata": {},
   "outputs": [],
   "source": [
    "# sol:\n"
   ]
  },
  {
   "cell_type": "markdown",
   "metadata": {},
   "source": [
    "__c)__ Calcula la temperatura máxima y mínima registrada."
   ]
  },
  {
   "cell_type": "code",
   "execution_count": 4,
   "metadata": {
    "ExecuteTime": {
     "end_time": "2019-01-04T13:59:59.450302Z",
     "start_time": "2019-01-04T13:59:59.447330Z"
    }
   },
   "outputs": [],
   "source": [
    "# SOl: \n",
    "# temperatura máxima:  \n",
    "# temperatura mínima:  \n",
    "\n",
    " "
   ]
  },
  {
   "cell_type": "markdown",
   "metadata": {},
   "source": [
    "__d)__ Calcula la media de temperaturas en dicho mes."
   ]
  },
  {
   "cell_type": "code",
   "execution_count": 2,
   "metadata": {},
   "outputs": [],
   "source": [
    "# Sol:\n",
    "\n"
   ]
  },
  {
   "cell_type": "markdown",
   "metadata": {},
   "source": [
    "__e)__ Ejecuta la siguiente celda y comenta el resultado"
   ]
  },
  {
   "cell_type": "code",
   "execution_count": 7,
   "metadata": {
    "collapsed": true
   },
   "outputs": [
    {
     "name": "stdout",
     "output_type": "stream",
     "text": [
      "File: Abril.txt,\n",
      "Ruta: E:\\Documentos(E)\\Docencia BigData\\UAH_master_periodismo\\material_T6\\Ejercicios_Tema_72\\temperaturas_mes\\Abril.txt\n",
      " ---\n",
      "File: Enero.txt,\n",
      "Ruta: E:\\Documentos(E)\\Docencia BigData\\UAH_master_periodismo\\material_T6\\Ejercicios_Tema_72\\temperaturas_mes\\Enero.txt\n",
      " ---\n",
      "File: Febrero.txt,\n",
      "Ruta: E:\\Documentos(E)\\Docencia BigData\\UAH_master_periodismo\\material_T6\\Ejercicios_Tema_72\\temperaturas_mes\\Febrero.txt\n",
      " ---\n",
      "File: Junio.txt,\n",
      "Ruta: E:\\Documentos(E)\\Docencia BigData\\UAH_master_periodismo\\material_T6\\Ejercicios_Tema_72\\temperaturas_mes\\Junio.txt\n",
      " ---\n",
      "File: Marzo.txt,\n",
      "Ruta: E:\\Documentos(E)\\Docencia BigData\\UAH_master_periodismo\\material_T6\\Ejercicios_Tema_72\\temperaturas_mes\\Marzo.txt\n",
      " ---\n",
      "File: Mayo.txt,\n",
      "Ruta: E:\\Documentos(E)\\Docencia BigData\\UAH_master_periodismo\\material_T6\\Ejercicios_Tema_72\\temperaturas_mes\\Mayo.txt\n",
      " ---\n",
      "File: metadatos.csv,\n",
      "Ruta: E:\\Documentos(E)\\Docencia BigData\\UAH_master_periodismo\\material_T6\\Ejercicios_Tema_72\\temperaturas_mes\\metadatos.csv\n",
      " ---\n",
      "File: readme.csv,\n",
      "Ruta: E:\\Documentos(E)\\Docencia BigData\\UAH_master_periodismo\\material_T6\\Ejercicios_Tema_72\\temperaturas_mes\\readme.csv\n",
      " ---\n"
     ]
    }
   ],
   "source": [
    "import pathlib\n",
    "import os\n",
    "wd = os.getcwd() + '\\\\temperaturas_mes'\n",
    "\n",
    "carpeta = pathlib.Path(wd)\n",
    "for fichero in caroeta.iterdir():\n",
    "    print(f'File: {fichero.name},\\nRuta: {fichero}\\n', '---')"
   ]
  },
  {
   "cell_type": "markdown",
   "metadata": {},
   "source": [
    "__e)__ Calcula la media de temperaturas de todos los meses."
   ]
  },
  {
   "cell_type": "code",
   "execution_count": 3,
   "metadata": {},
   "outputs": [],
   "source": [
    "# Sol:\n"
   ]
  },
  {
   "cell_type": "markdown",
   "metadata": {},
   "source": [
    "---------------------"
   ]
  }
 ],
 "metadata": {
  "anaconda-cloud": {},
  "hide_input": false,
  "kernelspec": {
   "display_name": "Python 3 (ipykernel)",
   "language": "python",
   "name": "python3"
  },
  "language_info": {
   "codemirror_mode": {
    "name": "ipython",
    "version": 3
   },
   "file_extension": ".py",
   "mimetype": "text/x-python",
   "name": "python",
   "nbconvert_exporter": "python",
   "pygments_lexer": "ipython3",
   "version": "3.11.1"
  },
  "nbTranslate": {
   "displayLangs": [
    "en",
    "es"
   ],
   "hotkey": "alt-t",
   "langInMainMenu": true,
   "sourceLang": "es",
   "targetLang": "en",
   "useGoogleTranslate": true
  },
  "toc": {
   "base_numbering": 1,
   "nav_menu": {
    "height": "68px",
    "width": "252px"
   },
   "number_sections": true,
   "sideBar": true,
   "skip_h1_title": false,
   "title_cell": "Table of Contents",
   "title_sidebar": "Contents",
   "toc_cell": false,
   "toc_position": {},
   "toc_section_display": "block",
   "toc_window_display": false
  }
 },
 "nbformat": 4,
 "nbformat_minor": 1
}
