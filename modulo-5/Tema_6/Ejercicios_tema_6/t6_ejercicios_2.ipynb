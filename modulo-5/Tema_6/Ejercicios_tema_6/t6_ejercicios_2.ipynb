{
 "cells": [
  {
   "cell_type": "markdown",
   "metadata": {},
   "source": [
    "# Ejercicios Numpy 4"
   ]
  },
  {
   "cell_type": "markdown",
   "metadata": {},
   "source": [
    "Los enlaces que te encuentres en esta página, solo funcionan desde el formato html, no desde el notebook una vez descargado."
   ]
  },
  {
   "cell_type": "markdown",
   "metadata": {},
   "source": [
    "## Ejercicio 1"
   ]
  },
  {
   "cell_type": "markdown",
   "metadata": {},
   "source": [
    "Dos niños están haciendo una colección de cromos. Cada cromo tiene asignado un número entero entre 1 y 200.\n",
    "\n",
    "* Los cromos que tiene Juan se encuentran en el fichero [juan.txt](./datos/col_juan.txt). La primera columna representa el número asociado al cromo y la segunda columna representa el número de cromos con ese número que tiene Juan.\n",
    "\n",
    "* Los cromos que tiene Pedro se encuentran en el fichero [pedro.txt](./datos/col_pedro.txt). La primera columna representa el número asociado al cromo y la segunda columna representa el número de cromos con ese número que tiene Pedro.\n",
    "\n",
    "__a)__ Crear un array de `numpy` con los datos de cada una de las colecciones. Los arrays han de llamarse `juan`y `pedro`.\n",
    "\n",
    "   * Descarga los ficheros  en tu directorio de trabajo.\n",
    "   * Carga cada uno de los ficheros mediante la función `loadtxt`. Usa el parámetro  `delimiter` con valor `,`. Usa el parámetro `dtype` para indicar que los valores sean de tipo `int`. Si usas MAC, es posible que tengas que asignar el valor `float` al parámetro `dtype`."
   ]
  },
  {
   "cell_type": "code",
   "execution_count": 1,
   "metadata": {
    "ExecuteTime": {
     "end_time": "2019-01-04T13:46:15.191779Z",
     "start_time": "2019-01-04T13:46:15.182881Z"
    }
   },
   "outputs": [],
   "source": [
    "# Sol: \n",
    "import numpy as np"
   ]
  },
  {
   "cell_type": "code",
   "execution_count": 10,
   "metadata": {},
   "outputs": [
    {
     "name": "stderr",
     "output_type": "stream",
     "text": [
      "C:\\Users\\Sergi\\OneDrive\\Documents\\MPVD\\Software\\tmp\\ipykernel_426668\\1405328178.py:1: DeprecationWarning: loadtxt(): Parsing an integer via a float is deprecated.  To avoid this warning, you can:\n",
      "    * make sure the original data is stored as integers.\n",
      "    * use the `converters=` keyword argument.  If you only use\n",
      "      NumPy 1.23 or later, `converters=float` will normally work.\n",
      "    * Use `np.loadtxt(...).astype(np.int64)` parsing the file as\n",
      "      floating point and then convert it.  (On all NumPy versions.)\n",
      "  (Deprecated NumPy 1.23)\n",
      "  juan = np.loadtxt(\"./datos/col_juan.txt\", delimiter=',', dtype=int)\n",
      "C:\\Users\\Sergi\\OneDrive\\Documents\\MPVD\\Software\\tmp\\ipykernel_426668\\1405328178.py:2: DeprecationWarning: loadtxt(): Parsing an integer via a float is deprecated.  To avoid this warning, you can:\n",
      "    * make sure the original data is stored as integers.\n",
      "    * use the `converters=` keyword argument.  If you only use\n",
      "      NumPy 1.23 or later, `converters=float` will normally work.\n",
      "    * Use `np.loadtxt(...).astype(np.int64)` parsing the file as\n",
      "      floating point and then convert it.  (On all NumPy versions.)\n",
      "  (Deprecated NumPy 1.23)\n",
      "  pedro = np.loadtxt(\"./datos/col_pedro.txt\", delimiter=',', dtype=int)\n"
     ]
    }
   ],
   "source": [
    "juan = np.loadtxt(\"./datos/col_juan.txt\", delimiter=',', dtype=int)\n",
    "pedro = np.loadtxt(\"./datos/col_pedro.txt\", delimiter=',', dtype=int)"
   ]
  },
  {
   "cell_type": "code",
   "execution_count": 9,
   "metadata": {},
   "outputs": [
    {
     "data": {
      "text/plain": [
       "array([[  2,   4],\n",
       "       [  5,   5],\n",
       "       [  8,  13],\n",
       "       [ 15,  11],\n",
       "       [ 25,   4],\n",
       "       [ 28,  14],\n",
       "       [ 31,  15],\n",
       "       [ 33,  17],\n",
       "       [ 37,   7],\n",
       "       [ 40,   3],\n",
       "       [ 41,   1],\n",
       "       [ 42,   9],\n",
       "       [ 43,   3],\n",
       "       [ 49,   6],\n",
       "       [ 53,   8],\n",
       "       [ 54,  14],\n",
       "       [ 57,  10],\n",
       "       [ 60,  10],\n",
       "       [ 61,   2],\n",
       "       [ 62,  15],\n",
       "       [ 67,   3],\n",
       "       [ 68,   5],\n",
       "       [ 70,  14],\n",
       "       [ 71,  10],\n",
       "       [ 74,   9],\n",
       "       [ 80,  16],\n",
       "       [ 90,   1],\n",
       "       [ 97,  17],\n",
       "       [105,  15],\n",
       "       [108,  18],\n",
       "       [110,  15],\n",
       "       [111,   2],\n",
       "       [112,   6],\n",
       "       [116,   9],\n",
       "       [117,   5],\n",
       "       [123,  10],\n",
       "       [127,  10],\n",
       "       [130,  17],\n",
       "       [132,   3],\n",
       "       [133,   4],\n",
       "       [134,   7],\n",
       "       [135,   9],\n",
       "       [137,  14],\n",
       "       [142,   7],\n",
       "       [143,  10],\n",
       "       [144,   3],\n",
       "       [145,  15],\n",
       "       [148,   3],\n",
       "       [152,  11],\n",
       "       [153,   5],\n",
       "       [157,  10],\n",
       "       [158,  12],\n",
       "       [159,   2],\n",
       "       [160,  16],\n",
       "       [163,   5],\n",
       "       [164,   3],\n",
       "       [166,  19],\n",
       "       [167,  17],\n",
       "       [168,   7],\n",
       "       [170,  13],\n",
       "       [171,  15],\n",
       "       [172,  15],\n",
       "       [178,  12],\n",
       "       [182,   2],\n",
       "       [183,   2],\n",
       "       [192,   2],\n",
       "       [197,  14],\n",
       "       [198,   9]])"
      ]
     },
     "execution_count": 9,
     "metadata": {},
     "output_type": "execute_result"
    }
   ],
   "source": [
    "juan"
   ]
  },
  {
   "cell_type": "code",
   "execution_count": 11,
   "metadata": {},
   "outputs": [
    {
     "data": {
      "text/plain": [
       "array([[  2,   4],\n",
       "       [  4,   1],\n",
       "       [  6,   9],\n",
       "       [  7,   4],\n",
       "       [  9,  10],\n",
       "       [ 10,  10],\n",
       "       [ 11,  10],\n",
       "       [ 13,  10],\n",
       "       [ 14,  19],\n",
       "       [ 15,   5],\n",
       "       [ 18,  16],\n",
       "       [ 19,  14],\n",
       "       [ 20,  13],\n",
       "       [ 22,  17],\n",
       "       [ 23,   9],\n",
       "       [ 24,  15],\n",
       "       [ 26,  14],\n",
       "       [ 27,  11],\n",
       "       [ 28,  10],\n",
       "       [ 29,  17],\n",
       "       [ 31,   1],\n",
       "       [ 32,   9],\n",
       "       [ 35,  18],\n",
       "       [ 36,   1],\n",
       "       [ 39,  10],\n",
       "       [ 40,  12],\n",
       "       [ 42,  12],\n",
       "       [ 43,  14],\n",
       "       [ 44,   6],\n",
       "       [ 47,   6],\n",
       "       [ 49,   4],\n",
       "       [ 50,  11],\n",
       "       [ 51,  13],\n",
       "       [ 53,  16],\n",
       "       [ 54,   9],\n",
       "       [ 56,  10],\n",
       "       [ 58,  16],\n",
       "       [ 59,  14],\n",
       "       [ 60,  14],\n",
       "       [ 61,  16],\n",
       "       [ 63,   3],\n",
       "       [ 64,   5],\n",
       "       [ 65,   5],\n",
       "       [ 68,  11],\n",
       "       [ 71,  18],\n",
       "       [ 73,   8],\n",
       "       [ 74,  11],\n",
       "       [ 77,  13],\n",
       "       [ 78,  13],\n",
       "       [ 79,  16],\n",
       "       [ 80,   3],\n",
       "       [ 83,  10],\n",
       "       [ 84,  13],\n",
       "       [ 85,  12],\n",
       "       [ 86,  17],\n",
       "       [ 87,  18],\n",
       "       [ 88,  18],\n",
       "       [ 89,  12],\n",
       "       [ 90,   8],\n",
       "       [ 93,  15],\n",
       "       [ 94,  14],\n",
       "       [ 95,  14],\n",
       "       [ 97,  17],\n",
       "       [ 98,  14],\n",
       "       [ 99,  11],\n",
       "       [101,  19],\n",
       "       [102,  19],\n",
       "       [103,   2],\n",
       "       [104,  10],\n",
       "       [109,  11],\n",
       "       [112,  14],\n",
       "       [115,  13],\n",
       "       [117,   1],\n",
       "       [118,   4],\n",
       "       [120,  16],\n",
       "       [121,   3],\n",
       "       [123,  14],\n",
       "       [126,   4],\n",
       "       [128,   7],\n",
       "       [130,   8],\n",
       "       [131,  17],\n",
       "       [134,  18],\n",
       "       [135,   9],\n",
       "       [136,   3],\n",
       "       [141,   4],\n",
       "       [143,  15],\n",
       "       [145,  17],\n",
       "       [147,   8],\n",
       "       [149,  12],\n",
       "       [150,   3],\n",
       "       [152,   5],\n",
       "       [153,   7],\n",
       "       [156,   4],\n",
       "       [157,  15],\n",
       "       [160,   8],\n",
       "       [161,   7],\n",
       "       [162,   4],\n",
       "       [163,  13],\n",
       "       [164,  15],\n",
       "       [165,   7],\n",
       "       [166,   5],\n",
       "       [167,  15],\n",
       "       [168,   4],\n",
       "       [169,  18],\n",
       "       [170,   7],\n",
       "       [171,  11],\n",
       "       [172,  18],\n",
       "       [174,  17],\n",
       "       [175,  10],\n",
       "       [177,  19],\n",
       "       [178,  14],\n",
       "       [179,   6],\n",
       "       [182,   4],\n",
       "       [183,  15],\n",
       "       [187,   8],\n",
       "       [188,  14],\n",
       "       [189,  14],\n",
       "       [191,   5],\n",
       "       [192,  11],\n",
       "       [193,  11],\n",
       "       [195,  12],\n",
       "       [196,   1],\n",
       "       [197,   3],\n",
       "       [198,  19]])"
      ]
     },
     "execution_count": 11,
     "metadata": {},
     "output_type": "execute_result"
    }
   ],
   "source": [
    "pedro"
   ]
  },
  {
   "cell_type": "markdown",
   "metadata": {},
   "source": [
    "__b)__ Calcula el número de cromos diferentes que tiene cada niño. "
   ]
  },
  {
   "cell_type": "code",
   "execution_count": 12,
   "metadata": {
    "ExecuteTime": {
     "end_time": "2019-01-04T13:59:53.267589Z",
     "start_time": "2019-01-04T13:59:53.264120Z"
    }
   },
   "outputs": [
    {
     "data": {
      "text/plain": [
       "(124, 68)"
      ]
     },
     "execution_count": 12,
     "metadata": {},
     "output_type": "execute_result"
    }
   ],
   "source": [
    "# SOl: \n",
    "# juan tiene 68 cromos\n",
    "# pedro tiene 124 cromos\n",
    "len(pedro), len(juan)"
   ]
  },
  {
   "cell_type": "markdown",
   "metadata": {},
   "source": [
    "__c)__ Calcula el número de cromos totales que tiene cada niño (contando los cromos repetidos). "
   ]
  },
  {
   "cell_type": "code",
   "execution_count": 14,
   "metadata": {
    "ExecuteTime": {
     "end_time": "2019-01-04T13:59:59.450302Z",
     "start_time": "2019-01-04T13:59:59.447330Z"
    }
   },
   "outputs": [
    {
     "data": {
      "text/plain": [
       "1326"
      ]
     },
     "execution_count": 14,
     "metadata": {},
     "output_type": "execute_result"
    }
   ],
   "source": [
    "# SOl: \n",
    "# pedro tiene 1326 cromos \n",
    "# juan tiene 619 cromos\n",
    "np.sum(pedro[:,1])"
   ]
  },
  {
   "cell_type": "code",
   "execution_count": 15,
   "metadata": {},
   "outputs": [
    {
     "data": {
      "text/plain": [
       "1326"
      ]
     },
     "execution_count": 15,
     "metadata": {},
     "output_type": "execute_result"
    }
   ],
   "source": [
    "pedro[:,1].sum()"
   ]
  },
  {
   "cell_type": "code",
   "execution_count": 16,
   "metadata": {},
   "outputs": [
    {
     "data": {
      "text/plain": [
       "619"
      ]
     },
     "execution_count": 16,
     "metadata": {},
     "output_type": "execute_result"
    }
   ],
   "source": [
    "juan[:,1].sum()"
   ]
  },
  {
   "cell_type": "code",
   "execution_count": null,
   "metadata": {},
   "outputs": [],
   "source": []
  },
  {
   "cell_type": "markdown",
   "metadata": {},
   "source": [
    "__d)__ Calcula el número de cromos que aparecen en las dos colecciones. Puedes usar la función `np.intersect1d`."
   ]
  },
  {
   "cell_type": "code",
   "execution_count": 19,
   "metadata": {
    "ExecuteTime": {
     "end_time": "2019-01-04T14:00:50.965063Z",
     "start_time": "2019-01-04T14:00:50.960103Z"
    }
   },
   "outputs": [
    {
     "data": {
      "text/plain": [
       "44"
      ]
     },
     "execution_count": 19,
     "metadata": {},
     "output_type": "execute_result"
    }
   ],
   "source": [
    "# Sol\n",
    "# Hay 44 cromos que aparecen en las dos colecciones\n",
    "repetidos = np.intersect1d(pedro[:,0], juan[:,0])\n",
    "len(repetidos)"
   ]
  },
  {
   "cell_type": "markdown",
   "metadata": {},
   "source": [
    "__e)__ Entre los dos niños, ¿forman la colección completa?. Puedes usar la función `np.union1d`."
   ]
  },
  {
   "cell_type": "code",
   "execution_count": 21,
   "metadata": {
    "ExecuteTime": {
     "end_time": "2019-01-04T14:01:31.596336Z",
     "start_time": "2019-01-04T14:01:31.592867Z"
    }
   },
   "outputs": [
    {
     "data": {
      "text/plain": [
       "148"
      ]
     },
     "execution_count": 21,
     "metadata": {},
     "output_type": "execute_result"
    }
   ],
   "source": [
    "# Sol: \n",
    "# No Forman la colección completa. Entre los dos, solo tienen 148 cromos distintos y la colección tiene 200 cromos\n",
    "union = np.union1d(pedro[:,0], juan[:,0])\n",
    "len(union)"
   ]
  },
  {
   "cell_type": "code",
   "execution_count": 22,
   "metadata": {},
   "outputs": [],
   "source": [
    "np.union1d?"
   ]
  },
  {
   "cell_type": "markdown",
   "metadata": {},
   "source": [
    "__f)__ ¿Qué números faltan para tener la colección completa?\n",
    "\n",
    "* Puedes generar un array de todos los cromos de la colección con la función `arange`.\n",
    "* Usa la función `np.in1d` "
   ]
  },
  {
   "cell_type": "code",
   "execution_count": 23,
   "metadata": {
    "ExecuteTime": {
     "end_time": "2019-01-04T14:01:07.241500Z",
     "start_time": "2019-01-04T14:01:07.238035Z"
    }
   },
   "outputs": [
    {
     "data": {
      "text/plain": [
       "array([  1,   2,   3,   4,   5,   6,   7,   8,   9,  10,  11,  12,  13,\n",
       "        14,  15,  16,  17,  18,  19,  20,  21,  22,  23,  24,  25,  26,\n",
       "        27,  28,  29,  30,  31,  32,  33,  34,  35,  36,  37,  38,  39,\n",
       "        40,  41,  42,  43,  44,  45,  46,  47,  48,  49,  50,  51,  52,\n",
       "        53,  54,  55,  56,  57,  58,  59,  60,  61,  62,  63,  64,  65,\n",
       "        66,  67,  68,  69,  70,  71,  72,  73,  74,  75,  76,  77,  78,\n",
       "        79,  80,  81,  82,  83,  84,  85,  86,  87,  88,  89,  90,  91,\n",
       "        92,  93,  94,  95,  96,  97,  98,  99, 100, 101, 102, 103, 104,\n",
       "       105, 106, 107, 108, 109, 110, 111, 112, 113, 114, 115, 116, 117,\n",
       "       118, 119, 120, 121, 122, 123, 124, 125, 126, 127, 128, 129, 130,\n",
       "       131, 132, 133, 134, 135, 136, 137, 138, 139, 140, 141, 142, 143,\n",
       "       144, 145, 146, 147, 148, 149, 150, 151, 152, 153, 154, 155, 156,\n",
       "       157, 158, 159, 160, 161, 162, 163, 164, 165, 166, 167, 168, 169,\n",
       "       170, 171, 172, 173, 174, 175, 176, 177, 178, 179, 180, 181, 182,\n",
       "       183, 184, 185, 186, 187, 188, 189, 190, 191, 192, 193, 194, 195,\n",
       "       196, 197, 198, 199, 200])"
      ]
     },
     "execution_count": 23,
     "metadata": {},
     "output_type": "execute_result"
    }
   ],
   "source": [
    "# Sol:\n",
    "# Listado de los cromos que faltan:\n",
    "#      [  1,   3,  12,  16,  17,  21,  30,  34,  38,  45,  46,  48,  52,\n",
    "#        55,  66,  69,  72,  75,  76,  81,  82,  91,  92,  96, 100, 106,\n",
    "#       107, 113, 114, 119, 122, 124, 125, 129, 138, 139, 140, 146, 151,\n",
    "#       154, 155, 173, 176, 180, 181, 184, 185, 186, 190, 194, 199, 200]\n",
    "    \n",
    "completa = np.arange(1,201)\n",
    "completa"
   ]
  },
  {
   "cell_type": "code",
   "execution_count": 30,
   "metadata": {},
   "outputs": [],
   "source": [
    "filtro_faltan = np.in1d(completa,union,invert=True)"
   ]
  },
  {
   "cell_type": "code",
   "execution_count": 31,
   "metadata": {},
   "outputs": [
    {
     "data": {
      "text/plain": [
       "array([  1,   3,  12,  16,  17,  21,  30,  34,  38,  45,  46,  48,  52,\n",
       "        55,  66,  69,  72,  75,  76,  81,  82,  91,  92,  96, 100, 106,\n",
       "       107, 113, 114, 119, 122, 124, 125, 129, 138, 139, 140, 146, 151,\n",
       "       154, 155, 173, 176, 180, 181, 184, 185, 186, 190, 194, 199, 200])"
      ]
     },
     "execution_count": 31,
     "metadata": {},
     "output_type": "execute_result"
    }
   ],
   "source": [
    "completa[filtro_faltan]"
   ]
  },
  {
   "cell_type": "markdown",
   "metadata": {},
   "source": [
    "__g)__ Calcula el cromo más repetido de juan. Usa la función `np.argmax`."
   ]
  },
  {
   "cell_type": "code",
   "execution_count": 32,
   "metadata": {},
   "outputs": [
    {
     "data": {
      "text/plain": [
       "56"
      ]
     },
     "execution_count": 32,
     "metadata": {},
     "output_type": "execute_result"
    }
   ],
   "source": [
    "# Sol (166)\n",
    "np.argmax(juan[:,1])"
   ]
  },
  {
   "cell_type": "code",
   "execution_count": 33,
   "metadata": {},
   "outputs": [
    {
     "data": {
      "text/plain": [
       "array([166,  19])"
      ]
     },
     "execution_count": 33,
     "metadata": {},
     "output_type": "execute_result"
    }
   ],
   "source": [
    "juan[56]"
   ]
  },
  {
   "cell_type": "markdown",
   "metadata": {},
   "source": [
    "__h)__ Calcula el número de cromos de la colección de Juan con más de 10 repeticiones."
   ]
  },
  {
   "cell_type": "code",
   "execution_count": 35,
   "metadata": {},
   "outputs": [
    {
     "data": {
      "text/plain": [
       "array([[ 14,  19],\n",
       "       [ 18,  16],\n",
       "       [ 19,  14],\n",
       "       [ 20,  13],\n",
       "       [ 22,  17],\n",
       "       [ 24,  15],\n",
       "       [ 26,  14],\n",
       "       [ 27,  11],\n",
       "       [ 29,  17],\n",
       "       [ 35,  18],\n",
       "       [ 40,  12],\n",
       "       [ 42,  12],\n",
       "       [ 43,  14],\n",
       "       [ 50,  11],\n",
       "       [ 51,  13],\n",
       "       [ 53,  16],\n",
       "       [ 58,  16],\n",
       "       [ 59,  14],\n",
       "       [ 60,  14],\n",
       "       [ 61,  16],\n",
       "       [ 68,  11],\n",
       "       [ 71,  18],\n",
       "       [ 74,  11],\n",
       "       [ 77,  13],\n",
       "       [ 78,  13],\n",
       "       [ 79,  16],\n",
       "       [ 84,  13],\n",
       "       [ 85,  12],\n",
       "       [ 86,  17],\n",
       "       [ 87,  18],\n",
       "       [ 88,  18],\n",
       "       [ 89,  12],\n",
       "       [ 93,  15],\n",
       "       [ 94,  14],\n",
       "       [ 95,  14],\n",
       "       [ 97,  17],\n",
       "       [ 98,  14],\n",
       "       [ 99,  11],\n",
       "       [101,  19],\n",
       "       [102,  19],\n",
       "       [109,  11],\n",
       "       [112,  14],\n",
       "       [115,  13],\n",
       "       [120,  16],\n",
       "       [123,  14],\n",
       "       [131,  17],\n",
       "       [134,  18],\n",
       "       [143,  15],\n",
       "       [145,  17],\n",
       "       [149,  12],\n",
       "       [157,  15],\n",
       "       [163,  13],\n",
       "       [164,  15],\n",
       "       [167,  15],\n",
       "       [169,  18],\n",
       "       [171,  11],\n",
       "       [172,  18],\n",
       "       [174,  17],\n",
       "       [177,  19],\n",
       "       [178,  14],\n",
       "       [183,  15],\n",
       "       [188,  14],\n",
       "       [189,  14],\n",
       "       [192,  11],\n",
       "       [193,  11],\n",
       "       [195,  12],\n",
       "       [198,  19]])"
      ]
     },
     "execution_count": 35,
     "metadata": {},
     "output_type": "execute_result"
    }
   ],
   "source": [
    "# Sol:\n",
    "# (Juan tiene 26 cromos con más 10 repeticiones)\n",
    "filtro_10 = pedro[:,1] > 10\n",
    "pedro[filtro_10]"
   ]
  },
  {
   "cell_type": "code",
   "execution_count": null,
   "metadata": {},
   "outputs": [],
   "source": []
  },
  {
   "cell_type": "code",
   "execution_count": null,
   "metadata": {},
   "outputs": [],
   "source": []
  },
  {
   "cell_type": "markdown",
   "metadata": {},
   "source": [
    "__i)__ Calcula el número de cromos con más de 10 repeticiones.\n"
   ]
  },
  {
   "cell_type": "code",
   "execution_count": 16,
   "metadata": {},
   "outputs": [],
   "source": [
    "# Sol:\n",
    "#  los crmos de la colección de Juan con más de 10 repeticiones son:\n",
    "#  [  8,  15,  28,  31,  33,  54,  62,  70,  80,  97, 105, 108, 110,\n",
    "#       130, 137, 145, 152, 158, 160, 166, 167, 170, 171, 172, 178, 197]\n"
   ]
  },
  {
   "cell_type": "markdown",
   "metadata": {},
   "source": [
    "__j)__ Averigüa los números de los cromos que le faltan a Pedro para acabar la colección."
   ]
  },
  {
   "cell_type": "code",
   "execution_count": 17,
   "metadata": {},
   "outputs": [],
   "source": [
    "# Sol:\n",
    "#      [  1,   3,   4,   6,   7,   9,  10,  11,  12,  13,  14,  16,  17,\n",
    "#        18,  19,  20,  21,  22,  23,  24,  26,  27,  29,  30,  32,  34,\n",
    "#        35,  36,  38,  39,  44,  45,  46,  47,  48,  50,  51,  52,  55,\n",
    "#        ....,\n",
    "#       181, 184, 185, 186, 187, 188, 189, 190, 191, 193, 194, 195, 196,\n",
    "#       199, 200]\n"
   ]
  },
  {
   "cell_type": "markdown",
   "metadata": {},
   "source": [
    "__k)__ Cuántos cromos tienen entre los dos niños"
   ]
  },
  {
   "cell_type": "code",
   "execution_count": 18,
   "metadata": {},
   "outputs": [],
   "source": [
    "# Sol: 1945 cromos\n"
   ]
  },
  {
   "cell_type": "markdown",
   "metadata": {},
   "source": [
    "__l)__ Calcula el cromo  de Pedro que se repite menos veces"
   ]
  },
  {
   "cell_type": "code",
   "execution_count": 36,
   "metadata": {},
   "outputs": [
    {
     "data": {
      "text/plain": [
       "1"
      ]
     },
     "execution_count": 36,
     "metadata": {},
     "output_type": "execute_result"
    }
   ],
   "source": [
    "# Sol: el cromo 4\n",
    "np.min(pedro[:,1])"
   ]
  },
  {
   "cell_type": "markdown",
   "metadata": {},
   "source": [
    "---------------------"
   ]
  },
  {
   "cell_type": "code",
   "execution_count": 38,
   "metadata": {},
   "outputs": [
    {
     "data": {
      "text/plain": [
       "array([[  4,   1],\n",
       "       [ 31,   1],\n",
       "       [ 36,   1],\n",
       "       [117,   1],\n",
       "       [196,   1]])"
      ]
     },
     "execution_count": 38,
     "metadata": {},
     "output_type": "execute_result"
    }
   ],
   "source": [
    "filtro_1=pedro[:,1]==1\n",
    "pedro[filtro_1]"
   ]
  },
  {
   "cell_type": "code",
   "execution_count": null,
   "metadata": {},
   "outputs": [],
   "source": []
  }
 ],
 "metadata": {
  "anaconda-cloud": {},
  "hide_input": false,
  "kernelspec": {
   "display_name": "Python 3 (ipykernel)",
   "language": "python",
   "name": "python3"
  },
  "language_info": {
   "codemirror_mode": {
    "name": "ipython",
    "version": 3
   },
   "file_extension": ".py",
   "mimetype": "text/x-python",
   "name": "python",
   "nbconvert_exporter": "python",
   "pygments_lexer": "ipython3",
   "version": "3.11.1"
  },
  "nbTranslate": {
   "displayLangs": [
    "en",
    "es"
   ],
   "hotkey": "alt-t",
   "langInMainMenu": true,
   "sourceLang": "es",
   "targetLang": "en",
   "useGoogleTranslate": true
  },
  "toc": {
   "base_numbering": 1,
   "nav_menu": {
    "height": "68px",
    "width": "252px"
   },
   "number_sections": true,
   "sideBar": true,
   "skip_h1_title": false,
   "title_cell": "Table of Contents",
   "title_sidebar": "Contents",
   "toc_cell": false,
   "toc_position": {},
   "toc_section_display": "block",
   "toc_window_display": false
  }
 },
 "nbformat": 4,
 "nbformat_minor": 4
}
