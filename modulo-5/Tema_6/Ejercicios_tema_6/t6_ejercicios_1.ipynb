{
 "cells": [
  {
   "cell_type": "markdown",
   "metadata": {},
   "source": [
    "# Ejercicios "
   ]
  },
  {
   "cell_type": "markdown",
   "metadata": {},
   "source": [
    "## Ejercicio 1"
   ]
  },
  {
   "cell_type": "markdown",
   "metadata": {},
   "source": [
    "\n",
    "Disponemos de dos ficheros que contienen mediciones de temperatura y humedad relativa del aire en diferentes puntos de una zona geográfica. Si observamos los datos, se trata de una matriz de celdas (o píxeles) organizadas en filas y columnas (o una cuadrícula) en la que cada celda contiene un valor que representa cierta información. En este caso, la temperatura y la humedad relativa.\n",
    "\n",
    "<!--La siguiente figura muestra un ejemplo de este tipo de datos. Se puede ver el formato de cuadrícula, donde cada celda recoge una temperatura. Este tipo de datos se puede visualizar usando distintos colores, lo que facilita el análisis.\n",
    "\n",
    "<img src=\"./images/rasterTemp.jpg\" alt=\"temperaturas\" style=\"width: 700px;\"/>\n",
    "-->\n",
    "\n",
    "* Las mediciones de temperatura de nuestra zona geográfica de estudio  se encuentran en el fichero [temperaturas.txt](./datos/temperaturas.txt)\n",
    "* El fichero  [humedad.txt](./datos/humedad.txt) recoge la humedad relativa de los mismos puntos en la misma zona geográfica.\n",
    "\n",
    "\n",
    "\n",
    "__a)__ Crear un array de `numpy` con los datos de las temperaturas de la zona geográfica de estudio. El array ha de llamarse `temperatura`.\n",
    "\n",
    "   * Descarga el fichero  en tu directorio de trabajo.\n",
    "   * Carga el fichero mediante la función `loadtxt`.  Usa el parámetro `dtype` para indicar que los valores sean de tipo `int`. Si tu sistema operativo es iOS, es probable que te de error si pones tipo `int`. Prueba a poner `float`."
   ]
  },
  {
   "cell_type": "code",
   "execution_count": 12,
   "metadata": {},
   "outputs": [],
   "source": [
    "# Sol:\n",
    "import numpy as np\n",
    "temperaturas = np.loadtxt(\"./datos/temperaturas.txt\")"
   ]
  },
  {
   "cell_type": "code",
   "execution_count": 13,
   "metadata": {},
   "outputs": [
    {
     "data": {
      "text/plain": [
       "array([[16., 16., 15., ..., 18., 18., 18.],\n",
       "       [18., 18., 18., ..., 22., 21., 21.],\n",
       "       [22., 22., 22., ..., 19., 19., 19.],\n",
       "       ...,\n",
       "       [17., 17., 17., ..., 19., 19., 19.],\n",
       "       [19., 19., 18., ..., 19., 19., 19.],\n",
       "       [19., 20., 20., ..., 19., 19., 19.]])"
      ]
     },
     "execution_count": 13,
     "metadata": {},
     "output_type": "execute_result"
    }
   ],
   "source": [
    "temperaturas"
   ]
  },
  {
   "cell_type": "markdown",
   "metadata": {},
   "source": [
    "__b)__ Crear un array de `numpy` con los datos de las mediciones de humedad de la zona geográfica de estudio. El array ha de llamarse `humedad`.\n",
    "\n",
    "   * Descarga el fichero  en tu directorio de trabajo.\n",
    "   * Carga el fichero mediante la función `loadtxt`.  Usa el parámetro `dtype` para indicar que los valores sean de tipo `float`."
   ]
  },
  {
   "cell_type": "code",
   "execution_count": 14,
   "metadata": {},
   "outputs": [],
   "source": [
    "# Sol:\n",
    "\n",
    "humedad = np.loadtxt(\"./datos/humedad.txt\")"
   ]
  },
  {
   "cell_type": "code",
   "execution_count": 15,
   "metadata": {},
   "outputs": [
    {
     "data": {
      "text/plain": [
       "array([[66.2, 66.1, 66.5, ..., 83.9, 83.8, 83.8],\n",
       "       [83.7, 83.3, 83.4, ..., 78. , 78. , 77.9],\n",
       "       [77.9, 77.9, 77.8, ..., 41.2, 41.2, 40.7],\n",
       "       ...,\n",
       "       [87.1, 87.1, 87.2, ..., 71.4, 71.3, 71.2],\n",
       "       [71.3, 71.2, 70.8, ..., 58. , 58.5, 58.8],\n",
       "       [58.8, 58.7, 57.2, ..., 44.6, 44.6, 44.9]])"
      ]
     },
     "execution_count": 15,
     "metadata": {},
     "output_type": "execute_result"
    }
   ],
   "source": [
    "humedad"
   ]
  },
  {
   "cell_type": "markdown",
   "metadata": {},
   "source": [
    "__c)__ Determinar el tamaño de los datos. ¿Cuántas filas y cuántas columnas tiene el array `temperatura`?, ¿Cuantas filas y cuántas columnas tiene el array `humedad`?"
   ]
  },
  {
   "cell_type": "code",
   "execution_count": 16,
   "metadata": {},
   "outputs": [
    {
     "data": {
      "text/plain": [
       "(133, 133)"
      ]
     },
     "execution_count": 16,
     "metadata": {},
     "output_type": "execute_result"
    }
   ],
   "source": [
    "# sol:\n",
    "# Ambos arrays son del mismo tamaño, 133 filas y 133 columnas\n",
    "temperaturas.shape"
   ]
  },
  {
   "cell_type": "markdown",
   "metadata": {},
   "source": [
    "__d)__ Calcula la temperatura máxima y mínima registrada."
   ]
  },
  {
   "cell_type": "code",
   "execution_count": 28,
   "metadata": {
    "ExecuteTime": {
     "end_time": "2019-01-04T13:59:59.450302Z",
     "start_time": "2019-01-04T13:59:59.447330Z"
    }
   },
   "outputs": [
    {
     "name": "stdout",
     "output_type": "stream",
     "text": [
      "La temperatura máxima es 31.0 y la temperatura mínima es 10.0\n"
     ]
    }
   ],
   "source": [
    "# SOl: \n",
    "# temperatura máxima: 31\n",
    "# temperatura máxima: 10\n",
    "\n",
    "tmax = temperaturas.max()\n",
    "tmin = temperaturas.min()\n",
    "print (f\"La temperatura máxima es {tmax} y la temperatura mínima es {tmin}\")"
   ]
  },
  {
   "cell_type": "markdown",
   "metadata": {},
   "source": [
    "__e)__ El índice de temperatura-humedad, es un número utilizado para indicar la falta de confort causada por los efectos combinados de la temperatura y la humedad del aire. El índice fue desarrollado en 1959 por Earl C. Thom, un investigador de la Oficina de Climatología del US Weather Bureau.\n",
    "La fórmula para calcular el índice de temperatura-humedad (ITH) es: \n",
    "\n",
    "$ITH = 0.8 \\times temperatura  + \\frac{humedad_{relativa}}{100} \\times (temperatura - 14.3) + 46.4 $\n",
    "\n",
    "Calcula el índice de temperatura-humedad (ITH) de cada una de las celdas de la cuadrícula. El resultado debe ser un array bidimensional con el mismo número de filas y columnas que los arrays `temperatura` y  `humedad`. El nombre de este array debe ser `ith`.\n",
    "\n",
    "Para calcular el índice de temperatura humedad puedes seguir los siguientes pasos:\n",
    "* (1) Multiplica el array temperatura por 0.8\n",
    "* (2) Divide el array humedad por 100\n",
    "* (3) Resta 14.3 al array temperatura\n",
    "* (4) Multiplica el resultado de (2) por el resultado de (3)\n",
    "* (5) Suma 46.4 al resultado de (4) \n",
    "* (6) Suma el resultado de (5) y el resultado de (1)\n"
   ]
  },
  {
   "cell_type": "code",
   "execution_count": 30,
   "metadata": {},
   "outputs": [
    {
     "name": "stdout",
     "output_type": "stream",
     "text": [
      "[[60.3254 60.3237 58.8655 ... 63.9043 63.9006 63.9006]\n",
      " [63.8969 63.8821 63.8858 ... 70.006  68.426  68.4193]\n",
      " [69.9983 69.9983 69.9906 ... 63.5364 63.5364 63.5129]\n",
      " ...\n",
      " [62.3517 62.3517 62.3544 ... 64.9558 64.9511 64.9464]\n",
      " [64.9511 64.9464 63.4196 ... 64.326  64.3495 64.3636]\n",
      " [64.3636 65.7459 65.6604 ... 63.6962 63.6962 63.7103]]\n"
     ]
    }
   ],
   "source": [
    "# Sol:\n",
    "\n",
    "# ith = array([[60.3254, 60.3237, 58.8655, ..., 63.9043, 63.9006, 63.9006],\n",
    "#            [63.8969, 63.8821, 63.8858, ..., 70.006 , 68.426 , 68.4193],\n",
    "#            [69.9983, 69.9983, 69.9906, ..., 63.5364, 63.5364, 63.5129],\n",
    "#            ...,\n",
    "#            [62.3517, 62.3517, 62.3544, ..., 64.9558, 64.9511, 64.9464],\n",
    "#            [64.9511, 64.9464, 63.4196, ..., 64.326 , 64.3495, 64.3636],\n",
    "#            [64.3636, 65.7459, 65.6604, ..., 63.6962, 63.6962, 63.7103]])\n",
    "\n",
    "ITH = 0.8*temperaturas+(humedad/100)*(temperaturas-14.3)+46.4\n",
    "print (ITH)"
   ]
  },
  {
   "cell_type": "code",
   "execution_count": 31,
   "metadata": {},
   "outputs": [
    {
     "data": {
      "text/plain": [
       "(133, 133)"
      ]
     },
     "execution_count": 31,
     "metadata": {},
     "output_type": "execute_result"
    }
   ],
   "source": [
    "ITH.shape"
   ]
  },
  {
   "cell_type": "markdown",
   "metadata": {},
   "source": [
    "__f)__ Redondea los valores del array obtenido en el apartado anterior (`ith`) al entero más cercano. Puedes usar la función universal `np.around`. Para obtener información de uso de la función `np.around` ejecuta la siguiente celda o consulta la ayuda en https://numpy.org/doc/stable/reference/generated/numpy.around.html"
   ]
  },
  {
   "cell_type": "code",
   "execution_count": 8,
   "metadata": {},
   "outputs": [],
   "source": [
    "# ejecuta esta celda y busca el ejemplo de uso\n",
    "np.around?"
   ]
  },
  {
   "cell_type": "code",
   "execution_count": 35,
   "metadata": {},
   "outputs": [
    {
     "data": {
      "text/plain": [
       "array([[60., 60., 59., ..., 64., 64., 64.],\n",
       "       [64., 64., 64., ..., 70., 68., 68.],\n",
       "       [70., 70., 70., ..., 64., 64., 64.],\n",
       "       ...,\n",
       "       [62., 62., 62., ..., 65., 65., 65.],\n",
       "       [65., 65., 63., ..., 64., 64., 64.],\n",
       "       [64., 66., 66., ..., 64., 64., 64.]])"
      ]
     },
     "execution_count": 35,
     "metadata": {},
     "output_type": "execute_result"
    }
   ],
   "source": [
    "# Sol: \n",
    "#   ith = array([[60., 60., 59., ..., 64., 64., 64.],\n",
    "#                   [64., 64., 64., ..., 70., 68., 68.],\n",
    "#                   [70., 70., 70., ..., 64., 64., 64.],\n",
    "#                   ...,\n",
    "#                   [62., 62., 62., ..., 65., 65., 65.],\n",
    "#                   [65., 65., 63., ..., 64., 64., 64.],\n",
    "#                   [64., 66., 66., ..., 64., 64., 64.]])\n",
    "\n",
    "np.around(ITH)"
   ]
  },
  {
   "cell_type": "markdown",
   "metadata": {},
   "source": [
    "__g)__ Calcula la media del índice de temperatura-humedad (ITH)."
   ]
  },
  {
   "cell_type": "code",
   "execution_count": 37,
   "metadata": {},
   "outputs": [
    {
     "data": {
      "text/plain": [
       "66.47344160777885"
      ]
     },
     "execution_count": 37,
     "metadata": {},
     "output_type": "execute_result"
    }
   ],
   "source": [
    "# Sol:\n",
    "ITH.mean()"
   ]
  },
  {
   "cell_type": "markdown",
   "metadata": {},
   "source": [
    "__h)__ En la actualidad este índice se utiliza para supervisar las condiciones de estrés por calor a las que está expuesto el ganado bovino, y su correlato en la producción lechera y su eficiencia reproductiva. En general los expertos han determinado que con un índice ITH inferior a 72 el ganado lechero no experimenta estrés, si el IHT se entre 72 y 78 el estrés es moderado y valores ITH de entre 78 y 88 se caracterizan por un estrés grave.\n",
    "\n",
    "Determina si se produce estrés en algún punto de la cuadrícula, es decir, si existe algún valor mayor a 72. ¿Se produce estrés grave en algún punto?"
   ]
  },
  {
   "cell_type": "code",
   "execution_count": 44,
   "metadata": {},
   "outputs": [
    {
     "data": {
      "text/plain": [
       "1737"
      ]
     },
     "execution_count": 44,
     "metadata": {},
     "output_type": "execute_result"
    }
   ],
   "source": [
    "# Sol:\n",
    "# crear el filtro\n",
    "filtro = ITH > 72\n",
    "filtro2 = ITH < 78\n",
    "estres = ITH[filtro & filtro2]\n",
    "len(estres)"
   ]
  },
  {
   "cell_type": "markdown",
   "metadata": {},
   "source": [
    "__i)__ ¿En cuántos puntos de la cuadrícula se produce estrés grave?"
   ]
  },
  {
   "cell_type": "code",
   "execution_count": 45,
   "metadata": {},
   "outputs": [
    {
     "data": {
      "text/plain": [
       "786"
      ]
     },
     "execution_count": 45,
     "metadata": {},
     "output_type": "execute_result"
    }
   ],
   "source": [
    "filtro3 = ITH > 78\n",
    "estres_grave = ITH[filtro3]\n",
    "len(estres_grave)"
   ]
  },
  {
   "cell_type": "markdown",
   "metadata": {},
   "source": [
    "__j)__ ¿Cuántos puntos tiene mi cuadrícula inicial?"
   ]
  },
  {
   "cell_type": "code",
   "execution_count": 46,
   "metadata": {},
   "outputs": [
    {
     "data": {
      "text/plain": [
       "17689"
      ]
     },
     "execution_count": 46,
     "metadata": {},
     "output_type": "execute_result"
    }
   ],
   "source": [
    "ITH.size"
   ]
  },
  {
   "cell_type": "markdown",
   "metadata": {},
   "source": [
    "---------------------"
   ]
  }
 ],
 "metadata": {
  "anaconda-cloud": {},
  "hide_input": false,
  "kernelspec": {
   "display_name": "Python 3 (ipykernel)",
   "language": "python",
   "name": "python3"
  },
  "language_info": {
   "codemirror_mode": {
    "name": "ipython",
    "version": 3
   },
   "file_extension": ".py",
   "mimetype": "text/x-python",
   "name": "python",
   "nbconvert_exporter": "python",
   "pygments_lexer": "ipython3",
   "version": "3.11.1"
  },
  "nbTranslate": {
   "displayLangs": [
    "en",
    "es"
   ],
   "hotkey": "alt-t",
   "langInMainMenu": true,
   "sourceLang": "es",
   "targetLang": "en",
   "useGoogleTranslate": true
  },
  "toc": {
   "base_numbering": 1,
   "nav_menu": {
    "height": "68px",
    "width": "252px"
   },
   "number_sections": true,
   "sideBar": true,
   "skip_h1_title": false,
   "title_cell": "Table of Contents",
   "title_sidebar": "Contents",
   "toc_cell": false,
   "toc_position": {},
   "toc_section_display": "block",
   "toc_window_display": false
  }
 },
 "nbformat": 4,
 "nbformat_minor": 1
}
