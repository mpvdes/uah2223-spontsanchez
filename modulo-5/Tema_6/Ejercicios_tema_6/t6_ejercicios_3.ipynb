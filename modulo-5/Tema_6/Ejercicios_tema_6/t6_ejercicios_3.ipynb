{
 "cells": [
  {
   "cell_type": "markdown",
   "metadata": {},
   "source": [
    "# Ejercicios "
   ]
  },
  {
   "cell_type": "markdown",
   "metadata": {},
   "source": [
    "## Ejercicio 1"
   ]
  },
  {
   "cell_type": "markdown",
   "metadata": {},
   "source": [
    "\n",
    "Disponemos de varios ficheros que contienen medicciones de temperaturas en distintos meses. Se encuentran en la carpeta `.\\datos\\temperaturas_mes`.\n",
    "\n",
    "* Las medicciones de temperatura del mes de enero se encuentran en el fichero [Enero.txt](./datos/temperaturas_meses/tempetaruras.txt)\n",
    "\n",
    "\n",
    "__a)__ Crear un array de `numpy` con los datos de las temperaturas del mes de Enero. El nombre de este array se llamará `enero`.\n",
    "\n",
    "   * Carga el fichero mediante la función `loadtxt`.  Usa el parámetro `dtype` para indicar que los valores sean de tipo `int`. Si tu sistema operativo es iOS, es probable que te de error si pones tipo `int`. Prueba a poner `float`.\n",
    "  "
   ]
  },
  {
   "cell_type": "code",
   "execution_count": 12,
   "metadata": {},
   "outputs": [],
   "source": [
    "# Sol:\n",
    "import numpy as np\n"
   ]
  },
  {
   "cell_type": "code",
   "execution_count": 6,
   "metadata": {},
   "outputs": [
    {
     "name": "stdout",
     "output_type": "stream",
     "text": [
      "C:\\Users\\Sergi\\Documents\\mpvd\\uah2223-spontsanchez\\modulo-5\\Tema_6\\Ejercicios_tema_6\\datos\\temperaturas_mes\n"
     ]
    }
   ],
   "source": [
    "%cd ./datos/temperaturas_mes"
   ]
  },
  {
   "cell_type": "code",
   "execution_count": 7,
   "metadata": {},
   "outputs": [
    {
     "data": {
      "text/plain": [
       "'C:\\\\Users\\\\Sergi\\\\Documents\\\\mpvd\\\\uah2223-spontsanchez\\\\modulo-5\\\\Tema_6\\\\Ejercicios_tema_6\\\\datos\\\\temperaturas_mes'"
      ]
     },
     "execution_count": 7,
     "metadata": {},
     "output_type": "execute_result"
    }
   ],
   "source": [
    "%pwd"
   ]
  },
  {
   "cell_type": "code",
   "execution_count": 8,
   "metadata": {},
   "outputs": [
    {
     "name": "stdout",
     "output_type": "stream",
     "text": [
      " El volumen de la unidad C es Acer\n",
      " El n£mero de serie del volumen es: B4C1-8615\n",
      "\n",
      " Directorio de C:\\Users\\Sergi\\Documents\\mpvd\\uah2223-spontsanchez\\modulo-5\\Tema_6\\Ejercicios_tema_6\\datos\\temperaturas_mes\n",
      "\n",
      "01/03/2022  18:13    <DIR>          .\n",
      "01/03/2022  18:13    <DIR>          ..\n",
      "01/03/2022  18:10             1.407 Abril.txt\n",
      "01/03/2022  18:10             1.626 Enero.txt\n",
      "01/03/2022  18:10             3.025 Febrero.txt\n",
      "01/03/2022  18:10             4.094 Junio.txt\n",
      "01/03/2022  18:10             4.202 Marzo.txt\n",
      "01/03/2022  18:10             3.547 Mayo.txt\n",
      "01/03/2022  18:13                59 metadatos.csv\n",
      "01/03/2022  18:11                 0 readme.csv\n",
      "               8 archivos         17.960 bytes\n",
      "               2 dirs  337.318.506.496 bytes libres\n"
     ]
    }
   ],
   "source": [
    "%ls"
   ]
  },
  {
   "cell_type": "code",
   "execution_count": 14,
   "metadata": {},
   "outputs": [],
   "source": [
    "enero = np.loadtxt(\"Enero.txt\")"
   ]
  },
  {
   "cell_type": "code",
   "execution_count": null,
   "metadata": {},
   "outputs": [],
   "source": []
  },
  {
   "cell_type": "code",
   "execution_count": null,
   "metadata": {},
   "outputs": [],
   "source": []
  },
  {
   "cell_type": "markdown",
   "metadata": {},
   "source": [
    "__b)__ Determinar el tamaño de los datos. ¿Cuantas filas y cuántas columnas tiene el array `enero`?\n",
    "\n",
    "Observa que la primera columna siempre tiene el valor 1 (1 = Enero)."
   ]
  },
  {
   "cell_type": "code",
   "execution_count": 83,
   "metadata": {},
   "outputs": [],
   "source": [
    "# sol:\n"
   ]
  },
  {
   "cell_type": "markdown",
   "metadata": {},
   "source": [
    "__c)__ Calcula la temperatura máxima y mínima registrada."
   ]
  },
  {
   "cell_type": "code",
   "execution_count": 15,
   "metadata": {
    "ExecuteTime": {
     "end_time": "2019-01-04T13:59:59.450302Z",
     "start_time": "2019-01-04T13:59:59.447330Z"
    }
   },
   "outputs": [
    {
     "ename": "IndentationError",
     "evalue": "unexpected indent (3329785500.py, line 5)",
     "output_type": "error",
     "traceback": [
      "\u001b[1;36m  Cell \u001b[1;32mIn[15], line 5\u001b[1;36m\u001b[0m\n\u001b[1;33m    np.max(enero[:,1]), np.min(enero[:,1])\u001b[0m\n\u001b[1;37m    ^\u001b[0m\n\u001b[1;31mIndentationError\u001b[0m\u001b[1;31m:\u001b[0m unexpected indent\n"
     ]
    }
   ],
   "source": [
    "# SOl: \n",
    "# temperatura máxima:  \n",
    "# temperatura mínima:  \n",
    "\n",
    " np.max(enero[:,1]), np.min(enero[:,1])"
   ]
  },
  {
   "cell_type": "markdown",
   "metadata": {},
   "source": [
    "__d)__ Calcula la media de temperaturas en dicho mes."
   ]
  },
  {
   "cell_type": "code",
   "execution_count": 2,
   "metadata": {},
   "outputs": [],
   "source": [
    "# Sol:\n",
    "\n"
   ]
  },
  {
   "cell_type": "markdown",
   "metadata": {},
   "source": [
    "__e)__ Ejecuta la siguiente celda y comenta el resultado"
   ]
  },
  {
   "cell_type": "code",
   "execution_count": 26,
   "metadata": {},
   "outputs": [],
   "source": [
    "import pathlib\n",
    "import os\n",
    "wd = os.getcwd() + '\\\\temperaturas_mes'"
   ]
  },
  {
   "cell_type": "markdown",
   "metadata": {},
   "source": [
    "__e)__ Calcula la media de temperaturas de todos los meses."
   ]
  },
  {
   "cell_type": "code",
   "execution_count": 27,
   "metadata": {},
   "outputs": [
    {
     "ename": "FileNotFoundError",
     "evalue": "[WinError 3] El sistema no puede encontrar la ruta especificada: 'C:\\\\Users\\\\Sergi\\\\Documents\\\\mpvd\\\\uah2223-spontsanchez\\\\modulo-5\\\\Tema_6\\\\Ejercicios_tema_6\\\\datos\\\\temperaturas_mes\\\\temperaturas_mes\\\\temperaturas_mes'",
     "output_type": "error",
     "traceback": [
      "\u001b[1;31m---------------------------------------------------------------------------\u001b[0m",
      "\u001b[1;31mFileNotFoundError\u001b[0m                         Traceback (most recent call last)",
      "Cell \u001b[1;32mIn[27], line 3\u001b[0m\n\u001b[0;32m      1\u001b[0m \u001b[38;5;66;03m# Sol:\u001b[39;00m\n\u001b[0;32m      2\u001b[0m carpeta \u001b[38;5;241m=\u001b[39m pathlib\u001b[38;5;241m.\u001b[39mPath(wd \u001b[38;5;241m+\u001b[39m \u001b[38;5;124m'\u001b[39m\u001b[38;5;130;01m\\\\\u001b[39;00m\u001b[38;5;124mtemperaturas_mes\u001b[39m\u001b[38;5;124m'\u001b[39m)\n\u001b[1;32m----> 3\u001b[0m \u001b[38;5;28;01mfor\u001b[39;00m fichero \u001b[38;5;129;01min\u001b[39;00m carpeta\u001b[38;5;241m.\u001b[39miterdir():\n\u001b[0;32m      4\u001b[0m     \u001b[38;5;28;01mif\u001b[39;00m fichero[\u001b[38;5;241m-\u001b[39m\u001b[38;5;241m3\u001b[39m:] \u001b[38;5;241m==\u001b[39m \u001b[38;5;124m'\u001b[39m\u001b[38;5;124mtxt\u001b[39m\u001b[38;5;124m'\u001b[39m:\n\u001b[0;32m      5\u001b[0m         \u001b[38;5;28mprint\u001b[39m(fichero)\n",
      "File \u001b[1;32m~\\AppData\\Local\\Programs\\Python\\Python311\\Lib\\pathlib.py:931\u001b[0m, in \u001b[0;36mPath.iterdir\u001b[1;34m(self)\u001b[0m\n\u001b[0;32m    927\u001b[0m \u001b[38;5;28;01mdef\u001b[39;00m \u001b[38;5;21miterdir\u001b[39m(\u001b[38;5;28mself\u001b[39m):\n\u001b[0;32m    928\u001b[0m \u001b[38;5;250m    \u001b[39m\u001b[38;5;124;03m\"\"\"Iterate over the files in this directory.  Does not yield any\u001b[39;00m\n\u001b[0;32m    929\u001b[0m \u001b[38;5;124;03m    result for the special paths '.' and '..'.\u001b[39;00m\n\u001b[0;32m    930\u001b[0m \u001b[38;5;124;03m    \"\"\"\u001b[39;00m\n\u001b[1;32m--> 931\u001b[0m     \u001b[38;5;28;01mfor\u001b[39;00m name \u001b[38;5;129;01min\u001b[39;00m os\u001b[38;5;241m.\u001b[39mlistdir(\u001b[38;5;28mself\u001b[39m):\n\u001b[0;32m    932\u001b[0m         \u001b[38;5;28;01myield\u001b[39;00m \u001b[38;5;28mself\u001b[39m\u001b[38;5;241m.\u001b[39m_make_child_relpath(name)\n",
      "\u001b[1;31mFileNotFoundError\u001b[0m: [WinError 3] El sistema no puede encontrar la ruta especificada: 'C:\\\\Users\\\\Sergi\\\\Documents\\\\mpvd\\\\uah2223-spontsanchez\\\\modulo-5\\\\Tema_6\\\\Ejercicios_tema_6\\\\datos\\\\temperaturas_mes\\\\temperaturas_mes\\\\temperaturas_mes'"
     ]
    }
   ],
   "source": [
    "# Sol:\n",
    "carpeta = pathlib.Path(wd + '\\\\temperaturas_mes')\n",
    "for fichero in carpeta.iterdir():\n",
    "    if fichero[-3:] == 'txt':\n",
    "        print(fichero)\n",
    "        t = np.loadtxt(fichero)\n",
    "        print(len(t))\n",
    "        print(np.mean(t[:,1]))"
   ]
  },
  {
   "cell_type": "markdown",
   "metadata": {},
   "source": [
    "---------------------"
   ]
  }
 ],
 "metadata": {
  "anaconda-cloud": {},
  "hide_input": false,
  "kernelspec": {
   "display_name": "Python 3 (ipykernel)",
   "language": "python",
   "name": "python3"
  },
  "language_info": {
   "codemirror_mode": {
    "name": "ipython",
    "version": 3
   },
   "file_extension": ".py",
   "mimetype": "text/x-python",
   "name": "python",
   "nbconvert_exporter": "python",
   "pygments_lexer": "ipython3",
   "version": "3.11.1"
  },
  "nbTranslate": {
   "displayLangs": [
    "en",
    "es"
   ],
   "hotkey": "alt-t",
   "langInMainMenu": true,
   "sourceLang": "es",
   "targetLang": "en",
   "useGoogleTranslate": true
  },
  "toc": {
   "base_numbering": 1,
   "nav_menu": {
    "height": "68px",
    "width": "252px"
   },
   "number_sections": true,
   "sideBar": true,
   "skip_h1_title": false,
   "title_cell": "Table of Contents",
   "title_sidebar": "Contents",
   "toc_cell": false,
   "toc_position": {},
   "toc_section_display": "block",
   "toc_window_display": false
  }
 },
 "nbformat": 4,
 "nbformat_minor": 1
}
