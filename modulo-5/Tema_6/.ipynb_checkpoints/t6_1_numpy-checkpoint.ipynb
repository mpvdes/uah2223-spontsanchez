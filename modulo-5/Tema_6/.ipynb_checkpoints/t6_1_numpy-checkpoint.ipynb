{
 "cells": [
  {
   "cell_type": "markdown",
   "metadata": {},
   "source": [
    "# Los arrays de NumPy"
   ]
  },
  {
   "cell_type": "markdown",
   "metadata": {},
   "source": [
    "La librería [NumPy](http://www.numpy.org/) es la librería básica de Python para realizar cálculo científico. Proporciona una estructura de datos para representar arrays multidimensionales y un conjunto de funciones y métodos muy eficientes para operar con dichos arrays. Esta eficiencia se consigue en parte a la eliminación de recorridos explícitos (for o while) de los elementos del array. Sobre ella se desarrollan otras librerías de cálculo científico de más alto nivel como Pandas o Scipy. \n",
    "\n",
    "En 1995, Jim Hugunin desarrolló la librería Numeric como una primera aproximación a lo que hoy es NumPy. Más tarde desarrolló la librería Numarray, mejorando la eficiencia de algunas operaciones sobre arrays. Durante un tiempo ambas librerías coexistieron, hasta que en el año 2006, el desarrollador Travis Oliphant lanza la versión 1.0. de NumPy como resultado de fusionar las dos librerías.\n",
    "\n",
    "Actualmente, NumPy es una de las librerías más usadas en aquellas aplicaciones que involucran arrays multidimensionales y arrays de gran tamaño. En este capítulo presentamos la estructura de datos `ndarray`, la cual permite representar arrays multidimensionales. Veremos cómo crear dichos arrays, sus propiedades y las operaciones disponibles sobre ellos. Haremos especial hincapié en las llamadas operaciones vectorizadas, como un mecanismo de cómputo eficiente para este tipo de estructuras."
   ]
  },
  {
   "cell_type": "markdown",
   "metadata": {},
   "source": [
    "## Importando la librería"
   ]
  },
  {
   "cell_type": "markdown",
   "metadata": {},
   "source": [
    "Para hacer uso de la librería NumPy es necesario importarla. Para importar la librería __NumPy__ debemos escribir una de las siguientes instrucciones:"
   ]
  },
  {
   "cell_type": "code",
   "execution_count": 3,
   "metadata": {},
   "outputs": [],
   "source": [
    "import numpy as np"
   ]
  },
  {
   "cell_type": "markdown",
   "metadata": {},
   "source": [
    "Las dos instrucciones tienen el mismo efecto, con la diferencia de que la segunda permite utilizar las funciones, datos, etc. de __NumPy__ usando el alias o nombre abreviado (namespace) `np` en lugar de `numpy`. "
   ]
  },
  {
   "cell_type": "markdown",
   "metadata": {},
   "source": [
    "## Los Arrays de NumPy"
   ]
  },
  {
   "cell_type": "markdown",
   "metadata": {},
   "source": [
    "La librería NumPy define un nuevo tipo de datos con un conjunto  de propiedades (o atributos) y unas operaciones (o métodos). Se trata del tipo de datos `ndarray`; nos referiremos a ellos como arrays. Los arrays de NumPy son colecciones de elementos homogéneos y de tamaño fijo. Con el término homogéneo, nos referimos a que todos los elementos del array tienen el mismo tipo. Esta es una característica que no tiene por qué cumplirse en el caso de las listas en Python, en las que los elementos pueden ser de tipos distintos. De tamaño fijo porque una vez creados no se pueden redimensionar como ocurre con las listas. \n",
    "\n",
    "Para crer un array es necesario utilizar la función `np.array`. Esta función es la constructora de arrays. A continuación mostramos cómo crear un array a partir de una lista. "
   ]
  },
  {
   "cell_type": "code",
   "execution_count": 5,
   "metadata": {},
   "outputs": [
    {
     "data": {
      "text/plain": [
       "[3, 4, 5, 6]"
      ]
     },
     "execution_count": 5,
     "metadata": {},
     "output_type": "execute_result"
    }
   ],
   "source": [
    "m = [3, 4, 5, 6]\n",
    "m"
   ]
  },
  {
   "cell_type": "code",
   "execution_count": 4,
   "metadata": {},
   "outputs": [
    {
     "data": {
      "text/plain": [
       "array([1, 3, 5, 6, 7, 8, 0])"
      ]
     },
     "execution_count": 4,
     "metadata": {},
     "output_type": "execute_result"
    }
   ],
   "source": [
    "a1 = np.array([1, 3, 5, 6, 7, 8, 0])\n",
    "a1"
   ]
  },
  {
   "cell_type": "code",
   "execution_count": 7,
   "metadata": {},
   "outputs": [
    {
     "data": {
      "text/plain": [
       "array([[1, 2, 3],\n",
       "       [4, 5, 6],\n",
       "       [5, 6, 1],\n",
       "       [3, 5, 1]])"
      ]
     },
     "execution_count": 7,
     "metadata": {},
     "output_type": "execute_result"
    }
   ],
   "source": [
    "datos = np.array( [[1,2,3],[4,5,6], [5, 6, 1], [3, 5, 1]] )\n",
    "datos"
   ]
  },
  {
   "cell_type": "markdown",
   "metadata": {},
   "source": [
    "La variable `datos` es de tipo `ndarray` como se puede observar tras preguntar al intérprete por su tipo:"
   ]
  },
  {
   "cell_type": "code",
   "execution_count": 8,
   "metadata": {},
   "outputs": [
    {
     "data": {
      "text/plain": [
       "numpy.ndarray"
      ]
     },
     "execution_count": 8,
     "metadata": {},
     "output_type": "execute_result"
    }
   ],
   "source": [
    "type(datos)"
   ]
  },
  {
   "cell_type": "markdown",
   "metadata": {},
   "source": [
    "Cada array de NumPy tiene una serie de propiedades, como por ejemplo, el tipo de datos de los elementos que contiene, la dimensión del array, etc."
   ]
  },
  {
   "cell_type": "markdown",
   "metadata": {},
   "source": [
    "* `shape` que indica las dimensiones del array\n",
    "* `dtype` indica el tipo de los elementos almacenados en el array\n",
    "* `nbytes` indica el número de bytes necesarios para almacenar los datos que contiene\n",
    "* `ndim` indica el número de dimensiones \n",
    "* `size` indica el número total de elementos en el array"
   ]
  },
  {
   "cell_type": "markdown",
   "metadata": {},
   "source": [
    "La lista completa de propiedades de los arrays puede obtenerse ejecutando la siguiente instrucción:"
   ]
  },
  {
   "cell_type": "code",
   "execution_count": 9,
   "metadata": {},
   "outputs": [],
   "source": [
    "np.ndarray?"
   ]
  },
  {
   "cell_type": "markdown",
   "metadata": {},
   "source": [
    "Podemos consultar las propiedades de un array usando la notación punto `.` , seguido del nombre de la propiedad a consultar. A continuación mostramos unos ejemplos de cómo se puede consultar las características del array `datos`:"
   ]
  },
  {
   "cell_type": "code",
   "execution_count": 11,
   "metadata": {},
   "outputs": [
    {
     "data": {
      "text/plain": [
       "array([[1, 2, 3],\n",
       "       [4, 5, 6],\n",
       "       [5, 6, 1],\n",
       "       [3, 5, 1]])"
      ]
     },
     "execution_count": 11,
     "metadata": {},
     "output_type": "execute_result"
    }
   ],
   "source": [
    "datos"
   ]
  },
  {
   "cell_type": "code",
   "execution_count": 10,
   "metadata": {},
   "outputs": [
    {
     "data": {
      "text/plain": [
       "(4, 3)"
      ]
     },
     "execution_count": 10,
     "metadata": {},
     "output_type": "execute_result"
    }
   ],
   "source": [
    "datos.shape"
   ]
  },
  {
   "cell_type": "code",
   "execution_count": 12,
   "metadata": {},
   "outputs": [
    {
     "data": {
      "text/plain": [
       "12"
      ]
     },
     "execution_count": 12,
     "metadata": {},
     "output_type": "execute_result"
    }
   ],
   "source": [
    "datos.size"
   ]
  },
  {
   "cell_type": "code",
   "execution_count": 13,
   "metadata": {},
   "outputs": [
    {
     "data": {
      "text/plain": [
       "dtype('int32')"
      ]
     },
     "execution_count": 13,
     "metadata": {},
     "output_type": "execute_result"
    }
   ],
   "source": [
    "datos.dtype"
   ]
  },
  {
   "cell_type": "code",
   "execution_count": 14,
   "metadata": {},
   "outputs": [
    {
     "data": {
      "text/plain": [
       "48"
      ]
     },
     "execution_count": 14,
     "metadata": {},
     "output_type": "execute_result"
    }
   ],
   "source": [
    "datos.nbytes"
   ]
  },
  {
   "cell_type": "markdown",
   "metadata": {},
   "source": [
    "El array `datos` contiene 6 elementos de tipo `int32`, necesitando un total de 24 bytes para poder almacenarlo."
   ]
  },
  {
   "cell_type": "markdown",
   "metadata": {},
   "source": [
    "## Creación de arrays"
   ]
  },
  {
   "cell_type": "markdown",
   "metadata": {},
   "source": [
    "En la sección anterior hemos podido ver cómo crear e inicializar arrays mediante la función `np.array`. A continuación presentamos otras formas de crear arrays dependiendo de nuestras necesidades. Por ejemplo, crear arrays con datos que siguen unas reglas, con datos aleatorios o con datos constantes. También presentamos el mecanismo para crear arrays a partir de datos contenidos en un fichero. La lista completa de funciones se puede consultar en el [manual de referencia de NumPy](https://docs.scipy.org/doc/numpy/reference/)."
   ]
  },
  {
   "cell_type": "markdown",
   "metadata": {},
   "source": [
    "### Creación de arrays a partir de listas u otros arrays"
   ]
  },
  {
   "cell_type": "markdown",
   "metadata": {},
   "source": [
    "La función `np.array` permite crear arrays a partir de una lista, un objeto iterable u otro array previamente creado. Por ejemplo, podemos crear un array `a` a partir de una lista de enteros y posteriormente crear un array `b` como una copia del array `a`."
   ]
  },
  {
   "cell_type": "code",
   "execution_count": 15,
   "metadata": {},
   "outputs": [
    {
     "data": {
      "text/plain": [
       "array([3, 5, 7, 9])"
      ]
     },
     "execution_count": 15,
     "metadata": {},
     "output_type": "execute_result"
    }
   ],
   "source": [
    "a = np.array([3,5,7,9])\n",
    "a"
   ]
  },
  {
   "cell_type": "code",
   "execution_count": 18,
   "metadata": {},
   "outputs": [
    {
     "data": {
      "text/plain": [
       "array([3, 5, 7, 9])"
      ]
     },
     "execution_count": 18,
     "metadata": {},
     "output_type": "execute_result"
    }
   ],
   "source": [
    "b = np.array(a)\n",
    "b"
   ]
  },
  {
   "cell_type": "markdown",
   "metadata": {},
   "source": [
    "El siguiente ejemplo muestra cómo se crea un array `c` a partir de un objeto iterable. En este caso se trata del objeto `range(10,14)`."
   ]
  },
  {
   "cell_type": "code",
   "execution_count": 17,
   "metadata": {},
   "outputs": [
    {
     "data": {
      "text/plain": [
       "array([10, 11, 12, 13])"
      ]
     },
     "execution_count": 17,
     "metadata": {},
     "output_type": "execute_result"
    }
   ],
   "source": [
    "c = np.array(range(10,14))\n",
    "c"
   ]
  },
  {
   "cell_type": "code",
   "execution_count": 19,
   "metadata": {},
   "outputs": [
    {
     "data": {
      "text/plain": [
       "(4,)"
      ]
     },
     "execution_count": 19,
     "metadata": {},
     "output_type": "execute_result"
    }
   ],
   "source": [
    "c.shape"
   ]
  },
  {
   "cell_type": "markdown",
   "metadata": {},
   "source": [
    "### Creación de arrays con valores constantes"
   ]
  },
  {
   "cell_type": "markdown",
   "metadata": {},
   "source": [
    "Las funciones `np.zeros`  y `np.ones` permiten crear arrays cuyos datos son todo ceros y unos, respectivamente. Como argumentos de ambas funciones es necesario indicar las dimensiones del array mediante una tupla o una lista. Por ejemplo, para crear un array de ceros de dimensión 3 filas y 4 columnas,  hacemos lo siguiente: "
   ]
  },
  {
   "cell_type": "code",
   "execution_count": 13,
   "metadata": {},
   "outputs": [
    {
     "data": {
      "text/plain": [
       "array([[0., 0., 0., 0.],\n",
       "       [0., 0., 0., 0.],\n",
       "       [0., 0., 0., 0.]])"
      ]
     },
     "execution_count": 13,
     "metadata": {},
     "output_type": "execute_result"
    }
   ],
   "source": [
    "a1 = np.zeros( (3,4) )   \n",
    "a1"
   ]
  },
  {
   "cell_type": "markdown",
   "metadata": {},
   "source": [
    "A continuación mostramos cómo crear un array `a2` de unos de con 1 fila y 7 columnas: "
   ]
  },
  {
   "cell_type": "code",
   "execution_count": 14,
   "metadata": {},
   "outputs": [
    {
     "data": {
      "text/plain": [
       "array([1., 1., 1., 1., 1., 1., 1.])"
      ]
     },
     "execution_count": 14,
     "metadata": {},
     "output_type": "execute_result"
    }
   ],
   "source": [
    "a2 = np.ones(7)               \n",
    "a2"
   ]
  },
  {
   "cell_type": "code",
   "execution_count": 15,
   "metadata": {},
   "outputs": [
    {
     "data": {
      "text/plain": [
       "(1, (7,))"
      ]
     },
     "execution_count": 15,
     "metadata": {},
     "output_type": "execute_result"
    }
   ],
   "source": [
    "            \n",
    "a2.ndim, a2.shape"
   ]
  },
  {
   "cell_type": "markdown",
   "metadata": {},
   "source": [
    "Tanto `np.zeros` como `np.ones` crean arrays cuyos elementos son por defecto de tipo float. Para crear arrays de otro tipo es necesario utilizar el argumento `dtype` indicando el tipo."
   ]
  },
  {
   "cell_type": "code",
   "execution_count": 20,
   "metadata": {},
   "outputs": [
    {
     "data": {
      "text/plain": [
       "array([[0, 0, 0, 0],\n",
       "       [0, 0, 0, 0]], dtype=int16)"
      ]
     },
     "execution_count": 20,
     "metadata": {},
     "output_type": "execute_result"
    }
   ],
   "source": [
    "a3 = np.zeros((2,4), dtype=np.int16 )                \n",
    "a3"
   ]
  },
  {
   "cell_type": "code",
   "execution_count": 21,
   "metadata": {},
   "outputs": [
    {
     "data": {
      "text/plain": [
       "array([[1., 1.],\n",
       "       [1., 1.],\n",
       "       [1., 1.]], dtype=float32)"
      ]
     },
     "execution_count": 21,
     "metadata": {},
     "output_type": "execute_result"
    }
   ],
   "source": [
    "a4 = np.ones((3,2), dtype=np.float32 )               \n",
    "a4"
   ]
  },
  {
   "cell_type": "markdown",
   "metadata": {},
   "source": [
    "Las funciones `np.zeros_like` y `np.ones_like` son análogas a `np.zeros` y  `np.ones` pero no es necesario indicar las dimensiones, solo hay que indicar el array del cual queremos copiar las dimensiones."
   ]
  },
  {
   "cell_type": "code",
   "execution_count": 18,
   "metadata": {},
   "outputs": [
    {
     "data": {
      "text/plain": [
       "array([[0., 0.],\n",
       "       [0., 0.],\n",
       "       [0., 0.]], dtype=float32)"
      ]
     },
     "execution_count": 18,
     "metadata": {},
     "output_type": "execute_result"
    }
   ],
   "source": [
    "a5 = np.zeros_like( a4 )\n",
    "a5"
   ]
  },
  {
   "cell_type": "code",
   "execution_count": 19,
   "metadata": {},
   "outputs": [
    {
     "data": {
      "text/plain": [
       "array([[1., 1.],\n",
       "       [1., 1.],\n",
       "       [1., 1.]], dtype=float32)"
      ]
     },
     "execution_count": 19,
     "metadata": {},
     "output_type": "execute_result"
    }
   ],
   "source": [
    "a6 = np.ones_like( a4 )\n",
    "a6"
   ]
  },
  {
   "cell_type": "markdown",
   "metadata": {},
   "source": [
    "Si lo que queremos es crear un array cuyos valores son una constante distinta de 0 ó 1, podemos utilizar la función `np.full`. En el siguiente ejemplo mostramos cómo crear un array de 5 elementos cuyos valores son todos 9.5."
   ]
  },
  {
   "cell_type": "code",
   "execution_count": 20,
   "metadata": {},
   "outputs": [
    {
     "data": {
      "text/plain": [
       "array([9.5, 9.5, 9.5, 9.5, 9.5, 9.5, 9.5])"
      ]
     },
     "execution_count": 20,
     "metadata": {},
     "output_type": "execute_result"
    }
   ],
   "source": [
    "b1 = np.full( 7 , 9.5 )\n",
    "b1"
   ]
  },
  {
   "cell_type": "code",
   "execution_count": 23,
   "metadata": {},
   "outputs": [
    {
     "data": {
      "text/plain": [
       "array([[9.5, 9.5, 9.5, 9.5],\n",
       "       [9.5, 9.5, 9.5, 9.5],\n",
       "       [9.5, 9.5, 9.5, 9.5]])"
      ]
     },
     "execution_count": 23,
     "metadata": {},
     "output_type": "execute_result"
    }
   ],
   "source": [
    "b2 = np.full( (3, 4) , 9.5 )\n",
    "b2"
   ]
  },
  {
   "cell_type": "markdown",
   "metadata": {},
   "source": [
    "NumPy también ofrece la función `fill` para rellenar un array previamente creado con un valor constante."
   ]
  },
  {
   "cell_type": "code",
   "execution_count": 21,
   "metadata": {},
   "outputs": [
    {
     "data": {
      "text/plain": [
       "array([[10., 10., 10., 10., 10.],\n",
       "       [10., 10., 10., 10., 10.]])"
      ]
     },
     "execution_count": 21,
     "metadata": {},
     "output_type": "execute_result"
    }
   ],
   "source": [
    "b2 = np.zeros((2, 5))\n",
    "b2.fill(10)\n",
    "b2"
   ]
  },
  {
   "cell_type": "markdown",
   "metadata": {},
   "source": [
    "### Creación de arrays como una secuencia de valores"
   ]
  },
  {
   "cell_type": "markdown",
   "metadata": {},
   "source": [
    "NumPy proporciona mecanismos para crear arrays cuyos datos son una secuencia valores equidistantes. Se trata de la función `np.arange`. Requieren como valor de sus argumentos el valor inicial y final de la secuencia. La función `np.arange` requiere además el incremento o paso. Por ejemplo, para crear una secuencia de valores entre el 1 y el 5 con incremento 0.5 escribimos lo siguiente:"
   ]
  },
  {
   "cell_type": "code",
   "execution_count": 25,
   "metadata": {},
   "outputs": [
    {
     "data": {
      "text/plain": [
       "array([1. , 1.3, 1.6, 1.9, 2.2, 2.5, 2.8, 3.1, 3.4, 3.7, 4. , 4.3, 4.6,\n",
       "       4.9])"
      ]
     },
     "execution_count": 25,
     "metadata": {},
     "output_type": "execute_result"
    }
   ],
   "source": [
    "a = np.arange(start = 1, stop = 5, step = 0.3)     \n",
    "a"
   ]
  },
  {
   "cell_type": "markdown",
   "metadata": {},
   "source": [
    "O lo que es lo mismo:"
   ]
  },
  {
   "cell_type": "code",
   "execution_count": 23,
   "metadata": {},
   "outputs": [
    {
     "name": "stdout",
     "output_type": "stream",
     "text": [
      "[1.  1.5 2.  2.5 3.  3.5 4.  4.5]\n"
     ]
    }
   ],
   "source": [
    "a = np.arange(1, 5, 0.5)     \n",
    "print(a)"
   ]
  },
  {
   "cell_type": "markdown",
   "metadata": {},
   "source": [
    "### Creación de arrays usando números aleatorios"
   ]
  },
  {
   "cell_type": "markdown",
   "metadata": {},
   "source": [
    "El módulo `numpy.random` ofrece una colección de funciones para generar arrays cuyos datos son valores aleatorios simples y algunas distribuciones estadísticas. Por ejemplo, la función `np.random.rand` premite generar una secuencia de números aleatorios procedentes de una distribución uniforme en el intervalo [0,1). En el siguiente ejemplo utilizamos la función `np.random.rand` para generar un único valor aleatorio:"
   ]
  },
  {
   "cell_type": "code",
   "execution_count": 24,
   "metadata": {},
   "outputs": [
    {
     "data": {
      "text/plain": [
       "0.7578717244671368"
      ]
     },
     "execution_count": 24,
     "metadata": {},
     "output_type": "execute_result"
    }
   ],
   "source": [
    "v = np.random.rand()    \n",
    "v"
   ]
  },
  {
   "cell_type": "markdown",
   "metadata": {},
   "source": [
    "También podemos crear arrays indicando las dimensiones mediante los argumentos de la función. Por ejemplo, para generar un array de dimensión 3 filas y 4 columnas con valores aleatorios hacemos lo siguiente:"
   ]
  },
  {
   "cell_type": "code",
   "execution_count": 26,
   "metadata": {},
   "outputs": [
    {
     "data": {
      "text/plain": [
       "array([[0.21863906, 0.83716241, 0.09345375, 0.89031101],\n",
       "       [0.18795922, 0.08593353, 0.84997248, 0.26860025],\n",
       "       [0.04770909, 0.40108264, 0.41181301, 0.66485625]])"
      ]
     },
     "execution_count": 26,
     "metadata": {},
     "output_type": "execute_result"
    }
   ],
   "source": [
    "u2 = np.random.rand(3, 4)     \n",
    "u2"
   ]
  },
  {
   "cell_type": "markdown",
   "metadata": {},
   "source": [
    "En realidad lo que se genera no son números verdaderamente aleatorios, sino que son pseudoaleatorios. El generador de números parte de una semilla (normalmente la hora del sistema) y aplicando algoritmos genera estos números. A veces nos puede interesar fijar la semilla para generar la misma secuencia de números aleatorios (por ejemplo para pruebas).  Utilizando la función `np.random.seed` imponemos las condiciones iniciales del generador."
   ]
  },
  {
   "cell_type": "code",
   "execution_count": 26,
   "metadata": {},
   "outputs": [
    {
     "data": {
      "text/plain": [
       "array([0.5507979 , 0.70814782, 0.29090474, 0.51082761])"
      ]
     },
     "execution_count": 26,
     "metadata": {},
     "output_type": "execute_result"
    }
   ],
   "source": [
    "np.random.seed(3)\n",
    "u3 = np.random.rand(4)\n",
    "u3"
   ]
  },
  {
   "cell_type": "markdown",
   "metadata": {},
   "source": [
    "La función `np.random.randint` permite generar valores de tipo `int` siguiendo una distribución uniforme en un intervalo dado. En el siguiente ejemplo utilizamos la función `np.random.randint` para generar un valor entero aleatorio en el intervalor [0, 10). "
   ]
  },
  {
   "cell_type": "code",
   "execution_count": 31,
   "metadata": {},
   "outputs": [
    {
     "data": {
      "text/plain": [
       "5"
      ]
     },
     "execution_count": 31,
     "metadata": {},
     "output_type": "execute_result"
    }
   ],
   "source": [
    "ri = np.random.randint(10)\n",
    "ri"
   ]
  },
  {
   "cell_type": "markdown",
   "metadata": {},
   "source": [
    "Podemos usar el argumento `size` para indicar las dimensiones del array a generar, junto con los límites del intervalo:"
   ]
  },
  {
   "cell_type": "code",
   "execution_count": 28,
   "metadata": {},
   "outputs": [
    {
     "data": {
      "text/plain": [
       "array([[20, 20],\n",
       "       [31, 48],\n",
       "       [42, 30]])"
      ]
     },
     "execution_count": 28,
     "metadata": {},
     "output_type": "execute_result"
    }
   ],
   "source": [
    "vi = np.random.randint(low = 10, high = 50, size =(3, 2))\n",
    "vi"
   ]
  },
  {
   "cell_type": "markdown",
   "metadata": {},
   "source": [
    "O lo que es lo mismo:"
   ]
  },
  {
   "cell_type": "code",
   "execution_count": 29,
   "metadata": {},
   "outputs": [
    {
     "data": {
      "text/plain": [
       "array([[39, 49],\n",
       "       [24, 36],\n",
       "       [27, 36]])"
      ]
     },
     "execution_count": 29,
     "metadata": {},
     "output_type": "execute_result"
    }
   ],
   "source": [
    "vi = np.random.randint(10, 50, (3, 2))\n",
    "vi"
   ]
  },
  {
   "cell_type": "markdown",
   "metadata": {},
   "source": [
    "La función `np.random.randn` permte generar números aleatorios siguiendo una distribución normal (media 0 y desviación estándar 1)."
   ]
  },
  {
   "cell_type": "code",
   "execution_count": 30,
   "metadata": {},
   "outputs": [
    {
     "data": {
      "text/plain": [
       "0.8813180422075299"
      ]
     },
     "execution_count": 30,
     "metadata": {},
     "output_type": "execute_result"
    }
   ],
   "source": [
    "n = np.random.randn()\n",
    "n"
   ]
  },
  {
   "cell_type": "code",
   "execution_count": 31,
   "metadata": {},
   "outputs": [
    {
     "data": {
      "text/plain": [
       "array([[ 1.70957306,  0.05003364],\n",
       "       [-0.40467741, -0.54535995],\n",
       "       [-1.54647732,  0.98236743]])"
      ]
     },
     "execution_count": 31,
     "metadata": {},
     "output_type": "execute_result"
    }
   ],
   "source": [
    "n = np.random.randn(3,2)\n",
    "n"
   ]
  },
  {
   "cell_type": "markdown",
   "metadata": {},
   "source": [
    "Como podemos observar en la siguiente figura, las funciones `np.random.rand` y `np.random.randint` generan valores siguiendo distribuciones uniformes. Ambas se diferencian en el intervalo y el tipo de los valores generados."
   ]
  },
  {
   "cell_type": "code",
   "execution_count": 32,
   "metadata": {},
   "outputs": [
    {
     "data": {
      "image/png": "[encoded data removed]",
      "text/plain": [
       "<Figure size 864x216 with 2 Axes>"
      ]
     },
     "metadata": {
      "needs_background": "light"
     },
     "output_type": "display_data"
    }
   ],
   "source": [
    "import matplotlib.pyplot as plt\n",
    "%matplotlib inline\n",
    "\n",
    "fig, (ax1, ax2) = plt.subplots(1,2, figsize= (12,3))\n",
    "ax1.hist(np.random.rand(5000))\n",
    "ax1.set_title('np.random.rand')\n",
    "\n",
    "ax2.hist(np.random.randint(1, 10, size= 5000), bins = 9)\n",
    "ax2.set_title('np.random.randint (1, 10)');\n",
    "\n",
    "fig.savefig('./figuras/1_numpy_01.jpg')"
   ]
  },
  {
   "cell_type": "markdown",
   "metadata": {},
   "source": [
    "En el caso de la función  `np.random.randn`, podemos ver en la figura que los números generados siguen una distribución normal centrada en el 0."
   ]
  },
  {
   "cell_type": "code",
   "execution_count": 33,
   "metadata": {},
   "outputs": [
    {
     "data": {
      "image/png": "[encoded data removed]",
      "text/plain": [
       "<Figure size 648x216 with 1 Axes>"
      ]
     },
     "metadata": {
      "needs_background": "light"
     },
     "output_type": "display_data"
    }
   ],
   "source": [
    "import matplotlib.pyplot as plt\n",
    "%matplotlib inline\n",
    "\n",
    "fig, ax3 = plt.subplots(1,1, figsize= (9,3))\n",
    "\n",
    "ax3.hist(np.random.randn(10000))\n",
    "ax3.set_title('np.random.randn')\n",
    "\n",
    "fig.savefig('./figuras/1_numpy_02.jpg')"
   ]
  },
  {
   "cell_type": "markdown",
   "metadata": {},
   "source": [
    "### Lectura y escritura de arrays en Ficheros"
   ]
  },
  {
   "cell_type": "markdown",
   "metadata": {},
   "source": [
    "Hasta el momento hemos podido ver diversas alternativas a la creación de arrays, pero no puede faltar una de las más usadas cuando trabajamos con datos provenientes de fuentes externas y que suele ser el punto de partida en el proceso de análisis de datos. Se trata de la creación de arrays mediante la lectura de ficheros."
   ]
  },
  {
   "cell_type": "markdown",
   "metadata": {},
   "source": [
    "Para el caso de ficheros de texto, NumPy proporciona funciones equivalentes `np.load` y `np.save`. Se trata de las funciones `np.loadtxt` y  `np.savetxt`. En el siguiente ejemplo mostramos cómo leer el fichero [`datos/temperaturas.dat`](./datos/temperaturas.dat) y el fichero [`datos/caract.csv`](./datos/caract.csv).  "
   ]
  },
  {
   "cell_type": "code",
   "execution_count": 35,
   "metadata": {},
   "outputs": [
    {
     "data": {
      "text/plain": [
       "array([ 3.1,  3.3,  6.2,  9.2, 13.1, 15.6, 17.9, 17.5, 14.5, 10.7,  6.7,\n",
       "        3.7])"
      ]
     },
     "execution_count": 35,
     "metadata": {},
     "output_type": "execute_result"
    }
   ],
   "source": [
    "c = np.loadtxt('./datos/temperaturas.dat')\n",
    "c"
   ]
  },
  {
   "cell_type": "code",
   "execution_count": 36,
   "metadata": {},
   "outputs": [
    {
     "data": {
      "text/plain": [
       "array([[ 89.2,   3. ],\n",
       "       [ 88.3,   4. ],\n",
       "       [ 90. ,   5. ],\n",
       "       [100. ,   6. ],\n",
       "       [ 85.4,   7. ],\n",
       "       [103. ,   8. ],\n",
       "       [ 91.2,   9. ]])"
      ]
     },
     "execution_count": 36,
     "metadata": {},
     "output_type": "execute_result"
    }
   ],
   "source": [
    "d = np.loadtxt('./datos/caract.csv', delimiter=',')\n",
    "d"
   ]
  },
  {
   "cell_type": "markdown",
   "metadata": {},
   "source": [
    "Estas funciones ofrecen muchas posibilidades, como por ejemplo usar diferentes delimitadores, aplicar funciones de conversión en alguna de sus columnas, saltar filas, omitir columnas, etc. En el capítulo dedicado a Pandas veremos estas opciones con más detalle. En el siguiente ejemplo mostramos cómo leer una sola columna del fichero [`datos/caract.csv`](./datos/caract.csv):  "
   ]
  },
  {
   "cell_type": "code",
   "execution_count": 36,
   "metadata": {},
   "outputs": [
    {
     "data": {
      "text/plain": [
       "array([3., 4., 5., 6., 7., 8., 9.])"
      ]
     },
     "execution_count": 36,
     "metadata": {},
     "output_type": "execute_result"
    }
   ],
   "source": [
    "d = np.loadtxt('./datos/caract.csv', delimiter=',', usecols=[1])\n",
    "d"
   ]
  },
  {
   "cell_type": "markdown",
   "metadata": {},
   "source": [
    "En el siguiente ejemplo mostramos cómo guardar los datos de un array en un fichero de texto. Por ejemplo, aplicamos la función `np.cumsum` para crear un array con la suma acumulada del array `d` y guardamos esos datos en un nuevo fichero de texto."
   ]
  },
  {
   "cell_type": "code",
   "execution_count": 38,
   "metadata": {},
   "outputs": [
    {
     "data": {
      "text/plain": [
       "array([ 89.2,  92.2, 180.5, 184.5, 274.5, 279.5, 379.5, 385.5, 470.9,\n",
       "       477.9, 580.9, 588.9, 680.1, 689.1])"
      ]
     },
     "execution_count": 38,
     "metadata": {},
     "output_type": "execute_result"
    }
   ],
   "source": [
    "suma_acumulada = np.cumsum(d)\n",
    "suma_acumulada"
   ]
  },
  {
   "cell_type": "code",
   "execution_count": 39,
   "metadata": {},
   "outputs": [],
   "source": [
    "np.savetxt(\"./datos/resultado.csv\", suma_acumulada, delimiter=',')"
   ]
  },
  {
   "cell_type": "markdown",
   "metadata": {},
   "source": [
    "## Referencias\n",
    "\n",
    "[Big Data. Análisis de datos con Python. Sarasa Cabezuelo, Antonio; García Ruiz, Yolanda\n",
    "Aditorial Garceta. ISBN: 978-84-1622-883-6](http://www.garceta.es/libro.php?ISBN=978-84-1622-883-6)\n",
    "\n",
    "https://docs.scipy.org/doc/numpy/reference/routines.html \n",
    "En este enlace podemos encontrar el repertorio de funciones y métodos implementados en la librería NumPy. Todos ellos se encuentran clasificados por categorías. Además se presentan ejemplos de uso para facilitar su comprensión.\n",
    "\n",
    "\n",
    "Lista completa de funciones universales\n",
    "https://docs.scipy.org/doc/numpy/reference/ufuncs.html \n",
    "\n",
    "\n",
    "Libro del autor de NumPy:  http://csc.ucdavis.edu/~chaos/courses/nlp/Software/NumPyBook.pdf\n",
    "\n"
   ]
  },
  {
   "cell_type": "markdown",
   "metadata": {
    "collapsed": true
   },
   "source": [
    "------"
   ]
  }
 ],
 "metadata": {
  "anaconda-cloud": {},
  "hide_input": false,
  "kernelspec": {
   "display_name": "Python 3 (ipykernel)",
   "language": "python",
   "name": "python3"
  },
  "language_info": {
   "codemirror_mode": {
    "name": "ipython",
    "version": 3
   },
   "file_extension": ".py",
   "mimetype": "text/x-python",
   "name": "python",
   "nbconvert_exporter": "python",
   "pygments_lexer": "ipython3",
   "version": "3.11.1"
  },
  "nbTranslate": {
   "displayLangs": [
    "en",
    "es"
   ],
   "hotkey": "alt-t",
   "langInMainMenu": true,
   "sourceLang": "es",
   "targetLang": "en",
   "useGoogleTranslate": true
  },
  "toc": {
   "base_numbering": 1,
   "nav_menu": {
    "height": "191px",
    "width": "252px"
   },
   "number_sections": true,
   "sideBar": true,
   "skip_h1_title": false,
   "title_cell": "Table of Contents",
   "title_sidebar": "Contents",
   "toc_cell": false,
   "toc_position": {
    "height": "688px",
    "left": "0px",
    "right": "1219px",
    "top": "121px",
    "width": "228.667px"
   },
   "toc_section_display": "block",
   "toc_window_display": false
  }
 },
 "nbformat": 4,
 "nbformat_minor": 1
}
