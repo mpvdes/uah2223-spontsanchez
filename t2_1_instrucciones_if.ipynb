{
 "cells": [
  {
   "cell_type": "markdown",
   "metadata": {},
   "source": [
    "# Estructuras de control"
   ]
  },
  {
   "cell_type": "markdown",
   "metadata": {},
   "source": [
    "Python soporta las sentencias de control de flujo que podemos encontrar en otros lenguajes de programación. En esta sección introducimos la instrucción que permite ejecutar un `bloque de instrucciones` solo en el caso de que se cumpla una cierta `condición`."
   ]
  },
  {
   "cell_type": "markdown",
   "metadata": {},
   "source": [
    "##  Condicionales\n",
    "\n",
    "\n",
    "\n",
    "### Condicional simple. Instrucción `if`\n",
    "\n",
    "En su versión más sencilla, la instrucción  `if` sigue el siguiente esquema:\n",
    "```\n",
    "    if <condition>:\n",
    "        <Acción 1>\n",
    "        <Acción 2>\n",
    "        ...\n",
    "        <Acción n>\n",
    "\n",
    "```\n",
    "<img src=\"./images/if.png\" alt=\"while\" style=\"width: 200px;\"/>"
   ]
  },
  {
   "cell_type": "markdown",
   "metadata": {},
   "source": [
    "Como se puede observar, después de escribir la condición, aparecen dos puntos (`:`). La instrucción condicional `if`  se utiliza para comprobar una condición. \n",
    "\n",
    "* Si la condición es verdadera entonces procesaremos un bloque de instrucciones (llamado bloque `if`). \n",
    "* Si la condición no se cumple, se ejecuta el bloque de instrucciones alternativas (llamado bloque `else`). \n",
    "* Cada uno de los bloques están sangrados, sin necesidad de escribir llaves o sentencias del tipo `begin` ... `end`.\n",
    "\n",
    "* La cláusula `else` es opcional.\n",
    "\n",
    "__Ejemplo de condicional simple:__"
   ]
  },
  {
   "cell_type": "code",
   "execution_count": 12,
   "metadata": {},
   "outputs": [],
   "source": [
    "def valor_abs(x):    \n",
    "    \"\"\"\n",
    "    Returns the absolute value of x\n",
    "    \"\"\"\n",
    "    if x < 0:        \n",
    "        x = -x\n",
    "    return x"
   ]
  },
  {
   "cell_type": "markdown",
   "metadata": {},
   "source": [
    "Vamos a probar la función:\n",
    "    "
   ]
  },
  {
   "cell_type": "code",
   "execution_count": 13,
   "metadata": {},
   "outputs": [
    {
     "data": {
      "text/plain": [
       "5"
      ]
     },
     "execution_count": 13,
     "metadata": {},
     "output_type": "execute_result"
    }
   ],
   "source": [
    "valor_abs(-5)"
   ]
  },
  {
   "cell_type": "code",
   "execution_count": 14,
   "metadata": {},
   "outputs": [
    {
     "data": {
      "text/plain": [
       "7"
      ]
     },
     "execution_count": 14,
     "metadata": {},
     "output_type": "execute_result"
    }
   ],
   "source": [
    "valor_abs( -1 * 7 )"
   ]
  },
  {
   "cell_type": "code",
   "execution_count": 15,
   "metadata": {},
   "outputs": [
    {
     "data": {
      "text/plain": [
       "800"
      ]
     },
     "execution_count": 15,
     "metadata": {},
     "output_type": "execute_result"
    }
   ],
   "source": [
    "v = -800\n",
    "valor_abs(v)"
   ]
  },
  {
   "cell_type": "markdown",
   "metadata": {},
   "source": [
    "Recordar que en Python los bloques se delimitan por sangrado. Cuando ponemos los dos puntos al final de la primera línea del condicional, todo lo que vaya a continuación con __un nivel de sangrado a la derecha__ (un tabulador) se considera dentro del condicional. "
   ]
  },
  {
   "cell_type": "markdown",
   "metadata": {},
   "source": [
    "### Condicional compuesto. Instrucción `if - else`\n",
    "\n",
    "\n",
    "\n",
    "Permite escribir dos bloques que código, que se ejecutarán de forma excluyente (sólo se ejecutará uno de ellos ):\n",
    "```\n",
    "    if <condition>:\n",
    "        <Acción 1>\n",
    "        <Acción 2>\n",
    "        ...\n",
    "        <Acción n>\n",
    "    else:\n",
    "        <Acción 1'>\n",
    "        <Acción 2'>\n",
    "        ...\n",
    "        <Acción n'>\n",
    "\n",
    "```\n",
    "<img src=\"./images/if2.png\" alt=\"while\" style=\"width: 200px;\"/>\n",
    "\n",
    "Como podemos observar, hay dos posibles caminos de ejecución:\n",
    "\n",
    "   * Si la condición  es __cierta__ se ejecutan las instrucciones de la rama `if`.\n",
    "   * Si la condición  es __falsa__  se ejecutan las instrucciones de la rama  `else`."
   ]
  },
  {
   "cell_type": "markdown",
   "metadata": {},
   "source": [
    "__Ejemplo de condicional compuesto:__\n",
    "\n",
    "Otro ejemplo de la misma función:"
   ]
  },
  {
   "cell_type": "code",
   "execution_count": 16,
   "metadata": {},
   "outputs": [],
   "source": [
    "def valor_abs(x):\n",
    "    \"\"\"\n",
    "    Returns the absolute value of x\n",
    "    \"\"\"\n",
    "    if x < 0:            # rama if\n",
    "        return -x\n",
    "    else:                # rama else\n",
    "        return x"
   ]
  },
  {
   "cell_type": "code",
   "execution_count": 17,
   "metadata": {},
   "outputs": [
    {
     "data": {
      "text/plain": [
       "5"
      ]
     },
     "execution_count": 17,
     "metadata": {},
     "output_type": "execute_result"
    }
   ],
   "source": [
    "valor_abs(-5)"
   ]
  },
  {
   "cell_type": "code",
   "execution_count": 18,
   "metadata": {
    "scrolled": true
   },
   "outputs": [
    {
     "data": {
      "text/plain": [
       "8"
      ]
     },
     "execution_count": 18,
     "metadata": {},
     "output_type": "execute_result"
    }
   ],
   "source": [
    "valor_abs(8)"
   ]
  },
  {
   "cell_type": "markdown",
   "metadata": {},
   "source": [
    "### Elecciones múltiples. Instrucción `if - elif - else`"
   ]
  },
  {
   "cell_type": "markdown",
   "metadata": {},
   "source": [
    "Si queremos distinguir más de dos posibilidades, podemos añadir ramas adicionales al condicional empleando la cláusula `elif` (abreviatura de `else if`). Para la parte final, que debe ejecutarse si ninguna de las condiciones anteriores se ha cumplido, usamos la instrucción `else`. Veamos algunos ejemplos:"
   ]
  },
  {
   "cell_type": "code",
   "execution_count": 19,
   "metadata": {
    "ExecuteTime": {
     "end_time": "2019-01-03T13:00:35.530845Z",
     "start_time": "2019-01-03T13:00:35.521422Z"
    }
   },
   "outputs": [],
   "source": [
    "def signo(x):\n",
    "    if x < 0 :\n",
    "        return 'Negativo'\n",
    "    elif x == 0:\n",
    "        return 'Cero'\n",
    "    else:\n",
    "        return 'Positivo'"
   ]
  },
  {
   "cell_type": "code",
   "execution_count": 20,
   "metadata": {
    "ExecuteTime": {
     "end_time": "2019-01-03T13:00:36.381045Z",
     "start_time": "2019-01-03T13:00:36.375590Z"
    }
   },
   "outputs": [
    {
     "data": {
      "text/plain": [
       "'Cero'"
      ]
     },
     "execution_count": 20,
     "metadata": {},
     "output_type": "execute_result"
    }
   ],
   "source": [
    "signo(0)"
   ]
  },
  {
   "cell_type": "code",
   "execution_count": 21,
   "metadata": {},
   "outputs": [
    {
     "data": {
      "text/plain": [
       "'Positivo'"
      ]
     },
     "execution_count": 21,
     "metadata": {},
     "output_type": "execute_result"
    }
   ],
   "source": [
    "signo(8)"
   ]
  },
  {
   "cell_type": "markdown",
   "metadata": {},
   "source": [
    "La palabra reservada `elif` es útil para evitar un sangrado excesivo."
   ]
  },
  {
   "cell_type": "markdown",
   "metadata": {},
   "source": [
    "### Condicionales anidados.\n",
    "\n",
    "Las instrucciones `if`, en cualquiera de sus formas, pueden aparecer dentro de otra instrucciones `if`, por lo que tendremos instrucciones `if` anidades. Un ejemplo de diagrama de flujo sería:\n",
    "\n",
    "<img src=\"./images/if3.png\" alt=\"while\" style=\"width: 250px;\"/>"
   ]
  },
  {
   "cell_type": "markdown",
   "metadata": {},
   "source": [
    "__Ejemplo:__"
   ]
  },
  {
   "cell_type": "code",
   "execution_count": 22,
   "metadata": {},
   "outputs": [],
   "source": [
    "def degree(a, b, c):\n",
    "    \"\"\"\n",
    "    Returns the degree of the polynomial a*x^2+b*x+c\n",
    "    Parameters\n",
    "    ----------\n",
    "    a,b,c : float\n",
    "    Coefficients of polynomial\n",
    "    Returns\n",
    "    -------\n",
    "    int\n",
    "    Degree of the polynomial\n",
    "    \"\"\"\n",
    "    if a == 0:\n",
    "        if b == 0:\n",
    "            result = 0\n",
    "        else:\n",
    "            result = 1\n",
    "    else:\n",
    "        result = 2\n",
    "    return result"
   ]
  },
  {
   "cell_type": "code",
   "execution_count": 23,
   "metadata": {},
   "outputs": [
    {
     "data": {
      "text/plain": [
       "2"
      ]
     },
     "execution_count": 23,
     "metadata": {},
     "output_type": "execute_result"
    }
   ],
   "source": [
    "degree(1, 0, 0)"
   ]
  },
  {
   "cell_type": "code",
   "execution_count": 24,
   "metadata": {},
   "outputs": [
    {
     "data": {
      "text/plain": [
       "0"
      ]
     },
     "execution_count": 24,
     "metadata": {},
     "output_type": "execute_result"
    }
   ],
   "source": [
    "degree(0, 0, 1)"
   ]
  },
  {
   "cell_type": "markdown",
   "metadata": {},
   "source": [
    "### La instrucción `pass`"
   ]
  },
  {
   "cell_type": "markdown",
   "metadata": {},
   "source": [
    "La instrucción `pass` no hace nada. Se puede usar cuando la sintaxis obliga a escribir al menos una instrucción pero el programa no necesita ejecutar ninguna acción."
   ]
  },
  {
   "cell_type": "code",
   "execution_count": 25,
   "metadata": {},
   "outputs": [],
   "source": [
    "def signo(x):\n",
    "    if x < 0:\n",
    "        return 'Menor que cero'\n",
    "    elif x == 0:\n",
    "        pass        \n",
    "    else:\n",
    "        return 'Mayor que 0'\n",
    "    \n"
   ]
  },
  {
   "cell_type": "code",
   "execution_count": 26,
   "metadata": {},
   "outputs": [
    {
     "data": {
      "text/plain": [
       "'Mayor que 0'"
      ]
     },
     "execution_count": 26,
     "metadata": {},
     "output_type": "execute_result"
    }
   ],
   "source": [
    "signo(8)"
   ]
  },
  {
   "cell_type": "code",
   "execution_count": 27,
   "metadata": {},
   "outputs": [
    {
     "data": {
      "text/plain": [
       "'Menor que cero'"
      ]
     },
     "execution_count": 27,
     "metadata": {},
     "output_type": "execute_result"
    }
   ],
   "source": [
    "signo(-1)"
   ]
  },
  {
   "cell_type": "code",
   "execution_count": 28,
   "metadata": {},
   "outputs": [],
   "source": [
    "signo(0)"
   ]
  },
  {
   "cell_type": "markdown",
   "metadata": {},
   "source": [
    "### Expresiones ternarias"
   ]
  },
  {
   "cell_type": "markdown",
   "metadata": {},
   "source": [
    "Las expresiones ternarias en Python tienen la siguiente forma:\n",
    "\n",
    "```\n",
    "e = valorSiTrue if <condicion> else valorSiFalse\n",
    "```\n",
    "y se las puede ver como una versión simplificada de una instrucción `if-else`, ya que permite definir la instrucción de la forma `if-else` en una sola línea. La expresión anterior es equivalente a:\n",
    "```\n",
    "if <condicion>:\n",
    "    e = valorSiTrue\n",
    "else: \n",
    "    e = valorSiFalse\n",
    "    ```"
   ]
  },
  {
   "cell_type": "markdown",
   "metadata": {},
   "source": [
    "__Ejemplo__"
   ]
  },
  {
   "cell_type": "code",
   "execution_count": 29,
   "metadata": {
    "ExecuteTime": {
     "end_time": "2019-01-03T13:00:59.893863Z",
     "start_time": "2019-01-03T13:00:59.881959Z"
    }
   },
   "outputs": [],
   "source": [
    "def menor_valor(a, b):\n",
    "    \"\"\"\n",
    "    Returns the min value of a and b\n",
    "    \"\"\"\n",
    "    return a if a < b else b\n"
   ]
  },
  {
   "cell_type": "code",
   "execution_count": 30,
   "metadata": {
    "ExecuteTime": {
     "end_time": "2019-01-03T13:00:59.893863Z",
     "start_time": "2019-01-03T13:00:59.881959Z"
    }
   },
   "outputs": [],
   "source": [
    "def menor_valor(a, b):\n",
    "    \"\"\"\n",
    "    Returns the min value of a and b\n",
    "    \"\"\"\n",
    "    if  a < b:\n",
    "        return a\n",
    "    else:\n",
    "        return b       \n"
   ]
  },
  {
   "cell_type": "code",
   "execution_count": 31,
   "metadata": {},
   "outputs": [
    {
     "data": {
      "text/plain": [
       "1"
      ]
     },
     "execution_count": 31,
     "metadata": {},
     "output_type": "execute_result"
    }
   ],
   "source": [
    "menor_valor(4,1)"
   ]
  },
  {
   "cell_type": "code",
   "execution_count": 32,
   "metadata": {},
   "outputs": [
    {
     "data": {
      "text/plain": [
       "2"
      ]
     },
     "execution_count": 32,
     "metadata": {},
     "output_type": "execute_result"
    }
   ],
   "source": [
    "menor_valor(2,6)"
   ]
  },
  {
   "cell_type": "markdown",
   "metadata": {},
   "source": [
    "## Referencias\n",
    "\n",
    "* [Tutorial de Python. Por Guido Van Rossum](https://argentinaenpython.com/quiero-aprender-python/TutorialPython3.pdf)\n"
   ]
  },
  {
   "cell_type": "markdown",
   "metadata": {},
   "source": [
    "------"
   ]
  }
 ],
 "metadata": {
  "anaconda-cloud": {},
  "hide_input": false,
  "kernelspec": {
   "display_name": "Python 3 (ipykernel)",
   "language": "python",
   "name": "python3"
  },
  "language_info": {
   "codemirror_mode": {
    "name": "ipython",
    "version": 3
   },
   "file_extension": ".py",
   "mimetype": "text/x-python",
   "name": "python",
   "nbconvert_exporter": "python",
   "pygments_lexer": "ipython3",
   "version": "3.11.1"
  },
  "nbTranslate": {
   "displayLangs": [
    "en",
    "es"
   ],
   "hotkey": "alt-t",
   "langInMainMenu": true,
   "sourceLang": "es",
   "targetLang": "en",
   "useGoogleTranslate": true
  },
  "toc": {
   "base_numbering": 1,
   "nav_menu": {
    "height": "144px",
    "width": "252px"
   },
   "number_sections": true,
   "sideBar": true,
   "skip_h1_title": false,
   "title_cell": "Table of Contents",
   "title_sidebar": "Contents",
   "toc_cell": false,
   "toc_position": {
    "height": "649px",
    "left": "0px",
    "right": "20px",
    "top": "121px",
    "width": "263.833px"
   },
   "toc_section_display": "block",
   "toc_window_display": true
  }
 },
 "nbformat": 4,
 "nbformat_minor": 1
}
