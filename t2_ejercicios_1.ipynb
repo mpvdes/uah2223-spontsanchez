{
 "cells": [
  {
   "cell_type": "markdown",
   "metadata": {},
   "source": [
    "# Ejercicios\n",
    "\n",
    "Condicionales\n"
   ]
  },
  {
   "cell_type": "markdown",
   "metadata": {},
   "source": [
    "## Ejercicio 1\n",
    "Facturación por tramos. \n",
    "Debido a la escasez de agua, se pretende implantar un sistema de tarifas que penalice el consumo excesivo de este recurso de acuerdo con la siguiente tabla:\n",
    "\n",
    "|Consumo (m3)| euros/m3|\n",
    "|:-----------|--------:|\n",
    "|Primeros 100| 0.15|\n",
    "|De 100 a 500 |0.20|\n",
    "|De 500 a 1000 |0.35|\n",
    "|A partir de 1000 |0.80|\n",
    "\n",
    "* Implementar una función llamada `factura_agua` que tenga como parámetro de entrada el consumo de agua en m3 y calcule la factura de acuerdo con la tabla anterior.\n",
    "\n",
    "* Usa la función para generar los siguientes mensajes:\n",
    "```\n",
    "El consumo de 1256(m3) supone un gasto de 474.8 euros.\n",
    "El consumo de 342(m3) supone un gasto de 63.40 euros.\n",
    "```\n",
    "Usa los `f-strings` para generar dichos mensajes."
   ]
  },
  {
   "cell_type": "code",
   "execution_count": 10,
   "metadata": {},
   "outputs": [],
   "source": [
    "# Sol\n",
    "def factura_agua(consumo):\n",
    "    if consumo <= 100:\n",
    "        importe=consumo*0.15\n",
    "    elif consumo <= 500:\n",
    "        importe = 0.15*100+(consumo-100)*0.20\n",
    "    elif consumo <= 1000:\n",
    "        importe = 0.15+400*0.2+(consumo-500)*0.35\n",
    "    else: \n",
    "        importe = 0.15*100+400*0.2+500*0.35+(consumo-1000)*0.80\n",
    "    return importe"
   ]
  },
  {
   "cell_type": "code",
   "execution_count": 7,
   "metadata": {},
   "outputs": [
    {
     "data": {
      "text/plain": [
       "530.0"
      ]
     },
     "execution_count": 7,
     "metadata": {},
     "output_type": "execute_result"
    }
   ],
   "source": [
    "factura_agua(1325)"
   ]
  },
  {
   "cell_type": "code",
   "execution_count": 16,
   "metadata": {},
   "outputs": [
    {
     "data": {
      "text/plain": [
       "'El consumo de 342(m3) supone un gasto de 63.40 euros'"
      ]
     },
     "execution_count": 16,
     "metadata": {},
     "output_type": "execute_result"
    }
   ],
   "source": [
    "cantidad=342\n",
    "\n",
    "mensaje = f\"El consumo de {cantidad}(m3) supone un gasto de {factura_agua(cantidad):.2f} euros\"\n",
    "mensaje"
   ]
  },
  {
   "cell_type": "markdown",
   "metadata": {},
   "source": [
    "## Ejercicio 2\n",
    "Escribe una función que reciba tres valores de entrada que corresponden a horas, minutos y segundos. La función debe indicar si se trata de una hora correcta o no."
   ]
  },
  {
   "cell_type": "code",
   "execution_count": 2,
   "metadata": {},
   "outputs": [],
   "source": [
    "# Sol\n",
    "def validar_hora(horas, minutos, segundos):\n",
    "    \n",
    "    # rellenar\n",
    "    \n",
    "    return resultado    #True o False "
   ]
  },
  {
   "cell_type": "markdown",
   "metadata": {},
   "source": [
    "## Ejercicio 3\n",
    "Encuentra la actividad adecuada. \n",
    "Escribe una función que, dada una temperatura, indique la actividad más apropiada para\n",
    "dicha temperatura teniendo en cuenta los siguientes criterios.\n",
    "\n",
    "| ACTIVIDAD | TEMPERATURA IDÓNEA |\n",
    "|:------------|:----------------:|\n",
    "|Natación | temp > 30 |\n",
    "|Tenis |20 < temp <= 30|\n",
    "|Golf |10 < temp <= 20|\n",
    "|Esquí |5 < temp <= 10|\n",
    "|Parchís |temp <= 5|"
   ]
  },
  {
   "cell_type": "code",
   "execution_count": 7,
   "metadata": {},
   "outputs": [],
   "source": [
    "# Sol\n"
   ]
  },
  {
   "cell_type": "markdown",
   "metadata": {},
   "source": [
    "## Ejercicio 4\n",
    "Dígitos ordenados. Escribe una función que determine si los dígitos de un número entero positivo están ordenados de forma creciente.\n",
    "Por ejemplo, los dígitos del  número 1233455 están ordenados crecientemente, mientras que los dígitos del número 123244 no lo están."
   ]
  },
  {
   "cell_type": "code",
   "execution_count": 39,
   "metadata": {},
   "outputs": [],
   "source": [
    "# Sol\n"
   ]
  },
  {
   "cell_type": "markdown",
   "metadata": {},
   "source": [
    "## Ejercicio 5\n",
    "\n",
    "Capicúas de tres cifras. Escribe una función en Python para determinar si un número de tres cifras es o no capicúa, es decir, si se lee igual al revés."
   ]
  },
  {
   "cell_type": "code",
   "execution_count": 39,
   "metadata": {},
   "outputs": [],
   "source": [
    "# Sol\n"
   ]
  },
  {
   "cell_type": "markdown",
   "metadata": {},
   "source": [
    "----"
   ]
  }
 ],
 "metadata": {
  "hide_input": false,
  "kernelspec": {
   "display_name": "Python 3 (ipykernel)",
   "language": "python",
   "name": "python3"
  },
  "language_info": {
   "codemirror_mode": {
    "name": "ipython",
    "version": 3
   },
   "file_extension": ".py",
   "mimetype": "text/x-python",
   "name": "python",
   "nbconvert_exporter": "python",
   "pygments_lexer": "ipython3",
   "version": "3.11.1"
  },
  "nbTranslate": {
   "displayLangs": [
    "en",
    "es"
   ],
   "hotkey": "alt-t",
   "langInMainMenu": true,
   "sourceLang": "es",
   "targetLang": "en",
   "useGoogleTranslate": true
  },
  "toc": {
   "base_numbering": 1,
   "nav_menu": {},
   "number_sections": true,
   "sideBar": true,
   "skip_h1_title": false,
   "title_cell": "Table of Contents",
   "title_sidebar": "Contents",
   "toc_cell": false,
   "toc_position": {},
   "toc_section_display": true,
   "toc_window_display": false
  }
 },
 "nbformat": 4,
 "nbformat_minor": 4
}
